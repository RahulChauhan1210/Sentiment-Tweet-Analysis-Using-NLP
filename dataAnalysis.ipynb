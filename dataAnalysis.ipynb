{
 "cells": [
  {
   "cell_type": "code",
   "execution_count": 1,
   "metadata": {},
   "outputs": [],
   "source": [
    "import pandas as pd \n",
    "import numpy as np\n",
    "import spacy\n",
    "import regex as re\n",
    "import seaborn as sns\n",
    "from matplotlib import pyplot as plt\n",
    "from itertools import zip_longest\n",
    "from wordcloud import WordCloud\n",
    "import plotly.express as px\n",
    "\n",
    "model_spacy = spacy.load('en_core_web_lg')"
   ]
  },
  {
   "cell_type": "code",
   "execution_count": 2,
   "metadata": {},
   "outputs": [],
   "source": [
    "df = pd.read_csv('dataset\\\\df_m.csv')"
   ]
  },
  {
   "cell_type": "code",
   "execution_count": 3,
   "metadata": {},
   "outputs": [
    {
     "data": {
      "text/html": [
       "<div>\n",
       "<style scoped>\n",
       "    .dataframe tbody tr th:only-of-type {\n",
       "        vertical-align: middle;\n",
       "    }\n",
       "\n",
       "    .dataframe tbody tr th {\n",
       "        vertical-align: top;\n",
       "    }\n",
       "\n",
       "    .dataframe thead th {\n",
       "        text-align: right;\n",
       "    }\n",
       "</style>\n",
       "<table border=\"1\" class=\"dataframe\">\n",
       "  <thead>\n",
       "    <tr style=\"text-align: right;\">\n",
       "      <th></th>\n",
       "      <th>text</th>\n",
       "      <th>anottator1</th>\n",
       "      <th>anottator2</th>\n",
       "      <th>anottator3</th>\n",
       "      <th>majority</th>\n",
       "    </tr>\n",
       "  </thead>\n",
       "  <tbody>\n",
       "    <tr>\n",
       "      <th>0</th>\n",
       "      <td>@Cloudflare reports #ransom #DDoS attacks have...</td>\n",
       "      <td>Not_News</td>\n",
       "      <td>Not_News</td>\n",
       "      <td>Not_News</td>\n",
       "      <td>Not_News</td>\n",
       "    </tr>\n",
       "    <tr>\n",
       "      <th>1</th>\n",
       "      <td>Here’s the one thing you mustn’t tell hackers ...</td>\n",
       "      <td>Not_News</td>\n",
       "      <td>Not_News</td>\n",
       "      <td>Not_News</td>\n",
       "      <td>Not_News</td>\n",
       "    </tr>\n",
       "    <tr>\n",
       "      <th>2</th>\n",
       "      <td>@TactiKoolSec There was the time where a not-s...</td>\n",
       "      <td>Not_News</td>\n",
       "      <td>Not_News</td>\n",
       "      <td>Not_News</td>\n",
       "      <td>Not_News</td>\n",
       "    </tr>\n",
       "    <tr>\n",
       "      <th>3</th>\n",
       "      <td>Ransomware is a fast-growing threat impacting ...</td>\n",
       "      <td>Not_News</td>\n",
       "      <td>Not_News</td>\n",
       "      <td>Not_News</td>\n",
       "      <td>Not_News</td>\n",
       "    </tr>\n",
       "    <tr>\n",
       "      <th>4</th>\n",
       "      <td>Five key cloud and innovation takeaways from I...</td>\n",
       "      <td>Not_News</td>\n",
       "      <td>Not_News</td>\n",
       "      <td>Not_News</td>\n",
       "      <td>Not_News</td>\n",
       "    </tr>\n",
       "  </tbody>\n",
       "</table>\n",
       "</div>"
      ],
      "text/plain": [
       "                                                text anottator1 anottator2  \\\n",
       "0  @Cloudflare reports #ransom #DDoS attacks have...   Not_News   Not_News   \n",
       "1  Here’s the one thing you mustn’t tell hackers ...   Not_News   Not_News   \n",
       "2  @TactiKoolSec There was the time where a not-s...   Not_News   Not_News   \n",
       "3  Ransomware is a fast-growing threat impacting ...   Not_News   Not_News   \n",
       "4  Five key cloud and innovation takeaways from I...   Not_News   Not_News   \n",
       "\n",
       "  anottator3  majority  \n",
       "0   Not_News  Not_News  \n",
       "1   Not_News  Not_News  \n",
       "2   Not_News  Not_News  \n",
       "3   Not_News  Not_News  \n",
       "4   Not_News  Not_News  "
      ]
     },
     "execution_count": 3,
     "metadata": {},
     "output_type": "execute_result"
    }
   ],
   "source": [
    "df.head()"
   ]
  },
  {
   "cell_type": "code",
   "execution_count": 4,
   "metadata": {},
   "outputs": [
    {
     "data": {
      "text/plain": [
       "majority\n",
       "Not_News          31231\n",
       "Normal_News        3948\n",
       "High_Risk_News      892\n",
       "Exluded               9\n",
       "Name: count, dtype: int64"
      ]
     },
     "execution_count": 4,
     "metadata": {},
     "output_type": "execute_result"
    }
   ],
   "source": [
    "df['majority'].value_counts()"
   ]
  },
  {
   "cell_type": "code",
   "execution_count": 5,
   "metadata": {},
   "outputs": [
    {
     "data": {
      "text/plain": [
       "0"
      ]
     },
     "execution_count": 5,
     "metadata": {},
     "output_type": "execute_result"
    }
   ],
   "source": [
    "df['text'].isna().sum()"
   ]
  },
  {
   "cell_type": "code",
   "execution_count": 6,
   "metadata": {},
   "outputs": [
    {
     "data": {
      "text/plain": [
       "'@Cloudflare reports #ransom #DDoS attacks have dropped drastically in 2022, with 17% of its DDoS-targeted clients reporting an #extortion in Jan, 6% in Feb, and 3% in Mar 2022. @dynamicCISO #Ransomware #100DaysOfCode #Malware #GirlsWhoCode #InfoSec #cyberattacks #cybersecurity https://t.co/bXe7xZ6UPO'"
      ]
     },
     "execution_count": 6,
     "metadata": {},
     "output_type": "execute_result"
    }
   ],
   "source": [
    "df['text'][0]"
   ]
  },
  {
   "cell_type": "code",
   "execution_count": 7,
   "metadata": {},
   "outputs": [
    {
     "data": {
      "text/plain": [
       "text          36080\n",
       "anottator1    36080\n",
       "anottator2    36080\n",
       "anottator3    36080\n",
       "majority      36080\n",
       "dtype: int64"
      ]
     },
     "execution_count": 7,
     "metadata": {},
     "output_type": "execute_result"
    }
   ],
   "source": [
    "df.count()"
   ]
  },
  {
   "cell_type": "code",
   "execution_count": 8,
   "metadata": {},
   "outputs": [
    {
     "data": {
      "text/plain": [
       "<Axes: xlabel='count', ylabel='majority'>"
      ]
     },
     "execution_count": 8,
     "metadata": {},
     "output_type": "execute_result"
    },
    {
     "data": {
      "image/png": "[encoded data removed]",
      "text/plain": [
       "<Figure size 640x480 with 1 Axes>"
      ]
     },
     "metadata": {},
     "output_type": "display_data"
    }
   ],
   "source": [
    "sns.countplot(df['majority'])"
   ]
  },
  {
   "cell_type": "code",
   "execution_count": 9,
   "metadata": {},
   "outputs": [],
   "source": [
    "def checkstartwithSymbol(text):\n",
    "    pattern = r'^[@!#$%^&*()_+={}\\[\\]:;\"\\'<>,.?/\\\\|`~]'\n",
    "    if re.match(pattern, text):\n",
    "        return True\n",
    "    else:\n",
    "        return False"
   ]
  },
  {
   "cell_type": "code",
   "execution_count": 10,
   "metadata": {},
   "outputs": [],
   "source": [
    "def preprocessText(text):\n",
    "    doc = model_spacy(text)\n",
    "    new_doc = []\n",
    "    for token in doc:\n",
    "        if token.is_punct:\n",
    "           continue \n",
    "        elif token.is_stop:\n",
    "            continue\n",
    "        elif checkstartwithSymbol(token.text):\n",
    "            new_doc.append(token.text[1:])\n",
    "        elif token.text.startswith('https://'):\n",
    "            continue    \n",
    "        elif '\\n\\n' == token.text or '\\n'== token.text or '&gt;&gt'==token.text or '  '== token.text or ' ' == token.text or '.'==token.text or \"''\"==token.text:\n",
    "            continue\n",
    "        else:  \n",
    "            new_doc.append(token.text.lower())\n",
    "    return (' '.join(new_doc)).rstrip()          "
   ]
  },
  {
   "cell_type": "code",
   "execution_count": 11,
   "metadata": {},
   "outputs": [],
   "source": [
    "def visualiseData():\n",
    "    num = np.random.randint(0,36080)\n",
    "    print(preprocessText(df['text'][num]))\n",
    "    print()\n",
    "    print(df['text'][num])"
   ]
  },
  {
   "cell_type": "code",
   "execution_count": 12,
   "metadata": {},
   "outputs": [
    {
     "name": "stdout",
     "output_type": "stream",
     "text": [
      "united states committed taking action actors willfully disregard anti money laundering countering financing terrorism aml cft obligations allow systems abused illicit actors\n",
      "\n",
      "The United States is committed to taking action against actors that willfully disregard Anti-Money Laundering and Countering the Financing of Terrorism (AML/CFT) obligations and allow their systems to be abused by illicit actors. https://t.co/pQDJiA2VfT\n"
     ]
    }
   ],
   "source": [
    "visualiseData()"
   ]
  },
  {
   "cell_type": "code",
   "execution_count": 13,
   "metadata": {},
   "outputs": [],
   "source": [
    "# counting Number of tokens and there frequency\n"
   ]
  },
  {
   "cell_type": "code",
   "execution_count": 14,
   "metadata": {},
   "outputs": [],
   "source": [
    "df['Cleared_data'] = df['text'].apply(preprocessText)"
   ]
  },
  {
   "cell_type": "code",
   "execution_count": 15,
   "metadata": {},
   "outputs": [
    {
     "data": {
      "text/html": [
       "<div>\n",
       "<style scoped>\n",
       "    .dataframe tbody tr th:only-of-type {\n",
       "        vertical-align: middle;\n",
       "    }\n",
       "\n",
       "    .dataframe tbody tr th {\n",
       "        vertical-align: top;\n",
       "    }\n",
       "\n",
       "    .dataframe thead th {\n",
       "        text-align: right;\n",
       "    }\n",
       "</style>\n",
       "<table border=\"1\" class=\"dataframe\">\n",
       "  <thead>\n",
       "    <tr style=\"text-align: right;\">\n",
       "      <th></th>\n",
       "      <th>text</th>\n",
       "      <th>anottator1</th>\n",
       "      <th>anottator2</th>\n",
       "      <th>anottator3</th>\n",
       "      <th>majority</th>\n",
       "      <th>Cleared_data</th>\n",
       "    </tr>\n",
       "  </thead>\n",
       "  <tbody>\n",
       "    <tr>\n",
       "      <th>0</th>\n",
       "      <td>@Cloudflare reports #ransom #DDoS attacks have...</td>\n",
       "      <td>Not_News</td>\n",
       "      <td>Not_News</td>\n",
       "      <td>Not_News</td>\n",
       "      <td>Not_News</td>\n",
       "      <td>Cloudflare reports ransom ddos attacks dropped...</td>\n",
       "    </tr>\n",
       "    <tr>\n",
       "      <th>1</th>\n",
       "      <td>Here’s the one thing you mustn’t tell hackers ...</td>\n",
       "      <td>Not_News</td>\n",
       "      <td>Not_News</td>\n",
       "      <td>Not_News</td>\n",
       "      <td>Not_News</td>\n",
       "      <td>thing tell hackers business successfully hit r...</td>\n",
       "    </tr>\n",
       "    <tr>\n",
       "      <th>2</th>\n",
       "      <td>@TactiKoolSec There was the time where a not-s...</td>\n",
       "      <td>Not_News</td>\n",
       "      <td>Not_News</td>\n",
       "      <td>Not_News</td>\n",
       "      <td>Not_News</td>\n",
       "      <td>TactiKoolSec time great job server admin resto...</td>\n",
       "    </tr>\n",
       "    <tr>\n",
       "      <th>3</th>\n",
       "      <td>Ransomware is a fast-growing threat impacting ...</td>\n",
       "      <td>Not_News</td>\n",
       "      <td>Not_News</td>\n",
       "      <td>Not_News</td>\n",
       "      <td>Not_News</td>\n",
       "      <td>ransomware fast growing threat impacting organ...</td>\n",
       "    </tr>\n",
       "    <tr>\n",
       "      <th>4</th>\n",
       "      <td>Five key cloud and innovation takeaways from I...</td>\n",
       "      <td>Not_News</td>\n",
       "      <td>Not_News</td>\n",
       "      <td>Not_News</td>\n",
       "      <td>Not_News</td>\n",
       "      <td>key cloud innovation takeaways ing amp google ...</td>\n",
       "    </tr>\n",
       "  </tbody>\n",
       "</table>\n",
       "</div>"
      ],
      "text/plain": [
       "                                                text anottator1 anottator2  \\\n",
       "0  @Cloudflare reports #ransom #DDoS attacks have...   Not_News   Not_News   \n",
       "1  Here’s the one thing you mustn’t tell hackers ...   Not_News   Not_News   \n",
       "2  @TactiKoolSec There was the time where a not-s...   Not_News   Not_News   \n",
       "3  Ransomware is a fast-growing threat impacting ...   Not_News   Not_News   \n",
       "4  Five key cloud and innovation takeaways from I...   Not_News   Not_News   \n",
       "\n",
       "  anottator3  majority                                       Cleared_data  \n",
       "0   Not_News  Not_News  Cloudflare reports ransom ddos attacks dropped...  \n",
       "1   Not_News  Not_News  thing tell hackers business successfully hit r...  \n",
       "2   Not_News  Not_News  TactiKoolSec time great job server admin resto...  \n",
       "3   Not_News  Not_News  ransomware fast growing threat impacting organ...  \n",
       "4   Not_News  Not_News  key cloud innovation takeaways ing amp google ...  "
      ]
     },
     "execution_count": 15,
     "metadata": {},
     "output_type": "execute_result"
    }
   ],
   "source": [
    "df.head()"
   ]
  },
  {
   "cell_type": "code",
   "execution_count": 16,
   "metadata": {},
   "outputs": [],
   "source": [
    "all_tokens = []\n",
    "def allTokensFromCorpus(text):\n",
    "    doc = model_spacy(text)\n",
    "    for token in doc:\n",
    "        all_tokens.append(token.text)"
   ]
  },
  {
   "cell_type": "code",
   "execution_count": 17,
   "metadata": {},
   "outputs": [
    {
     "data": {
      "text/plain": [
       "0        None\n",
       "1        None\n",
       "2        None\n",
       "3        None\n",
       "4        None\n",
       "         ... \n",
       "36075    None\n",
       "36076    None\n",
       "36077    None\n",
       "36078    None\n",
       "36079    None\n",
       "Name: Cleared_data, Length: 36080, dtype: object"
      ]
     },
     "execution_count": 17,
     "metadata": {},
     "output_type": "execute_result"
    }
   ],
   "source": [
    "df['Cleared_data'].apply(allTokensFromCorpus)"
   ]
  },
  {
   "cell_type": "code",
   "execution_count": 18,
   "metadata": {},
   "outputs": [
    {
     "data": {
      "text/plain": [
       "['Cloudflare',\n",
       " 'reports',\n",
       " 'ransom',\n",
       " 'ddos',\n",
       " 'attacks',\n",
       " 'dropped',\n",
       " 'drastically',\n",
       " '2022',\n",
       " '17',\n",
       " 'ddos',\n",
       " 'targeted',\n",
       " 'clients',\n",
       " 'reporting',\n",
       " 'extortion',\n",
       " 'jan',\n",
       " '6',\n",
       " 'feb',\n",
       " '3',\n",
       " 'mar',\n",
       " '2022',\n",
       " 'dynamicCISO',\n",
       " 'ransomware',\n",
       " '100daysofcode',\n",
       " 'malware',\n",
       " 'girlswhocode',\n",
       " 'infosec',\n",
       " 'cyberattacks',\n",
       " 'cybersecurity',\n",
       " 'thing',\n",
       " 'tell',\n",
       " 'hackers',\n",
       " 'business',\n",
       " 'successfully',\n",
       " 'hit',\n",
       " 'ransomware',\n",
       " 'attack',\n",
       " 'lock',\n",
       " 'data',\n",
       " 'demand',\n",
       " 'ransom',\n",
       " 'fee',\n",
       " 'TactiKoolSec',\n",
       " 'time',\n",
       " 'great',\n",
       " 'job',\n",
       " 'server',\n",
       " 'admin',\n",
       " 'restored',\n",
       " 'company',\n",
       " 'wide',\n",
       " 'file',\n",
       " 'server',\n",
       " 'ransomware',\n",
       " 'encrypted',\n",
       " 'restored',\n",
       " 'control',\n",
       " 'permissions',\n",
       " 'informed',\n",
       " 'iam',\n",
       " 'team',\n",
       " 'problem',\n",
       " 'happened',\n",
       " 'twice',\n",
       " 'ransomware',\n",
       " 'fast',\n",
       " 'growing',\n",
       " 'threat',\n",
       " 'impacting',\n",
       " 'organizations',\n",
       " 'sizes',\n",
       " 'industries',\n",
       " 'find',\n",
       " 'exactly',\n",
       " 'hit',\n",
       " 'ransomware',\n",
       " 'attack',\n",
       " 'cybersecurity',\n",
       " 'ransomeware',\n",
       " 'key',\n",
       " 'cloud',\n",
       " 'innovation',\n",
       " 'takeaways',\n",
       " 'ing',\n",
       " 'amp',\n",
       " 'google',\n",
       " 'cloud',\n",
       " 'infosec',\n",
       " 'infosecurity',\n",
       " 'cybersecurity',\n",
       " 'threatintel',\n",
       " 'threatintelligence',\n",
       " 'hacking',\n",
       " 'cybernews',\n",
       " 'cyberattack',\n",
       " 'threathunting',\n",
       " 'cloudsecurity',\n",
       " 'cloudcomputing',\n",
       " 'malware',\n",
       " 'ransomware',\n",
       " 'devops',\n",
       " 'dfir',\n",
       " 'researchers',\n",
       " 'connect',\n",
       " 'blackcat',\n",
       " 'ransomware',\n",
       " 'past',\n",
       " 'blackmatter',\n",
       " 'malware',\n",
       " 'activity',\n",
       " 'RubrikInc',\n",
       " 'cloud',\n",
       " 'vault',\n",
       " 'brought',\n",
       " 'immutable',\n",
       " 'data',\n",
       " 'cloud',\n",
       " 'customers',\n",
       " 'recover',\n",
       " 'ransomware',\n",
       " 'attack',\n",
       " 'scoop',\n",
       " 'faq',\n",
       " 'rubrik',\n",
       " 'cloud',\n",
       " 'vault',\n",
       " 'identity',\n",
       " 'firm',\n",
       " 'sailpoint',\n",
       " 'bought',\n",
       " 'thoma',\n",
       " 'bravo',\n",
       " 'infosec',\n",
       " 'infosecurity',\n",
       " 'cybersecurity',\n",
       " 'threatintel',\n",
       " 'threatintelligence',\n",
       " 'hacking',\n",
       " 'cybernews',\n",
       " 'cyberattack',\n",
       " 'cloudsecurity',\n",
       " 'cloudcomputing',\n",
       " 'malware',\n",
       " 'ransomware',\n",
       " 'devops',\n",
       " 'dfir',\n",
       " 'cyber',\n",
       " 'threathunting',\n",
       " 'crypto',\n",
       " 'researchers',\n",
       " 'connect',\n",
       " 'blackcat',\n",
       " 'ransomware',\n",
       " 'past',\n",
       " 'blackmatter',\n",
       " 'malware',\n",
       " 'activity',\n",
       " 'cybersecurity',\n",
       " 'researchers',\n",
       " 'uncovered',\n",
       " 'links',\n",
       " 'blackcat',\n",
       " 'aka',\n",
       " 'alphav',\n",
       " 'blackmatter',\n",
       " 'ransomware',\n",
       " 'families',\n",
       " 'emerged',\n",
       " 'replacement',\n",
       " 'offering',\n",
       " 'best',\n",
       " 'recovery',\n",
       " 'services',\n",
       " 'social',\n",
       " 'media',\n",
       " 'accounts',\n",
       " 'hacking',\n",
       " 'infiltration',\n",
       " 'recovery',\n",
       " 'hackedinstagram',\n",
       " 'twitterdown',\n",
       " 'lockedaccount',\n",
       " 'metamask',\n",
       " 'ransomware',\n",
       " 'gmailhack',\n",
       " 'gmaildown',\n",
       " 'hacked',\n",
       " 'hacking',\n",
       " 'hackaccount',\n",
       " 'facebook',\n",
       " 'hacked',\n",
       " 'coinbasesupport',\n",
       " 'walletphrase',\n",
       " 'download',\n",
       " 'security',\n",
       " 'awareness',\n",
       " 'toolkit',\n",
       " 'infosec',\n",
       " 'infosecurity',\n",
       " 'cybersecurity',\n",
       " 'threatintel',\n",
       " 'threatintelligence',\n",
       " 'hacking',\n",
       " 'cybernews',\n",
       " 'cyberattack',\n",
       " 'threathunting',\n",
       " 'cloudsecurity',\n",
       " 'cloudcomputing',\n",
       " 'malware',\n",
       " 'ransomware',\n",
       " 'devops',\n",
       " 'dfir',\n",
       " 'proton',\n",
       " 'simplelogin',\n",
       " 'joining',\n",
       " 'forces',\n",
       " 'infosec',\n",
       " 'infosecurity',\n",
       " 'cybersecurity',\n",
       " 'threatintel',\n",
       " 'threatintelligence',\n",
       " 'hacking',\n",
       " 'cybernews',\n",
       " 'cyberattack',\n",
       " 'threathunting',\n",
       " 'cloudsecurity',\n",
       " 'cloudcomputing',\n",
       " 'malware',\n",
       " 'ransomware',\n",
       " 'devops',\n",
       " 'dfir',\n",
       " 'offering',\n",
       " 'best',\n",
       " 'recovery',\n",
       " 'services',\n",
       " 'social',\n",
       " 'media',\n",
       " 'accounts',\n",
       " 'hacking',\n",
       " 'infiltration',\n",
       " 'recovery',\n",
       " 'hackedinstagram',\n",
       " 'twitterdown',\n",
       " 'lockedaccount',\n",
       " 'metamask',\n",
       " 'ransomware',\n",
       " 'gmailhack',\n",
       " 'hacked',\n",
       " 'hacking',\n",
       " 'hackaccount',\n",
       " 'facebook',\n",
       " 'hacked',\n",
       " 'coinbasesupport',\n",
       " 'walletphrase',\n",
       " 'socailmedia',\n",
       " 'guest',\n",
       " 'essay',\n",
       " 'defending',\n",
       " 'ransomware',\n",
       " 'boils',\n",
       " 'costly',\n",
       " 'cybercriminals',\n",
       " 'fortechnologists',\n",
       " 'guestblogpost',\n",
       " 'privacy',\n",
       " 'stepsforward',\n",
       " 'topstories',\n",
       " 'original',\n",
       " 'apt',\n",
       " 'advanced',\n",
       " 'persistent',\n",
       " 'teenagers',\n",
       " 'organizations',\n",
       " 'struggling',\n",
       " 'combat',\n",
       " 'cybersecurity',\n",
       " 'threats',\n",
       " 'ransomware',\n",
       " 'purveyors',\n",
       " 'state',\n",
       " 'sponsored',\n",
       " 'hacking',\n",
       " 'groups',\n",
       " 'tend',\n",
       " 'days',\n",
       " 'weeks',\n",
       " 'pivot',\n",
       " 'threat',\n",
       " 'spotlight',\n",
       " 'conti',\n",
       " 'ransomware',\n",
       " 'group',\n",
       " 'karakurt',\n",
       " 'hacking',\n",
       " 'team',\n",
       " 'conti',\n",
       " 'karakurt',\n",
       " 'ransomware',\n",
       " 'ransomware',\n",
       " 'attacks',\n",
       " 'changed',\n",
       " 'years',\n",
       " 'crooks',\n",
       " 'exposed',\n",
       " 'network',\n",
       " 'storage',\n",
       " 'devices',\n",
       " 'find',\n",
       " 'latest',\n",
       " 'podcast',\n",
       " ' \\n ',\n",
       " 'cybersecurityevolved',\n",
       " 'email',\n",
       " 'domain',\n",
       " 'tutanota',\n",
       " 'infosec',\n",
       " 'infosecurity',\n",
       " 'cybersecurity',\n",
       " 'threatintel',\n",
       " 'threatintelligence',\n",
       " 'hacking',\n",
       " 'cybernews',\n",
       " 'cyberattack',\n",
       " 'threathunting',\n",
       " 'cloudsecurity',\n",
       " 'cloudcomputing',\n",
       " 'malware',\n",
       " 'ransomware',\n",
       " 'devops',\n",
       " 'dfir',\n",
       " 'cyber',\n",
       " 'attacks',\n",
       " 'new',\n",
       " 'normal',\n",
       " 'prepared',\n",
       " 'read',\n",
       " 'cyberattacks',\n",
       " 'newnormal',\n",
       " 'cybercrime',\n",
       " 'ransomware',\n",
       " 'need',\n",
       " 'help',\n",
       " 'recovering',\n",
       " 'hacked',\n",
       " 'account',\n",
       " 'mails',\n",
       " 'tiktok',\n",
       " 'snapchat',\n",
       " 'instagram',\n",
       " 'etc',\n",
       " 'available',\n",
       " '24/7',\n",
       " 'inbox',\n",
       " 'hacked',\n",
       " 'facebookdown',\n",
       " 'whatsapp',\n",
       " 'hackedinstagram',\n",
       " 'twitterdown',\n",
       " 'lockedaccount',\n",
       " 'metamask',\n",
       " 'ransomware',\n",
       " 'depth',\n",
       " 'analysis',\n",
       " 'established',\n",
       " 'emerging',\n",
       " 'ransomware',\n",
       " 'groups',\n",
       " 'common',\n",
       " 'ransomware',\n",
       " 'tactics',\n",
       " 'recommendations',\n",
       " 'defend',\n",
       " 'organization',\n",
       " 'watch',\n",
       " '2022',\n",
       " 'Unit42_Intel',\n",
       " 'ransomware',\n",
       " 'threat',\n",
       " 'report',\n",
       " 'webinar',\n",
       " 'k',\n",
       " 'securedbypanw',\n",
       " 'blackcat',\n",
       " 'purveyor',\n",
       " 'shows',\n",
       " 'ransomware',\n",
       " 'operators',\n",
       " 'lives',\n",
       " 'ransomware',\n",
       " 'italian',\n",
       " 'luxury',\n",
       " 'fashion',\n",
       " 'house',\n",
       " 'zegna',\n",
       " 'confirms',\n",
       " '2021',\n",
       " 'major',\n",
       " 'ransomware',\n",
       " 'attack',\n",
       " 'ceo',\n",
       " 'shares',\n",
       " 'thoughts',\n",
       " 'dataexfiltration',\n",
       " 'common',\n",
       " 'thread',\n",
       " 'ransomware',\n",
       " 'cyberattacks',\n",
       " 'read',\n",
       " 'Info_Sec_Buzz',\n",
       " 'adx',\n",
       " 'cybersecurity',\n",
       " 'ransomware',\n",
       " 'payments',\n",
       " 'hit',\n",
       " 'new',\n",
       " 'records',\n",
       " 'dark',\n",
       " 'web',\n",
       " 'leaks',\n",
       " 'climb',\n",
       " 'news',\n",
       " 'cybersecurity',\n",
       " 'infosec',\n",
       " 'important',\n",
       " 'requirement',\n",
       " 'ransomware',\n",
       " 'attack',\n",
       " 'having',\n",
       " 'ability',\n",
       " 'quickly',\n",
       " 'recover',\n",
       " 'compromised',\n",
       " 'data',\n",
       " 'cohesity',\n",
       " 'help',\n",
       " 'datamanagement',\n",
       " 'dataprotection',\n",
       " 'datasecurity',\n",
       " 'backup',\n",
       " 'rduttsj',\n",
       " 'tune',\n",
       " 'tresconcyber',\n",
       " 'security',\n",
       " 'asean',\n",
       " 'glimpse',\n",
       " 'tech',\n",
       " 'talk',\n",
       " 'ransomware',\n",
       " 'techniques',\n",
       " '2022',\n",
       " 'detect',\n",
       " 'malicious',\n",
       " 'activity',\n",
       " 'wana',\n",
       " 'tun',\n",
       " 'link',\n",
       " 'join',\n",
       " 'session',\n",
       " 'tresconcybersec',\n",
       " 'wcssasean',\n",
       " 'ciso',\n",
       " 'cybersecurity',\n",
       " 'Sophos',\n",
       " 'thanks',\n",
       " 'picking',\n",
       " 'ransomwarekillswitch',\n",
       " 'story',\n",
       " 'check',\n",
       " 'demo',\n",
       " 'cybersecurity',\n",
       " 'incident',\n",
       " 'response',\n",
       " 'veeam',\n",
       " 'average',\n",
       " 'data',\n",
       " 'recovered',\n",
       " 'ransomware',\n",
       " 'attack',\n",
       " 'let',\n",
       " 'know',\n",
       " 'answer',\n",
       " 'prepared',\n",
       " 'recover',\n",
       " 'case',\n",
       " 'disaster',\n",
       " 'head',\n",
       " 'virtual',\n",
       " 'veeamransomwaresummit',\n",
       " 'hear',\n",
       " 'cybersecurity',\n",
       " 'experts',\n",
       " 'blackcat',\n",
       " 'ransomware',\n",
       " 'need',\n",
       " 'know',\n",
       " ' ',\n",
       " 'state',\n",
       " 'security',\n",
       " 'thm',\n",
       " 'attacktive',\n",
       " 'directory',\n",
       " 'infosec',\n",
       " 'infosecurity',\n",
       " 'cybersecurity',\n",
       " 'threatintel',\n",
       " 'threatintelligence',\n",
       " 'hacking',\n",
       " 'cybernews',\n",
       " 'cyberattack',\n",
       " 'threathunting',\n",
       " 'cloudsecurity',\n",
       " 'cloudcomputing',\n",
       " 'malware',\n",
       " 'ransomware',\n",
       " 'devops',\n",
       " 'dfir',\n",
       " 'restaurant',\n",
       " 'operators',\n",
       " 'defend',\n",
       " 'ransomware',\n",
       " 'ransomware',\n",
       " 'malware',\n",
       " 'cybersecurity',\n",
       " 'cyberattacks',\n",
       " 'qacycle',\n",
       " 'origin',\n",
       " 'threat',\n",
       " 'groups',\n",
       " 'setting',\n",
       " 'foundation',\n",
       " 'infosec',\n",
       " 'infosecurity',\n",
       " 'cybersecurity',\n",
       " 'threatintel',\n",
       " 'threatintelligence',\n",
       " 'hacking',\n",
       " 'cybernews',\n",
       " 'cyberattack',\n",
       " 'threathunting',\n",
       " 'cloudsecurity',\n",
       " 'cloudcomputing',\n",
       " 'malware',\n",
       " 'ransomware',\n",
       " 'devops',\n",
       " 'dfir',\n",
       " 'nearly',\n",
       " 'thirds',\n",
       " 'ransomware',\n",
       " 'victims',\n",
       " 'paid',\n",
       " 'ransoms',\n",
       " 'year',\n",
       " 'services',\n",
       " 'giant',\n",
       " 'admits',\n",
       " ' ',\n",
       " '42',\n",
       " 'm',\n",
       " 'fallout',\n",
       " 'ransomware',\n",
       " 'attack',\n",
       " '\\xa0\\xa0 ',\n",
       " 'infosecurity',\n",
       " 'magazine',\n",
       " 'users',\n",
       " 'work',\n",
       " 'devices',\n",
       " 'secure',\n",
       " 'network',\n",
       " 'devices',\n",
       " 'exposed',\n",
       " 'millions',\n",
       " 'malware',\n",
       " 'phishing',\n",
       " 'ransomware',\n",
       " 'endpoint',\n",
       " 'cybersecurity',\n",
       " 'threats',\n",
       " 'learn',\n",
       " 'concensus',\n",
       " 'secure',\n",
       " 'plan',\n",
       " 'recover',\n",
       " 'organization',\n",
       " 'ransomware',\n",
       " 'attack',\n",
       " 'read',\n",
       " 'ebook',\n",
       " 'find',\n",
       " 'DellDataProtect',\n",
       " 'powerprotect',\n",
       " 'cyber',\n",
       " 'recovery',\n",
       " 'protects',\n",
       " 'recovers',\n",
       " 'data',\n",
       " 'confidence',\n",
       " '📘',\n",
       " 'palewire',\n",
       " 'backups',\n",
       " 'critical',\n",
       " 'data',\n",
       " 'dealt',\n",
       " 'ransomware',\n",
       " 'attack',\n",
       " 'major',\n",
       " 'hospital',\n",
       " 'chain',\n",
       " 'took',\n",
       " '5',\n",
       " 'weeks',\n",
       " 'backup',\n",
       " 'saved',\n",
       " 'day',\n",
       " 'know',\n",
       " 'information',\n",
       " 'protect',\n",
       " 'telehealth',\n",
       " 'practice',\n",
       " 'ransomware',\n",
       " 'attack',\n",
       " 'operate',\n",
       " 'w/',\n",
       " 'eyes',\n",
       " 'wide',\n",
       " 'open',\n",
       " 'online',\n",
       " 'live',\n",
       " 'training',\n",
       " '6/3/22',\n",
       " '11',\n",
       " '-12',\n",
       " 'pacific',\n",
       " 'register',\n",
       " 'telehealth',\n",
       " 'telemedicine',\n",
       " 'teletherapy',\n",
       " 'new',\n",
       " 'windows',\n",
       " '11',\n",
       " 'security',\n",
       " 'feature',\n",
       " 'requires',\n",
       " 'clean',\n",
       " 'install',\n",
       " 'infosec',\n",
       " 'infosecurity',\n",
       " 'cybersecurity',\n",
       " 'threatintel',\n",
       " 'threatintelligence',\n",
       " 'hacking',\n",
       " 'cybernews',\n",
       " 'cyberattack',\n",
       " 'threathunting',\n",
       " 'cloudsecurity',\n",
       " 'cloudcomputing',\n",
       " 'malware',\n",
       " 'ransomware',\n",
       " 'devops',\n",
       " 'dfir',\n",
       " 'new',\n",
       " 'report',\n",
       " 'provides',\n",
       " 'potent',\n",
       " 'reminder',\n",
       " 'monitor',\n",
       " 'cybersecurity',\n",
       " 'measures',\n",
       " 'plus',\n",
       " 'lessons',\n",
       " 'respond',\n",
       " 'event',\n",
       " 'ransomware',\n",
       " 'attack',\n",
       " 'techcrunch',\n",
       " 'yahoo',\n",
       " 'family',\n",
       " 'brands',\n",
       " 'want',\n",
       " 'scenes',\n",
       " 'look',\n",
       " 'attack',\n",
       " 'methods',\n",
       " 'biggest',\n",
       " 'ransomware',\n",
       " 'gangs',\n",
       " 'Akamai',\n",
       " 'researchers',\n",
       " 'SearchSecurity',\n",
       " 'conti',\n",
       " '9th',\n",
       " 'circ',\n",
       " 'says',\n",
       " 'marketing',\n",
       " 'co.',\n",
       " 'arbitrate',\n",
       " 'tcpa',\n",
       " 'suit',\n",
       " 'infosec',\n",
       " 'infosecurity',\n",
       " 'cybersecurity',\n",
       " 'threatintel',\n",
       " 'threatintelligence',\n",
       " 'hacking',\n",
       " 'cybernews',\n",
       " 'cyberattack',\n",
       " 'threathunting',\n",
       " 'cloudsecurity',\n",
       " 'cloudcomputing',\n",
       " 'malware',\n",
       " 'ransomware',\n",
       " 'devops',\n",
       " 'dfir',\n",
       " 'hackers',\n",
       " 'use',\n",
       " 'conti',\n",
       " 'leaked',\n",
       " 'ransomware',\n",
       " 'attack',\n",
       " 'russian',\n",
       " 'companies',\n",
       " 'cyberattacks',\n",
       " 'cybercrime',\n",
       " 'ransomware',\n",
       " 'sourcecode',\n",
       " 'nb65',\n",
       " 'conti',\n",
       " 'exclusive',\n",
       " 'hacking',\n",
       " 'jobs',\n",
       " 'dm',\n",
       " 'ask',\n",
       " 'service',\n",
       " 'hacked',\n",
       " 'icloud',\n",
       " 'facebookdown',\n",
       " 'imessage',\n",
       " 'ransomware',\n",
       " 'snapchat',\n",
       " 'snapchatsupport',\n",
       " 'snapchatleak',\n",
       " 'hacking',\n",
       " 'discord',\n",
       " 'xboxseriesx',\n",
       " 'xboxshare',\n",
       " 'roblox',\n",
       " 'missingphone',\n",
       " 'gmailhack',\n",
       " 'gmaildown',\n",
       " 'hacked',\n",
       " 'hacking',\n",
       " 'hackaccount',\n",
       " 'cve-2022',\n",
       " '22571',\n",
       " 'authenticated',\n",
       " 'high',\n",
       " 'privileged',\n",
       " 'user',\n",
       " 'perform',\n",
       " 'stored',\n",
       " 'xss',\n",
       " 'attack',\n",
       " 'incorrect',\n",
       " 'output',\n",
       " 'encoding',\n",
       " 'incapptic',\n",
       " 'connect',\n",
       " 'affects',\n",
       " 'current',\n",
       " 'versions',\n",
       " 'ransomware',\n",
       " 'attacks',\n",
       " 'continue',\n",
       " 'globally',\n",
       " 'dominate',\n",
       " 'cyber',\n",
       " 'threat',\n",
       " 'landscape',\n",
       " 'protect',\n",
       " 'customers',\n",
       " 'low',\n",
       " 'risk',\n",
       " 'high',\n",
       " 'reward',\n",
       " 'attacks',\n",
       " '24/7',\n",
       " 'registered',\n",
       " '2022',\n",
       " 'channel',\n",
       " 'partners',\n",
       " 'expo',\n",
       " 'week',\n",
       " 'attend',\n",
       " '2019',\n",
       " 'global',\n",
       " 'data',\n",
       " 'risks',\n",
       " 'report',\n",
       " 'found',\n",
       " '22',\n",
       " 'percent',\n",
       " 'folders',\n",
       " 'organizations',\n",
       " 'secure',\n",
       " 'unrestricted',\n",
       " 'access',\n",
       " 'cyberthreats',\n",
       " 'cyberattack',\n",
       " 'ransomware',\n",
       " 'report',\n",
       " '48',\n",
       " 'orgs',\n",
       " 'implemented',\n",
       " 'formal',\n",
       " 'ransomware',\n",
       " 'strategy',\n",
       " 'cybersecurity',\n",
       " '3',\n",
       " 'ways',\n",
       " 'build',\n",
       " 'cyber',\n",
       " 'resilience',\n",
       " 'post',\n",
       " 'ransomware',\n",
       " 'attack',\n",
       " 'm',\n",
       " 'security',\n",
       " 'cyber',\n",
       " 'cybersecurity',\n",
       " 'anybody',\n",
       " 'access',\n",
       " 'old',\n",
       " 'deleted',\n",
       " 'leaks',\n",
       " 'cl0p',\n",
       " 'ransomware',\n",
       " 'searching',\n",
       " 'particular',\n",
       " 'leak',\n",
       " 'feel',\n",
       " 'free',\n",
       " 'dm',\n",
       " 'ransomware',\n",
       " 'uuallan',\n",
       " 'vxunderground',\n",
       " '1ZRR4H',\n",
       " 'accounts',\n",
       " 'deceivable',\n",
       " 'email',\n",
       " 'scam',\n",
       " 'costliest',\n",
       " 'type',\n",
       " 'cybercrime',\n",
       " 'datasecurity',\n",
       " 'privacy',\n",
       " '100daysofcode',\n",
       " 'cloud',\n",
       " 'security',\n",
       " 'machinelearning',\n",
       " 'phishing',\n",
       " 'ransomware',\n",
       " 'cybersecurity',\n",
       " 'cyberattacks',\n",
       " 'dataprotection',\n",
       " 'malware',\n",
       " 'hacked',\n",
       " 'infosec',\n",
       " 'sonicwall',\n",
       " 'data',\n",
       " '2022',\n",
       " 'sonicwall',\n",
       " 'cyber',\n",
       " 'threat',\n",
       " 'report',\n",
       " 'profsecmag',\n",
       " 'takes',\n",
       " 'look',\n",
       " 'rise',\n",
       " 'ransomware',\n",
       " 'service',\n",
       " 'raas',\n",
       " 'repercussions',\n",
       " 'year',\n",
       " 'ahead',\n",
       " 'ransomware',\n",
       " 'knowthethreats',\n",
       " 'critical',\n",
       " 'bugs',\n",
       " 'fixed',\n",
       " 'automatic',\n",
       " 'hospital',\n",
       " 'robot',\n",
       " 'control',\n",
       " 'system',\n",
       " 'fortunately',\n",
       " 'talking',\n",
       " 'robot',\n",
       " 'revolution',\n",
       " 'hospital',\n",
       " 'ai',\n",
       " 'run',\n",
       " 'amuck',\n",
       " 'bugs',\n",
       " 'lead',\n",
       " 'ransomware',\n",
       " 'worse',\n",
       " 'conti',\n",
       " 'ransomware',\n",
       " 'gang',\n",
       " 'actively',\n",
       " 'running',\n",
       " 'campaigns',\n",
       " 'victims',\n",
       " 'world',\n",
       " 'despite',\n",
       " 'inner',\n",
       " 'workings',\n",
       " 'group',\n",
       " 'revealed',\n",
       " 'data',\n",
       " 'leaks',\n",
       " '\\xa0 ',\n",
       " 'read',\n",
       " 'ZDNet',\n",
       " 'cybersecurity',\n",
       " 'recipient',\n",
       " 'malicious',\n",
       " 'spam',\n",
       " 'email',\n",
       " 'executes',\n",
       " 'download',\n",
       " 'malicious',\n",
       " 'software',\n",
       " 'starts',\n",
       " 'run',\n",
       " 'ransomware',\n",
       " 'lock',\n",
       " 'firms',\n",
       " 'files',\n",
       " 'spyware',\n",
       " 'observes',\n",
       " 'transmits',\n",
       " 'confidential',\n",
       " 'activity',\n",
       " 'read',\n",
       " '👉',\n",
       " 'tips',\n",
       " 'digital',\n",
       " 'transformation',\n",
       " 'connected',\n",
       " 'medical',\n",
       " 'devices',\n",
       " 'amp',\n",
       " 'virtual',\n",
       " 'medicine',\n",
       " 'joins',\n",
       " 'discuss',\n",
       " 'ransomware',\n",
       " 'implications',\n",
       " 'healthcare',\n",
       " 'safe',\n",
       " 'date',\n",
       " '4/12',\n",
       " 'time',\n",
       " '12',\n",
       " '1',\n",
       " 'pm',\n",
       " 'cdt',\n",
       " 'event',\n",
       " 'webinar',\n",
       " 'register',\n",
       " 'SwiftOnSecurity',\n",
       " 'hop',\n",
       " 'companies',\n",
       " 'raises',\n",
       " 'grass',\n",
       " 'greener',\n",
       " 'interviewed',\n",
       " 'co.',\n",
       " 'ready',\n",
       " 'mfa',\n",
       " 'gotten',\n",
       " 'hit',\n",
       " 'ransomware',\n",
       " 'attacks',\n",
       " 'twice',\n",
       " '2',\n",
       " 'years',\n",
       " 'lost',\n",
       " '30',\n",
       " 'days',\n",
       " 'backups',\n",
       " 'bragged',\n",
       " 'slim',\n",
       " 'staff',\n",
       " 'tier',\n",
       " '1',\n",
       " 'food',\n",
       " 'supplier',\n",
       " 'indy',\n",
       " '500',\n",
       " ...]"
      ]
     },
     "execution_count": 18,
     "metadata": {},
     "output_type": "execute_result"
    }
   ],
   "source": [
    "all_tokens"
   ]
  },
  {
   "cell_type": "code",
   "execution_count": 19,
   "metadata": {},
   "outputs": [],
   "source": [
    "from collections import Counter\n",
    "word_counts = Counter(all_tokens)\n"
   ]
  },
  {
   "cell_type": "code",
   "execution_count": 20,
   "metadata": {},
   "outputs": [
    {
     "data": {
      "text/plain": [
       "Counter({'ransomware': 21196,\n",
       "         'phishing': 8867,\n",
       "         'cybersecurity': 8270,\n",
       "         'malware': 5694,\n",
       "         'attack': 4951,\n",
       "         'hacking': 4923,\n",
       "         'infosec': 4911,\n",
       "         'cyberattack': 4373,\n",
       "         'security': 3996,\n",
       "         'attacks': 3504,\n",
       "         'threatintel': 3343,\n",
       "         'infosecurity': 3255,\n",
       "         'cloudcomputing': 3214,\n",
       "         'cloudsecurity': 3212,\n",
       "         'threatintelligence': 3203,\n",
       "         'cybernews': 3177,\n",
       "         'devops': 3164,\n",
       "         'threathunting': 3163,\n",
       "         'dfir': 3160,\n",
       "         'data': 3109,\n",
       "         ' ': 2655,\n",
       "         'new': 2224,\n",
       "         'hacked': 2196,\n",
       "         'cyber': 2133,\n",
       "         'amp': 1865,\n",
       "         'spyware': 1807,\n",
       "         'threat': 1475,\n",
       "         'email': 1418,\n",
       "         'report': 1392,\n",
       "         'group': 1373,\n",
       "         'scam': 1328,\n",
       "         'like': 1296,\n",
       "         'hackers': 1239,\n",
       "         '\\xa0 ': 1170,\n",
       "         'read': 1142,\n",
       "         'hit': 1139,\n",
       "         'conti': 1114,\n",
       "         'cybercrime': 1103,\n",
       "         'business': 1096,\n",
       "         'account': 1051,\n",
       "         'learn': 1050,\n",
       "         '2022': 989,\n",
       "         'cyberattacks': 982,\n",
       "         'help': 981,\n",
       "         'hacker': 954,\n",
       "         'facebookdown': 931,\n",
       "         'know': 925,\n",
       "         'organizations': 915,\n",
       "         'gang': 908,\n",
       "         'need': 899,\n",
       "         'scams': 883,\n",
       "         'protect': 879,\n",
       "         'worms': 861,\n",
       "         'microsoft': 853,\n",
       "         'people': 822,\n",
       "         'news': 794,\n",
       "         'viruses': 789,\n",
       "         'use': 786,\n",
       "         'fraud': 774,\n",
       "         'targeting': 760,\n",
       "         'users': 757,\n",
       "         '2021': 750,\n",
       "         'information': 740,\n",
       "         'services': 737,\n",
       "         'cloud': 724,\n",
       "         'company': 717,\n",
       "         'warns': 714,\n",
       "         'google': 712,\n",
       "         'snapchat': 704,\n",
       "         'year': 700,\n",
       "         'russian': 700,\n",
       "         'breach': 696,\n",
       "         'emails': 694,\n",
       "         'recovery': 691,\n",
       "         'threats': 683,\n",
       "         'time': 668,\n",
       "         '.': 665,\n",
       "         'targeted': 662,\n",
       "         'discord': 658,\n",
       "         'crypto': 646,\n",
       "         'russia': 644,\n",
       "         'imessage': 634,\n",
       "         'icloud': 632,\n",
       "         'lost': 625,\n",
       "         'good': 620,\n",
       "         'web': 618,\n",
       "         'day': 617,\n",
       "         'privacy': 614,\n",
       "         'service': 603,\n",
       "         'honeypot': 603,\n",
       "         'dataprotection': 598,\n",
       "         'claims': 594,\n",
       "         'today': 586,\n",
       "         'technology': 576,\n",
       "         'access': 575,\n",
       "         'customers': 571,\n",
       "         'think': 567,\n",
       "         'victims': 565,\n",
       "         'world': 564,\n",
       "         'accounts': 557,\n",
       "         'fbi': 557,\n",
       "         'snapchatsupport': 543,\n",
       "         'best': 539,\n",
       "         'android': 539,\n",
       "         'companies': 538,\n",
       "         '️': 538,\n",
       "         'risk': 533,\n",
       "         'victim': 533,\n",
       "         'nft': 525,\n",
       "         'got': 524,\n",
       "         'latest': 523,\n",
       "         'software': 523,\n",
       "         'based': 519,\n",
       "         'tech': 508,\n",
       "         'protection': 503,\n",
       "         'ddos': 499,\n",
       "         'network': 496,\n",
       "         'link': 496,\n",
       "         'free': 496,\n",
       "         '3': 495,\n",
       "         'dm': 492,\n",
       "         'check': 491,\n",
       "         'million': 491,\n",
       "         'cybercriminals': 490,\n",
       "         'zero': 482,\n",
       "         'ransom': 478,\n",
       "         'critical': 477,\n",
       "         'inbox': 475,\n",
       "         'says': 472,\n",
       "         'lockbit': 472,\n",
       "         'blackcat': 471,\n",
       "         'twitter': 470,\n",
       "         'systems': 469,\n",
       "         'government': 467,\n",
       "         'ukraine': 461,\n",
       "         'recover': 459,\n",
       "         'target': 459,\n",
       "         'databreach': 457,\n",
       "         'xboxshare': 451,\n",
       "         'stolen': 449,\n",
       "         'leaked': 444,\n",
       "         'targets': 437,\n",
       "         'way': 435,\n",
       "         'businesses': 428,\n",
       "         'snapchatleak': 426,\n",
       "         'iot': 426,\n",
       "         'm': 425,\n",
       "         'metamask': 424,\n",
       "         'find': 423,\n",
       "         'datasecurity': 421,\n",
       "         'digital': 421,\n",
       "         'files': 415,\n",
       "         'want': 414,\n",
       "         'etc': 412,\n",
       "         'researchers': 408,\n",
       "         'devices': 403,\n",
       "         'look': 400,\n",
       "         'number': 397,\n",
       "         'ai': 390,\n",
       "         'computer': 390,\n",
       "         'money': 389,\n",
       "         'website': 388,\n",
       "         'fake': 387,\n",
       "         '2': 386,\n",
       "         'defense': 384,\n",
       "         'infrastructure': 383,\n",
       "         'open': 382,\n",
       "         'bank': 379,\n",
       "         'organization': 377,\n",
       "         'code': 377,\n",
       "         'u.s': 376,\n",
       "         'malicious': 374,\n",
       "         'click': 373,\n",
       "         'xboxseriesx': 372,\n",
       "         'site': 370,\n",
       "         'contact': 368,\n",
       "         'right': 365,\n",
       "         '5': 364,\n",
       "         '1': 364,\n",
       "         'hack': 363,\n",
       "         'work': 361,\n",
       "         'links': 359,\n",
       "         'join': 354,\n",
       "         'online': 354,\n",
       "         'phone': 351,\n",
       "         'roblox': 348,\n",
       "         'team': 347,\n",
       "         'week': 346,\n",
       "         'stop': 346,\n",
       "         'law': 346,\n",
       "         'state': 345,\n",
       "         'high': 340,\n",
       "         'health': 340,\n",
       "         'pegasus': 339,\n",
       "         'available': 338,\n",
       "         'better': 335,\n",
       "         'attempt': 334,\n",
       "         'opensea': 332,\n",
       "         'social': 331,\n",
       "         'secure': 329,\n",
       "         'global': 328,\n",
       "         'hackedinstagram': 324,\n",
       "         'real': 323,\n",
       "         'lockedaccount': 321,\n",
       "         'healthcare': 321,\n",
       "         'twitterdown': 320,\n",
       "         '10': 320,\n",
       "         'years': 319,\n",
       "         'prevent': 319,\n",
       "         'insurance': 317,\n",
       "         'according': 317,\n",
       "         'small': 316,\n",
       "         'whatsapp': 312,\n",
       "         'chain': 312,\n",
       "         'steps': 312,\n",
       "         'going': 311,\n",
       "         'source': 309,\n",
       "         'months': 308,\n",
       "         'actors': 307,\n",
       "         'blog': 306,\n",
       "         'details': 305,\n",
       "         'warning': 303,\n",
       "         'windows': 302,\n",
       "         'including': 302,\n",
       "         'supply': 301,\n",
       "         'tools': 301,\n",
       "         'system': 298,\n",
       "         'payments': 297,\n",
       "         'response': 295,\n",
       "         'let': 295,\n",
       "         'getting': 294,\n",
       "         'nfts': 293,\n",
       "         'pay': 292,\n",
       "         'campaign': 292,\n",
       "         'uk': 291,\n",
       "         'attempts': 290,\n",
       "         'common': 289,\n",
       "         'user': 289,\n",
       "         'office': 289,\n",
       "         'said': 289,\n",
       "         'paid': 288,\n",
       "         'post': 288,\n",
       "         'avoid': 288,\n",
       "         'backup': 287,\n",
       "         'register': 285,\n",
       "         'missingphone': 285,\n",
       "         'vulnerabilities': 284,\n",
       "         'following': 283,\n",
       "         'action': 281,\n",
       "         'past': 280,\n",
       "         'incident': 280,\n",
       "         'dos': 280,\n",
       "         'north': 279,\n",
       "         'recent': 278,\n",
       "         'possible': 278,\n",
       "         'internet': 276,\n",
       "         'public': 276,\n",
       "         'safe': 275,\n",
       "         'largest': 275,\n",
       "         'trust': 274,\n",
       "         'research': 274,\n",
       "         'webinar': 273,\n",
       "         'article': 273,\n",
       "         'ask': 271,\n",
       "         'mobile': 271,\n",
       "         'taking': 269,\n",
       "         'sites': 269,\n",
       "         '24/7': 268,\n",
       "         'password': 268,\n",
       "         'leak': 266,\n",
       "         'april': 263,\n",
       "         'attackers': 263,\n",
       "         'intelligence': 262,\n",
       "         'lapsus$': 260,\n",
       "         'market': 259,\n",
       "         'flubot': 259,\n",
       "         'vulnerability': 258,\n",
       "         'watch': 257,\n",
       "         'rise': 255,\n",
       "         'instagram': 254,\n",
       "         'scammers': 254,\n",
       "         'platform': 254,\n",
       "         'found': 250,\n",
       "         'solutions': 250,\n",
       "         'financial': 250,\n",
       "         'operation': 249,\n",
       "         'easy': 248,\n",
       "         'g': 247,\n",
       "         'operations': 247,\n",
       "         'sure': 244,\n",
       "         'issue': 243,\n",
       "         'man': 243,\n",
       "         'guide': 243,\n",
       "         'big': 241,\n",
       "         'update': 240,\n",
       "         'key': 239,\n",
       "         'steal': 239,\n",
       "         'case': 238,\n",
       "         'card': 237,\n",
       "         'national': 237,\n",
       "         'reports': 236,\n",
       "         'sent': 236,\n",
       "         'increase': 236,\n",
       "         'nearly': 235,\n",
       "         'agency': 235,\n",
       "         'websites': 234,\n",
       "         'gmailhack': 233,\n",
       "         'analysis': 232,\n",
       "         'virus': 231,\n",
       "         'personal': 231,\n",
       "         'domain': 230,\n",
       "         'confirms': 230,\n",
       "         'crime': 228,\n",
       "         'bad': 228,\n",
       "         '4': 227,\n",
       "         'stay': 227,\n",
       "         't': 227,\n",
       "         'info': 227,\n",
       "         'media': 226,\n",
       "         'botnet': 226,\n",
       "         'activity': 225,\n",
       "         'gmaildown': 225,\n",
       "         'ciso': 225,\n",
       "         'anti': 225,\n",
       "         'enforcement': 225,\n",
       "         'bandai': 224,\n",
       "         'namco': 224,\n",
       "         'okta': 223,\n",
       "         'app': 223,\n",
       "         'message': 222,\n",
       "         'metaverse': 222,\n",
       "         'darkweb': 221,\n",
       "         'cybersec': 221,\n",
       "         'large': 221,\n",
       "         'major': 220,\n",
       "         'spam': 220,\n",
       "         'believe': 218,\n",
       "         'prevention': 218,\n",
       "         'control': 217,\n",
       "         'industry': 216,\n",
       "         'reported': 215,\n",
       "         'working': 212,\n",
       "         'days': 211,\n",
       "         'management': 211,\n",
       "         'university': 210,\n",
       "         'police': 210,\n",
       "         'solution': 209,\n",
       "         'important': 208,\n",
       "         'training': 208,\n",
       "         'wallet': 208,\n",
       "         'groups': 207,\n",
       "         'great': 205,\n",
       "         'firm': 205,\n",
       "         'hackaccount': 205,\n",
       "         'download': 205,\n",
       "         'giant': 205,\n",
       "         'called': 205,\n",
       "         'known': 205,\n",
       "         'looking': 204,\n",
       "         'remote': 204,\n",
       "         'send': 204,\n",
       "         'war': 203,\n",
       "         'databreaches': 203,\n",
       "         '🚨': 201,\n",
       "         'hope': 200,\n",
       "         'person': 200,\n",
       "         'helps': 199,\n",
       "         'future': 199,\n",
       "         'bitcoin': 198,\n",
       "         'growing': 197,\n",
       "         'continue': 197,\n",
       "         'authentication': 197,\n",
       "         'making': 197,\n",
       "         'text': 197,\n",
       "         'reach': 196,\n",
       "         'networks': 195,\n",
       "         'sector': 194,\n",
       "         'cryptocurrency': 192,\n",
       "         'recently': 192,\n",
       "         'device': 191,\n",
       "         'understand': 191,\n",
       "         'facebook': 190,\n",
       "         'experts': 190,\n",
       "         'breaches': 190,\n",
       "         'phones': 190,\n",
       "         'criminals': 190,\n",
       "         'taken': 189,\n",
       "         'thing': 188,\n",
       "         'address': 188,\n",
       "         'things': 188,\n",
       "         'tips': 187,\n",
       "         'gets': 187,\n",
       "         'servers': 187,\n",
       "         'extortion': 186,\n",
       "         'compromised': 186,\n",
       "         'gangs': 186,\n",
       "         'smishing': 186,\n",
       "         'uses': 185,\n",
       "         'international': 184,\n",
       "         'related': 184,\n",
       "         'shows': 183,\n",
       "         'banking': 183,\n",
       "         'increased': 182,\n",
       "         'come': 182,\n",
       "         'march': 182,\n",
       "         'avoslocker': 182,\n",
       "         '10,000': 181,\n",
       "         'end': 180,\n",
       "         'actually': 180,\n",
       "         '\\n  ': 180,\n",
       "         'black': 180,\n",
       "         'ways': 179,\n",
       "         'demands': 178,\n",
       "         'scale': 178,\n",
       "         'dark': 177,\n",
       "         'video': 177,\n",
       "         'trying': 176,\n",
       "         'insight': 175,\n",
       "         'support': 175,\n",
       "         '6': 174,\n",
       "         'story': 174,\n",
       "         'attacked': 174,\n",
       "         'detection': 174,\n",
       "         'sms': 174,\n",
       "         'thanks': 173,\n",
       "         'test': 173,\n",
       "         'sectors': 173,\n",
       "         'zerotrust': 173,\n",
       "         'reveals': 173,\n",
       "         'worth': 173,\n",
       "         'leaders': 172,\n",
       "         'breached': 172,\n",
       "         'employees': 171,\n",
       "         'department': 171,\n",
       "         'manufacturing': 170,\n",
       "         'looks': 170,\n",
       "         'blackmatter': 169,\n",
       "         'type': 169,\n",
       "         'face': 169,\n",
       "         '👇': 169,\n",
       "         'tax': 169,\n",
       "         'browser': 169,\n",
       "         'different': 168,\n",
       "         'encryption': 168,\n",
       "         'vishing': 168,\n",
       "         'backups': 167,\n",
       "         'risks': 167,\n",
       "         'apps': 167,\n",
       "         'likely': 167,\n",
       "         'issues': 167,\n",
       "         'plan': 166,\n",
       "         'massive': 166,\n",
       "         'long': 166,\n",
       "         'alert': 166,\n",
       "         'beware': 166,\n",
       "         'fast': 164,\n",
       "         'helped': 164,\n",
       "         'comes': 164,\n",
       "         'incidents': 164,\n",
       "         'socialengineering': 164,\n",
       "         'shut': 164,\n",
       "         'announced': 164,\n",
       "         '100': 164,\n",
       "         'received': 164,\n",
       "         'blockchain': 163,\n",
       "         'provider': 163,\n",
       "         'tool': 163,\n",
       "         'place': 162,\n",
       "         'cost': 162,\n",
       "         'reporting': 161,\n",
       "         'messages': 160,\n",
       "         'passwords': 159,\n",
       "         'awareness': 158,\n",
       "         'rt': 158,\n",
       "         'house': 157,\n",
       "         '11': 157,\n",
       "         'engineering': 157,\n",
       "         'apple': 157,\n",
       "         'problem': 156,\n",
       "         'paying': 156,\n",
       "         'trends': 156,\n",
       "         '100daysofcode': 155,\n",
       "         'techniques': 155,\n",
       "         'linux': 155,\n",
       "         'zdnet': 155,\n",
       "         'job': 154,\n",
       "         'provides': 154,\n",
       "         'popular': 154,\n",
       "         'talk': 153,\n",
       "         'event': 153,\n",
       "         'trojan': 153,\n",
       "         'strategy': 152,\n",
       "         'old': 152,\n",
       "         'takes': 152,\n",
       "         'easier': 152,\n",
       "         '🇺': 152,\n",
       "         'criminal': 152,\n",
       "         'prison': 152,\n",
       "         'customer': 152,\n",
       "         'prepared': 151,\n",
       "         'cyberthreats': 151,\n",
       "         '😂': 151,\n",
       "         '8': 151,\n",
       "         'seen': 151,\n",
       "         'game': 151,\n",
       "         'human': 151,\n",
       "         'orgs': 150,\n",
       "         'payment': 150,\n",
       "         'Microsoft': 150,\n",
       "         'connect': 149,\n",
       "         'machinelearning': 149,\n",
       "         'local': 149,\n",
       "         'step': 148,\n",
       "         'impact': 148,\n",
       "         'fall': 148,\n",
       "         '7': 148,\n",
       "         'alphv': 148,\n",
       "         'claimed': 148,\n",
       "         'form': 148,\n",
       "         'life': 148,\n",
       "         'offering': 147,\n",
       "         'list': 147,\n",
       "         '2020': 147,\n",
       "         'billion': 147,\n",
       "         'start': 147,\n",
       "         'current': 146,\n",
       "         'sensitive': 146,\n",
       "         'lot': 146,\n",
       "         'ios': 146,\n",
       "         'family': 145,\n",
       "         'works': 145,\n",
       "         'share': 145,\n",
       "         'private': 145,\n",
       "         'hospitals': 145,\n",
       "         'able': 145,\n",
       "         'confirmed': 145,\n",
       "         'live': 144,\n",
       "         'affected': 144,\n",
       "         'deadbolt': 144,\n",
       "         'leaks': 143,\n",
       "         'despite': 143,\n",
       "         'exploit': 143,\n",
       "         'chance': 143,\n",
       "         'try': 143,\n",
       "         'identity': 142,\n",
       "         'point': 142,\n",
       "         'bug': 142,\n",
       "         'credentials': 142,\n",
       "         'care': 142,\n",
       "         'resilience': 140,\n",
       "         'option': 140,\n",
       "         'hydra': 140,\n",
       "         'chinese': 140,\n",
       "         'aware': 140,\n",
       "         'chrome': 140,\n",
       "         'k': 139,\n",
       "         'follow': 139,\n",
       "         'types': 139,\n",
       "         'debit': 139,\n",
       "         'millions': 138,\n",
       "         'demand': 137,\n",
       "         'country': 137,\n",
       "         'italian': 136,\n",
       "         'ransoms': 136,\n",
       "         'compromise': 136,\n",
       "         'suggest': 136,\n",
       "         'hive': 136,\n",
       "         'infected': 136,\n",
       "         'green': 136,\n",
       "         'vulnerable': 135,\n",
       "         'series': 135,\n",
       "         'enterprise': 135,\n",
       "         'minutes': 135,\n",
       "         'home': 135,\n",
       "         'https': 135,\n",
       "         'takedown': 135,\n",
       "         'cloudflare': 135,\n",
       "         'recovering': 134,\n",
       "         'detect': 134,\n",
       "         'usa': 134,\n",
       "         'sophisticated': 134,\n",
       "         'lead': 133,\n",
       "         'opinion': 133,\n",
       "         'far': 133,\n",
       "         'injection': 133,\n",
       "         'forms': 133,\n",
       "         'countries': 133,\n",
       "         'telegram': 132,\n",
       "         'study': 132,\n",
       "         'encrypts': 132,\n",
       "         'server': 131,\n",
       "         'virtual': 131,\n",
       "         'biggest': 131,\n",
       "         'fight': 131,\n",
       "         'inside': 131,\n",
       "         'cause': 131,\n",
       "         'federal': 131,\n",
       "         'ukrainian': 131,\n",
       "         'canadian': 131,\n",
       "         'ceo': 130,\n",
       "         'feel': 130,\n",
       "         'released': 130,\n",
       "         'effective': 130,\n",
       "         'community': 130,\n",
       "         'hacks': 130,\n",
       "         'potential': 130,\n",
       "         'otp': 130,\n",
       "         'phishing/': 130,\n",
       "         'moonbirds': 130,\n",
       "         'respond': 129,\n",
       "         '👉': 129,\n",
       "         'fintech': 129,\n",
       "         'create': 129,\n",
       "         'probably': 129,\n",
       "         'means': 129,\n",
       "         'month': 129,\n",
       "         'theft': 129,\n",
       "         'protecting': 129,\n",
       "         'mantis': 129,\n",
       "         'having': 128,\n",
       "         'informationsecurity': 128,\n",
       "         'active': 128,\n",
       "         'school': 128,\n",
       "         '2/3': 128,\n",
       "         'tell': 127,\n",
       "         'multiple': 127,\n",
       "         'successful': 127,\n",
       "         'investors': 127,\n",
       "         'marketplace': 127,\n",
       "         'itsecurity': 126,\n",
       "         'increasingly': 126,\n",
       "         'organisations': 126,\n",
       "         'cisa': 126,\n",
       "         'darknet': 126,\n",
       "         'nt': 126,\n",
       "         'yes': 126,\n",
       "         'zegna': 125,\n",
       "         'putin': 125,\n",
       "         'states': 125,\n",
       "         'linked': 125,\n",
       "         '1930': 125,\n",
       "         'approach': 124,\n",
       "         'exchange': 124,\n",
       "         'actionable': 124,\n",
       "         'away': 124,\n",
       "         '🇸': 123,\n",
       "         '👋': 123,\n",
       "         'snap': 123,\n",
       "         'reportedly': 123,\n",
       "         'coming': 123,\n",
       "         'version': 123,\n",
       "         'times': 122,\n",
       "         'schools': 122,\n",
       "         'encrypt': 122,\n",
       "         'insights': 122,\n",
       "         'maybe': 122,\n",
       "         '-&gt': 122,\n",
       "         'love': 122,\n",
       "         'password/': 122,\n",
       "         'number/': 122,\n",
       "         'pin/': 122,\n",
       "         'cvv/': 122,\n",
       "         'report.phishing@sbi.co.in': 122,\n",
       "         'helpline': 122,\n",
       "         'tactics': 121,\n",
       "         'thank': 121,\n",
       "         'korean': 121,\n",
       "         'caught': 121,\n",
       "         'finds': 121,\n",
       "         'court': 121,\n",
       "         'expert': 121,\n",
       "         'aitm': 121,\n",
       "         'crosshairs': 120,\n",
       "         'strains': 120,\n",
       "         'ransomwaregroup': 120,\n",
       "         'covid': 120,\n",
       "         'compliance': 120,\n",
       "         'id/': 120,\n",
       "         'advanced': 119,\n",
       "         'thirds': 119,\n",
       "         'little': 119,\n",
       "         'cyberintelligence': 119,\n",
       "         'sanctions': 119,\n",
       "         'mail': 119,\n",
       "         'bridgestone': 119,\n",
       "         '419fraud': 119,\n",
       "         'apt': 118,\n",
       "         'staff': 118,\n",
       "         'practices': 118,\n",
       "         'restore': 118,\n",
       "         'employee': 118,\n",
       "         'makes': 118,\n",
       "         'agencies': 118,\n",
       "         'review': 117,\n",
       "         'uniswap': 117,\n",
       "         'mails': 116,\n",
       "         'average': 116,\n",
       "         'calls': 116,\n",
       "         'brand': 116,\n",
       "         'dangerous': 116,\n",
       "         'blacklisted': 116,\n",
       "         'operators': 115,\n",
       "         'mean': 115,\n",
       "         'record': 115,\n",
       "         'china': 115,\n",
       "         'wo': 115,\n",
       "         'pro': 115,\n",
       "         'nso': 115,\n",
       "         'file': 114,\n",
       "         'landscape': 114,\n",
       "         'india': 114,\n",
       "         'highlights': 114,\n",
       "         'cybersecurityawareness': 114,\n",
       "         'block': 114,\n",
       "         'thought': 114,\n",
       "         'defend': 113,\n",
       "         'mer2022': 113,\n",
       "         'program': 113,\n",
       "         'prepare': 113,\n",
       "         'israeli': 113,\n",
       "         'heard': 113,\n",
       "         'needs': 113,\n",
       "         'e': 113,\n",
       "         '✅': 113,\n",
       "         'anonymous': 113,\n",
       "         'gdpr': 112,\n",
       "         'episode': 112,\n",
       "         'professional': 112,\n",
       "         'ago': 112,\n",
       "         'qnap': 112,\n",
       "         'podcast': 111,\n",
       "         '12': 111,\n",
       "         'costs': 111,\n",
       "         'profile': 111,\n",
       "         'increasing': 111,\n",
       "         'set': 111,\n",
       "         'spread': 111,\n",
       "         'sentenced': 111,\n",
       "         'actor': 111,\n",
       "         'level': 111,\n",
       "         'speed': 111,\n",
       "         'saying': 111,\n",
       "         'posted': 111,\n",
       "         'hours': 111,\n",
       "         'seth': 111,\n",
       "         'carolina': 110,\n",
       "         'started': 110,\n",
       "         'true': 110,\n",
       "         'riskigy': 110,\n",
       "         'osint': 110,\n",
       "         '1.5': 110,\n",
       "         'took': 109,\n",
       "         'missing': 109,\n",
       "         'honest': 109,\n",
       "         'building': 109,\n",
       "         'added': 109,\n",
       "         'designed': 109,\n",
       "         'treasury': 109,\n",
       "         'spot': 109,\n",
       "         '_': 109,\n",
       "         'published': 109,\n",
       "         'u': 109,\n",
       "         'daily': 109,\n",
       "         'mer': 108,\n",
       "         'conference': 108,\n",
       "         'crowdstrike': 108,\n",
       "         'bot': 108,\n",
       "         'june': 108,\n",
       "         'sending': 108,\n",
       "         'ZDNet': 107,\n",
       "         'reduce': 107,\n",
       "         'page': 107,\n",
       "         'power': 107,\n",
       "         'visit': 107,\n",
       "         'internal': 107,\n",
       "         'industrial': 107,\n",
       "         'sorry': 107,\n",
       "         'discloses': 107,\n",
       "         '13': 107,\n",
       "         'led': 106,\n",
       "         'biden': 106,\n",
       "         'multi': 106,\n",
       "         'continues': 106,\n",
       "         'hi': 106,\n",
       "         'storage': 105,\n",
       "         'head': 105,\n",
       "         'campaigns': 105,\n",
       "         'cyberthreat': 105,\n",
       "         'cybermethod': 105,\n",
       "         'provide': 105,\n",
       "         'rat': 105,\n",
       "         'history': 105,\n",
       "         'documents': 105,\n",
       "         'cto': 105,\n",
       "         'spear': 105,\n",
       "         'ot': 105,\n",
       "         'igpractitioners': 104,\n",
       "         'recordsmanagers': 104,\n",
       "         'offer': 104,\n",
       "         'damage': 104,\n",
       "         'sign': 104,\n",
       "         'problems': 104,\n",
       "         'chat': 104,\n",
       "         'estonian': 104,\n",
       "         'sponsored': 103,\n",
       "         'weeks': 103,\n",
       "         'run': 103,\n",
       "         'teams': 103,\n",
       "         'questions': 103,\n",
       "         'space': 103,\n",
       "         'advisory': 103,\n",
       "         'build': 102,\n",
       "         'protected': 102,\n",
       "         'assets': 102,\n",
       "         'party': 102,\n",
       "         'change': 102,\n",
       "         'surveillance': 102,\n",
       "         'publisher': 102,\n",
       "         'discuss': 101,\n",
       "         'goes': 101,\n",
       "         'd': 101,\n",
       "         'finance': 101,\n",
       "         'firms': 100,\n",
       "         'interesting': 100,\n",
       "         'fin7': 100,\n",
       "         'cybersecuritynews': 100,\n",
       "         'arrested': 100,\n",
       "         'suspected': 100,\n",
       "         'eth': 100,\n",
       "         'ring': 100,\n",
       "         'a&amp;t': 99,\n",
       "         'advantage': 99,\n",
       "         'trump': 99,\n",
       "         'hard': 99,\n",
       "         'numbers': 99,\n",
       "         'hits': 99,\n",
       "         'notorious': 99,\n",
       "         'order': 99,\n",
       "         '🤣': 99,\n",
       "         'save': 98,\n",
       "         'resiliency': 98,\n",
       "         'play': 98,\n",
       "         'revil': 98,\n",
       "         'cio': 98,\n",
       "         'investigation': 98,\n",
       "         'brain': 98,\n",
       "         'suspicious': 98,\n",
       "         'smartnews': 98,\n",
       "         '29': 98,\n",
       "         'helping': 97,\n",
       "         'immediately': 97,\n",
       "         'credit': 97,\n",
       "         'bleepingcomputer': 97,\n",
       "         'white': 97,\n",
       "         'warn': 97,\n",
       "         'shit': 97,\n",
       "         'toyota': 97,\n",
       "         'endpoint': 96,\n",
       "         'ready': 96,\n",
       "         'forward': 96,\n",
       "         'legal': 96,\n",
       "         'guys': 96,\n",
       "         'caused': 96,\n",
       "         'worried': 96,\n",
       "         'tiktok': 95,\n",
       "         'hear': 95,\n",
       "         'remain': 95,\n",
       "         'safety': 95,\n",
       "         'deal': 95,\n",
       "         'partners': 94,\n",
       "         'running': 94,\n",
       "         'sell': 94,\n",
       "         'officials': 94,\n",
       "         'lol': 94,\n",
       "         'quickly': 93,\n",
       "         'ahead': 93,\n",
       "         'includes': 93,\n",
       "         'second': 93,\n",
       "         'exploited': 93,\n",
       "         '\\u200d': 93,\n",
       "         'detected': 93,\n",
       "         'losses': 93,\n",
       "         'exetlos': 93,\n",
       "         'rural': 93,\n",
       "         'wallets': 93,\n",
       "         'leading': 93,\n",
       "         'gain': 93,\n",
       "         'addresses': 93,\n",
       "         'quickbooks': 93,\n",
       "         'shares': 92,\n",
       "         'session': 92,\n",
       "         'food': 92,\n",
       "         'updates': 92,\n",
       "         'question': 92,\n",
       "         'president': 92,\n",
       "         'process': 92,\n",
       "         'oh': 92,\n",
       "         'stealing': 92,\n",
       "         'suffered': 92,\n",
       "         'close': 92,\n",
       "         '➡': 92,\n",
       "         'official': 92,\n",
       "         'infogov': 91,\n",
       "         'amazon': 91,\n",
       "         'partner': 91,\n",
       "         'impacted': 91,\n",
       "         'antivirus': 91,\n",
       "         'act': 91,\n",
       "         'fact': 91,\n",
       "         'buy': 91,\n",
       "         'county': 91,\n",
       "         'exclusive': 90,\n",
       "         'medical': 90,\n",
       "         'matter': 90,\n",
       "         'united': 90,\n",
       "         'energy': 90,\n",
       "         'super': 90,\n",
       "         'include': 90,\n",
       "         'single': 90,\n",
       "         'told': 90,\n",
       "         'canada': 90,\n",
       "         'monitoring': 90,\n",
       "         'members': 90,\n",
       "         '66': 90,\n",
       "         'store': 90,\n",
       "         'rights': 90,\n",
       "         'hey': 90,\n",
       "         'add': 89,\n",
       "         'trick': 89,\n",
       "         'focus': 89,\n",
       "         'soon': 89,\n",
       "         'pc': 89,\n",
       "         'especially': 89,\n",
       "         'dataprivacy': 88,\n",
       "         'listen': 88,\n",
       "         'application': 88,\n",
       "         'initial': 88,\n",
       "         'line': 88,\n",
       "         'forced': 88,\n",
       "         'pre': 88,\n",
       "         'falling': 88,\n",
       "         'non': 88,\n",
       "         'follina': 88,\n",
       "         'cohesity': 87,\n",
       "         '30': 87,\n",
       "         '18': 87,\n",
       "         'saw': 87,\n",
       "         'survey': 87,\n",
       "         'capabilities': 87,\n",
       "         'corporate': 87,\n",
       "         'cases': 87,\n",
       "         'enterprises': 87,\n",
       "         's': 87,\n",
       "         'activists': 87,\n",
       "         'wanted': 87,\n",
       "         'exposed': 86,\n",
       "         'lives': 86,\n",
       "         '42': 86,\n",
       "         'versions': 86,\n",
       "         'date': 86,\n",
       "         'features': 86,\n",
       "         'product': 86,\n",
       "         'warned': 86,\n",
       "         'ensure': 86,\n",
       "         'college': 86,\n",
       "         'unprecedented': 86,\n",
       "         'discover': 86,\n",
       "         'causing': 86,\n",
       "         'release': 86,\n",
       "         'currency': 86,\n",
       "         'denial': 86,\n",
       "         'longer': 86,\n",
       "         'threatpost': 86,\n",
       "         'vmware': 86,\n",
       "         'fell': 86,\n",
       "         'records': 85,\n",
       "         'identify': 85,\n",
       "         '50': 85,\n",
       "         'techrepublic': 85,\n",
       "         'policy': 85,\n",
       "         'games': 85,\n",
       "         'tweet': 85,\n",
       "         'measures': 84,\n",
       "         'robloxseries': 84,\n",
       "         'surface': 84,\n",
       "         'entities': 84,\n",
       "         'gov': 84,\n",
       "         'gb': 84,\n",
       "         'attention': 84,\n",
       "         'era': 84,\n",
       "         'center': 84,\n",
       "         'bec': 84,\n",
       "         'thousands': 84,\n",
       "         'instead': 84,\n",
       "         'panasonic': 84,\n",
       "         'half': 83,\n",
       "         '365': 83,\n",
       "         'reason': 83,\n",
       "         'education': 83,\n",
       "         'tuesday': 83,\n",
       "         ...})"
      ]
     },
     "execution_count": 20,
     "metadata": {},
     "output_type": "execute_result"
    }
   ],
   "source": [
    "word_counts"
   ]
  },
  {
   "cell_type": "code",
   "execution_count": 21,
   "metadata": {},
   "outputs": [],
   "source": [
    "top_50_words = word_counts.most_common(50)"
   ]
  },
  {
   "cell_type": "code",
   "execution_count": 22,
   "metadata": {},
   "outputs": [
    {
     "data": {
      "text/plain": [
       "[('ransomware', 21196),\n",
       " ('phishing', 8867),\n",
       " ('cybersecurity', 8270),\n",
       " ('malware', 5694),\n",
       " ('attack', 4951),\n",
       " ('hacking', 4923),\n",
       " ('infosec', 4911),\n",
       " ('cyberattack', 4373),\n",
       " ('security', 3996),\n",
       " ('attacks', 3504),\n",
       " ('threatintel', 3343),\n",
       " ('infosecurity', 3255),\n",
       " ('cloudcomputing', 3214),\n",
       " ('cloudsecurity', 3212),\n",
       " ('threatintelligence', 3203),\n",
       " ('cybernews', 3177),\n",
       " ('devops', 3164),\n",
       " ('threathunting', 3163),\n",
       " ('dfir', 3160),\n",
       " ('data', 3109),\n",
       " (' ', 2655),\n",
       " ('new', 2224),\n",
       " ('hacked', 2196),\n",
       " ('cyber', 2133),\n",
       " ('amp', 1865),\n",
       " ('spyware', 1807),\n",
       " ('threat', 1475),\n",
       " ('email', 1418),\n",
       " ('report', 1392),\n",
       " ('group', 1373),\n",
       " ('scam', 1328),\n",
       " ('like', 1296),\n",
       " ('hackers', 1239),\n",
       " ('\\xa0 ', 1170),\n",
       " ('read', 1142),\n",
       " ('hit', 1139),\n",
       " ('conti', 1114),\n",
       " ('cybercrime', 1103),\n",
       " ('business', 1096),\n",
       " ('account', 1051),\n",
       " ('learn', 1050),\n",
       " ('2022', 989),\n",
       " ('cyberattacks', 982),\n",
       " ('help', 981),\n",
       " ('hacker', 954),\n",
       " ('facebookdown', 931),\n",
       " ('know', 925),\n",
       " ('organizations', 915),\n",
       " ('gang', 908),\n",
       " ('need', 899)]"
      ]
     },
     "execution_count": 22,
     "metadata": {},
     "output_type": "execute_result"
    }
   ],
   "source": [
    "top_50_words"
   ]
  },
  {
   "cell_type": "code",
   "execution_count": 23,
   "metadata": {},
   "outputs": [],
   "source": [
    "top_20_words = word_counts.most_common(20)"
   ]
  },
  {
   "cell_type": "code",
   "execution_count": 24,
   "metadata": {},
   "outputs": [
    {
     "data": {
      "text/plain": [
       "[('ransomware', 21196),\n",
       " ('phishing', 8867),\n",
       " ('cybersecurity', 8270),\n",
       " ('malware', 5694),\n",
       " ('attack', 4951),\n",
       " ('hacking', 4923),\n",
       " ('infosec', 4911),\n",
       " ('cyberattack', 4373),\n",
       " ('security', 3996),\n",
       " ('attacks', 3504),\n",
       " ('threatintel', 3343),\n",
       " ('infosecurity', 3255),\n",
       " ('cloudcomputing', 3214),\n",
       " ('cloudsecurity', 3212),\n",
       " ('threatintelligence', 3203),\n",
       " ('cybernews', 3177),\n",
       " ('devops', 3164),\n",
       " ('threathunting', 3163),\n",
       " ('dfir', 3160),\n",
       " ('data', 3109)]"
      ]
     },
     "execution_count": 24,
     "metadata": {},
     "output_type": "execute_result"
    }
   ],
   "source": [
    "top_20_words"
   ]
  },
  {
   "cell_type": "code",
   "execution_count": 25,
   "metadata": {},
   "outputs": [],
   "source": [
    "X = []\n",
    "Y = []\n",
    "for tuple in top_20_words:\n",
    "    X.append(tuple[0])\n",
    "    Y.append(tuple[1])"
   ]
  },
  {
   "cell_type": "code",
   "execution_count": 26,
   "metadata": {},
   "outputs": [
    {
     "data": {
      "text/plain": [
       "(['ransomware',\n",
       "  'phishing',\n",
       "  'cybersecurity',\n",
       "  'malware',\n",
       "  'attack',\n",
       "  'hacking',\n",
       "  'infosec',\n",
       "  'cyberattack',\n",
       "  'security',\n",
       "  'attacks',\n",
       "  'threatintel',\n",
       "  'infosecurity',\n",
       "  'cloudcomputing',\n",
       "  'cloudsecurity',\n",
       "  'threatintelligence',\n",
       "  'cybernews',\n",
       "  'devops',\n",
       "  'threathunting',\n",
       "  'dfir',\n",
       "  'data'],\n",
       " [21196,\n",
       "  8867,\n",
       "  8270,\n",
       "  5694,\n",
       "  4951,\n",
       "  4923,\n",
       "  4911,\n",
       "  4373,\n",
       "  3996,\n",
       "  3504,\n",
       "  3343,\n",
       "  3255,\n",
       "  3214,\n",
       "  3212,\n",
       "  3203,\n",
       "  3177,\n",
       "  3164,\n",
       "  3163,\n",
       "  3160,\n",
       "  3109])"
      ]
     },
     "execution_count": 26,
     "metadata": {},
     "output_type": "execute_result"
    }
   ],
   "source": [
    "X,Y"
   ]
  },
  {
   "cell_type": "code",
   "execution_count": 27,
   "metadata": {},
   "outputs": [
    {
     "data": {
      "text/plain": [
       "20"
      ]
     },
     "execution_count": 27,
     "metadata": {},
     "output_type": "execute_result"
    }
   ],
   "source": [
    "len(X)"
   ]
  },
  {
   "cell_type": "code",
   "execution_count": 28,
   "metadata": {},
   "outputs": [
    {
     "data": {
      "image/png": "[encoded data removed]",
      "text/plain": [
       "<Figure size 1500x3000 with 1 Axes>"
      ]
     },
     "metadata": {},
     "output_type": "display_data"
    }
   ],
   "source": [
    "\n",
    "fig, ax = plt.subplots(figsize=(15, 30))\n",
    "sns.barplot(x=Y, y=X, ax=ax, orient='h') \n",
    "for i, value in enumerate(Y):\n",
    "    ax.text(value + 0.5, i, str(value), va='center')\n",
    "plt.tight_layout()"
   ]
  },
  {
   "cell_type": "code",
   "execution_count": 29,
   "metadata": {},
   "outputs": [],
   "source": [
    "\n",
    "words = dict(top_50_words)"
   ]
  },
  {
   "cell_type": "code",
   "execution_count": 30,
   "metadata": {},
   "outputs": [
    {
     "data": {
      "image/png": "[encoded data removed]",
      "text/plain": [
       "<Figure size 1000x500 with 1 Axes>"
      ]
     },
     "metadata": {},
     "output_type": "display_data"
    }
   ],
   "source": [
    "#word Cloud with top 50 words\n",
    "wordcloud = WordCloud(width=800, height=400, background_color='white', colormap='viridis').generate_from_frequencies(words)\n",
    "plt.figure(figsize=(10, 5))\n",
    "plt.imshow(wordcloud, interpolation='bilinear')\n",
    "plt.axis('off')  \n",
    "plt.show()\n"
   ]
  },
  {
   "cell_type": "code",
   "execution_count": 2,
   "metadata": {},
   "outputs": [],
   "source": [
    "result = pd.read_csv('D:\\\\NLP\\\\project\\\\result.csv')"
   ]
  },
  {
   "cell_type": "code",
   "execution_count": 3,
   "metadata": {},
   "outputs": [
    {
     "data": {
      "text/html": [
       "<div>\n",
       "<style scoped>\n",
       "    .dataframe tbody tr th:only-of-type {\n",
       "        vertical-align: middle;\n",
       "    }\n",
       "\n",
       "    .dataframe tbody tr th {\n",
       "        vertical-align: top;\n",
       "    }\n",
       "\n",
       "    .dataframe thead th {\n",
       "        text-align: right;\n",
       "    }\n",
       "</style>\n",
       "<table border=\"1\" class=\"dataframe\">\n",
       "  <thead>\n",
       "    <tr style=\"text-align: right;\">\n",
       "      <th></th>\n",
       "      <th>models</th>\n",
       "      <th>ngrams</th>\n",
       "      <th>Text_vectorization</th>\n",
       "      <th>accuracy_score</th>\n",
       "      <th>precision_score</th>\n",
       "      <th>f1_score</th>\n",
       "      <th>recall_score</th>\n",
       "    </tr>\n",
       "  </thead>\n",
       "  <tbody>\n",
       "    <tr>\n",
       "      <th>0</th>\n",
       "      <td>SVM</td>\n",
       "      <td>(1,3)</td>\n",
       "      <td>BOW(CountVectorizer)</td>\n",
       "      <td>0.972</td>\n",
       "      <td>0.971504</td>\n",
       "      <td>0.971576</td>\n",
       "      <td>0.971729</td>\n",
       "    </tr>\n",
       "    <tr>\n",
       "      <th>1</th>\n",
       "      <td>Logistic Regression</td>\n",
       "      <td>(1,3)</td>\n",
       "      <td>BOW(CountVectorizer)</td>\n",
       "      <td>0.974</td>\n",
       "      <td>0.973661</td>\n",
       "      <td>0.973806</td>\n",
       "      <td>0.974224</td>\n",
       "    </tr>\n",
       "    <tr>\n",
       "      <th>2</th>\n",
       "      <td>Decision Tree</td>\n",
       "      <td>(1,3)</td>\n",
       "      <td>BOW(CountVectorizer)</td>\n",
       "      <td>0.959</td>\n",
       "      <td>0.958678</td>\n",
       "      <td>0.958706</td>\n",
       "      <td>0.958841</td>\n",
       "    </tr>\n",
       "    <tr>\n",
       "      <th>3</th>\n",
       "      <td>Naive Bayes</td>\n",
       "      <td>(1,3)</td>\n",
       "      <td>BOW(CountVectorizer)</td>\n",
       "      <td>0.966</td>\n",
       "      <td>0.965154</td>\n",
       "      <td>0.964973</td>\n",
       "      <td>0.965771</td>\n",
       "    </tr>\n",
       "    <tr>\n",
       "      <th>4</th>\n",
       "      <td>KNN</td>\n",
       "      <td>(1,3)</td>\n",
       "      <td>BOW(CountVectorizer)</td>\n",
       "      <td>0.947</td>\n",
       "      <td>0.945166</td>\n",
       "      <td>0.941961</td>\n",
       "      <td>0.946924</td>\n",
       "    </tr>\n",
       "  </tbody>\n",
       "</table>\n",
       "</div>"
      ],
      "text/plain": [
       "                models ngrams    Text_vectorization  accuracy_score  \\\n",
       "0                  SVM  (1,3)  BOW(CountVectorizer)           0.972   \n",
       "1  Logistic Regression  (1,3)  BOW(CountVectorizer)           0.974   \n",
       "2        Decision Tree  (1,3)  BOW(CountVectorizer)           0.959   \n",
       "3          Naive Bayes  (1,3)  BOW(CountVectorizer)           0.966   \n",
       "4                  KNN  (1,3)  BOW(CountVectorizer)           0.947   \n",
       "\n",
       "   precision_score  f1_score  recall_score  \n",
       "0         0.971504  0.971576      0.971729  \n",
       "1         0.973661  0.973806      0.974224  \n",
       "2         0.958678  0.958706      0.958841  \n",
       "3         0.965154  0.964973      0.965771  \n",
       "4         0.945166  0.941961      0.946924  "
      ]
     },
     "execution_count": 3,
     "metadata": {},
     "output_type": "execute_result"
    }
   ],
   "source": [
    "result.head()"
   ]
  },
  {
   "cell_type": "code",
   "execution_count": 4,
   "metadata": {},
   "outputs": [],
   "source": [
    "result = result.sort_values(by='accuracy_score')\n",
    "x =  result['models']+\" \"+result['ngrams']+\" \"+result['Text_vectorization']"
   ]
  },
  {
   "cell_type": "code",
   "execution_count": 5,
   "metadata": {},
   "outputs": [
    {
     "data": {
      "application/vnd.plotly.v1+json": {
       "config": {
        "plotlyServerURL": "https://plot.ly"
       },
       "data": [
        {
         "hovertemplate": "models=%{x}<br>accuracy=%{y}<extra></extra>",
         "legendgroup": "",
         "line": {
          "color": "#636efa",
          "dash": "solid"
         },
         "marker": {
          "symbol": "circle"
         },
         "mode": "lines+markers",
         "name": "",
         "orientation": "v",
         "showlegend": false,
         "type": "scatter",
         "x": [
          "Naive Bayes default TF-IDF",
          "Naive Bayes (1,2) TF-IDF",
          "Naive Bayes (1,3) TF-IDF",
          "KNN (1,3) TF-IDF",
          "KNN (1,2) TF-IDF",
          "KNN default TF-IDF",
          "KNN (1,3) BOW(CountVectorizer)",
          "Decision Tree (1,2) TF-IDF",
          "Decision Tree (1,3) TF-IDF",
          "KNN (1,2) BOW(CountVectorizer)",
          "Decision Tree default TF-IDF",
          "Naive Bayes default BOW(CountVectorizer)",
          "Decision Tree default BOW(CountVectorizer)",
          "KNN default BOW(CountVectorizer)",
          "Decision Tree (1,2) BOW(CountVectorizer)",
          "Decision Tree (1,3) BOW(CountVectorizer)",
          "Naive Bayes (1,2) BOW(CountVectorizer)",
          "Naive Bayes (1,3) BOW(CountVectorizer)",
          "Logistic Regression (1,3) TF-IDF",
          "Logistic Regression (1,2) TF-IDF",
          "SVM default BOW(CountVectorizer)",
          "Logistic Regression default TF-IDF",
          "SVM (1,3) TF-IDF",
          "SVM (1,2) BOW(CountVectorizer)",
          "SVM default TF-IDF",
          "SVM (1,3) BOW(CountVectorizer)",
          "SVM (1,2) TF-IDF",
          "Logistic Regression default BOW(CountVectorizer)",
          "Logistic Regression (1,3) BOW(CountVectorizer)",
          "Logistic Regression (1,2) BOW(CountVectorizer)"
         ],
         "xaxis": "x",
         "y": [
          0.914,
          0.931,
          0.937,
          0.94,
          0.942,
          0.947,
          0.947,
          0.949,
          0.949,
          0.951,
          0.951,
          0.952,
          0.955,
          0.957,
          0.959,
          0.959,
          0.965,
          0.966,
          0.967,
          0.969,
          0.969,
          0.969,
          0.97,
          0.971,
          0.972,
          0.972,
          0.972,
          0.974,
          0.974,
          0.974
         ],
         "yaxis": "y"
        }
       ],
       "layout": {
        "legend": {
         "tracegroupgap": 0
        },
        "template": {
         "data": {
          "bar": [
           {
            "error_x": {
             "color": "#2a3f5f"
            },
            "error_y": {
             "color": "#2a3f5f"
            },
            "marker": {
             "line": {
              "color": "#E5ECF6",
              "width": 0.5
             },
             "pattern": {
              "fillmode": "overlay",
              "size": 10,
              "solidity": 0.2
             }
            },
            "type": "bar"
           }
          ],
          "barpolar": [
           {
            "marker": {
             "line": {
              "color": "#E5ECF6",
              "width": 0.5
             },
             "pattern": {
              "fillmode": "overlay",
              "size": 10,
              "solidity": 0.2
             }
            },
            "type": "barpolar"
           }
          ],
          "carpet": [
           {
            "aaxis": {
             "endlinecolor": "#2a3f5f",
             "gridcolor": "white",
             "linecolor": "white",
             "minorgridcolor": "white",
             "startlinecolor": "#2a3f5f"
            },
            "baxis": {
             "endlinecolor": "#2a3f5f",
             "gridcolor": "white",
             "linecolor": "white",
             "minorgridcolor": "white",
             "startlinecolor": "#2a3f5f"
            },
            "type": "carpet"
           }
          ],
          "choropleth": [
           {
            "colorbar": {
             "outlinewidth": 0,
             "ticks": ""
            },
            "type": "choropleth"
           }
          ],
          "contour": [
           {
            "colorbar": {
             "outlinewidth": 0,
             "ticks": ""
            },
            "colorscale": [
             [
              0,
              "#0d0887"
             ],
             [
              0.1111111111111111,
              "#46039f"
             ],
             [
              0.2222222222222222,
              "#7201a8"
             ],
             [
              0.3333333333333333,
              "#9c179e"
             ],
             [
              0.4444444444444444,
              "#bd3786"
             ],
             [
              0.5555555555555556,
              "#d8576b"
             ],
             [
              0.6666666666666666,
              "#ed7953"
             ],
             [
              0.7777777777777778,
              "#fb9f3a"
             ],
             [
              0.8888888888888888,
              "#fdca26"
             ],
             [
              1,
              "#f0f921"
             ]
            ],
            "type": "contour"
           }
          ],
          "contourcarpet": [
           {
            "colorbar": {
             "outlinewidth": 0,
             "ticks": ""
            },
            "type": "contourcarpet"
           }
          ],
          "heatmap": [
           {
            "colorbar": {
             "outlinewidth": 0,
             "ticks": ""
            },
            "colorscale": [
             [
              0,
              "#0d0887"
             ],
             [
              0.1111111111111111,
              "#46039f"
             ],
             [
              0.2222222222222222,
              "#7201a8"
             ],
             [
              0.3333333333333333,
              "#9c179e"
             ],
             [
              0.4444444444444444,
              "#bd3786"
             ],
             [
              0.5555555555555556,
              "#d8576b"
             ],
             [
              0.6666666666666666,
              "#ed7953"
             ],
             [
              0.7777777777777778,
              "#fb9f3a"
             ],
             [
              0.8888888888888888,
              "#fdca26"
             ],
             [
              1,
              "#f0f921"
             ]
            ],
            "type": "heatmap"
           }
          ],
          "heatmapgl": [
           {
            "colorbar": {
             "outlinewidth": 0,
             "ticks": ""
            },
            "colorscale": [
             [
              0,
              "#0d0887"
             ],
             [
              0.1111111111111111,
              "#46039f"
             ],
             [
              0.2222222222222222,
              "#7201a8"
             ],
             [
              0.3333333333333333,
              "#9c179e"
             ],
             [
              0.4444444444444444,
              "#bd3786"
             ],
             [
              0.5555555555555556,
              "#d8576b"
             ],
             [
              0.6666666666666666,
              "#ed7953"
             ],
             [
              0.7777777777777778,
              "#fb9f3a"
             ],
             [
              0.8888888888888888,
              "#fdca26"
             ],
             [
              1,
              "#f0f921"
             ]
            ],
            "type": "heatmapgl"
           }
          ],
          "histogram": [
           {
            "marker": {
             "pattern": {
              "fillmode": "overlay",
              "size": 10,
              "solidity": 0.2
             }
            },
            "type": "histogram"
           }
          ],
          "histogram2d": [
           {
            "colorbar": {
             "outlinewidth": 0,
             "ticks": ""
            },
            "colorscale": [
             [
              0,
              "#0d0887"
             ],
             [
              0.1111111111111111,
              "#46039f"
             ],
             [
              0.2222222222222222,
              "#7201a8"
             ],
             [
              0.3333333333333333,
              "#9c179e"
             ],
             [
              0.4444444444444444,
              "#bd3786"
             ],
             [
              0.5555555555555556,
              "#d8576b"
             ],
             [
              0.6666666666666666,
              "#ed7953"
             ],
             [
              0.7777777777777778,
              "#fb9f3a"
             ],
             [
              0.8888888888888888,
              "#fdca26"
             ],
             [
              1,
              "#f0f921"
             ]
            ],
            "type": "histogram2d"
           }
          ],
          "histogram2dcontour": [
           {
            "colorbar": {
             "outlinewidth": 0,
             "ticks": ""
            },
            "colorscale": [
             [
              0,
              "#0d0887"
             ],
             [
              0.1111111111111111,
              "#46039f"
             ],
             [
              0.2222222222222222,
              "#7201a8"
             ],
             [
              0.3333333333333333,
              "#9c179e"
             ],
             [
              0.4444444444444444,
              "#bd3786"
             ],
             [
              0.5555555555555556,
              "#d8576b"
             ],
             [
              0.6666666666666666,
              "#ed7953"
             ],
             [
              0.7777777777777778,
              "#fb9f3a"
             ],
             [
              0.8888888888888888,
              "#fdca26"
             ],
             [
              1,
              "#f0f921"
             ]
            ],
            "type": "histogram2dcontour"
           }
          ],
          "mesh3d": [
           {
            "colorbar": {
             "outlinewidth": 0,
             "ticks": ""
            },
            "type": "mesh3d"
           }
          ],
          "parcoords": [
           {
            "line": {
             "colorbar": {
              "outlinewidth": 0,
              "ticks": ""
             }
            },
            "type": "parcoords"
           }
          ],
          "pie": [
           {
            "automargin": true,
            "type": "pie"
           }
          ],
          "scatter": [
           {
            "fillpattern": {
             "fillmode": "overlay",
             "size": 10,
             "solidity": 0.2
            },
            "type": "scatter"
           }
          ],
          "scatter3d": [
           {
            "line": {
             "colorbar": {
              "outlinewidth": 0,
              "ticks": ""
             }
            },
            "marker": {
             "colorbar": {
              "outlinewidth": 0,
              "ticks": ""
             }
            },
            "type": "scatter3d"
           }
          ],
          "scattercarpet": [
           {
            "marker": {
             "colorbar": {
              "outlinewidth": 0,
              "ticks": ""
             }
            },
            "type": "scattercarpet"
           }
          ],
          "scattergeo": [
           {
            "marker": {
             "colorbar": {
              "outlinewidth": 0,
              "ticks": ""
             }
            },
            "type": "scattergeo"
           }
          ],
          "scattergl": [
           {
            "marker": {
             "colorbar": {
              "outlinewidth": 0,
              "ticks": ""
             }
            },
            "type": "scattergl"
           }
          ],
          "scattermapbox": [
           {
            "marker": {
             "colorbar": {
              "outlinewidth": 0,
              "ticks": ""
             }
            },
            "type": "scattermapbox"
           }
          ],
          "scatterpolar": [
           {
            "marker": {
             "colorbar": {
              "outlinewidth": 0,
              "ticks": ""
             }
            },
            "type": "scatterpolar"
           }
          ],
          "scatterpolargl": [
           {
            "marker": {
             "colorbar": {
              "outlinewidth": 0,
              "ticks": ""
             }
            },
            "type": "scatterpolargl"
           }
          ],
          "scatterternary": [
           {
            "marker": {
             "colorbar": {
              "outlinewidth": 0,
              "ticks": ""
             }
            },
            "type": "scatterternary"
           }
          ],
          "surface": [
           {
            "colorbar": {
             "outlinewidth": 0,
             "ticks": ""
            },
            "colorscale": [
             [
              0,
              "#0d0887"
             ],
             [
              0.1111111111111111,
              "#46039f"
             ],
             [
              0.2222222222222222,
              "#7201a8"
             ],
             [
              0.3333333333333333,
              "#9c179e"
             ],
             [
              0.4444444444444444,
              "#bd3786"
             ],
             [
              0.5555555555555556,
              "#d8576b"
             ],
             [
              0.6666666666666666,
              "#ed7953"
             ],
             [
              0.7777777777777778,
              "#fb9f3a"
             ],
             [
              0.8888888888888888,
              "#fdca26"
             ],
             [
              1,
              "#f0f921"
             ]
            ],
            "type": "surface"
           }
          ],
          "table": [
           {
            "cells": {
             "fill": {
              "color": "#EBF0F8"
             },
             "line": {
              "color": "white"
             }
            },
            "header": {
             "fill": {
              "color": "#C8D4E3"
             },
             "line": {
              "color": "white"
             }
            },
            "type": "table"
           }
          ]
         },
         "layout": {
          "annotationdefaults": {
           "arrowcolor": "#2a3f5f",
           "arrowhead": 0,
           "arrowwidth": 1
          },
          "autotypenumbers": "strict",
          "coloraxis": {
           "colorbar": {
            "outlinewidth": 0,
            "ticks": ""
           }
          },
          "colorscale": {
           "diverging": [
            [
             0,
             "#8e0152"
            ],
            [
             0.1,
             "#c51b7d"
            ],
            [
             0.2,
             "#de77ae"
            ],
            [
             0.3,
             "#f1b6da"
            ],
            [
             0.4,
             "#fde0ef"
            ],
            [
             0.5,
             "#f7f7f7"
            ],
            [
             0.6,
             "#e6f5d0"
            ],
            [
             0.7,
             "#b8e186"
            ],
            [
             0.8,
             "#7fbc41"
            ],
            [
             0.9,
             "#4d9221"
            ],
            [
             1,
             "#276419"
            ]
           ],
           "sequential": [
            [
             0,
             "#0d0887"
            ],
            [
             0.1111111111111111,
             "#46039f"
            ],
            [
             0.2222222222222222,
             "#7201a8"
            ],
            [
             0.3333333333333333,
             "#9c179e"
            ],
            [
             0.4444444444444444,
             "#bd3786"
            ],
            [
             0.5555555555555556,
             "#d8576b"
            ],
            [
             0.6666666666666666,
             "#ed7953"
            ],
            [
             0.7777777777777778,
             "#fb9f3a"
            ],
            [
             0.8888888888888888,
             "#fdca26"
            ],
            [
             1,
             "#f0f921"
            ]
           ],
           "sequentialminus": [
            [
             0,
             "#0d0887"
            ],
            [
             0.1111111111111111,
             "#46039f"
            ],
            [
             0.2222222222222222,
             "#7201a8"
            ],
            [
             0.3333333333333333,
             "#9c179e"
            ],
            [
             0.4444444444444444,
             "#bd3786"
            ],
            [
             0.5555555555555556,
             "#d8576b"
            ],
            [
             0.6666666666666666,
             "#ed7953"
            ],
            [
             0.7777777777777778,
             "#fb9f3a"
            ],
            [
             0.8888888888888888,
             "#fdca26"
            ],
            [
             1,
             "#f0f921"
            ]
           ]
          },
          "colorway": [
           "#636efa",
           "#EF553B",
           "#00cc96",
           "#ab63fa",
           "#FFA15A",
           "#19d3f3",
           "#FF6692",
           "#B6E880",
           "#FF97FF",
           "#FECB52"
          ],
          "font": {
           "color": "#2a3f5f"
          },
          "geo": {
           "bgcolor": "white",
           "lakecolor": "white",
           "landcolor": "#E5ECF6",
           "showlakes": true,
           "showland": true,
           "subunitcolor": "white"
          },
          "hoverlabel": {
           "align": "left"
          },
          "hovermode": "closest",
          "mapbox": {
           "style": "light"
          },
          "paper_bgcolor": "white",
          "plot_bgcolor": "#E5ECF6",
          "polar": {
           "angularaxis": {
            "gridcolor": "white",
            "linecolor": "white",
            "ticks": ""
           },
           "bgcolor": "#E5ECF6",
           "radialaxis": {
            "gridcolor": "white",
            "linecolor": "white",
            "ticks": ""
           }
          },
          "scene": {
           "xaxis": {
            "backgroundcolor": "#E5ECF6",
            "gridcolor": "white",
            "gridwidth": 2,
            "linecolor": "white",
            "showbackground": true,
            "ticks": "",
            "zerolinecolor": "white"
           },
           "yaxis": {
            "backgroundcolor": "#E5ECF6",
            "gridcolor": "white",
            "gridwidth": 2,
            "linecolor": "white",
            "showbackground": true,
            "ticks": "",
            "zerolinecolor": "white"
           },
           "zaxis": {
            "backgroundcolor": "#E5ECF6",
            "gridcolor": "white",
            "gridwidth": 2,
            "linecolor": "white",
            "showbackground": true,
            "ticks": "",
            "zerolinecolor": "white"
           }
          },
          "shapedefaults": {
           "line": {
            "color": "#2a3f5f"
           }
          },
          "ternary": {
           "aaxis": {
            "gridcolor": "white",
            "linecolor": "white",
            "ticks": ""
           },
           "baxis": {
            "gridcolor": "white",
            "linecolor": "white",
            "ticks": ""
           },
           "bgcolor": "#E5ECF6",
           "caxis": {
            "gridcolor": "white",
            "linecolor": "white",
            "ticks": ""
           }
          },
          "title": {
           "x": 0.05
          },
          "xaxis": {
           "automargin": true,
           "gridcolor": "white",
           "linecolor": "white",
           "ticks": "",
           "title": {
            "standoff": 15
           },
           "zerolinecolor": "white",
           "zerolinewidth": 2
          },
          "yaxis": {
           "automargin": true,
           "gridcolor": "white",
           "linecolor": "white",
           "ticks": "",
           "title": {
            "standoff": 15
           },
           "zerolinecolor": "white",
           "zerolinewidth": 2
          }
         }
        },
        "title": {
         "text": "Accuracy comparision of different models"
        },
        "xaxis": {
         "anchor": "y",
         "domain": [
          0,
          1
         ],
         "title": {
          "text": "models"
         }
        },
        "yaxis": {
         "anchor": "x",
         "domain": [
          0,
          1
         ],
         "title": {
          "text": "accuracy"
         }
        }
       }
      }
     },
     "metadata": {},
     "output_type": "display_data"
    }
   ],
   "source": [
    "px.line(x=x,y=result['accuracy_score'],markers='o',labels={'x':'models','y':'accuracy'},title=\"Accuracy comparision of different models\")"
   ]
  },
  {
   "cell_type": "code",
   "execution_count": 6,
   "metadata": {},
   "outputs": [
    {
     "data": {
      "application/vnd.plotly.v1+json": {
       "config": {
        "plotlyServerURL": "https://plot.ly"
       },
       "data": [
        {
         "alignmentgroup": "True",
         "hovertemplate": "models=%{x}<br>accuracy=%{y}<extra></extra>",
         "legendgroup": "",
         "marker": {
          "color": "#636efa",
          "pattern": {
           "shape": ""
          }
         },
         "name": "",
         "offsetgroup": "",
         "orientation": "v",
         "showlegend": false,
         "textposition": "auto",
         "type": "bar",
         "x": [
          "Naive Bayes default TF-IDF",
          "Naive Bayes (1,2) TF-IDF",
          "Naive Bayes (1,3) TF-IDF",
          "KNN (1,3) TF-IDF",
          "KNN (1,2) TF-IDF",
          "KNN default TF-IDF",
          "KNN (1,3) BOW(CountVectorizer)",
          "Decision Tree (1,2) TF-IDF",
          "Decision Tree (1,3) TF-IDF",
          "KNN (1,2) BOW(CountVectorizer)",
          "Decision Tree default TF-IDF",
          "Naive Bayes default BOW(CountVectorizer)",
          "Decision Tree default BOW(CountVectorizer)",
          "KNN default BOW(CountVectorizer)",
          "Decision Tree (1,2) BOW(CountVectorizer)",
          "Decision Tree (1,3) BOW(CountVectorizer)",
          "Naive Bayes (1,2) BOW(CountVectorizer)",
          "Naive Bayes (1,3) BOW(CountVectorizer)",
          "Logistic Regression (1,3) TF-IDF",
          "Logistic Regression (1,2) TF-IDF",
          "SVM default BOW(CountVectorizer)",
          "Logistic Regression default TF-IDF",
          "SVM (1,3) TF-IDF",
          "SVM (1,2) BOW(CountVectorizer)",
          "SVM default TF-IDF",
          "SVM (1,3) BOW(CountVectorizer)",
          "SVM (1,2) TF-IDF",
          "Logistic Regression default BOW(CountVectorizer)",
          "Logistic Regression (1,3) BOW(CountVectorizer)",
          "Logistic Regression (1,2) BOW(CountVectorizer)"
         ],
         "xaxis": "x",
         "y": [
          0.914,
          0.931,
          0.937,
          0.94,
          0.942,
          0.947,
          0.947,
          0.949,
          0.949,
          0.951,
          0.951,
          0.952,
          0.955,
          0.957,
          0.959,
          0.959,
          0.965,
          0.966,
          0.967,
          0.969,
          0.969,
          0.969,
          0.97,
          0.971,
          0.972,
          0.972,
          0.972,
          0.974,
          0.974,
          0.974
         ],
         "yaxis": "y"
        }
       ],
       "layout": {
        "barmode": "relative",
        "legend": {
         "tracegroupgap": 0
        },
        "template": {
         "data": {
          "bar": [
           {
            "error_x": {
             "color": "#2a3f5f"
            },
            "error_y": {
             "color": "#2a3f5f"
            },
            "marker": {
             "line": {
              "color": "#E5ECF6",
              "width": 0.5
             },
             "pattern": {
              "fillmode": "overlay",
              "size": 10,
              "solidity": 0.2
             }
            },
            "type": "bar"
           }
          ],
          "barpolar": [
           {
            "marker": {
             "line": {
              "color": "#E5ECF6",
              "width": 0.5
             },
             "pattern": {
              "fillmode": "overlay",
              "size": 10,
              "solidity": 0.2
             }
            },
            "type": "barpolar"
           }
          ],
          "carpet": [
           {
            "aaxis": {
             "endlinecolor": "#2a3f5f",
             "gridcolor": "white",
             "linecolor": "white",
             "minorgridcolor": "white",
             "startlinecolor": "#2a3f5f"
            },
            "baxis": {
             "endlinecolor": "#2a3f5f",
             "gridcolor": "white",
             "linecolor": "white",
             "minorgridcolor": "white",
             "startlinecolor": "#2a3f5f"
            },
            "type": "carpet"
           }
          ],
          "choropleth": [
           {
            "colorbar": {
             "outlinewidth": 0,
             "ticks": ""
            },
            "type": "choropleth"
           }
          ],
          "contour": [
           {
            "colorbar": {
             "outlinewidth": 0,
             "ticks": ""
            },
            "colorscale": [
             [
              0,
              "#0d0887"
             ],
             [
              0.1111111111111111,
              "#46039f"
             ],
             [
              0.2222222222222222,
              "#7201a8"
             ],
             [
              0.3333333333333333,
              "#9c179e"
             ],
             [
              0.4444444444444444,
              "#bd3786"
             ],
             [
              0.5555555555555556,
              "#d8576b"
             ],
             [
              0.6666666666666666,
              "#ed7953"
             ],
             [
              0.7777777777777778,
              "#fb9f3a"
             ],
             [
              0.8888888888888888,
              "#fdca26"
             ],
             [
              1,
              "#f0f921"
             ]
            ],
            "type": "contour"
           }
          ],
          "contourcarpet": [
           {
            "colorbar": {
             "outlinewidth": 0,
             "ticks": ""
            },
            "type": "contourcarpet"
           }
          ],
          "heatmap": [
           {
            "colorbar": {
             "outlinewidth": 0,
             "ticks": ""
            },
            "colorscale": [
             [
              0,
              "#0d0887"
             ],
             [
              0.1111111111111111,
              "#46039f"
             ],
             [
              0.2222222222222222,
              "#7201a8"
             ],
             [
              0.3333333333333333,
              "#9c179e"
             ],
             [
              0.4444444444444444,
              "#bd3786"
             ],
             [
              0.5555555555555556,
              "#d8576b"
             ],
             [
              0.6666666666666666,
              "#ed7953"
             ],
             [
              0.7777777777777778,
              "#fb9f3a"
             ],
             [
              0.8888888888888888,
              "#fdca26"
             ],
             [
              1,
              "#f0f921"
             ]
            ],
            "type": "heatmap"
           }
          ],
          "heatmapgl": [
           {
            "colorbar": {
             "outlinewidth": 0,
             "ticks": ""
            },
            "colorscale": [
             [
              0,
              "#0d0887"
             ],
             [
              0.1111111111111111,
              "#46039f"
             ],
             [
              0.2222222222222222,
              "#7201a8"
             ],
             [
              0.3333333333333333,
              "#9c179e"
             ],
             [
              0.4444444444444444,
              "#bd3786"
             ],
             [
              0.5555555555555556,
              "#d8576b"
             ],
             [
              0.6666666666666666,
              "#ed7953"
             ],
             [
              0.7777777777777778,
              "#fb9f3a"
             ],
             [
              0.8888888888888888,
              "#fdca26"
             ],
             [
              1,
              "#f0f921"
             ]
            ],
            "type": "heatmapgl"
           }
          ],
          "histogram": [
           {
            "marker": {
             "pattern": {
              "fillmode": "overlay",
              "size": 10,
              "solidity": 0.2
             }
            },
            "type": "histogram"
           }
          ],
          "histogram2d": [
           {
            "colorbar": {
             "outlinewidth": 0,
             "ticks": ""
            },
            "colorscale": [
             [
              0,
              "#0d0887"
             ],
             [
              0.1111111111111111,
              "#46039f"
             ],
             [
              0.2222222222222222,
              "#7201a8"
             ],
             [
              0.3333333333333333,
              "#9c179e"
             ],
             [
              0.4444444444444444,
              "#bd3786"
             ],
             [
              0.5555555555555556,
              "#d8576b"
             ],
             [
              0.6666666666666666,
              "#ed7953"
             ],
             [
              0.7777777777777778,
              "#fb9f3a"
             ],
             [
              0.8888888888888888,
              "#fdca26"
             ],
             [
              1,
              "#f0f921"
             ]
            ],
            "type": "histogram2d"
           }
          ],
          "histogram2dcontour": [
           {
            "colorbar": {
             "outlinewidth": 0,
             "ticks": ""
            },
            "colorscale": [
             [
              0,
              "#0d0887"
             ],
             [
              0.1111111111111111,
              "#46039f"
             ],
             [
              0.2222222222222222,
              "#7201a8"
             ],
             [
              0.3333333333333333,
              "#9c179e"
             ],
             [
              0.4444444444444444,
              "#bd3786"
             ],
             [
              0.5555555555555556,
              "#d8576b"
             ],
             [
              0.6666666666666666,
              "#ed7953"
             ],
             [
              0.7777777777777778,
              "#fb9f3a"
             ],
             [
              0.8888888888888888,
              "#fdca26"
             ],
             [
              1,
              "#f0f921"
             ]
            ],
            "type": "histogram2dcontour"
           }
          ],
          "mesh3d": [
           {
            "colorbar": {
             "outlinewidth": 0,
             "ticks": ""
            },
            "type": "mesh3d"
           }
          ],
          "parcoords": [
           {
            "line": {
             "colorbar": {
              "outlinewidth": 0,
              "ticks": ""
             }
            },
            "type": "parcoords"
           }
          ],
          "pie": [
           {
            "automargin": true,
            "type": "pie"
           }
          ],
          "scatter": [
           {
            "fillpattern": {
             "fillmode": "overlay",
             "size": 10,
             "solidity": 0.2
            },
            "type": "scatter"
           }
          ],
          "scatter3d": [
           {
            "line": {
             "colorbar": {
              "outlinewidth": 0,
              "ticks": ""
             }
            },
            "marker": {
             "colorbar": {
              "outlinewidth": 0,
              "ticks": ""
             }
            },
            "type": "scatter3d"
           }
          ],
          "scattercarpet": [
           {
            "marker": {
             "colorbar": {
              "outlinewidth": 0,
              "ticks": ""
             }
            },
            "type": "scattercarpet"
           }
          ],
          "scattergeo": [
           {
            "marker": {
             "colorbar": {
              "outlinewidth": 0,
              "ticks": ""
             }
            },
            "type": "scattergeo"
           }
          ],
          "scattergl": [
           {
            "marker": {
             "colorbar": {
              "outlinewidth": 0,
              "ticks": ""
             }
            },
            "type": "scattergl"
           }
          ],
          "scattermapbox": [
           {
            "marker": {
             "colorbar": {
              "outlinewidth": 0,
              "ticks": ""
             }
            },
            "type": "scattermapbox"
           }
          ],
          "scatterpolar": [
           {
            "marker": {
             "colorbar": {
              "outlinewidth": 0,
              "ticks": ""
             }
            },
            "type": "scatterpolar"
           }
          ],
          "scatterpolargl": [
           {
            "marker": {
             "colorbar": {
              "outlinewidth": 0,
              "ticks": ""
             }
            },
            "type": "scatterpolargl"
           }
          ],
          "scatterternary": [
           {
            "marker": {
             "colorbar": {
              "outlinewidth": 0,
              "ticks": ""
             }
            },
            "type": "scatterternary"
           }
          ],
          "surface": [
           {
            "colorbar": {
             "outlinewidth": 0,
             "ticks": ""
            },
            "colorscale": [
             [
              0,
              "#0d0887"
             ],
             [
              0.1111111111111111,
              "#46039f"
             ],
             [
              0.2222222222222222,
              "#7201a8"
             ],
             [
              0.3333333333333333,
              "#9c179e"
             ],
             [
              0.4444444444444444,
              "#bd3786"
             ],
             [
              0.5555555555555556,
              "#d8576b"
             ],
             [
              0.6666666666666666,
              "#ed7953"
             ],
             [
              0.7777777777777778,
              "#fb9f3a"
             ],
             [
              0.8888888888888888,
              "#fdca26"
             ],
             [
              1,
              "#f0f921"
             ]
            ],
            "type": "surface"
           }
          ],
          "table": [
           {
            "cells": {
             "fill": {
              "color": "#EBF0F8"
             },
             "line": {
              "color": "white"
             }
            },
            "header": {
             "fill": {
              "color": "#C8D4E3"
             },
             "line": {
              "color": "white"
             }
            },
            "type": "table"
           }
          ]
         },
         "layout": {
          "annotationdefaults": {
           "arrowcolor": "#2a3f5f",
           "arrowhead": 0,
           "arrowwidth": 1
          },
          "autotypenumbers": "strict",
          "coloraxis": {
           "colorbar": {
            "outlinewidth": 0,
            "ticks": ""
           }
          },
          "colorscale": {
           "diverging": [
            [
             0,
             "#8e0152"
            ],
            [
             0.1,
             "#c51b7d"
            ],
            [
             0.2,
             "#de77ae"
            ],
            [
             0.3,
             "#f1b6da"
            ],
            [
             0.4,
             "#fde0ef"
            ],
            [
             0.5,
             "#f7f7f7"
            ],
            [
             0.6,
             "#e6f5d0"
            ],
            [
             0.7,
             "#b8e186"
            ],
            [
             0.8,
             "#7fbc41"
            ],
            [
             0.9,
             "#4d9221"
            ],
            [
             1,
             "#276419"
            ]
           ],
           "sequential": [
            [
             0,
             "#0d0887"
            ],
            [
             0.1111111111111111,
             "#46039f"
            ],
            [
             0.2222222222222222,
             "#7201a8"
            ],
            [
             0.3333333333333333,
             "#9c179e"
            ],
            [
             0.4444444444444444,
             "#bd3786"
            ],
            [
             0.5555555555555556,
             "#d8576b"
            ],
            [
             0.6666666666666666,
             "#ed7953"
            ],
            [
             0.7777777777777778,
             "#fb9f3a"
            ],
            [
             0.8888888888888888,
             "#fdca26"
            ],
            [
             1,
             "#f0f921"
            ]
           ],
           "sequentialminus": [
            [
             0,
             "#0d0887"
            ],
            [
             0.1111111111111111,
             "#46039f"
            ],
            [
             0.2222222222222222,
             "#7201a8"
            ],
            [
             0.3333333333333333,
             "#9c179e"
            ],
            [
             0.4444444444444444,
             "#bd3786"
            ],
            [
             0.5555555555555556,
             "#d8576b"
            ],
            [
             0.6666666666666666,
             "#ed7953"
            ],
            [
             0.7777777777777778,
             "#fb9f3a"
            ],
            [
             0.8888888888888888,
             "#fdca26"
            ],
            [
             1,
             "#f0f921"
            ]
           ]
          },
          "colorway": [
           "#636efa",
           "#EF553B",
           "#00cc96",
           "#ab63fa",
           "#FFA15A",
           "#19d3f3",
           "#FF6692",
           "#B6E880",
           "#FF97FF",
           "#FECB52"
          ],
          "font": {
           "color": "#2a3f5f"
          },
          "geo": {
           "bgcolor": "white",
           "lakecolor": "white",
           "landcolor": "#E5ECF6",
           "showlakes": true,
           "showland": true,
           "subunitcolor": "white"
          },
          "hoverlabel": {
           "align": "left"
          },
          "hovermode": "closest",
          "mapbox": {
           "style": "light"
          },
          "paper_bgcolor": "white",
          "plot_bgcolor": "#E5ECF6",
          "polar": {
           "angularaxis": {
            "gridcolor": "white",
            "linecolor": "white",
            "ticks": ""
           },
           "bgcolor": "#E5ECF6",
           "radialaxis": {
            "gridcolor": "white",
            "linecolor": "white",
            "ticks": ""
           }
          },
          "scene": {
           "xaxis": {
            "backgroundcolor": "#E5ECF6",
            "gridcolor": "white",
            "gridwidth": 2,
            "linecolor": "white",
            "showbackground": true,
            "ticks": "",
            "zerolinecolor": "white"
           },
           "yaxis": {
            "backgroundcolor": "#E5ECF6",
            "gridcolor": "white",
            "gridwidth": 2,
            "linecolor": "white",
            "showbackground": true,
            "ticks": "",
            "zerolinecolor": "white"
           },
           "zaxis": {
            "backgroundcolor": "#E5ECF6",
            "gridcolor": "white",
            "gridwidth": 2,
            "linecolor": "white",
            "showbackground": true,
            "ticks": "",
            "zerolinecolor": "white"
           }
          },
          "shapedefaults": {
           "line": {
            "color": "#2a3f5f"
           }
          },
          "ternary": {
           "aaxis": {
            "gridcolor": "white",
            "linecolor": "white",
            "ticks": ""
           },
           "baxis": {
            "gridcolor": "white",
            "linecolor": "white",
            "ticks": ""
           },
           "bgcolor": "#E5ECF6",
           "caxis": {
            "gridcolor": "white",
            "linecolor": "white",
            "ticks": ""
           }
          },
          "title": {
           "x": 0.05
          },
          "xaxis": {
           "automargin": true,
           "gridcolor": "white",
           "linecolor": "white",
           "ticks": "",
           "title": {
            "standoff": 15
           },
           "zerolinecolor": "white",
           "zerolinewidth": 2
          },
          "yaxis": {
           "automargin": true,
           "gridcolor": "white",
           "linecolor": "white",
           "ticks": "",
           "title": {
            "standoff": 15
           },
           "zerolinecolor": "white",
           "zerolinewidth": 2
          }
         }
        },
        "title": {
         "text": "Accuracy comparision of different models"
        },
        "xaxis": {
         "anchor": "y",
         "domain": [
          0,
          1
         ],
         "title": {
          "text": "models"
         }
        },
        "yaxis": {
         "anchor": "x",
         "domain": [
          0,
          1
         ],
         "title": {
          "text": "accuracy"
         }
        }
       }
      }
     },
     "metadata": {},
     "output_type": "display_data"
    }
   ],
   "source": [
    "px.bar(x=x,y=result['accuracy_score'],labels={'x':'models','y':'accuracy'},title=\"Accuracy comparision of different models\")"
   ]
  },
  {
   "cell_type": "code",
   "execution_count": 7,
   "metadata": {},
   "outputs": [],
   "source": [
    "result = result.sort_values(by='precision_score')\n",
    "x =  result['models']+\" \"+result['ngrams']+\" \"+result['Text_vectorization']"
   ]
  },
  {
   "cell_type": "code",
   "execution_count": 8,
   "metadata": {},
   "outputs": [
    {
     "data": {
      "application/vnd.plotly.v1+json": {
       "config": {
        "plotlyServerURL": "https://plot.ly"
       },
       "data": [
        {
         "hovertemplate": "models=%{x}<br>precision=%{y}<extra></extra>",
         "legendgroup": "",
         "line": {
          "color": "#636efa",
          "dash": "solid"
         },
         "marker": {
          "symbol": "circle"
         },
         "mode": "lines+markers",
         "name": "",
         "orientation": "v",
         "showlegend": false,
         "type": "scatter",
         "x": [
          "Naive Bayes default TF-IDF",
          "Naive Bayes (1,2) TF-IDF",
          "Naive Bayes (1,3) TF-IDF",
          "KNN (1,3) TF-IDF",
          "KNN (1,2) TF-IDF",
          "KNN default TF-IDF",
          "KNN (1,3) BOW(CountVectorizer)",
          "KNN (1,2) BOW(CountVectorizer)",
          "Decision Tree default TF-IDF",
          "Decision Tree (1,2) TF-IDF",
          "Decision Tree (1,3) TF-IDF",
          "Naive Bayes default BOW(CountVectorizer)",
          "KNN default BOW(CountVectorizer)",
          "Decision Tree default BOW(CountVectorizer)",
          "Decision Tree (1,3) BOW(CountVectorizer)",
          "Decision Tree (1,2) BOW(CountVectorizer)",
          "Naive Bayes (1,2) BOW(CountVectorizer)",
          "Naive Bayes (1,3) BOW(CountVectorizer)",
          "Logistic Regression (1,3) TF-IDF",
          "Logistic Regression default TF-IDF",
          "Logistic Regression (1,2) TF-IDF",
          "SVM default BOW(CountVectorizer)",
          "SVM (1,3) TF-IDF",
          "SVM (1,2) BOW(CountVectorizer)",
          "SVM default TF-IDF",
          "SVM (1,3) BOW(CountVectorizer)",
          "SVM (1,2) TF-IDF",
          "Logistic Regression (1,2) BOW(CountVectorizer)",
          "Logistic Regression (1,3) BOW(CountVectorizer)",
          "Logistic Regression default BOW(CountVectorizer)"
         ],
         "xaxis": "x",
         "y": [
          0.9162625487653904,
          0.9319676931913266,
          0.9379643224194254,
          0.9380278841210912,
          0.9396199131628776,
          0.9444753645241064,
          0.9451658267907426,
          0.9492935158092304,
          0.9508484175000238,
          0.951033816067159,
          0.9520789037914402,
          0.9534669898184014,
          0.9545500025702278,
          0.9549209143777768,
          0.9586776930082757,
          0.9594635474651032,
          0.9645759825218972,
          0.9651536865904092,
          0.9665606661131428,
          0.9677693056382236,
          0.9681728229626864,
          0.9691889969646726,
          0.9704317876370314,
          0.9707183658469296,
          0.970973225134656,
          0.971503933618418,
          0.972170160311936,
          0.9735039244252456,
          0.973660565480443,
          0.9737203712297772
         ],
         "yaxis": "y"
        }
       ],
       "layout": {
        "legend": {
         "tracegroupgap": 0
        },
        "template": {
         "data": {
          "bar": [
           {
            "error_x": {
             "color": "#2a3f5f"
            },
            "error_y": {
             "color": "#2a3f5f"
            },
            "marker": {
             "line": {
              "color": "#E5ECF6",
              "width": 0.5
             },
             "pattern": {
              "fillmode": "overlay",
              "size": 10,
              "solidity": 0.2
             }
            },
            "type": "bar"
           }
          ],
          "barpolar": [
           {
            "marker": {
             "line": {
              "color": "#E5ECF6",
              "width": 0.5
             },
             "pattern": {
              "fillmode": "overlay",
              "size": 10,
              "solidity": 0.2
             }
            },
            "type": "barpolar"
           }
          ],
          "carpet": [
           {
            "aaxis": {
             "endlinecolor": "#2a3f5f",
             "gridcolor": "white",
             "linecolor": "white",
             "minorgridcolor": "white",
             "startlinecolor": "#2a3f5f"
            },
            "baxis": {
             "endlinecolor": "#2a3f5f",
             "gridcolor": "white",
             "linecolor": "white",
             "minorgridcolor": "white",
             "startlinecolor": "#2a3f5f"
            },
            "type": "carpet"
           }
          ],
          "choropleth": [
           {
            "colorbar": {
             "outlinewidth": 0,
             "ticks": ""
            },
            "type": "choropleth"
           }
          ],
          "contour": [
           {
            "colorbar": {
             "outlinewidth": 0,
             "ticks": ""
            },
            "colorscale": [
             [
              0,
              "#0d0887"
             ],
             [
              0.1111111111111111,
              "#46039f"
             ],
             [
              0.2222222222222222,
              "#7201a8"
             ],
             [
              0.3333333333333333,
              "#9c179e"
             ],
             [
              0.4444444444444444,
              "#bd3786"
             ],
             [
              0.5555555555555556,
              "#d8576b"
             ],
             [
              0.6666666666666666,
              "#ed7953"
             ],
             [
              0.7777777777777778,
              "#fb9f3a"
             ],
             [
              0.8888888888888888,
              "#fdca26"
             ],
             [
              1,
              "#f0f921"
             ]
            ],
            "type": "contour"
           }
          ],
          "contourcarpet": [
           {
            "colorbar": {
             "outlinewidth": 0,
             "ticks": ""
            },
            "type": "contourcarpet"
           }
          ],
          "heatmap": [
           {
            "colorbar": {
             "outlinewidth": 0,
             "ticks": ""
            },
            "colorscale": [
             [
              0,
              "#0d0887"
             ],
             [
              0.1111111111111111,
              "#46039f"
             ],
             [
              0.2222222222222222,
              "#7201a8"
             ],
             [
              0.3333333333333333,
              "#9c179e"
             ],
             [
              0.4444444444444444,
              "#bd3786"
             ],
             [
              0.5555555555555556,
              "#d8576b"
             ],
             [
              0.6666666666666666,
              "#ed7953"
             ],
             [
              0.7777777777777778,
              "#fb9f3a"
             ],
             [
              0.8888888888888888,
              "#fdca26"
             ],
             [
              1,
              "#f0f921"
             ]
            ],
            "type": "heatmap"
           }
          ],
          "heatmapgl": [
           {
            "colorbar": {
             "outlinewidth": 0,
             "ticks": ""
            },
            "colorscale": [
             [
              0,
              "#0d0887"
             ],
             [
              0.1111111111111111,
              "#46039f"
             ],
             [
              0.2222222222222222,
              "#7201a8"
             ],
             [
              0.3333333333333333,
              "#9c179e"
             ],
             [
              0.4444444444444444,
              "#bd3786"
             ],
             [
              0.5555555555555556,
              "#d8576b"
             ],
             [
              0.6666666666666666,
              "#ed7953"
             ],
             [
              0.7777777777777778,
              "#fb9f3a"
             ],
             [
              0.8888888888888888,
              "#fdca26"
             ],
             [
              1,
              "#f0f921"
             ]
            ],
            "type": "heatmapgl"
           }
          ],
          "histogram": [
           {
            "marker": {
             "pattern": {
              "fillmode": "overlay",
              "size": 10,
              "solidity": 0.2
             }
            },
            "type": "histogram"
           }
          ],
          "histogram2d": [
           {
            "colorbar": {
             "outlinewidth": 0,
             "ticks": ""
            },
            "colorscale": [
             [
              0,
              "#0d0887"
             ],
             [
              0.1111111111111111,
              "#46039f"
             ],
             [
              0.2222222222222222,
              "#7201a8"
             ],
             [
              0.3333333333333333,
              "#9c179e"
             ],
             [
              0.4444444444444444,
              "#bd3786"
             ],
             [
              0.5555555555555556,
              "#d8576b"
             ],
             [
              0.6666666666666666,
              "#ed7953"
             ],
             [
              0.7777777777777778,
              "#fb9f3a"
             ],
             [
              0.8888888888888888,
              "#fdca26"
             ],
             [
              1,
              "#f0f921"
             ]
            ],
            "type": "histogram2d"
           }
          ],
          "histogram2dcontour": [
           {
            "colorbar": {
             "outlinewidth": 0,
             "ticks": ""
            },
            "colorscale": [
             [
              0,
              "#0d0887"
             ],
             [
              0.1111111111111111,
              "#46039f"
             ],
             [
              0.2222222222222222,
              "#7201a8"
             ],
             [
              0.3333333333333333,
              "#9c179e"
             ],
             [
              0.4444444444444444,
              "#bd3786"
             ],
             [
              0.5555555555555556,
              "#d8576b"
             ],
             [
              0.6666666666666666,
              "#ed7953"
             ],
             [
              0.7777777777777778,
              "#fb9f3a"
             ],
             [
              0.8888888888888888,
              "#fdca26"
             ],
             [
              1,
              "#f0f921"
             ]
            ],
            "type": "histogram2dcontour"
           }
          ],
          "mesh3d": [
           {
            "colorbar": {
             "outlinewidth": 0,
             "ticks": ""
            },
            "type": "mesh3d"
           }
          ],
          "parcoords": [
           {
            "line": {
             "colorbar": {
              "outlinewidth": 0,
              "ticks": ""
             }
            },
            "type": "parcoords"
           }
          ],
          "pie": [
           {
            "automargin": true,
            "type": "pie"
           }
          ],
          "scatter": [
           {
            "fillpattern": {
             "fillmode": "overlay",
             "size": 10,
             "solidity": 0.2
            },
            "type": "scatter"
           }
          ],
          "scatter3d": [
           {
            "line": {
             "colorbar": {
              "outlinewidth": 0,
              "ticks": ""
             }
            },
            "marker": {
             "colorbar": {
              "outlinewidth": 0,
              "ticks": ""
             }
            },
            "type": "scatter3d"
           }
          ],
          "scattercarpet": [
           {
            "marker": {
             "colorbar": {
              "outlinewidth": 0,
              "ticks": ""
             }
            },
            "type": "scattercarpet"
           }
          ],
          "scattergeo": [
           {
            "marker": {
             "colorbar": {
              "outlinewidth": 0,
              "ticks": ""
             }
            },
            "type": "scattergeo"
           }
          ],
          "scattergl": [
           {
            "marker": {
             "colorbar": {
              "outlinewidth": 0,
              "ticks": ""
             }
            },
            "type": "scattergl"
           }
          ],
          "scattermapbox": [
           {
            "marker": {
             "colorbar": {
              "outlinewidth": 0,
              "ticks": ""
             }
            },
            "type": "scattermapbox"
           }
          ],
          "scatterpolar": [
           {
            "marker": {
             "colorbar": {
              "outlinewidth": 0,
              "ticks": ""
             }
            },
            "type": "scatterpolar"
           }
          ],
          "scatterpolargl": [
           {
            "marker": {
             "colorbar": {
              "outlinewidth": 0,
              "ticks": ""
             }
            },
            "type": "scatterpolargl"
           }
          ],
          "scatterternary": [
           {
            "marker": {
             "colorbar": {
              "outlinewidth": 0,
              "ticks": ""
             }
            },
            "type": "scatterternary"
           }
          ],
          "surface": [
           {
            "colorbar": {
             "outlinewidth": 0,
             "ticks": ""
            },
            "colorscale": [
             [
              0,
              "#0d0887"
             ],
             [
              0.1111111111111111,
              "#46039f"
             ],
             [
              0.2222222222222222,
              "#7201a8"
             ],
             [
              0.3333333333333333,
              "#9c179e"
             ],
             [
              0.4444444444444444,
              "#bd3786"
             ],
             [
              0.5555555555555556,
              "#d8576b"
             ],
             [
              0.6666666666666666,
              "#ed7953"
             ],
             [
              0.7777777777777778,
              "#fb9f3a"
             ],
             [
              0.8888888888888888,
              "#fdca26"
             ],
             [
              1,
              "#f0f921"
             ]
            ],
            "type": "surface"
           }
          ],
          "table": [
           {
            "cells": {
             "fill": {
              "color": "#EBF0F8"
             },
             "line": {
              "color": "white"
             }
            },
            "header": {
             "fill": {
              "color": "#C8D4E3"
             },
             "line": {
              "color": "white"
             }
            },
            "type": "table"
           }
          ]
         },
         "layout": {
          "annotationdefaults": {
           "arrowcolor": "#2a3f5f",
           "arrowhead": 0,
           "arrowwidth": 1
          },
          "autotypenumbers": "strict",
          "coloraxis": {
           "colorbar": {
            "outlinewidth": 0,
            "ticks": ""
           }
          },
          "colorscale": {
           "diverging": [
            [
             0,
             "#8e0152"
            ],
            [
             0.1,
             "#c51b7d"
            ],
            [
             0.2,
             "#de77ae"
            ],
            [
             0.3,
             "#f1b6da"
            ],
            [
             0.4,
             "#fde0ef"
            ],
            [
             0.5,
             "#f7f7f7"
            ],
            [
             0.6,
             "#e6f5d0"
            ],
            [
             0.7,
             "#b8e186"
            ],
            [
             0.8,
             "#7fbc41"
            ],
            [
             0.9,
             "#4d9221"
            ],
            [
             1,
             "#276419"
            ]
           ],
           "sequential": [
            [
             0,
             "#0d0887"
            ],
            [
             0.1111111111111111,
             "#46039f"
            ],
            [
             0.2222222222222222,
             "#7201a8"
            ],
            [
             0.3333333333333333,
             "#9c179e"
            ],
            [
             0.4444444444444444,
             "#bd3786"
            ],
            [
             0.5555555555555556,
             "#d8576b"
            ],
            [
             0.6666666666666666,
             "#ed7953"
            ],
            [
             0.7777777777777778,
             "#fb9f3a"
            ],
            [
             0.8888888888888888,
             "#fdca26"
            ],
            [
             1,
             "#f0f921"
            ]
           ],
           "sequentialminus": [
            [
             0,
             "#0d0887"
            ],
            [
             0.1111111111111111,
             "#46039f"
            ],
            [
             0.2222222222222222,
             "#7201a8"
            ],
            [
             0.3333333333333333,
             "#9c179e"
            ],
            [
             0.4444444444444444,
             "#bd3786"
            ],
            [
             0.5555555555555556,
             "#d8576b"
            ],
            [
             0.6666666666666666,
             "#ed7953"
            ],
            [
             0.7777777777777778,
             "#fb9f3a"
            ],
            [
             0.8888888888888888,
             "#fdca26"
            ],
            [
             1,
             "#f0f921"
            ]
           ]
          },
          "colorway": [
           "#636efa",
           "#EF553B",
           "#00cc96",
           "#ab63fa",
           "#FFA15A",
           "#19d3f3",
           "#FF6692",
           "#B6E880",
           "#FF97FF",
           "#FECB52"
          ],
          "font": {
           "color": "#2a3f5f"
          },
          "geo": {
           "bgcolor": "white",
           "lakecolor": "white",
           "landcolor": "#E5ECF6",
           "showlakes": true,
           "showland": true,
           "subunitcolor": "white"
          },
          "hoverlabel": {
           "align": "left"
          },
          "hovermode": "closest",
          "mapbox": {
           "style": "light"
          },
          "paper_bgcolor": "white",
          "plot_bgcolor": "#E5ECF6",
          "polar": {
           "angularaxis": {
            "gridcolor": "white",
            "linecolor": "white",
            "ticks": ""
           },
           "bgcolor": "#E5ECF6",
           "radialaxis": {
            "gridcolor": "white",
            "linecolor": "white",
            "ticks": ""
           }
          },
          "scene": {
           "xaxis": {
            "backgroundcolor": "#E5ECF6",
            "gridcolor": "white",
            "gridwidth": 2,
            "linecolor": "white",
            "showbackground": true,
            "ticks": "",
            "zerolinecolor": "white"
           },
           "yaxis": {
            "backgroundcolor": "#E5ECF6",
            "gridcolor": "white",
            "gridwidth": 2,
            "linecolor": "white",
            "showbackground": true,
            "ticks": "",
            "zerolinecolor": "white"
           },
           "zaxis": {
            "backgroundcolor": "#E5ECF6",
            "gridcolor": "white",
            "gridwidth": 2,
            "linecolor": "white",
            "showbackground": true,
            "ticks": "",
            "zerolinecolor": "white"
           }
          },
          "shapedefaults": {
           "line": {
            "color": "#2a3f5f"
           }
          },
          "ternary": {
           "aaxis": {
            "gridcolor": "white",
            "linecolor": "white",
            "ticks": ""
           },
           "baxis": {
            "gridcolor": "white",
            "linecolor": "white",
            "ticks": ""
           },
           "bgcolor": "#E5ECF6",
           "caxis": {
            "gridcolor": "white",
            "linecolor": "white",
            "ticks": ""
           }
          },
          "title": {
           "x": 0.05
          },
          "xaxis": {
           "automargin": true,
           "gridcolor": "white",
           "linecolor": "white",
           "ticks": "",
           "title": {
            "standoff": 15
           },
           "zerolinecolor": "white",
           "zerolinewidth": 2
          },
          "yaxis": {
           "automargin": true,
           "gridcolor": "white",
           "linecolor": "white",
           "ticks": "",
           "title": {
            "standoff": 15
           },
           "zerolinecolor": "white",
           "zerolinewidth": 2
          }
         }
        },
        "title": {
         "text": "precision comparision of different models"
        },
        "xaxis": {
         "anchor": "y",
         "domain": [
          0,
          1
         ],
         "title": {
          "text": "models"
         }
        },
        "yaxis": {
         "anchor": "x",
         "domain": [
          0,
          1
         ],
         "title": {
          "text": "precision"
         }
        }
       }
      }
     },
     "metadata": {},
     "output_type": "display_data"
    }
   ],
   "source": [
    "px.line(x=x,y=result['precision_score'],markers='o',labels={'x':'models','y':'precision'},title=\"precision comparision of different models\")"
   ]
  },
  {
   "cell_type": "code",
   "execution_count": 9,
   "metadata": {},
   "outputs": [
    {
     "data": {
      "application/vnd.plotly.v1+json": {
       "config": {
        "plotlyServerURL": "https://plot.ly"
       },
       "data": [
        {
         "alignmentgroup": "True",
         "hovertemplate": "models=%{x}<br>precision=%{y}<extra></extra>",
         "legendgroup": "",
         "marker": {
          "color": "#636efa",
          "pattern": {
           "shape": ""
          }
         },
         "name": "",
         "offsetgroup": "",
         "orientation": "v",
         "showlegend": false,
         "textposition": "auto",
         "type": "bar",
         "x": [
          "Naive Bayes default TF-IDF",
          "Naive Bayes (1,2) TF-IDF",
          "Naive Bayes (1,3) TF-IDF",
          "KNN (1,3) TF-IDF",
          "KNN (1,2) TF-IDF",
          "KNN default TF-IDF",
          "KNN (1,3) BOW(CountVectorizer)",
          "KNN (1,2) BOW(CountVectorizer)",
          "Decision Tree default TF-IDF",
          "Decision Tree (1,2) TF-IDF",
          "Decision Tree (1,3) TF-IDF",
          "Naive Bayes default BOW(CountVectorizer)",
          "KNN default BOW(CountVectorizer)",
          "Decision Tree default BOW(CountVectorizer)",
          "Decision Tree (1,3) BOW(CountVectorizer)",
          "Decision Tree (1,2) BOW(CountVectorizer)",
          "Naive Bayes (1,2) BOW(CountVectorizer)",
          "Naive Bayes (1,3) BOW(CountVectorizer)",
          "Logistic Regression (1,3) TF-IDF",
          "Logistic Regression default TF-IDF",
          "Logistic Regression (1,2) TF-IDF",
          "SVM default BOW(CountVectorizer)",
          "SVM (1,3) TF-IDF",
          "SVM (1,2) BOW(CountVectorizer)",
          "SVM default TF-IDF",
          "SVM (1,3) BOW(CountVectorizer)",
          "SVM (1,2) TF-IDF",
          "Logistic Regression (1,2) BOW(CountVectorizer)",
          "Logistic Regression (1,3) BOW(CountVectorizer)",
          "Logistic Regression default BOW(CountVectorizer)"
         ],
         "xaxis": "x",
         "y": [
          0.9162625487653904,
          0.9319676931913266,
          0.9379643224194254,
          0.9380278841210912,
          0.9396199131628776,
          0.9444753645241064,
          0.9451658267907426,
          0.9492935158092304,
          0.9508484175000238,
          0.951033816067159,
          0.9520789037914402,
          0.9534669898184014,
          0.9545500025702278,
          0.9549209143777768,
          0.9586776930082757,
          0.9594635474651032,
          0.9645759825218972,
          0.9651536865904092,
          0.9665606661131428,
          0.9677693056382236,
          0.9681728229626864,
          0.9691889969646726,
          0.9704317876370314,
          0.9707183658469296,
          0.970973225134656,
          0.971503933618418,
          0.972170160311936,
          0.9735039244252456,
          0.973660565480443,
          0.9737203712297772
         ],
         "yaxis": "y"
        }
       ],
       "layout": {
        "barmode": "relative",
        "legend": {
         "tracegroupgap": 0
        },
        "template": {
         "data": {
          "bar": [
           {
            "error_x": {
             "color": "#2a3f5f"
            },
            "error_y": {
             "color": "#2a3f5f"
            },
            "marker": {
             "line": {
              "color": "#E5ECF6",
              "width": 0.5
             },
             "pattern": {
              "fillmode": "overlay",
              "size": 10,
              "solidity": 0.2
             }
            },
            "type": "bar"
           }
          ],
          "barpolar": [
           {
            "marker": {
             "line": {
              "color": "#E5ECF6",
              "width": 0.5
             },
             "pattern": {
              "fillmode": "overlay",
              "size": 10,
              "solidity": 0.2
             }
            },
            "type": "barpolar"
           }
          ],
          "carpet": [
           {
            "aaxis": {
             "endlinecolor": "#2a3f5f",
             "gridcolor": "white",
             "linecolor": "white",
             "minorgridcolor": "white",
             "startlinecolor": "#2a3f5f"
            },
            "baxis": {
             "endlinecolor": "#2a3f5f",
             "gridcolor": "white",
             "linecolor": "white",
             "minorgridcolor": "white",
             "startlinecolor": "#2a3f5f"
            },
            "type": "carpet"
           }
          ],
          "choropleth": [
           {
            "colorbar": {
             "outlinewidth": 0,
             "ticks": ""
            },
            "type": "choropleth"
           }
          ],
          "contour": [
           {
            "colorbar": {
             "outlinewidth": 0,
             "ticks": ""
            },
            "colorscale": [
             [
              0,
              "#0d0887"
             ],
             [
              0.1111111111111111,
              "#46039f"
             ],
             [
              0.2222222222222222,
              "#7201a8"
             ],
             [
              0.3333333333333333,
              "#9c179e"
             ],
             [
              0.4444444444444444,
              "#bd3786"
             ],
             [
              0.5555555555555556,
              "#d8576b"
             ],
             [
              0.6666666666666666,
              "#ed7953"
             ],
             [
              0.7777777777777778,
              "#fb9f3a"
             ],
             [
              0.8888888888888888,
              "#fdca26"
             ],
             [
              1,
              "#f0f921"
             ]
            ],
            "type": "contour"
           }
          ],
          "contourcarpet": [
           {
            "colorbar": {
             "outlinewidth": 0,
             "ticks": ""
            },
            "type": "contourcarpet"
           }
          ],
          "heatmap": [
           {
            "colorbar": {
             "outlinewidth": 0,
             "ticks": ""
            },
            "colorscale": [
             [
              0,
              "#0d0887"
             ],
             [
              0.1111111111111111,
              "#46039f"
             ],
             [
              0.2222222222222222,
              "#7201a8"
             ],
             [
              0.3333333333333333,
              "#9c179e"
             ],
             [
              0.4444444444444444,
              "#bd3786"
             ],
             [
              0.5555555555555556,
              "#d8576b"
             ],
             [
              0.6666666666666666,
              "#ed7953"
             ],
             [
              0.7777777777777778,
              "#fb9f3a"
             ],
             [
              0.8888888888888888,
              "#fdca26"
             ],
             [
              1,
              "#f0f921"
             ]
            ],
            "type": "heatmap"
           }
          ],
          "heatmapgl": [
           {
            "colorbar": {
             "outlinewidth": 0,
             "ticks": ""
            },
            "colorscale": [
             [
              0,
              "#0d0887"
             ],
             [
              0.1111111111111111,
              "#46039f"
             ],
             [
              0.2222222222222222,
              "#7201a8"
             ],
             [
              0.3333333333333333,
              "#9c179e"
             ],
             [
              0.4444444444444444,
              "#bd3786"
             ],
             [
              0.5555555555555556,
              "#d8576b"
             ],
             [
              0.6666666666666666,
              "#ed7953"
             ],
             [
              0.7777777777777778,
              "#fb9f3a"
             ],
             [
              0.8888888888888888,
              "#fdca26"
             ],
             [
              1,
              "#f0f921"
             ]
            ],
            "type": "heatmapgl"
           }
          ],
          "histogram": [
           {
            "marker": {
             "pattern": {
              "fillmode": "overlay",
              "size": 10,
              "solidity": 0.2
             }
            },
            "type": "histogram"
           }
          ],
          "histogram2d": [
           {
            "colorbar": {
             "outlinewidth": 0,
             "ticks": ""
            },
            "colorscale": [
             [
              0,
              "#0d0887"
             ],
             [
              0.1111111111111111,
              "#46039f"
             ],
             [
              0.2222222222222222,
              "#7201a8"
             ],
             [
              0.3333333333333333,
              "#9c179e"
             ],
             [
              0.4444444444444444,
              "#bd3786"
             ],
             [
              0.5555555555555556,
              "#d8576b"
             ],
             [
              0.6666666666666666,
              "#ed7953"
             ],
             [
              0.7777777777777778,
              "#fb9f3a"
             ],
             [
              0.8888888888888888,
              "#fdca26"
             ],
             [
              1,
              "#f0f921"
             ]
            ],
            "type": "histogram2d"
           }
          ],
          "histogram2dcontour": [
           {
            "colorbar": {
             "outlinewidth": 0,
             "ticks": ""
            },
            "colorscale": [
             [
              0,
              "#0d0887"
             ],
             [
              0.1111111111111111,
              "#46039f"
             ],
             [
              0.2222222222222222,
              "#7201a8"
             ],
             [
              0.3333333333333333,
              "#9c179e"
             ],
             [
              0.4444444444444444,
              "#bd3786"
             ],
             [
              0.5555555555555556,
              "#d8576b"
             ],
             [
              0.6666666666666666,
              "#ed7953"
             ],
             [
              0.7777777777777778,
              "#fb9f3a"
             ],
             [
              0.8888888888888888,
              "#fdca26"
             ],
             [
              1,
              "#f0f921"
             ]
            ],
            "type": "histogram2dcontour"
           }
          ],
          "mesh3d": [
           {
            "colorbar": {
             "outlinewidth": 0,
             "ticks": ""
            },
            "type": "mesh3d"
           }
          ],
          "parcoords": [
           {
            "line": {
             "colorbar": {
              "outlinewidth": 0,
              "ticks": ""
             }
            },
            "type": "parcoords"
           }
          ],
          "pie": [
           {
            "automargin": true,
            "type": "pie"
           }
          ],
          "scatter": [
           {
            "fillpattern": {
             "fillmode": "overlay",
             "size": 10,
             "solidity": 0.2
            },
            "type": "scatter"
           }
          ],
          "scatter3d": [
           {
            "line": {
             "colorbar": {
              "outlinewidth": 0,
              "ticks": ""
             }
            },
            "marker": {
             "colorbar": {
              "outlinewidth": 0,
              "ticks": ""
             }
            },
            "type": "scatter3d"
           }
          ],
          "scattercarpet": [
           {
            "marker": {
             "colorbar": {
              "outlinewidth": 0,
              "ticks": ""
             }
            },
            "type": "scattercarpet"
           }
          ],
          "scattergeo": [
           {
            "marker": {
             "colorbar": {
              "outlinewidth": 0,
              "ticks": ""
             }
            },
            "type": "scattergeo"
           }
          ],
          "scattergl": [
           {
            "marker": {
             "colorbar": {
              "outlinewidth": 0,
              "ticks": ""
             }
            },
            "type": "scattergl"
           }
          ],
          "scattermapbox": [
           {
            "marker": {
             "colorbar": {
              "outlinewidth": 0,
              "ticks": ""
             }
            },
            "type": "scattermapbox"
           }
          ],
          "scatterpolar": [
           {
            "marker": {
             "colorbar": {
              "outlinewidth": 0,
              "ticks": ""
             }
            },
            "type": "scatterpolar"
           }
          ],
          "scatterpolargl": [
           {
            "marker": {
             "colorbar": {
              "outlinewidth": 0,
              "ticks": ""
             }
            },
            "type": "scatterpolargl"
           }
          ],
          "scatterternary": [
           {
            "marker": {
             "colorbar": {
              "outlinewidth": 0,
              "ticks": ""
             }
            },
            "type": "scatterternary"
           }
          ],
          "surface": [
           {
            "colorbar": {
             "outlinewidth": 0,
             "ticks": ""
            },
            "colorscale": [
             [
              0,
              "#0d0887"
             ],
             [
              0.1111111111111111,
              "#46039f"
             ],
             [
              0.2222222222222222,
              "#7201a8"
             ],
             [
              0.3333333333333333,
              "#9c179e"
             ],
             [
              0.4444444444444444,
              "#bd3786"
             ],
             [
              0.5555555555555556,
              "#d8576b"
             ],
             [
              0.6666666666666666,
              "#ed7953"
             ],
             [
              0.7777777777777778,
              "#fb9f3a"
             ],
             [
              0.8888888888888888,
              "#fdca26"
             ],
             [
              1,
              "#f0f921"
             ]
            ],
            "type": "surface"
           }
          ],
          "table": [
           {
            "cells": {
             "fill": {
              "color": "#EBF0F8"
             },
             "line": {
              "color": "white"
             }
            },
            "header": {
             "fill": {
              "color": "#C8D4E3"
             },
             "line": {
              "color": "white"
             }
            },
            "type": "table"
           }
          ]
         },
         "layout": {
          "annotationdefaults": {
           "arrowcolor": "#2a3f5f",
           "arrowhead": 0,
           "arrowwidth": 1
          },
          "autotypenumbers": "strict",
          "coloraxis": {
           "colorbar": {
            "outlinewidth": 0,
            "ticks": ""
           }
          },
          "colorscale": {
           "diverging": [
            [
             0,
             "#8e0152"
            ],
            [
             0.1,
             "#c51b7d"
            ],
            [
             0.2,
             "#de77ae"
            ],
            [
             0.3,
             "#f1b6da"
            ],
            [
             0.4,
             "#fde0ef"
            ],
            [
             0.5,
             "#f7f7f7"
            ],
            [
             0.6,
             "#e6f5d0"
            ],
            [
             0.7,
             "#b8e186"
            ],
            [
             0.8,
             "#7fbc41"
            ],
            [
             0.9,
             "#4d9221"
            ],
            [
             1,
             "#276419"
            ]
           ],
           "sequential": [
            [
             0,
             "#0d0887"
            ],
            [
             0.1111111111111111,
             "#46039f"
            ],
            [
             0.2222222222222222,
             "#7201a8"
            ],
            [
             0.3333333333333333,
             "#9c179e"
            ],
            [
             0.4444444444444444,
             "#bd3786"
            ],
            [
             0.5555555555555556,
             "#d8576b"
            ],
            [
             0.6666666666666666,
             "#ed7953"
            ],
            [
             0.7777777777777778,
             "#fb9f3a"
            ],
            [
             0.8888888888888888,
             "#fdca26"
            ],
            [
             1,
             "#f0f921"
            ]
           ],
           "sequentialminus": [
            [
             0,
             "#0d0887"
            ],
            [
             0.1111111111111111,
             "#46039f"
            ],
            [
             0.2222222222222222,
             "#7201a8"
            ],
            [
             0.3333333333333333,
             "#9c179e"
            ],
            [
             0.4444444444444444,
             "#bd3786"
            ],
            [
             0.5555555555555556,
             "#d8576b"
            ],
            [
             0.6666666666666666,
             "#ed7953"
            ],
            [
             0.7777777777777778,
             "#fb9f3a"
            ],
            [
             0.8888888888888888,
             "#fdca26"
            ],
            [
             1,
             "#f0f921"
            ]
           ]
          },
          "colorway": [
           "#636efa",
           "#EF553B",
           "#00cc96",
           "#ab63fa",
           "#FFA15A",
           "#19d3f3",
           "#FF6692",
           "#B6E880",
           "#FF97FF",
           "#FECB52"
          ],
          "font": {
           "color": "#2a3f5f"
          },
          "geo": {
           "bgcolor": "white",
           "lakecolor": "white",
           "landcolor": "#E5ECF6",
           "showlakes": true,
           "showland": true,
           "subunitcolor": "white"
          },
          "hoverlabel": {
           "align": "left"
          },
          "hovermode": "closest",
          "mapbox": {
           "style": "light"
          },
          "paper_bgcolor": "white",
          "plot_bgcolor": "#E5ECF6",
          "polar": {
           "angularaxis": {
            "gridcolor": "white",
            "linecolor": "white",
            "ticks": ""
           },
           "bgcolor": "#E5ECF6",
           "radialaxis": {
            "gridcolor": "white",
            "linecolor": "white",
            "ticks": ""
           }
          },
          "scene": {
           "xaxis": {
            "backgroundcolor": "#E5ECF6",
            "gridcolor": "white",
            "gridwidth": 2,
            "linecolor": "white",
            "showbackground": true,
            "ticks": "",
            "zerolinecolor": "white"
           },
           "yaxis": {
            "backgroundcolor": "#E5ECF6",
            "gridcolor": "white",
            "gridwidth": 2,
            "linecolor": "white",
            "showbackground": true,
            "ticks": "",
            "zerolinecolor": "white"
           },
           "zaxis": {
            "backgroundcolor": "#E5ECF6",
            "gridcolor": "white",
            "gridwidth": 2,
            "linecolor": "white",
            "showbackground": true,
            "ticks": "",
            "zerolinecolor": "white"
           }
          },
          "shapedefaults": {
           "line": {
            "color": "#2a3f5f"
           }
          },
          "ternary": {
           "aaxis": {
            "gridcolor": "white",
            "linecolor": "white",
            "ticks": ""
           },
           "baxis": {
            "gridcolor": "white",
            "linecolor": "white",
            "ticks": ""
           },
           "bgcolor": "#E5ECF6",
           "caxis": {
            "gridcolor": "white",
            "linecolor": "white",
            "ticks": ""
           }
          },
          "title": {
           "x": 0.05
          },
          "xaxis": {
           "automargin": true,
           "gridcolor": "white",
           "linecolor": "white",
           "ticks": "",
           "title": {
            "standoff": 15
           },
           "zerolinecolor": "white",
           "zerolinewidth": 2
          },
          "yaxis": {
           "automargin": true,
           "gridcolor": "white",
           "linecolor": "white",
           "ticks": "",
           "title": {
            "standoff": 15
           },
           "zerolinecolor": "white",
           "zerolinewidth": 2
          }
         }
        },
        "title": {
         "text": "precision comparision of different models"
        },
        "xaxis": {
         "anchor": "y",
         "domain": [
          0,
          1
         ],
         "title": {
          "text": "models"
         }
        },
        "yaxis": {
         "anchor": "x",
         "domain": [
          0,
          1
         ],
         "title": {
          "text": "precision"
         }
        }
       }
      }
     },
     "metadata": {},
     "output_type": "display_data"
    }
   ],
   "source": [
    "px.bar(x=x,y=result['precision_score'],labels={'x':'models','y':'precision'},title=\"precision comparision of different models\")"
   ]
  },
  {
   "cell_type": "code",
   "execution_count": 10,
   "metadata": {},
   "outputs": [],
   "source": [
    "result = result.sort_values(by='f1_score')\n",
    "x =  result['models']+\" \"+result['ngrams']+\" \"+result['Text_vectorization']"
   ]
  },
  {
   "cell_type": "code",
   "execution_count": 11,
   "metadata": {},
   "outputs": [
    {
     "data": {
      "application/vnd.plotly.v1+json": {
       "config": {
        "plotlyServerURL": "https://plot.ly"
       },
       "data": [
        {
         "hovertemplate": "models=%{x}<br>f1-score=%{y}<extra></extra>",
         "legendgroup": "",
         "line": {
          "color": "#636efa",
          "dash": "solid"
         },
         "marker": {
          "symbol": "circle"
         },
         "mode": "lines+markers",
         "name": "",
         "orientation": "v",
         "showlegend": false,
         "type": "scatter",
         "x": [
          "Naive Bayes default TF-IDF",
          "Naive Bayes (1,2) TF-IDF",
          "Naive Bayes (1,3) TF-IDF",
          "KNN (1,3) TF-IDF",
          "KNN (1,2) TF-IDF",
          "KNN (1,3) BOW(CountVectorizer)",
          "KNN default TF-IDF",
          "KNN (1,2) BOW(CountVectorizer)",
          "Decision Tree (1,2) TF-IDF",
          "Decision Tree (1,3) TF-IDF",
          "Decision Tree default TF-IDF",
          "Naive Bayes default BOW(CountVectorizer)",
          "Decision Tree default BOW(CountVectorizer)",
          "KNN default BOW(CountVectorizer)",
          "Decision Tree (1,3) BOW(CountVectorizer)",
          "Decision Tree (1,2) BOW(CountVectorizer)",
          "Naive Bayes (1,2) BOW(CountVectorizer)",
          "Naive Bayes (1,3) BOW(CountVectorizer)",
          "Logistic Regression (1,3) TF-IDF",
          "Logistic Regression default TF-IDF",
          "Logistic Regression (1,2) TF-IDF",
          "SVM default BOW(CountVectorizer)",
          "SVM (1,3) TF-IDF",
          "SVM (1,2) BOW(CountVectorizer)",
          "SVM default TF-IDF",
          "SVM (1,3) BOW(CountVectorizer)",
          "SVM (1,2) TF-IDF",
          "Logistic Regression (1,2) BOW(CountVectorizer)",
          "Logistic Regression default BOW(CountVectorizer)",
          "Logistic Regression (1,3) BOW(CountVectorizer)"
         ],
         "xaxis": "x",
         "y": [
          0.8948098499958215,
          0.9196434680464236,
          0.9282210587457383,
          0.9337982688741304,
          0.9362088529225588,
          0.9419609067381974,
          0.9433370769933472,
          0.9477412672412928,
          0.950057253600578,
          0.9503457666829924,
          0.950820885682828,
          0.9512733902597944,
          0.9548335349711782,
          0.954881041105738,
          0.9587055540724712,
          0.9593992055655912,
          0.9640678077226974,
          0.9649728878839752,
          0.9661979677163124,
          0.9678614463971704,
          0.9680088233697948,
          0.9687874634283103,
          0.9695868418183844,
          0.970684109952691,
          0.9710068156973792,
          0.971575535613425,
          0.971779563912194,
          0.9735723463036562,
          0.9737059608797842,
          0.9738061378902992
         ],
         "yaxis": "y"
        }
       ],
       "layout": {
        "legend": {
         "tracegroupgap": 0
        },
        "template": {
         "data": {
          "bar": [
           {
            "error_x": {
             "color": "#2a3f5f"
            },
            "error_y": {
             "color": "#2a3f5f"
            },
            "marker": {
             "line": {
              "color": "#E5ECF6",
              "width": 0.5
             },
             "pattern": {
              "fillmode": "overlay",
              "size": 10,
              "solidity": 0.2
             }
            },
            "type": "bar"
           }
          ],
          "barpolar": [
           {
            "marker": {
             "line": {
              "color": "#E5ECF6",
              "width": 0.5
             },
             "pattern": {
              "fillmode": "overlay",
              "size": 10,
              "solidity": 0.2
             }
            },
            "type": "barpolar"
           }
          ],
          "carpet": [
           {
            "aaxis": {
             "endlinecolor": "#2a3f5f",
             "gridcolor": "white",
             "linecolor": "white",
             "minorgridcolor": "white",
             "startlinecolor": "#2a3f5f"
            },
            "baxis": {
             "endlinecolor": "#2a3f5f",
             "gridcolor": "white",
             "linecolor": "white",
             "minorgridcolor": "white",
             "startlinecolor": "#2a3f5f"
            },
            "type": "carpet"
           }
          ],
          "choropleth": [
           {
            "colorbar": {
             "outlinewidth": 0,
             "ticks": ""
            },
            "type": "choropleth"
           }
          ],
          "contour": [
           {
            "colorbar": {
             "outlinewidth": 0,
             "ticks": ""
            },
            "colorscale": [
             [
              0,
              "#0d0887"
             ],
             [
              0.1111111111111111,
              "#46039f"
             ],
             [
              0.2222222222222222,
              "#7201a8"
             ],
             [
              0.3333333333333333,
              "#9c179e"
             ],
             [
              0.4444444444444444,
              "#bd3786"
             ],
             [
              0.5555555555555556,
              "#d8576b"
             ],
             [
              0.6666666666666666,
              "#ed7953"
             ],
             [
              0.7777777777777778,
              "#fb9f3a"
             ],
             [
              0.8888888888888888,
              "#fdca26"
             ],
             [
              1,
              "#f0f921"
             ]
            ],
            "type": "contour"
           }
          ],
          "contourcarpet": [
           {
            "colorbar": {
             "outlinewidth": 0,
             "ticks": ""
            },
            "type": "contourcarpet"
           }
          ],
          "heatmap": [
           {
            "colorbar": {
             "outlinewidth": 0,
             "ticks": ""
            },
            "colorscale": [
             [
              0,
              "#0d0887"
             ],
             [
              0.1111111111111111,
              "#46039f"
             ],
             [
              0.2222222222222222,
              "#7201a8"
             ],
             [
              0.3333333333333333,
              "#9c179e"
             ],
             [
              0.4444444444444444,
              "#bd3786"
             ],
             [
              0.5555555555555556,
              "#d8576b"
             ],
             [
              0.6666666666666666,
              "#ed7953"
             ],
             [
              0.7777777777777778,
              "#fb9f3a"
             ],
             [
              0.8888888888888888,
              "#fdca26"
             ],
             [
              1,
              "#f0f921"
             ]
            ],
            "type": "heatmap"
           }
          ],
          "heatmapgl": [
           {
            "colorbar": {
             "outlinewidth": 0,
             "ticks": ""
            },
            "colorscale": [
             [
              0,
              "#0d0887"
             ],
             [
              0.1111111111111111,
              "#46039f"
             ],
             [
              0.2222222222222222,
              "#7201a8"
             ],
             [
              0.3333333333333333,
              "#9c179e"
             ],
             [
              0.4444444444444444,
              "#bd3786"
             ],
             [
              0.5555555555555556,
              "#d8576b"
             ],
             [
              0.6666666666666666,
              "#ed7953"
             ],
             [
              0.7777777777777778,
              "#fb9f3a"
             ],
             [
              0.8888888888888888,
              "#fdca26"
             ],
             [
              1,
              "#f0f921"
             ]
            ],
            "type": "heatmapgl"
           }
          ],
          "histogram": [
           {
            "marker": {
             "pattern": {
              "fillmode": "overlay",
              "size": 10,
              "solidity": 0.2
             }
            },
            "type": "histogram"
           }
          ],
          "histogram2d": [
           {
            "colorbar": {
             "outlinewidth": 0,
             "ticks": ""
            },
            "colorscale": [
             [
              0,
              "#0d0887"
             ],
             [
              0.1111111111111111,
              "#46039f"
             ],
             [
              0.2222222222222222,
              "#7201a8"
             ],
             [
              0.3333333333333333,
              "#9c179e"
             ],
             [
              0.4444444444444444,
              "#bd3786"
             ],
             [
              0.5555555555555556,
              "#d8576b"
             ],
             [
              0.6666666666666666,
              "#ed7953"
             ],
             [
              0.7777777777777778,
              "#fb9f3a"
             ],
             [
              0.8888888888888888,
              "#fdca26"
             ],
             [
              1,
              "#f0f921"
             ]
            ],
            "type": "histogram2d"
           }
          ],
          "histogram2dcontour": [
           {
            "colorbar": {
             "outlinewidth": 0,
             "ticks": ""
            },
            "colorscale": [
             [
              0,
              "#0d0887"
             ],
             [
              0.1111111111111111,
              "#46039f"
             ],
             [
              0.2222222222222222,
              "#7201a8"
             ],
             [
              0.3333333333333333,
              "#9c179e"
             ],
             [
              0.4444444444444444,
              "#bd3786"
             ],
             [
              0.5555555555555556,
              "#d8576b"
             ],
             [
              0.6666666666666666,
              "#ed7953"
             ],
             [
              0.7777777777777778,
              "#fb9f3a"
             ],
             [
              0.8888888888888888,
              "#fdca26"
             ],
             [
              1,
              "#f0f921"
             ]
            ],
            "type": "histogram2dcontour"
           }
          ],
          "mesh3d": [
           {
            "colorbar": {
             "outlinewidth": 0,
             "ticks": ""
            },
            "type": "mesh3d"
           }
          ],
          "parcoords": [
           {
            "line": {
             "colorbar": {
              "outlinewidth": 0,
              "ticks": ""
             }
            },
            "type": "parcoords"
           }
          ],
          "pie": [
           {
            "automargin": true,
            "type": "pie"
           }
          ],
          "scatter": [
           {
            "fillpattern": {
             "fillmode": "overlay",
             "size": 10,
             "solidity": 0.2
            },
            "type": "scatter"
           }
          ],
          "scatter3d": [
           {
            "line": {
             "colorbar": {
              "outlinewidth": 0,
              "ticks": ""
             }
            },
            "marker": {
             "colorbar": {
              "outlinewidth": 0,
              "ticks": ""
             }
            },
            "type": "scatter3d"
           }
          ],
          "scattercarpet": [
           {
            "marker": {
             "colorbar": {
              "outlinewidth": 0,
              "ticks": ""
             }
            },
            "type": "scattercarpet"
           }
          ],
          "scattergeo": [
           {
            "marker": {
             "colorbar": {
              "outlinewidth": 0,
              "ticks": ""
             }
            },
            "type": "scattergeo"
           }
          ],
          "scattergl": [
           {
            "marker": {
             "colorbar": {
              "outlinewidth": 0,
              "ticks": ""
             }
            },
            "type": "scattergl"
           }
          ],
          "scattermapbox": [
           {
            "marker": {
             "colorbar": {
              "outlinewidth": 0,
              "ticks": ""
             }
            },
            "type": "scattermapbox"
           }
          ],
          "scatterpolar": [
           {
            "marker": {
             "colorbar": {
              "outlinewidth": 0,
              "ticks": ""
             }
            },
            "type": "scatterpolar"
           }
          ],
          "scatterpolargl": [
           {
            "marker": {
             "colorbar": {
              "outlinewidth": 0,
              "ticks": ""
             }
            },
            "type": "scatterpolargl"
           }
          ],
          "scatterternary": [
           {
            "marker": {
             "colorbar": {
              "outlinewidth": 0,
              "ticks": ""
             }
            },
            "type": "scatterternary"
           }
          ],
          "surface": [
           {
            "colorbar": {
             "outlinewidth": 0,
             "ticks": ""
            },
            "colorscale": [
             [
              0,
              "#0d0887"
             ],
             [
              0.1111111111111111,
              "#46039f"
             ],
             [
              0.2222222222222222,
              "#7201a8"
             ],
             [
              0.3333333333333333,
              "#9c179e"
             ],
             [
              0.4444444444444444,
              "#bd3786"
             ],
             [
              0.5555555555555556,
              "#d8576b"
             ],
             [
              0.6666666666666666,
              "#ed7953"
             ],
             [
              0.7777777777777778,
              "#fb9f3a"
             ],
             [
              0.8888888888888888,
              "#fdca26"
             ],
             [
              1,
              "#f0f921"
             ]
            ],
            "type": "surface"
           }
          ],
          "table": [
           {
            "cells": {
             "fill": {
              "color": "#EBF0F8"
             },
             "line": {
              "color": "white"
             }
            },
            "header": {
             "fill": {
              "color": "#C8D4E3"
             },
             "line": {
              "color": "white"
             }
            },
            "type": "table"
           }
          ]
         },
         "layout": {
          "annotationdefaults": {
           "arrowcolor": "#2a3f5f",
           "arrowhead": 0,
           "arrowwidth": 1
          },
          "autotypenumbers": "strict",
          "coloraxis": {
           "colorbar": {
            "outlinewidth": 0,
            "ticks": ""
           }
          },
          "colorscale": {
           "diverging": [
            [
             0,
             "#8e0152"
            ],
            [
             0.1,
             "#c51b7d"
            ],
            [
             0.2,
             "#de77ae"
            ],
            [
             0.3,
             "#f1b6da"
            ],
            [
             0.4,
             "#fde0ef"
            ],
            [
             0.5,
             "#f7f7f7"
            ],
            [
             0.6,
             "#e6f5d0"
            ],
            [
             0.7,
             "#b8e186"
            ],
            [
             0.8,
             "#7fbc41"
            ],
            [
             0.9,
             "#4d9221"
            ],
            [
             1,
             "#276419"
            ]
           ],
           "sequential": [
            [
             0,
             "#0d0887"
            ],
            [
             0.1111111111111111,
             "#46039f"
            ],
            [
             0.2222222222222222,
             "#7201a8"
            ],
            [
             0.3333333333333333,
             "#9c179e"
            ],
            [
             0.4444444444444444,
             "#bd3786"
            ],
            [
             0.5555555555555556,
             "#d8576b"
            ],
            [
             0.6666666666666666,
             "#ed7953"
            ],
            [
             0.7777777777777778,
             "#fb9f3a"
            ],
            [
             0.8888888888888888,
             "#fdca26"
            ],
            [
             1,
             "#f0f921"
            ]
           ],
           "sequentialminus": [
            [
             0,
             "#0d0887"
            ],
            [
             0.1111111111111111,
             "#46039f"
            ],
            [
             0.2222222222222222,
             "#7201a8"
            ],
            [
             0.3333333333333333,
             "#9c179e"
            ],
            [
             0.4444444444444444,
             "#bd3786"
            ],
            [
             0.5555555555555556,
             "#d8576b"
            ],
            [
             0.6666666666666666,
             "#ed7953"
            ],
            [
             0.7777777777777778,
             "#fb9f3a"
            ],
            [
             0.8888888888888888,
             "#fdca26"
            ],
            [
             1,
             "#f0f921"
            ]
           ]
          },
          "colorway": [
           "#636efa",
           "#EF553B",
           "#00cc96",
           "#ab63fa",
           "#FFA15A",
           "#19d3f3",
           "#FF6692",
           "#B6E880",
           "#FF97FF",
           "#FECB52"
          ],
          "font": {
           "color": "#2a3f5f"
          },
          "geo": {
           "bgcolor": "white",
           "lakecolor": "white",
           "landcolor": "#E5ECF6",
           "showlakes": true,
           "showland": true,
           "subunitcolor": "white"
          },
          "hoverlabel": {
           "align": "left"
          },
          "hovermode": "closest",
          "mapbox": {
           "style": "light"
          },
          "paper_bgcolor": "white",
          "plot_bgcolor": "#E5ECF6",
          "polar": {
           "angularaxis": {
            "gridcolor": "white",
            "linecolor": "white",
            "ticks": ""
           },
           "bgcolor": "#E5ECF6",
           "radialaxis": {
            "gridcolor": "white",
            "linecolor": "white",
            "ticks": ""
           }
          },
          "scene": {
           "xaxis": {
            "backgroundcolor": "#E5ECF6",
            "gridcolor": "white",
            "gridwidth": 2,
            "linecolor": "white",
            "showbackground": true,
            "ticks": "",
            "zerolinecolor": "white"
           },
           "yaxis": {
            "backgroundcolor": "#E5ECF6",
            "gridcolor": "white",
            "gridwidth": 2,
            "linecolor": "white",
            "showbackground": true,
            "ticks": "",
            "zerolinecolor": "white"
           },
           "zaxis": {
            "backgroundcolor": "#E5ECF6",
            "gridcolor": "white",
            "gridwidth": 2,
            "linecolor": "white",
            "showbackground": true,
            "ticks": "",
            "zerolinecolor": "white"
           }
          },
          "shapedefaults": {
           "line": {
            "color": "#2a3f5f"
           }
          },
          "ternary": {
           "aaxis": {
            "gridcolor": "white",
            "linecolor": "white",
            "ticks": ""
           },
           "baxis": {
            "gridcolor": "white",
            "linecolor": "white",
            "ticks": ""
           },
           "bgcolor": "#E5ECF6",
           "caxis": {
            "gridcolor": "white",
            "linecolor": "white",
            "ticks": ""
           }
          },
          "title": {
           "x": 0.05
          },
          "xaxis": {
           "automargin": true,
           "gridcolor": "white",
           "linecolor": "white",
           "ticks": "",
           "title": {
            "standoff": 15
           },
           "zerolinecolor": "white",
           "zerolinewidth": 2
          },
          "yaxis": {
           "automargin": true,
           "gridcolor": "white",
           "linecolor": "white",
           "ticks": "",
           "title": {
            "standoff": 15
           },
           "zerolinecolor": "white",
           "zerolinewidth": 2
          }
         }
        },
        "title": {
         "text": "f1-score comparision of different models"
        },
        "xaxis": {
         "anchor": "y",
         "domain": [
          0,
          1
         ],
         "title": {
          "text": "models"
         }
        },
        "yaxis": {
         "anchor": "x",
         "domain": [
          0,
          1
         ],
         "title": {
          "text": "f1-score"
         }
        }
       }
      }
     },
     "metadata": {},
     "output_type": "display_data"
    }
   ],
   "source": [
    "px.line(x=x,y=result['f1_score'],markers='o',labels={'x':'models','y':'f1-score'},title=\"f1-score comparision of different models\")"
   ]
  },
  {
   "cell_type": "code",
   "execution_count": 12,
   "metadata": {},
   "outputs": [
    {
     "data": {
      "application/vnd.plotly.v1+json": {
       "config": {
        "plotlyServerURL": "https://plot.ly"
       },
       "data": [
        {
         "alignmentgroup": "True",
         "hovertemplate": "models=%{x}<br>f1-score=%{y}<extra></extra>",
         "legendgroup": "",
         "marker": {
          "color": "#636efa",
          "pattern": {
           "shape": ""
          }
         },
         "name": "",
         "offsetgroup": "",
         "orientation": "v",
         "showlegend": false,
         "textposition": "auto",
         "type": "bar",
         "x": [
          "Naive Bayes default TF-IDF",
          "Naive Bayes (1,2) TF-IDF",
          "Naive Bayes (1,3) TF-IDF",
          "KNN (1,3) TF-IDF",
          "KNN (1,2) TF-IDF",
          "KNN (1,3) BOW(CountVectorizer)",
          "KNN default TF-IDF",
          "KNN (1,2) BOW(CountVectorizer)",
          "Decision Tree (1,2) TF-IDF",
          "Decision Tree (1,3) TF-IDF",
          "Decision Tree default TF-IDF",
          "Naive Bayes default BOW(CountVectorizer)",
          "Decision Tree default BOW(CountVectorizer)",
          "KNN default BOW(CountVectorizer)",
          "Decision Tree (1,3) BOW(CountVectorizer)",
          "Decision Tree (1,2) BOW(CountVectorizer)",
          "Naive Bayes (1,2) BOW(CountVectorizer)",
          "Naive Bayes (1,3) BOW(CountVectorizer)",
          "Logistic Regression (1,3) TF-IDF",
          "Logistic Regression default TF-IDF",
          "Logistic Regression (1,2) TF-IDF",
          "SVM default BOW(CountVectorizer)",
          "SVM (1,3) TF-IDF",
          "SVM (1,2) BOW(CountVectorizer)",
          "SVM default TF-IDF",
          "SVM (1,3) BOW(CountVectorizer)",
          "SVM (1,2) TF-IDF",
          "Logistic Regression (1,2) BOW(CountVectorizer)",
          "Logistic Regression default BOW(CountVectorizer)",
          "Logistic Regression (1,3) BOW(CountVectorizer)"
         ],
         "xaxis": "x",
         "y": [
          0.8948098499958215,
          0.9196434680464236,
          0.9282210587457383,
          0.9337982688741304,
          0.9362088529225588,
          0.9419609067381974,
          0.9433370769933472,
          0.9477412672412928,
          0.950057253600578,
          0.9503457666829924,
          0.950820885682828,
          0.9512733902597944,
          0.9548335349711782,
          0.954881041105738,
          0.9587055540724712,
          0.9593992055655912,
          0.9640678077226974,
          0.9649728878839752,
          0.9661979677163124,
          0.9678614463971704,
          0.9680088233697948,
          0.9687874634283103,
          0.9695868418183844,
          0.970684109952691,
          0.9710068156973792,
          0.971575535613425,
          0.971779563912194,
          0.9735723463036562,
          0.9737059608797842,
          0.9738061378902992
         ],
         "yaxis": "y"
        }
       ],
       "layout": {
        "barmode": "relative",
        "legend": {
         "tracegroupgap": 0
        },
        "template": {
         "data": {
          "bar": [
           {
            "error_x": {
             "color": "#2a3f5f"
            },
            "error_y": {
             "color": "#2a3f5f"
            },
            "marker": {
             "line": {
              "color": "#E5ECF6",
              "width": 0.5
             },
             "pattern": {
              "fillmode": "overlay",
              "size": 10,
              "solidity": 0.2
             }
            },
            "type": "bar"
           }
          ],
          "barpolar": [
           {
            "marker": {
             "line": {
              "color": "#E5ECF6",
              "width": 0.5
             },
             "pattern": {
              "fillmode": "overlay",
              "size": 10,
              "solidity": 0.2
             }
            },
            "type": "barpolar"
           }
          ],
          "carpet": [
           {
            "aaxis": {
             "endlinecolor": "#2a3f5f",
             "gridcolor": "white",
             "linecolor": "white",
             "minorgridcolor": "white",
             "startlinecolor": "#2a3f5f"
            },
            "baxis": {
             "endlinecolor": "#2a3f5f",
             "gridcolor": "white",
             "linecolor": "white",
             "minorgridcolor": "white",
             "startlinecolor": "#2a3f5f"
            },
            "type": "carpet"
           }
          ],
          "choropleth": [
           {
            "colorbar": {
             "outlinewidth": 0,
             "ticks": ""
            },
            "type": "choropleth"
           }
          ],
          "contour": [
           {
            "colorbar": {
             "outlinewidth": 0,
             "ticks": ""
            },
            "colorscale": [
             [
              0,
              "#0d0887"
             ],
             [
              0.1111111111111111,
              "#46039f"
             ],
             [
              0.2222222222222222,
              "#7201a8"
             ],
             [
              0.3333333333333333,
              "#9c179e"
             ],
             [
              0.4444444444444444,
              "#bd3786"
             ],
             [
              0.5555555555555556,
              "#d8576b"
             ],
             [
              0.6666666666666666,
              "#ed7953"
             ],
             [
              0.7777777777777778,
              "#fb9f3a"
             ],
             [
              0.8888888888888888,
              "#fdca26"
             ],
             [
              1,
              "#f0f921"
             ]
            ],
            "type": "contour"
           }
          ],
          "contourcarpet": [
           {
            "colorbar": {
             "outlinewidth": 0,
             "ticks": ""
            },
            "type": "contourcarpet"
           }
          ],
          "heatmap": [
           {
            "colorbar": {
             "outlinewidth": 0,
             "ticks": ""
            },
            "colorscale": [
             [
              0,
              "#0d0887"
             ],
             [
              0.1111111111111111,
              "#46039f"
             ],
             [
              0.2222222222222222,
              "#7201a8"
             ],
             [
              0.3333333333333333,
              "#9c179e"
             ],
             [
              0.4444444444444444,
              "#bd3786"
             ],
             [
              0.5555555555555556,
              "#d8576b"
             ],
             [
              0.6666666666666666,
              "#ed7953"
             ],
             [
              0.7777777777777778,
              "#fb9f3a"
             ],
             [
              0.8888888888888888,
              "#fdca26"
             ],
             [
              1,
              "#f0f921"
             ]
            ],
            "type": "heatmap"
           }
          ],
          "heatmapgl": [
           {
            "colorbar": {
             "outlinewidth": 0,
             "ticks": ""
            },
            "colorscale": [
             [
              0,
              "#0d0887"
             ],
             [
              0.1111111111111111,
              "#46039f"
             ],
             [
              0.2222222222222222,
              "#7201a8"
             ],
             [
              0.3333333333333333,
              "#9c179e"
             ],
             [
              0.4444444444444444,
              "#bd3786"
             ],
             [
              0.5555555555555556,
              "#d8576b"
             ],
             [
              0.6666666666666666,
              "#ed7953"
             ],
             [
              0.7777777777777778,
              "#fb9f3a"
             ],
             [
              0.8888888888888888,
              "#fdca26"
             ],
             [
              1,
              "#f0f921"
             ]
            ],
            "type": "heatmapgl"
           }
          ],
          "histogram": [
           {
            "marker": {
             "pattern": {
              "fillmode": "overlay",
              "size": 10,
              "solidity": 0.2
             }
            },
            "type": "histogram"
           }
          ],
          "histogram2d": [
           {
            "colorbar": {
             "outlinewidth": 0,
             "ticks": ""
            },
            "colorscale": [
             [
              0,
              "#0d0887"
             ],
             [
              0.1111111111111111,
              "#46039f"
             ],
             [
              0.2222222222222222,
              "#7201a8"
             ],
             [
              0.3333333333333333,
              "#9c179e"
             ],
             [
              0.4444444444444444,
              "#bd3786"
             ],
             [
              0.5555555555555556,
              "#d8576b"
             ],
             [
              0.6666666666666666,
              "#ed7953"
             ],
             [
              0.7777777777777778,
              "#fb9f3a"
             ],
             [
              0.8888888888888888,
              "#fdca26"
             ],
             [
              1,
              "#f0f921"
             ]
            ],
            "type": "histogram2d"
           }
          ],
          "histogram2dcontour": [
           {
            "colorbar": {
             "outlinewidth": 0,
             "ticks": ""
            },
            "colorscale": [
             [
              0,
              "#0d0887"
             ],
             [
              0.1111111111111111,
              "#46039f"
             ],
             [
              0.2222222222222222,
              "#7201a8"
             ],
             [
              0.3333333333333333,
              "#9c179e"
             ],
             [
              0.4444444444444444,
              "#bd3786"
             ],
             [
              0.5555555555555556,
              "#d8576b"
             ],
             [
              0.6666666666666666,
              "#ed7953"
             ],
             [
              0.7777777777777778,
              "#fb9f3a"
             ],
             [
              0.8888888888888888,
              "#fdca26"
             ],
             [
              1,
              "#f0f921"
             ]
            ],
            "type": "histogram2dcontour"
           }
          ],
          "mesh3d": [
           {
            "colorbar": {
             "outlinewidth": 0,
             "ticks": ""
            },
            "type": "mesh3d"
           }
          ],
          "parcoords": [
           {
            "line": {
             "colorbar": {
              "outlinewidth": 0,
              "ticks": ""
             }
            },
            "type": "parcoords"
           }
          ],
          "pie": [
           {
            "automargin": true,
            "type": "pie"
           }
          ],
          "scatter": [
           {
            "fillpattern": {
             "fillmode": "overlay",
             "size": 10,
             "solidity": 0.2
            },
            "type": "scatter"
           }
          ],
          "scatter3d": [
           {
            "line": {
             "colorbar": {
              "outlinewidth": 0,
              "ticks": ""
             }
            },
            "marker": {
             "colorbar": {
              "outlinewidth": 0,
              "ticks": ""
             }
            },
            "type": "scatter3d"
           }
          ],
          "scattercarpet": [
           {
            "marker": {
             "colorbar": {
              "outlinewidth": 0,
              "ticks": ""
             }
            },
            "type": "scattercarpet"
           }
          ],
          "scattergeo": [
           {
            "marker": {
             "colorbar": {
              "outlinewidth": 0,
              "ticks": ""
             }
            },
            "type": "scattergeo"
           }
          ],
          "scattergl": [
           {
            "marker": {
             "colorbar": {
              "outlinewidth": 0,
              "ticks": ""
             }
            },
            "type": "scattergl"
           }
          ],
          "scattermapbox": [
           {
            "marker": {
             "colorbar": {
              "outlinewidth": 0,
              "ticks": ""
             }
            },
            "type": "scattermapbox"
           }
          ],
          "scatterpolar": [
           {
            "marker": {
             "colorbar": {
              "outlinewidth": 0,
              "ticks": ""
             }
            },
            "type": "scatterpolar"
           }
          ],
          "scatterpolargl": [
           {
            "marker": {
             "colorbar": {
              "outlinewidth": 0,
              "ticks": ""
             }
            },
            "type": "scatterpolargl"
           }
          ],
          "scatterternary": [
           {
            "marker": {
             "colorbar": {
              "outlinewidth": 0,
              "ticks": ""
             }
            },
            "type": "scatterternary"
           }
          ],
          "surface": [
           {
            "colorbar": {
             "outlinewidth": 0,
             "ticks": ""
            },
            "colorscale": [
             [
              0,
              "#0d0887"
             ],
             [
              0.1111111111111111,
              "#46039f"
             ],
             [
              0.2222222222222222,
              "#7201a8"
             ],
             [
              0.3333333333333333,
              "#9c179e"
             ],
             [
              0.4444444444444444,
              "#bd3786"
             ],
             [
              0.5555555555555556,
              "#d8576b"
             ],
             [
              0.6666666666666666,
              "#ed7953"
             ],
             [
              0.7777777777777778,
              "#fb9f3a"
             ],
             [
              0.8888888888888888,
              "#fdca26"
             ],
             [
              1,
              "#f0f921"
             ]
            ],
            "type": "surface"
           }
          ],
          "table": [
           {
            "cells": {
             "fill": {
              "color": "#EBF0F8"
             },
             "line": {
              "color": "white"
             }
            },
            "header": {
             "fill": {
              "color": "#C8D4E3"
             },
             "line": {
              "color": "white"
             }
            },
            "type": "table"
           }
          ]
         },
         "layout": {
          "annotationdefaults": {
           "arrowcolor": "#2a3f5f",
           "arrowhead": 0,
           "arrowwidth": 1
          },
          "autotypenumbers": "strict",
          "coloraxis": {
           "colorbar": {
            "outlinewidth": 0,
            "ticks": ""
           }
          },
          "colorscale": {
           "diverging": [
            [
             0,
             "#8e0152"
            ],
            [
             0.1,
             "#c51b7d"
            ],
            [
             0.2,
             "#de77ae"
            ],
            [
             0.3,
             "#f1b6da"
            ],
            [
             0.4,
             "#fde0ef"
            ],
            [
             0.5,
             "#f7f7f7"
            ],
            [
             0.6,
             "#e6f5d0"
            ],
            [
             0.7,
             "#b8e186"
            ],
            [
             0.8,
             "#7fbc41"
            ],
            [
             0.9,
             "#4d9221"
            ],
            [
             1,
             "#276419"
            ]
           ],
           "sequential": [
            [
             0,
             "#0d0887"
            ],
            [
             0.1111111111111111,
             "#46039f"
            ],
            [
             0.2222222222222222,
             "#7201a8"
            ],
            [
             0.3333333333333333,
             "#9c179e"
            ],
            [
             0.4444444444444444,
             "#bd3786"
            ],
            [
             0.5555555555555556,
             "#d8576b"
            ],
            [
             0.6666666666666666,
             "#ed7953"
            ],
            [
             0.7777777777777778,
             "#fb9f3a"
            ],
            [
             0.8888888888888888,
             "#fdca26"
            ],
            [
             1,
             "#f0f921"
            ]
           ],
           "sequentialminus": [
            [
             0,
             "#0d0887"
            ],
            [
             0.1111111111111111,
             "#46039f"
            ],
            [
             0.2222222222222222,
             "#7201a8"
            ],
            [
             0.3333333333333333,
             "#9c179e"
            ],
            [
             0.4444444444444444,
             "#bd3786"
            ],
            [
             0.5555555555555556,
             "#d8576b"
            ],
            [
             0.6666666666666666,
             "#ed7953"
            ],
            [
             0.7777777777777778,
             "#fb9f3a"
            ],
            [
             0.8888888888888888,
             "#fdca26"
            ],
            [
             1,
             "#f0f921"
            ]
           ]
          },
          "colorway": [
           "#636efa",
           "#EF553B",
           "#00cc96",
           "#ab63fa",
           "#FFA15A",
           "#19d3f3",
           "#FF6692",
           "#B6E880",
           "#FF97FF",
           "#FECB52"
          ],
          "font": {
           "color": "#2a3f5f"
          },
          "geo": {
           "bgcolor": "white",
           "lakecolor": "white",
           "landcolor": "#E5ECF6",
           "showlakes": true,
           "showland": true,
           "subunitcolor": "white"
          },
          "hoverlabel": {
           "align": "left"
          },
          "hovermode": "closest",
          "mapbox": {
           "style": "light"
          },
          "paper_bgcolor": "white",
          "plot_bgcolor": "#E5ECF6",
          "polar": {
           "angularaxis": {
            "gridcolor": "white",
            "linecolor": "white",
            "ticks": ""
           },
           "bgcolor": "#E5ECF6",
           "radialaxis": {
            "gridcolor": "white",
            "linecolor": "white",
            "ticks": ""
           }
          },
          "scene": {
           "xaxis": {
            "backgroundcolor": "#E5ECF6",
            "gridcolor": "white",
            "gridwidth": 2,
            "linecolor": "white",
            "showbackground": true,
            "ticks": "",
            "zerolinecolor": "white"
           },
           "yaxis": {
            "backgroundcolor": "#E5ECF6",
            "gridcolor": "white",
            "gridwidth": 2,
            "linecolor": "white",
            "showbackground": true,
            "ticks": "",
            "zerolinecolor": "white"
           },
           "zaxis": {
            "backgroundcolor": "#E5ECF6",
            "gridcolor": "white",
            "gridwidth": 2,
            "linecolor": "white",
            "showbackground": true,
            "ticks": "",
            "zerolinecolor": "white"
           }
          },
          "shapedefaults": {
           "line": {
            "color": "#2a3f5f"
           }
          },
          "ternary": {
           "aaxis": {
            "gridcolor": "white",
            "linecolor": "white",
            "ticks": ""
           },
           "baxis": {
            "gridcolor": "white",
            "linecolor": "white",
            "ticks": ""
           },
           "bgcolor": "#E5ECF6",
           "caxis": {
            "gridcolor": "white",
            "linecolor": "white",
            "ticks": ""
           }
          },
          "title": {
           "x": 0.05
          },
          "xaxis": {
           "automargin": true,
           "gridcolor": "white",
           "linecolor": "white",
           "ticks": "",
           "title": {
            "standoff": 15
           },
           "zerolinecolor": "white",
           "zerolinewidth": 2
          },
          "yaxis": {
           "automargin": true,
           "gridcolor": "white",
           "linecolor": "white",
           "ticks": "",
           "title": {
            "standoff": 15
           },
           "zerolinecolor": "white",
           "zerolinewidth": 2
          }
         }
        },
        "title": {
         "text": "f1-score comparision of different models"
        },
        "xaxis": {
         "anchor": "y",
         "domain": [
          0,
          1
         ],
         "title": {
          "text": "models"
         }
        },
        "yaxis": {
         "anchor": "x",
         "domain": [
          0,
          1
         ],
         "title": {
          "text": "f1-score"
         }
        }
       }
      }
     },
     "metadata": {},
     "output_type": "display_data"
    }
   ],
   "source": [
    "px.bar(x=x,y=result['f1_score'],labels={'x':'models','y':'f1-score'},title=\"f1-score comparision of different models\")"
   ]
  },
  {
   "cell_type": "code",
   "execution_count": 13,
   "metadata": {},
   "outputs": [],
   "source": [
    "result = result.sort_values(by='recall_score')\n",
    "x =  result['models']+\" \"+result['ngrams']+\" \"+result['Text_vectorization']"
   ]
  },
  {
   "cell_type": "code",
   "execution_count": 14,
   "metadata": {},
   "outputs": [
    {
     "data": {
      "application/vnd.plotly.v1+json": {
       "config": {
        "plotlyServerURL": "https://plot.ly"
       },
       "data": [
        {
         "hovertemplate": "models=%{x}<br>recall=%{y}<extra></extra>",
         "legendgroup": "",
         "line": {
          "color": "#636efa",
          "dash": "solid"
         },
         "marker": {
          "symbol": "circle"
         },
         "mode": "lines+markers",
         "name": "",
         "orientation": "v",
         "showlegend": false,
         "type": "scatter",
         "x": [
          "Naive Bayes default TF-IDF",
          "Naive Bayes (1,2) TF-IDF",
          "Naive Bayes (1,3) TF-IDF",
          "KNN (1,3) TF-IDF",
          "KNN (1,2) TF-IDF",
          "KNN (1,3) BOW(CountVectorizer)",
          "KNN default TF-IDF",
          "Decision Tree (1,3) TF-IDF",
          "Decision Tree (1,2) TF-IDF",
          "Decision Tree default TF-IDF",
          "KNN (1,2) BOW(CountVectorizer)",
          "Naive Bayes default BOW(CountVectorizer)",
          "Decision Tree default BOW(CountVectorizer)",
          "KNN default BOW(CountVectorizer)",
          "Decision Tree (1,3) BOW(CountVectorizer)",
          "Decision Tree (1,2) BOW(CountVectorizer)",
          "Naive Bayes (1,2) BOW(CountVectorizer)",
          "Naive Bayes (1,3) BOW(CountVectorizer)",
          "Logistic Regression (1,3) TF-IDF",
          "SVM default BOW(CountVectorizer)",
          "Logistic Regression default TF-IDF",
          "Logistic Regression (1,2) TF-IDF",
          "SVM (1,3) TF-IDF",
          "SVM (1,2) BOW(CountVectorizer)",
          "SVM default TF-IDF",
          "SVM (1,3) BOW(CountVectorizer)",
          "SVM (1,2) TF-IDF",
          "Logistic Regression (1,2) BOW(CountVectorizer)",
          "Logistic Regression default BOW(CountVectorizer)",
          "Logistic Regression (1,3) BOW(CountVectorizer)"
         ],
         "xaxis": "x",
         "y": [
          0.914079822616408,
          0.9305709534368072,
          0.9368070953436808,
          0.9401330376940134,
          0.9419345898004434,
          0.9469235033259424,
          0.94720066518847,
          0.949279379157428,
          0.9494179600886918,
          0.9508037694013304,
          0.9514966740576496,
          0.9517738359201774,
          0.9548226164079824,
          0.9566241685144125,
          0.9588414634146342,
          0.9593957871396896,
          0.9650776053215078,
          0.9657705099778272,
          0.9670177383592018,
          0.9685421286031042,
          0.9689578713968958,
          0.9689578713968958,
          0.9695121951219512,
          0.970759423503326,
          0.9715909090909092,
          0.9717294900221728,
          0.9720066518847008,
          0.9739467849223948,
          0.9740853658536586,
          0.9742239467849224
         ],
         "yaxis": "y"
        }
       ],
       "layout": {
        "legend": {
         "tracegroupgap": 0
        },
        "template": {
         "data": {
          "bar": [
           {
            "error_x": {
             "color": "#2a3f5f"
            },
            "error_y": {
             "color": "#2a3f5f"
            },
            "marker": {
             "line": {
              "color": "#E5ECF6",
              "width": 0.5
             },
             "pattern": {
              "fillmode": "overlay",
              "size": 10,
              "solidity": 0.2
             }
            },
            "type": "bar"
           }
          ],
          "barpolar": [
           {
            "marker": {
             "line": {
              "color": "#E5ECF6",
              "width": 0.5
             },
             "pattern": {
              "fillmode": "overlay",
              "size": 10,
              "solidity": 0.2
             }
            },
            "type": "barpolar"
           }
          ],
          "carpet": [
           {
            "aaxis": {
             "endlinecolor": "#2a3f5f",
             "gridcolor": "white",
             "linecolor": "white",
             "minorgridcolor": "white",
             "startlinecolor": "#2a3f5f"
            },
            "baxis": {
             "endlinecolor": "#2a3f5f",
             "gridcolor": "white",
             "linecolor": "white",
             "minorgridcolor": "white",
             "startlinecolor": "#2a3f5f"
            },
            "type": "carpet"
           }
          ],
          "choropleth": [
           {
            "colorbar": {
             "outlinewidth": 0,
             "ticks": ""
            },
            "type": "choropleth"
           }
          ],
          "contour": [
           {
            "colorbar": {
             "outlinewidth": 0,
             "ticks": ""
            },
            "colorscale": [
             [
              0,
              "#0d0887"
             ],
             [
              0.1111111111111111,
              "#46039f"
             ],
             [
              0.2222222222222222,
              "#7201a8"
             ],
             [
              0.3333333333333333,
              "#9c179e"
             ],
             [
              0.4444444444444444,
              "#bd3786"
             ],
             [
              0.5555555555555556,
              "#d8576b"
             ],
             [
              0.6666666666666666,
              "#ed7953"
             ],
             [
              0.7777777777777778,
              "#fb9f3a"
             ],
             [
              0.8888888888888888,
              "#fdca26"
             ],
             [
              1,
              "#f0f921"
             ]
            ],
            "type": "contour"
           }
          ],
          "contourcarpet": [
           {
            "colorbar": {
             "outlinewidth": 0,
             "ticks": ""
            },
            "type": "contourcarpet"
           }
          ],
          "heatmap": [
           {
            "colorbar": {
             "outlinewidth": 0,
             "ticks": ""
            },
            "colorscale": [
             [
              0,
              "#0d0887"
             ],
             [
              0.1111111111111111,
              "#46039f"
             ],
             [
              0.2222222222222222,
              "#7201a8"
             ],
             [
              0.3333333333333333,
              "#9c179e"
             ],
             [
              0.4444444444444444,
              "#bd3786"
             ],
             [
              0.5555555555555556,
              "#d8576b"
             ],
             [
              0.6666666666666666,
              "#ed7953"
             ],
             [
              0.7777777777777778,
              "#fb9f3a"
             ],
             [
              0.8888888888888888,
              "#fdca26"
             ],
             [
              1,
              "#f0f921"
             ]
            ],
            "type": "heatmap"
           }
          ],
          "heatmapgl": [
           {
            "colorbar": {
             "outlinewidth": 0,
             "ticks": ""
            },
            "colorscale": [
             [
              0,
              "#0d0887"
             ],
             [
              0.1111111111111111,
              "#46039f"
             ],
             [
              0.2222222222222222,
              "#7201a8"
             ],
             [
              0.3333333333333333,
              "#9c179e"
             ],
             [
              0.4444444444444444,
              "#bd3786"
             ],
             [
              0.5555555555555556,
              "#d8576b"
             ],
             [
              0.6666666666666666,
              "#ed7953"
             ],
             [
              0.7777777777777778,
              "#fb9f3a"
             ],
             [
              0.8888888888888888,
              "#fdca26"
             ],
             [
              1,
              "#f0f921"
             ]
            ],
            "type": "heatmapgl"
           }
          ],
          "histogram": [
           {
            "marker": {
             "pattern": {
              "fillmode": "overlay",
              "size": 10,
              "solidity": 0.2
             }
            },
            "type": "histogram"
           }
          ],
          "histogram2d": [
           {
            "colorbar": {
             "outlinewidth": 0,
             "ticks": ""
            },
            "colorscale": [
             [
              0,
              "#0d0887"
             ],
             [
              0.1111111111111111,
              "#46039f"
             ],
             [
              0.2222222222222222,
              "#7201a8"
             ],
             [
              0.3333333333333333,
              "#9c179e"
             ],
             [
              0.4444444444444444,
              "#bd3786"
             ],
             [
              0.5555555555555556,
              "#d8576b"
             ],
             [
              0.6666666666666666,
              "#ed7953"
             ],
             [
              0.7777777777777778,
              "#fb9f3a"
             ],
             [
              0.8888888888888888,
              "#fdca26"
             ],
             [
              1,
              "#f0f921"
             ]
            ],
            "type": "histogram2d"
           }
          ],
          "histogram2dcontour": [
           {
            "colorbar": {
             "outlinewidth": 0,
             "ticks": ""
            },
            "colorscale": [
             [
              0,
              "#0d0887"
             ],
             [
              0.1111111111111111,
              "#46039f"
             ],
             [
              0.2222222222222222,
              "#7201a8"
             ],
             [
              0.3333333333333333,
              "#9c179e"
             ],
             [
              0.4444444444444444,
              "#bd3786"
             ],
             [
              0.5555555555555556,
              "#d8576b"
             ],
             [
              0.6666666666666666,
              "#ed7953"
             ],
             [
              0.7777777777777778,
              "#fb9f3a"
             ],
             [
              0.8888888888888888,
              "#fdca26"
             ],
             [
              1,
              "#f0f921"
             ]
            ],
            "type": "histogram2dcontour"
           }
          ],
          "mesh3d": [
           {
            "colorbar": {
             "outlinewidth": 0,
             "ticks": ""
            },
            "type": "mesh3d"
           }
          ],
          "parcoords": [
           {
            "line": {
             "colorbar": {
              "outlinewidth": 0,
              "ticks": ""
             }
            },
            "type": "parcoords"
           }
          ],
          "pie": [
           {
            "automargin": true,
            "type": "pie"
           }
          ],
          "scatter": [
           {
            "fillpattern": {
             "fillmode": "overlay",
             "size": 10,
             "solidity": 0.2
            },
            "type": "scatter"
           }
          ],
          "scatter3d": [
           {
            "line": {
             "colorbar": {
              "outlinewidth": 0,
              "ticks": ""
             }
            },
            "marker": {
             "colorbar": {
              "outlinewidth": 0,
              "ticks": ""
             }
            },
            "type": "scatter3d"
           }
          ],
          "scattercarpet": [
           {
            "marker": {
             "colorbar": {
              "outlinewidth": 0,
              "ticks": ""
             }
            },
            "type": "scattercarpet"
           }
          ],
          "scattergeo": [
           {
            "marker": {
             "colorbar": {
              "outlinewidth": 0,
              "ticks": ""
             }
            },
            "type": "scattergeo"
           }
          ],
          "scattergl": [
           {
            "marker": {
             "colorbar": {
              "outlinewidth": 0,
              "ticks": ""
             }
            },
            "type": "scattergl"
           }
          ],
          "scattermapbox": [
           {
            "marker": {
             "colorbar": {
              "outlinewidth": 0,
              "ticks": ""
             }
            },
            "type": "scattermapbox"
           }
          ],
          "scatterpolar": [
           {
            "marker": {
             "colorbar": {
              "outlinewidth": 0,
              "ticks": ""
             }
            },
            "type": "scatterpolar"
           }
          ],
          "scatterpolargl": [
           {
            "marker": {
             "colorbar": {
              "outlinewidth": 0,
              "ticks": ""
             }
            },
            "type": "scatterpolargl"
           }
          ],
          "scatterternary": [
           {
            "marker": {
             "colorbar": {
              "outlinewidth": 0,
              "ticks": ""
             }
            },
            "type": "scatterternary"
           }
          ],
          "surface": [
           {
            "colorbar": {
             "outlinewidth": 0,
             "ticks": ""
            },
            "colorscale": [
             [
              0,
              "#0d0887"
             ],
             [
              0.1111111111111111,
              "#46039f"
             ],
             [
              0.2222222222222222,
              "#7201a8"
             ],
             [
              0.3333333333333333,
              "#9c179e"
             ],
             [
              0.4444444444444444,
              "#bd3786"
             ],
             [
              0.5555555555555556,
              "#d8576b"
             ],
             [
              0.6666666666666666,
              "#ed7953"
             ],
             [
              0.7777777777777778,
              "#fb9f3a"
             ],
             [
              0.8888888888888888,
              "#fdca26"
             ],
             [
              1,
              "#f0f921"
             ]
            ],
            "type": "surface"
           }
          ],
          "table": [
           {
            "cells": {
             "fill": {
              "color": "#EBF0F8"
             },
             "line": {
              "color": "white"
             }
            },
            "header": {
             "fill": {
              "color": "#C8D4E3"
             },
             "line": {
              "color": "white"
             }
            },
            "type": "table"
           }
          ]
         },
         "layout": {
          "annotationdefaults": {
           "arrowcolor": "#2a3f5f",
           "arrowhead": 0,
           "arrowwidth": 1
          },
          "autotypenumbers": "strict",
          "coloraxis": {
           "colorbar": {
            "outlinewidth": 0,
            "ticks": ""
           }
          },
          "colorscale": {
           "diverging": [
            [
             0,
             "#8e0152"
            ],
            [
             0.1,
             "#c51b7d"
            ],
            [
             0.2,
             "#de77ae"
            ],
            [
             0.3,
             "#f1b6da"
            ],
            [
             0.4,
             "#fde0ef"
            ],
            [
             0.5,
             "#f7f7f7"
            ],
            [
             0.6,
             "#e6f5d0"
            ],
            [
             0.7,
             "#b8e186"
            ],
            [
             0.8,
             "#7fbc41"
            ],
            [
             0.9,
             "#4d9221"
            ],
            [
             1,
             "#276419"
            ]
           ],
           "sequential": [
            [
             0,
             "#0d0887"
            ],
            [
             0.1111111111111111,
             "#46039f"
            ],
            [
             0.2222222222222222,
             "#7201a8"
            ],
            [
             0.3333333333333333,
             "#9c179e"
            ],
            [
             0.4444444444444444,
             "#bd3786"
            ],
            [
             0.5555555555555556,
             "#d8576b"
            ],
            [
             0.6666666666666666,
             "#ed7953"
            ],
            [
             0.7777777777777778,
             "#fb9f3a"
            ],
            [
             0.8888888888888888,
             "#fdca26"
            ],
            [
             1,
             "#f0f921"
            ]
           ],
           "sequentialminus": [
            [
             0,
             "#0d0887"
            ],
            [
             0.1111111111111111,
             "#46039f"
            ],
            [
             0.2222222222222222,
             "#7201a8"
            ],
            [
             0.3333333333333333,
             "#9c179e"
            ],
            [
             0.4444444444444444,
             "#bd3786"
            ],
            [
             0.5555555555555556,
             "#d8576b"
            ],
            [
             0.6666666666666666,
             "#ed7953"
            ],
            [
             0.7777777777777778,
             "#fb9f3a"
            ],
            [
             0.8888888888888888,
             "#fdca26"
            ],
            [
             1,
             "#f0f921"
            ]
           ]
          },
          "colorway": [
           "#636efa",
           "#EF553B",
           "#00cc96",
           "#ab63fa",
           "#FFA15A",
           "#19d3f3",
           "#FF6692",
           "#B6E880",
           "#FF97FF",
           "#FECB52"
          ],
          "font": {
           "color": "#2a3f5f"
          },
          "geo": {
           "bgcolor": "white",
           "lakecolor": "white",
           "landcolor": "#E5ECF6",
           "showlakes": true,
           "showland": true,
           "subunitcolor": "white"
          },
          "hoverlabel": {
           "align": "left"
          },
          "hovermode": "closest",
          "mapbox": {
           "style": "light"
          },
          "paper_bgcolor": "white",
          "plot_bgcolor": "#E5ECF6",
          "polar": {
           "angularaxis": {
            "gridcolor": "white",
            "linecolor": "white",
            "ticks": ""
           },
           "bgcolor": "#E5ECF6",
           "radialaxis": {
            "gridcolor": "white",
            "linecolor": "white",
            "ticks": ""
           }
          },
          "scene": {
           "xaxis": {
            "backgroundcolor": "#E5ECF6",
            "gridcolor": "white",
            "gridwidth": 2,
            "linecolor": "white",
            "showbackground": true,
            "ticks": "",
            "zerolinecolor": "white"
           },
           "yaxis": {
            "backgroundcolor": "#E5ECF6",
            "gridcolor": "white",
            "gridwidth": 2,
            "linecolor": "white",
            "showbackground": true,
            "ticks": "",
            "zerolinecolor": "white"
           },
           "zaxis": {
            "backgroundcolor": "#E5ECF6",
            "gridcolor": "white",
            "gridwidth": 2,
            "linecolor": "white",
            "showbackground": true,
            "ticks": "",
            "zerolinecolor": "white"
           }
          },
          "shapedefaults": {
           "line": {
            "color": "#2a3f5f"
           }
          },
          "ternary": {
           "aaxis": {
            "gridcolor": "white",
            "linecolor": "white",
            "ticks": ""
           },
           "baxis": {
            "gridcolor": "white",
            "linecolor": "white",
            "ticks": ""
           },
           "bgcolor": "#E5ECF6",
           "caxis": {
            "gridcolor": "white",
            "linecolor": "white",
            "ticks": ""
           }
          },
          "title": {
           "x": 0.05
          },
          "xaxis": {
           "automargin": true,
           "gridcolor": "white",
           "linecolor": "white",
           "ticks": "",
           "title": {
            "standoff": 15
           },
           "zerolinecolor": "white",
           "zerolinewidth": 2
          },
          "yaxis": {
           "automargin": true,
           "gridcolor": "white",
           "linecolor": "white",
           "ticks": "",
           "title": {
            "standoff": 15
           },
           "zerolinecolor": "white",
           "zerolinewidth": 2
          }
         }
        },
        "title": {
         "text": "recall comparision of different models"
        },
        "xaxis": {
         "anchor": "y",
         "domain": [
          0,
          1
         ],
         "title": {
          "text": "models"
         }
        },
        "yaxis": {
         "anchor": "x",
         "domain": [
          0,
          1
         ],
         "title": {
          "text": "recall"
         }
        }
       }
      }
     },
     "metadata": {},
     "output_type": "display_data"
    }
   ],
   "source": [
    "px.line(x=x,y=result['recall_score'],markers='o',labels={'x':'models','y':'recall'},title=\"recall comparision of different models\")"
   ]
  },
  {
   "cell_type": "code",
   "execution_count": 15,
   "metadata": {},
   "outputs": [
    {
     "data": {
      "application/vnd.plotly.v1+json": {
       "config": {
        "plotlyServerURL": "https://plot.ly"
       },
       "data": [
        {
         "alignmentgroup": "True",
         "hovertemplate": "models=%{x}<br>recall=%{y}<extra></extra>",
         "legendgroup": "",
         "marker": {
          "color": "#636efa",
          "pattern": {
           "shape": ""
          }
         },
         "name": "",
         "offsetgroup": "",
         "orientation": "v",
         "showlegend": false,
         "textposition": "auto",
         "type": "bar",
         "x": [
          "Naive Bayes default TF-IDF",
          "Naive Bayes (1,2) TF-IDF",
          "Naive Bayes (1,3) TF-IDF",
          "KNN (1,3) TF-IDF",
          "KNN (1,2) TF-IDF",
          "KNN (1,3) BOW(CountVectorizer)",
          "KNN default TF-IDF",
          "Decision Tree (1,3) TF-IDF",
          "Decision Tree (1,2) TF-IDF",
          "Decision Tree default TF-IDF",
          "KNN (1,2) BOW(CountVectorizer)",
          "Naive Bayes default BOW(CountVectorizer)",
          "Decision Tree default BOW(CountVectorizer)",
          "KNN default BOW(CountVectorizer)",
          "Decision Tree (1,3) BOW(CountVectorizer)",
          "Decision Tree (1,2) BOW(CountVectorizer)",
          "Naive Bayes (1,2) BOW(CountVectorizer)",
          "Naive Bayes (1,3) BOW(CountVectorizer)",
          "Logistic Regression (1,3) TF-IDF",
          "SVM default BOW(CountVectorizer)",
          "Logistic Regression default TF-IDF",
          "Logistic Regression (1,2) TF-IDF",
          "SVM (1,3) TF-IDF",
          "SVM (1,2) BOW(CountVectorizer)",
          "SVM default TF-IDF",
          "SVM (1,3) BOW(CountVectorizer)",
          "SVM (1,2) TF-IDF",
          "Logistic Regression (1,2) BOW(CountVectorizer)",
          "Logistic Regression default BOW(CountVectorizer)",
          "Logistic Regression (1,3) BOW(CountVectorizer)"
         ],
         "xaxis": "x",
         "y": [
          0.914079822616408,
          0.9305709534368072,
          0.9368070953436808,
          0.9401330376940134,
          0.9419345898004434,
          0.9469235033259424,
          0.94720066518847,
          0.949279379157428,
          0.9494179600886918,
          0.9508037694013304,
          0.9514966740576496,
          0.9517738359201774,
          0.9548226164079824,
          0.9566241685144125,
          0.9588414634146342,
          0.9593957871396896,
          0.9650776053215078,
          0.9657705099778272,
          0.9670177383592018,
          0.9685421286031042,
          0.9689578713968958,
          0.9689578713968958,
          0.9695121951219512,
          0.970759423503326,
          0.9715909090909092,
          0.9717294900221728,
          0.9720066518847008,
          0.9739467849223948,
          0.9740853658536586,
          0.9742239467849224
         ],
         "yaxis": "y"
        }
       ],
       "layout": {
        "barmode": "relative",
        "legend": {
         "tracegroupgap": 0
        },
        "template": {
         "data": {
          "bar": [
           {
            "error_x": {
             "color": "#2a3f5f"
            },
            "error_y": {
             "color": "#2a3f5f"
            },
            "marker": {
             "line": {
              "color": "#E5ECF6",
              "width": 0.5
             },
             "pattern": {
              "fillmode": "overlay",
              "size": 10,
              "solidity": 0.2
             }
            },
            "type": "bar"
           }
          ],
          "barpolar": [
           {
            "marker": {
             "line": {
              "color": "#E5ECF6",
              "width": 0.5
             },
             "pattern": {
              "fillmode": "overlay",
              "size": 10,
              "solidity": 0.2
             }
            },
            "type": "barpolar"
           }
          ],
          "carpet": [
           {
            "aaxis": {
             "endlinecolor": "#2a3f5f",
             "gridcolor": "white",
             "linecolor": "white",
             "minorgridcolor": "white",
             "startlinecolor": "#2a3f5f"
            },
            "baxis": {
             "endlinecolor": "#2a3f5f",
             "gridcolor": "white",
             "linecolor": "white",
             "minorgridcolor": "white",
             "startlinecolor": "#2a3f5f"
            },
            "type": "carpet"
           }
          ],
          "choropleth": [
           {
            "colorbar": {
             "outlinewidth": 0,
             "ticks": ""
            },
            "type": "choropleth"
           }
          ],
          "contour": [
           {
            "colorbar": {
             "outlinewidth": 0,
             "ticks": ""
            },
            "colorscale": [
             [
              0,
              "#0d0887"
             ],
             [
              0.1111111111111111,
              "#46039f"
             ],
             [
              0.2222222222222222,
              "#7201a8"
             ],
             [
              0.3333333333333333,
              "#9c179e"
             ],
             [
              0.4444444444444444,
              "#bd3786"
             ],
             [
              0.5555555555555556,
              "#d8576b"
             ],
             [
              0.6666666666666666,
              "#ed7953"
             ],
             [
              0.7777777777777778,
              "#fb9f3a"
             ],
             [
              0.8888888888888888,
              "#fdca26"
             ],
             [
              1,
              "#f0f921"
             ]
            ],
            "type": "contour"
           }
          ],
          "contourcarpet": [
           {
            "colorbar": {
             "outlinewidth": 0,
             "ticks": ""
            },
            "type": "contourcarpet"
           }
          ],
          "heatmap": [
           {
            "colorbar": {
             "outlinewidth": 0,
             "ticks": ""
            },
            "colorscale": [
             [
              0,
              "#0d0887"
             ],
             [
              0.1111111111111111,
              "#46039f"
             ],
             [
              0.2222222222222222,
              "#7201a8"
             ],
             [
              0.3333333333333333,
              "#9c179e"
             ],
             [
              0.4444444444444444,
              "#bd3786"
             ],
             [
              0.5555555555555556,
              "#d8576b"
             ],
             [
              0.6666666666666666,
              "#ed7953"
             ],
             [
              0.7777777777777778,
              "#fb9f3a"
             ],
             [
              0.8888888888888888,
              "#fdca26"
             ],
             [
              1,
              "#f0f921"
             ]
            ],
            "type": "heatmap"
           }
          ],
          "heatmapgl": [
           {
            "colorbar": {
             "outlinewidth": 0,
             "ticks": ""
            },
            "colorscale": [
             [
              0,
              "#0d0887"
             ],
             [
              0.1111111111111111,
              "#46039f"
             ],
             [
              0.2222222222222222,
              "#7201a8"
             ],
             [
              0.3333333333333333,
              "#9c179e"
             ],
             [
              0.4444444444444444,
              "#bd3786"
             ],
             [
              0.5555555555555556,
              "#d8576b"
             ],
             [
              0.6666666666666666,
              "#ed7953"
             ],
             [
              0.7777777777777778,
              "#fb9f3a"
             ],
             [
              0.8888888888888888,
              "#fdca26"
             ],
             [
              1,
              "#f0f921"
             ]
            ],
            "type": "heatmapgl"
           }
          ],
          "histogram": [
           {
            "marker": {
             "pattern": {
              "fillmode": "overlay",
              "size": 10,
              "solidity": 0.2
             }
            },
            "type": "histogram"
           }
          ],
          "histogram2d": [
           {
            "colorbar": {
             "outlinewidth": 0,
             "ticks": ""
            },
            "colorscale": [
             [
              0,
              "#0d0887"
             ],
             [
              0.1111111111111111,
              "#46039f"
             ],
             [
              0.2222222222222222,
              "#7201a8"
             ],
             [
              0.3333333333333333,
              "#9c179e"
             ],
             [
              0.4444444444444444,
              "#bd3786"
             ],
             [
              0.5555555555555556,
              "#d8576b"
             ],
             [
              0.6666666666666666,
              "#ed7953"
             ],
             [
              0.7777777777777778,
              "#fb9f3a"
             ],
             [
              0.8888888888888888,
              "#fdca26"
             ],
             [
              1,
              "#f0f921"
             ]
            ],
            "type": "histogram2d"
           }
          ],
          "histogram2dcontour": [
           {
            "colorbar": {
             "outlinewidth": 0,
             "ticks": ""
            },
            "colorscale": [
             [
              0,
              "#0d0887"
             ],
             [
              0.1111111111111111,
              "#46039f"
             ],
             [
              0.2222222222222222,
              "#7201a8"
             ],
             [
              0.3333333333333333,
              "#9c179e"
             ],
             [
              0.4444444444444444,
              "#bd3786"
             ],
             [
              0.5555555555555556,
              "#d8576b"
             ],
             [
              0.6666666666666666,
              "#ed7953"
             ],
             [
              0.7777777777777778,
              "#fb9f3a"
             ],
             [
              0.8888888888888888,
              "#fdca26"
             ],
             [
              1,
              "#f0f921"
             ]
            ],
            "type": "histogram2dcontour"
           }
          ],
          "mesh3d": [
           {
            "colorbar": {
             "outlinewidth": 0,
             "ticks": ""
            },
            "type": "mesh3d"
           }
          ],
          "parcoords": [
           {
            "line": {
             "colorbar": {
              "outlinewidth": 0,
              "ticks": ""
             }
            },
            "type": "parcoords"
           }
          ],
          "pie": [
           {
            "automargin": true,
            "type": "pie"
           }
          ],
          "scatter": [
           {
            "fillpattern": {
             "fillmode": "overlay",
             "size": 10,
             "solidity": 0.2
            },
            "type": "scatter"
           }
          ],
          "scatter3d": [
           {
            "line": {
             "colorbar": {
              "outlinewidth": 0,
              "ticks": ""
             }
            },
            "marker": {
             "colorbar": {
              "outlinewidth": 0,
              "ticks": ""
             }
            },
            "type": "scatter3d"
           }
          ],
          "scattercarpet": [
           {
            "marker": {
             "colorbar": {
              "outlinewidth": 0,
              "ticks": ""
             }
            },
            "type": "scattercarpet"
           }
          ],
          "scattergeo": [
           {
            "marker": {
             "colorbar": {
              "outlinewidth": 0,
              "ticks": ""
             }
            },
            "type": "scattergeo"
           }
          ],
          "scattergl": [
           {
            "marker": {
             "colorbar": {
              "outlinewidth": 0,
              "ticks": ""
             }
            },
            "type": "scattergl"
           }
          ],
          "scattermapbox": [
           {
            "marker": {
             "colorbar": {
              "outlinewidth": 0,
              "ticks": ""
             }
            },
            "type": "scattermapbox"
           }
          ],
          "scatterpolar": [
           {
            "marker": {
             "colorbar": {
              "outlinewidth": 0,
              "ticks": ""
             }
            },
            "type": "scatterpolar"
           }
          ],
          "scatterpolargl": [
           {
            "marker": {
             "colorbar": {
              "outlinewidth": 0,
              "ticks": ""
             }
            },
            "type": "scatterpolargl"
           }
          ],
          "scatterternary": [
           {
            "marker": {
             "colorbar": {
              "outlinewidth": 0,
              "ticks": ""
             }
            },
            "type": "scatterternary"
           }
          ],
          "surface": [
           {
            "colorbar": {
             "outlinewidth": 0,
             "ticks": ""
            },
            "colorscale": [
             [
              0,
              "#0d0887"
             ],
             [
              0.1111111111111111,
              "#46039f"
             ],
             [
              0.2222222222222222,
              "#7201a8"
             ],
             [
              0.3333333333333333,
              "#9c179e"
             ],
             [
              0.4444444444444444,
              "#bd3786"
             ],
             [
              0.5555555555555556,
              "#d8576b"
             ],
             [
              0.6666666666666666,
              "#ed7953"
             ],
             [
              0.7777777777777778,
              "#fb9f3a"
             ],
             [
              0.8888888888888888,
              "#fdca26"
             ],
             [
              1,
              "#f0f921"
             ]
            ],
            "type": "surface"
           }
          ],
          "table": [
           {
            "cells": {
             "fill": {
              "color": "#EBF0F8"
             },
             "line": {
              "color": "white"
             }
            },
            "header": {
             "fill": {
              "color": "#C8D4E3"
             },
             "line": {
              "color": "white"
             }
            },
            "type": "table"
           }
          ]
         },
         "layout": {
          "annotationdefaults": {
           "arrowcolor": "#2a3f5f",
           "arrowhead": 0,
           "arrowwidth": 1
          },
          "autotypenumbers": "strict",
          "coloraxis": {
           "colorbar": {
            "outlinewidth": 0,
            "ticks": ""
           }
          },
          "colorscale": {
           "diverging": [
            [
             0,
             "#8e0152"
            ],
            [
             0.1,
             "#c51b7d"
            ],
            [
             0.2,
             "#de77ae"
            ],
            [
             0.3,
             "#f1b6da"
            ],
            [
             0.4,
             "#fde0ef"
            ],
            [
             0.5,
             "#f7f7f7"
            ],
            [
             0.6,
             "#e6f5d0"
            ],
            [
             0.7,
             "#b8e186"
            ],
            [
             0.8,
             "#7fbc41"
            ],
            [
             0.9,
             "#4d9221"
            ],
            [
             1,
             "#276419"
            ]
           ],
           "sequential": [
            [
             0,
             "#0d0887"
            ],
            [
             0.1111111111111111,
             "#46039f"
            ],
            [
             0.2222222222222222,
             "#7201a8"
            ],
            [
             0.3333333333333333,
             "#9c179e"
            ],
            [
             0.4444444444444444,
             "#bd3786"
            ],
            [
             0.5555555555555556,
             "#d8576b"
            ],
            [
             0.6666666666666666,
             "#ed7953"
            ],
            [
             0.7777777777777778,
             "#fb9f3a"
            ],
            [
             0.8888888888888888,
             "#fdca26"
            ],
            [
             1,
             "#f0f921"
            ]
           ],
           "sequentialminus": [
            [
             0,
             "#0d0887"
            ],
            [
             0.1111111111111111,
             "#46039f"
            ],
            [
             0.2222222222222222,
             "#7201a8"
            ],
            [
             0.3333333333333333,
             "#9c179e"
            ],
            [
             0.4444444444444444,
             "#bd3786"
            ],
            [
             0.5555555555555556,
             "#d8576b"
            ],
            [
             0.6666666666666666,
             "#ed7953"
            ],
            [
             0.7777777777777778,
             "#fb9f3a"
            ],
            [
             0.8888888888888888,
             "#fdca26"
            ],
            [
             1,
             "#f0f921"
            ]
           ]
          },
          "colorway": [
           "#636efa",
           "#EF553B",
           "#00cc96",
           "#ab63fa",
           "#FFA15A",
           "#19d3f3",
           "#FF6692",
           "#B6E880",
           "#FF97FF",
           "#FECB52"
          ],
          "font": {
           "color": "#2a3f5f"
          },
          "geo": {
           "bgcolor": "white",
           "lakecolor": "white",
           "landcolor": "#E5ECF6",
           "showlakes": true,
           "showland": true,
           "subunitcolor": "white"
          },
          "hoverlabel": {
           "align": "left"
          },
          "hovermode": "closest",
          "mapbox": {
           "style": "light"
          },
          "paper_bgcolor": "white",
          "plot_bgcolor": "#E5ECF6",
          "polar": {
           "angularaxis": {
            "gridcolor": "white",
            "linecolor": "white",
            "ticks": ""
           },
           "bgcolor": "#E5ECF6",
           "radialaxis": {
            "gridcolor": "white",
            "linecolor": "white",
            "ticks": ""
           }
          },
          "scene": {
           "xaxis": {
            "backgroundcolor": "#E5ECF6",
            "gridcolor": "white",
            "gridwidth": 2,
            "linecolor": "white",
            "showbackground": true,
            "ticks": "",
            "zerolinecolor": "white"
           },
           "yaxis": {
            "backgroundcolor": "#E5ECF6",
            "gridcolor": "white",
            "gridwidth": 2,
            "linecolor": "white",
            "showbackground": true,
            "ticks": "",
            "zerolinecolor": "white"
           },
           "zaxis": {
            "backgroundcolor": "#E5ECF6",
            "gridcolor": "white",
            "gridwidth": 2,
            "linecolor": "white",
            "showbackground": true,
            "ticks": "",
            "zerolinecolor": "white"
           }
          },
          "shapedefaults": {
           "line": {
            "color": "#2a3f5f"
           }
          },
          "ternary": {
           "aaxis": {
            "gridcolor": "white",
            "linecolor": "white",
            "ticks": ""
           },
           "baxis": {
            "gridcolor": "white",
            "linecolor": "white",
            "ticks": ""
           },
           "bgcolor": "#E5ECF6",
           "caxis": {
            "gridcolor": "white",
            "linecolor": "white",
            "ticks": ""
           }
          },
          "title": {
           "x": 0.05
          },
          "xaxis": {
           "automargin": true,
           "gridcolor": "white",
           "linecolor": "white",
           "ticks": "",
           "title": {
            "standoff": 15
           },
           "zerolinecolor": "white",
           "zerolinewidth": 2
          },
          "yaxis": {
           "automargin": true,
           "gridcolor": "white",
           "linecolor": "white",
           "ticks": "",
           "title": {
            "standoff": 15
           },
           "zerolinecolor": "white",
           "zerolinewidth": 2
          }
         }
        },
        "title": {
         "text": "recall comparision of different models"
        },
        "xaxis": {
         "anchor": "y",
         "domain": [
          0,
          1
         ],
         "title": {
          "text": "models"
         }
        },
        "yaxis": {
         "anchor": "x",
         "domain": [
          0,
          1
         ],
         "title": {
          "text": "recall"
         }
        }
       }
      }
     },
     "metadata": {},
     "output_type": "display_data"
    }
   ],
   "source": [
    "px.bar(x=x,y=result['recall_score'],labels={'x':'models','y':'recall'},title=\"recall comparision of different models\")"
   ]
  },
  {
   "cell_type": "code",
   "execution_count": 16,
   "metadata": {},
   "outputs": [
    {
     "data": {
      "application/vnd.plotly.v1+json": {
       "config": {
        "plotlyServerURL": "https://plot.ly"
       },
       "data": [
        {
         "hovertemplate": "variable=accuracy_score<br>models=%{x}<br>value=%{y}<extra></extra>",
         "legendgroup": "accuracy_score",
         "line": {
          "color": "#636efa",
          "dash": "solid"
         },
         "marker": {
          "symbol": "circle"
         },
         "mode": "lines+markers",
         "name": "accuracy_score",
         "orientation": "v",
         "showlegend": true,
         "type": "scatter",
         "x": [
          "Naive Bayes default TF-IDF",
          "Naive Bayes (1,2) TF-IDF",
          "Naive Bayes (1,3) TF-IDF",
          "KNN (1,3) TF-IDF",
          "KNN (1,2) TF-IDF",
          "KNN (1,3) BOW(CountVectorizer)",
          "KNN default TF-IDF",
          "Decision Tree (1,3) TF-IDF",
          "Decision Tree (1,2) TF-IDF",
          "Decision Tree default TF-IDF",
          "KNN (1,2) BOW(CountVectorizer)",
          "Naive Bayes default BOW(CountVectorizer)",
          "Decision Tree default BOW(CountVectorizer)",
          "KNN default BOW(CountVectorizer)",
          "Decision Tree (1,3) BOW(CountVectorizer)",
          "Decision Tree (1,2) BOW(CountVectorizer)",
          "Naive Bayes (1,2) BOW(CountVectorizer)",
          "Naive Bayes (1,3) BOW(CountVectorizer)",
          "Logistic Regression (1,3) TF-IDF",
          "SVM default BOW(CountVectorizer)",
          "Logistic Regression default TF-IDF",
          "Logistic Regression (1,2) TF-IDF",
          "SVM (1,3) TF-IDF",
          "SVM (1,2) BOW(CountVectorizer)",
          "SVM default TF-IDF",
          "SVM (1,3) BOW(CountVectorizer)",
          "SVM (1,2) TF-IDF",
          "Logistic Regression (1,2) BOW(CountVectorizer)",
          "Logistic Regression default BOW(CountVectorizer)",
          "Logistic Regression (1,3) BOW(CountVectorizer)"
         ],
         "xaxis": "x",
         "y": [
          0.914,
          0.931,
          0.937,
          0.94,
          0.942,
          0.947,
          0.947,
          0.949,
          0.949,
          0.951,
          0.951,
          0.952,
          0.955,
          0.957,
          0.959,
          0.959,
          0.965,
          0.966,
          0.967,
          0.969,
          0.969,
          0.969,
          0.97,
          0.971,
          0.972,
          0.972,
          0.972,
          0.974,
          0.974,
          0.974
         ],
         "yaxis": "y"
        },
        {
         "hovertemplate": "variable=f1_score<br>models=%{x}<br>value=%{y}<extra></extra>",
         "legendgroup": "f1_score",
         "line": {
          "color": "#EF553B",
          "dash": "solid"
         },
         "marker": {
          "symbol": "circle"
         },
         "mode": "lines+markers",
         "name": "f1_score",
         "orientation": "v",
         "showlegend": true,
         "type": "scatter",
         "x": [
          "Naive Bayes default TF-IDF",
          "Naive Bayes (1,2) TF-IDF",
          "Naive Bayes (1,3) TF-IDF",
          "KNN (1,3) TF-IDF",
          "KNN (1,2) TF-IDF",
          "KNN (1,3) BOW(CountVectorizer)",
          "KNN default TF-IDF",
          "Decision Tree (1,3) TF-IDF",
          "Decision Tree (1,2) TF-IDF",
          "Decision Tree default TF-IDF",
          "KNN (1,2) BOW(CountVectorizer)",
          "Naive Bayes default BOW(CountVectorizer)",
          "Decision Tree default BOW(CountVectorizer)",
          "KNN default BOW(CountVectorizer)",
          "Decision Tree (1,3) BOW(CountVectorizer)",
          "Decision Tree (1,2) BOW(CountVectorizer)",
          "Naive Bayes (1,2) BOW(CountVectorizer)",
          "Naive Bayes (1,3) BOW(CountVectorizer)",
          "Logistic Regression (1,3) TF-IDF",
          "SVM default BOW(CountVectorizer)",
          "Logistic Regression default TF-IDF",
          "Logistic Regression (1,2) TF-IDF",
          "SVM (1,3) TF-IDF",
          "SVM (1,2) BOW(CountVectorizer)",
          "SVM default TF-IDF",
          "SVM (1,3) BOW(CountVectorizer)",
          "SVM (1,2) TF-IDF",
          "Logistic Regression (1,2) BOW(CountVectorizer)",
          "Logistic Regression default BOW(CountVectorizer)",
          "Logistic Regression (1,3) BOW(CountVectorizer)"
         ],
         "xaxis": "x",
         "y": [
          0.8948098499958215,
          0.9196434680464236,
          0.9282210587457383,
          0.9337982688741304,
          0.9362088529225588,
          0.9419609067381974,
          0.9433370769933472,
          0.9503457666829924,
          0.950057253600578,
          0.950820885682828,
          0.9477412672412928,
          0.9512733902597944,
          0.9548335349711782,
          0.954881041105738,
          0.9593992055655912,
          0.9587055540724712,
          0.9640678077226974,
          0.9649728878839752,
          0.9661979677163124,
          0.9687874634283103,
          0.9678614463971704,
          0.9680088233697948,
          0.9695868418183844,
          0.970684109952691,
          0.9710068156973792,
          0.971575535613425,
          0.971779563912194,
          0.9735723463036562,
          0.9737059608797842,
          0.9738061378902992
         ],
         "yaxis": "y"
        },
        {
         "hovertemplate": "variable=recall_score<br>models=%{x}<br>value=%{y}<extra></extra>",
         "legendgroup": "recall_score",
         "line": {
          "color": "#00cc96",
          "dash": "solid"
         },
         "marker": {
          "symbol": "circle"
         },
         "mode": "lines+markers",
         "name": "recall_score",
         "orientation": "v",
         "showlegend": true,
         "type": "scatter",
         "x": [
          "Naive Bayes default TF-IDF",
          "Naive Bayes (1,2) TF-IDF",
          "Naive Bayes (1,3) TF-IDF",
          "KNN (1,3) TF-IDF",
          "KNN (1,2) TF-IDF",
          "KNN (1,3) BOW(CountVectorizer)",
          "KNN default TF-IDF",
          "Decision Tree (1,3) TF-IDF",
          "Decision Tree (1,2) TF-IDF",
          "Decision Tree default TF-IDF",
          "KNN (1,2) BOW(CountVectorizer)",
          "Naive Bayes default BOW(CountVectorizer)",
          "Decision Tree default BOW(CountVectorizer)",
          "KNN default BOW(CountVectorizer)",
          "Decision Tree (1,3) BOW(CountVectorizer)",
          "Decision Tree (1,2) BOW(CountVectorizer)",
          "Naive Bayes (1,2) BOW(CountVectorizer)",
          "Naive Bayes (1,3) BOW(CountVectorizer)",
          "Logistic Regression (1,3) TF-IDF",
          "SVM default BOW(CountVectorizer)",
          "Logistic Regression default TF-IDF",
          "Logistic Regression (1,2) TF-IDF",
          "SVM (1,3) TF-IDF",
          "SVM (1,2) BOW(CountVectorizer)",
          "SVM default TF-IDF",
          "SVM (1,3) BOW(CountVectorizer)",
          "SVM (1,2) TF-IDF",
          "Logistic Regression (1,2) BOW(CountVectorizer)",
          "Logistic Regression default BOW(CountVectorizer)",
          "Logistic Regression (1,3) BOW(CountVectorizer)"
         ],
         "xaxis": "x",
         "y": [
          0.914079822616408,
          0.9305709534368072,
          0.9368070953436808,
          0.9401330376940134,
          0.9419345898004434,
          0.9469235033259424,
          0.94720066518847,
          0.949279379157428,
          0.9494179600886918,
          0.9508037694013304,
          0.9514966740576496,
          0.9517738359201774,
          0.9548226164079824,
          0.9566241685144125,
          0.9593957871396896,
          0.9588414634146342,
          0.9650776053215078,
          0.9657705099778272,
          0.9670177383592018,
          0.9685421286031042,
          0.9689578713968958,
          0.9689578713968958,
          0.9695121951219512,
          0.970759423503326,
          0.9715909090909092,
          0.9717294900221728,
          0.9720066518847008,
          0.9739467849223948,
          0.9740853658536586,
          0.9742239467849224
         ],
         "yaxis": "y"
        },
        {
         "hovertemplate": "variable=precision_score<br>models=%{x}<br>value=%{y}<extra></extra>",
         "legendgroup": "precision_score",
         "line": {
          "color": "#ab63fa",
          "dash": "solid"
         },
         "marker": {
          "symbol": "circle"
         },
         "mode": "lines+markers",
         "name": "precision_score",
         "orientation": "v",
         "showlegend": true,
         "type": "scatter",
         "x": [
          "Naive Bayes default TF-IDF",
          "Naive Bayes (1,2) TF-IDF",
          "Naive Bayes (1,3) TF-IDF",
          "KNN (1,3) TF-IDF",
          "KNN (1,2) TF-IDF",
          "KNN (1,3) BOW(CountVectorizer)",
          "KNN default TF-IDF",
          "Decision Tree (1,3) TF-IDF",
          "Decision Tree (1,2) TF-IDF",
          "Decision Tree default TF-IDF",
          "KNN (1,2) BOW(CountVectorizer)",
          "Naive Bayes default BOW(CountVectorizer)",
          "Decision Tree default BOW(CountVectorizer)",
          "KNN default BOW(CountVectorizer)",
          "Decision Tree (1,3) BOW(CountVectorizer)",
          "Decision Tree (1,2) BOW(CountVectorizer)",
          "Naive Bayes (1,2) BOW(CountVectorizer)",
          "Naive Bayes (1,3) BOW(CountVectorizer)",
          "Logistic Regression (1,3) TF-IDF",
          "SVM default BOW(CountVectorizer)",
          "Logistic Regression default TF-IDF",
          "Logistic Regression (1,2) TF-IDF",
          "SVM (1,3) TF-IDF",
          "SVM (1,2) BOW(CountVectorizer)",
          "SVM default TF-IDF",
          "SVM (1,3) BOW(CountVectorizer)",
          "SVM (1,2) TF-IDF",
          "Logistic Regression (1,2) BOW(CountVectorizer)",
          "Logistic Regression default BOW(CountVectorizer)",
          "Logistic Regression (1,3) BOW(CountVectorizer)"
         ],
         "xaxis": "x",
         "y": [
          0.9162625487653904,
          0.9319676931913266,
          0.9379643224194254,
          0.9380278841210912,
          0.9396199131628776,
          0.9451658267907426,
          0.9444753645241064,
          0.9520789037914402,
          0.951033816067159,
          0.9508484175000238,
          0.9492935158092304,
          0.9534669898184014,
          0.9549209143777768,
          0.9545500025702278,
          0.9594635474651032,
          0.9586776930082757,
          0.9645759825218972,
          0.9651536865904092,
          0.9665606661131428,
          0.9691889969646726,
          0.9677693056382236,
          0.9681728229626864,
          0.9704317876370314,
          0.9707183658469296,
          0.970973225134656,
          0.971503933618418,
          0.972170160311936,
          0.9735039244252456,
          0.9737203712297772,
          0.973660565480443
         ],
         "yaxis": "y"
        }
       ],
       "layout": {
        "height": 800,
        "legend": {
         "title": {
          "text": "variable"
         },
         "tracegroupgap": 0
        },
        "template": {
         "data": {
          "bar": [
           {
            "error_x": {
             "color": "#2a3f5f"
            },
            "error_y": {
             "color": "#2a3f5f"
            },
            "marker": {
             "line": {
              "color": "#E5ECF6",
              "width": 0.5
             },
             "pattern": {
              "fillmode": "overlay",
              "size": 10,
              "solidity": 0.2
             }
            },
            "type": "bar"
           }
          ],
          "barpolar": [
           {
            "marker": {
             "line": {
              "color": "#E5ECF6",
              "width": 0.5
             },
             "pattern": {
              "fillmode": "overlay",
              "size": 10,
              "solidity": 0.2
             }
            },
            "type": "barpolar"
           }
          ],
          "carpet": [
           {
            "aaxis": {
             "endlinecolor": "#2a3f5f",
             "gridcolor": "white",
             "linecolor": "white",
             "minorgridcolor": "white",
             "startlinecolor": "#2a3f5f"
            },
            "baxis": {
             "endlinecolor": "#2a3f5f",
             "gridcolor": "white",
             "linecolor": "white",
             "minorgridcolor": "white",
             "startlinecolor": "#2a3f5f"
            },
            "type": "carpet"
           }
          ],
          "choropleth": [
           {
            "colorbar": {
             "outlinewidth": 0,
             "ticks": ""
            },
            "type": "choropleth"
           }
          ],
          "contour": [
           {
            "colorbar": {
             "outlinewidth": 0,
             "ticks": ""
            },
            "colorscale": [
             [
              0,
              "#0d0887"
             ],
             [
              0.1111111111111111,
              "#46039f"
             ],
             [
              0.2222222222222222,
              "#7201a8"
             ],
             [
              0.3333333333333333,
              "#9c179e"
             ],
             [
              0.4444444444444444,
              "#bd3786"
             ],
             [
              0.5555555555555556,
              "#d8576b"
             ],
             [
              0.6666666666666666,
              "#ed7953"
             ],
             [
              0.7777777777777778,
              "#fb9f3a"
             ],
             [
              0.8888888888888888,
              "#fdca26"
             ],
             [
              1,
              "#f0f921"
             ]
            ],
            "type": "contour"
           }
          ],
          "contourcarpet": [
           {
            "colorbar": {
             "outlinewidth": 0,
             "ticks": ""
            },
            "type": "contourcarpet"
           }
          ],
          "heatmap": [
           {
            "colorbar": {
             "outlinewidth": 0,
             "ticks": ""
            },
            "colorscale": [
             [
              0,
              "#0d0887"
             ],
             [
              0.1111111111111111,
              "#46039f"
             ],
             [
              0.2222222222222222,
              "#7201a8"
             ],
             [
              0.3333333333333333,
              "#9c179e"
             ],
             [
              0.4444444444444444,
              "#bd3786"
             ],
             [
              0.5555555555555556,
              "#d8576b"
             ],
             [
              0.6666666666666666,
              "#ed7953"
             ],
             [
              0.7777777777777778,
              "#fb9f3a"
             ],
             [
              0.8888888888888888,
              "#fdca26"
             ],
             [
              1,
              "#f0f921"
             ]
            ],
            "type": "heatmap"
           }
          ],
          "heatmapgl": [
           {
            "colorbar": {
             "outlinewidth": 0,
             "ticks": ""
            },
            "colorscale": [
             [
              0,
              "#0d0887"
             ],
             [
              0.1111111111111111,
              "#46039f"
             ],
             [
              0.2222222222222222,
              "#7201a8"
             ],
             [
              0.3333333333333333,
              "#9c179e"
             ],
             [
              0.4444444444444444,
              "#bd3786"
             ],
             [
              0.5555555555555556,
              "#d8576b"
             ],
             [
              0.6666666666666666,
              "#ed7953"
             ],
             [
              0.7777777777777778,
              "#fb9f3a"
             ],
             [
              0.8888888888888888,
              "#fdca26"
             ],
             [
              1,
              "#f0f921"
             ]
            ],
            "type": "heatmapgl"
           }
          ],
          "histogram": [
           {
            "marker": {
             "pattern": {
              "fillmode": "overlay",
              "size": 10,
              "solidity": 0.2
             }
            },
            "type": "histogram"
           }
          ],
          "histogram2d": [
           {
            "colorbar": {
             "outlinewidth": 0,
             "ticks": ""
            },
            "colorscale": [
             [
              0,
              "#0d0887"
             ],
             [
              0.1111111111111111,
              "#46039f"
             ],
             [
              0.2222222222222222,
              "#7201a8"
             ],
             [
              0.3333333333333333,
              "#9c179e"
             ],
             [
              0.4444444444444444,
              "#bd3786"
             ],
             [
              0.5555555555555556,
              "#d8576b"
             ],
             [
              0.6666666666666666,
              "#ed7953"
             ],
             [
              0.7777777777777778,
              "#fb9f3a"
             ],
             [
              0.8888888888888888,
              "#fdca26"
             ],
             [
              1,
              "#f0f921"
             ]
            ],
            "type": "histogram2d"
           }
          ],
          "histogram2dcontour": [
           {
            "colorbar": {
             "outlinewidth": 0,
             "ticks": ""
            },
            "colorscale": [
             [
              0,
              "#0d0887"
             ],
             [
              0.1111111111111111,
              "#46039f"
             ],
             [
              0.2222222222222222,
              "#7201a8"
             ],
             [
              0.3333333333333333,
              "#9c179e"
             ],
             [
              0.4444444444444444,
              "#bd3786"
             ],
             [
              0.5555555555555556,
              "#d8576b"
             ],
             [
              0.6666666666666666,
              "#ed7953"
             ],
             [
              0.7777777777777778,
              "#fb9f3a"
             ],
             [
              0.8888888888888888,
              "#fdca26"
             ],
             [
              1,
              "#f0f921"
             ]
            ],
            "type": "histogram2dcontour"
           }
          ],
          "mesh3d": [
           {
            "colorbar": {
             "outlinewidth": 0,
             "ticks": ""
            },
            "type": "mesh3d"
           }
          ],
          "parcoords": [
           {
            "line": {
             "colorbar": {
              "outlinewidth": 0,
              "ticks": ""
             }
            },
            "type": "parcoords"
           }
          ],
          "pie": [
           {
            "automargin": true,
            "type": "pie"
           }
          ],
          "scatter": [
           {
            "fillpattern": {
             "fillmode": "overlay",
             "size": 10,
             "solidity": 0.2
            },
            "type": "scatter"
           }
          ],
          "scatter3d": [
           {
            "line": {
             "colorbar": {
              "outlinewidth": 0,
              "ticks": ""
             }
            },
            "marker": {
             "colorbar": {
              "outlinewidth": 0,
              "ticks": ""
             }
            },
            "type": "scatter3d"
           }
          ],
          "scattercarpet": [
           {
            "marker": {
             "colorbar": {
              "outlinewidth": 0,
              "ticks": ""
             }
            },
            "type": "scattercarpet"
           }
          ],
          "scattergeo": [
           {
            "marker": {
             "colorbar": {
              "outlinewidth": 0,
              "ticks": ""
             }
            },
            "type": "scattergeo"
           }
          ],
          "scattergl": [
           {
            "marker": {
             "colorbar": {
              "outlinewidth": 0,
              "ticks": ""
             }
            },
            "type": "scattergl"
           }
          ],
          "scattermapbox": [
           {
            "marker": {
             "colorbar": {
              "outlinewidth": 0,
              "ticks": ""
             }
            },
            "type": "scattermapbox"
           }
          ],
          "scatterpolar": [
           {
            "marker": {
             "colorbar": {
              "outlinewidth": 0,
              "ticks": ""
             }
            },
            "type": "scatterpolar"
           }
          ],
          "scatterpolargl": [
           {
            "marker": {
             "colorbar": {
              "outlinewidth": 0,
              "ticks": ""
             }
            },
            "type": "scatterpolargl"
           }
          ],
          "scatterternary": [
           {
            "marker": {
             "colorbar": {
              "outlinewidth": 0,
              "ticks": ""
             }
            },
            "type": "scatterternary"
           }
          ],
          "surface": [
           {
            "colorbar": {
             "outlinewidth": 0,
             "ticks": ""
            },
            "colorscale": [
             [
              0,
              "#0d0887"
             ],
             [
              0.1111111111111111,
              "#46039f"
             ],
             [
              0.2222222222222222,
              "#7201a8"
             ],
             [
              0.3333333333333333,
              "#9c179e"
             ],
             [
              0.4444444444444444,
              "#bd3786"
             ],
             [
              0.5555555555555556,
              "#d8576b"
             ],
             [
              0.6666666666666666,
              "#ed7953"
             ],
             [
              0.7777777777777778,
              "#fb9f3a"
             ],
             [
              0.8888888888888888,
              "#fdca26"
             ],
             [
              1,
              "#f0f921"
             ]
            ],
            "type": "surface"
           }
          ],
          "table": [
           {
            "cells": {
             "fill": {
              "color": "#EBF0F8"
             },
             "line": {
              "color": "white"
             }
            },
            "header": {
             "fill": {
              "color": "#C8D4E3"
             },
             "line": {
              "color": "white"
             }
            },
            "type": "table"
           }
          ]
         },
         "layout": {
          "annotationdefaults": {
           "arrowcolor": "#2a3f5f",
           "arrowhead": 0,
           "arrowwidth": 1
          },
          "autotypenumbers": "strict",
          "coloraxis": {
           "colorbar": {
            "outlinewidth": 0,
            "ticks": ""
           }
          },
          "colorscale": {
           "diverging": [
            [
             0,
             "#8e0152"
            ],
            [
             0.1,
             "#c51b7d"
            ],
            [
             0.2,
             "#de77ae"
            ],
            [
             0.3,
             "#f1b6da"
            ],
            [
             0.4,
             "#fde0ef"
            ],
            [
             0.5,
             "#f7f7f7"
            ],
            [
             0.6,
             "#e6f5d0"
            ],
            [
             0.7,
             "#b8e186"
            ],
            [
             0.8,
             "#7fbc41"
            ],
            [
             0.9,
             "#4d9221"
            ],
            [
             1,
             "#276419"
            ]
           ],
           "sequential": [
            [
             0,
             "#0d0887"
            ],
            [
             0.1111111111111111,
             "#46039f"
            ],
            [
             0.2222222222222222,
             "#7201a8"
            ],
            [
             0.3333333333333333,
             "#9c179e"
            ],
            [
             0.4444444444444444,
             "#bd3786"
            ],
            [
             0.5555555555555556,
             "#d8576b"
            ],
            [
             0.6666666666666666,
             "#ed7953"
            ],
            [
             0.7777777777777778,
             "#fb9f3a"
            ],
            [
             0.8888888888888888,
             "#fdca26"
            ],
            [
             1,
             "#f0f921"
            ]
           ],
           "sequentialminus": [
            [
             0,
             "#0d0887"
            ],
            [
             0.1111111111111111,
             "#46039f"
            ],
            [
             0.2222222222222222,
             "#7201a8"
            ],
            [
             0.3333333333333333,
             "#9c179e"
            ],
            [
             0.4444444444444444,
             "#bd3786"
            ],
            [
             0.5555555555555556,
             "#d8576b"
            ],
            [
             0.6666666666666666,
             "#ed7953"
            ],
            [
             0.7777777777777778,
             "#fb9f3a"
            ],
            [
             0.8888888888888888,
             "#fdca26"
            ],
            [
             1,
             "#f0f921"
            ]
           ]
          },
          "colorway": [
           "#636efa",
           "#EF553B",
           "#00cc96",
           "#ab63fa",
           "#FFA15A",
           "#19d3f3",
           "#FF6692",
           "#B6E880",
           "#FF97FF",
           "#FECB52"
          ],
          "font": {
           "color": "#2a3f5f"
          },
          "geo": {
           "bgcolor": "white",
           "lakecolor": "white",
           "landcolor": "#E5ECF6",
           "showlakes": true,
           "showland": true,
           "subunitcolor": "white"
          },
          "hoverlabel": {
           "align": "left"
          },
          "hovermode": "closest",
          "mapbox": {
           "style": "light"
          },
          "paper_bgcolor": "white",
          "plot_bgcolor": "#E5ECF6",
          "polar": {
           "angularaxis": {
            "gridcolor": "white",
            "linecolor": "white",
            "ticks": ""
           },
           "bgcolor": "#E5ECF6",
           "radialaxis": {
            "gridcolor": "white",
            "linecolor": "white",
            "ticks": ""
           }
          },
          "scene": {
           "xaxis": {
            "backgroundcolor": "#E5ECF6",
            "gridcolor": "white",
            "gridwidth": 2,
            "linecolor": "white",
            "showbackground": true,
            "ticks": "",
            "zerolinecolor": "white"
           },
           "yaxis": {
            "backgroundcolor": "#E5ECF6",
            "gridcolor": "white",
            "gridwidth": 2,
            "linecolor": "white",
            "showbackground": true,
            "ticks": "",
            "zerolinecolor": "white"
           },
           "zaxis": {
            "backgroundcolor": "#E5ECF6",
            "gridcolor": "white",
            "gridwidth": 2,
            "linecolor": "white",
            "showbackground": true,
            "ticks": "",
            "zerolinecolor": "white"
           }
          },
          "shapedefaults": {
           "line": {
            "color": "#2a3f5f"
           }
          },
          "ternary": {
           "aaxis": {
            "gridcolor": "white",
            "linecolor": "white",
            "ticks": ""
           },
           "baxis": {
            "gridcolor": "white",
            "linecolor": "white",
            "ticks": ""
           },
           "bgcolor": "#E5ECF6",
           "caxis": {
            "gridcolor": "white",
            "linecolor": "white",
            "ticks": ""
           }
          },
          "title": {
           "x": 0.05
          },
          "xaxis": {
           "automargin": true,
           "gridcolor": "white",
           "linecolor": "white",
           "ticks": "",
           "title": {
            "standoff": 15
           },
           "zerolinecolor": "white",
           "zerolinewidth": 2
          },
          "yaxis": {
           "automargin": true,
           "gridcolor": "white",
           "linecolor": "white",
           "ticks": "",
           "title": {
            "standoff": 15
           },
           "zerolinecolor": "white",
           "zerolinewidth": 2
          }
         }
        },
        "title": {
         "text": "Model performance metrice curves on testing"
        },
        "width": 1250,
        "xaxis": {
         "anchor": "y",
         "domain": [
          0,
          1
         ],
         "title": {
          "text": "models"
         }
        },
        "yaxis": {
         "anchor": "x",
         "domain": [
          0,
          1
         ],
         "title": {
          "text": "value"
         }
        }
       }
      }
     },
     "metadata": {},
     "output_type": "display_data"
    }
   ],
   "source": [
    "result = result.sort_values(by='accuracy_score')\n",
    "px.line(result,x=x,y=['accuracy_score','f1_score','recall_score','precision_score'],markers='o',labels={'x':'models','y':'value'},width=1250, height=800,title='Model performance metrice curves on testing')"
   ]
  },
  {
   "cell_type": "code",
   "execution_count": 17,
   "metadata": {},
   "outputs": [
    {
     "data": {
      "application/vnd.plotly.v1+json": {
       "config": {
        "plotlyServerURL": "https://plot.ly"
       },
       "data": [
        {
         "alignmentgroup": "True",
         "hovertemplate": "variable=accuracy_score<br>models=%{x}<br>value=%{y}<extra></extra>",
         "legendgroup": "accuracy_score",
         "marker": {
          "color": "#636efa",
          "pattern": {
           "shape": ""
          }
         },
         "name": "accuracy_score",
         "offsetgroup": "accuracy_score",
         "orientation": "v",
         "showlegend": true,
         "textposition": "auto",
         "type": "bar",
         "x": [
          "Naive Bayes default TF-IDF",
          "Naive Bayes (1,2) TF-IDF",
          "Naive Bayes (1,3) TF-IDF",
          "KNN (1,3) TF-IDF",
          "KNN (1,2) TF-IDF",
          "KNN (1,3) BOW(CountVectorizer)",
          "KNN default TF-IDF",
          "Decision Tree (1,3) TF-IDF",
          "Decision Tree (1,2) TF-IDF",
          "Decision Tree default TF-IDF",
          "KNN (1,2) BOW(CountVectorizer)",
          "Naive Bayes default BOW(CountVectorizer)",
          "Decision Tree default BOW(CountVectorizer)",
          "KNN default BOW(CountVectorizer)",
          "Decision Tree (1,3) BOW(CountVectorizer)",
          "Decision Tree (1,2) BOW(CountVectorizer)",
          "Naive Bayes (1,2) BOW(CountVectorizer)",
          "Naive Bayes (1,3) BOW(CountVectorizer)",
          "Logistic Regression (1,3) TF-IDF",
          "SVM default BOW(CountVectorizer)",
          "Logistic Regression default TF-IDF",
          "Logistic Regression (1,2) TF-IDF",
          "SVM (1,3) TF-IDF",
          "SVM (1,2) BOW(CountVectorizer)",
          "SVM default TF-IDF",
          "SVM (1,3) BOW(CountVectorizer)",
          "SVM (1,2) TF-IDF",
          "Logistic Regression (1,2) BOW(CountVectorizer)",
          "Logistic Regression default BOW(CountVectorizer)",
          "Logistic Regression (1,3) BOW(CountVectorizer)"
         ],
         "xaxis": "x",
         "y": [
          0.914,
          0.931,
          0.937,
          0.94,
          0.942,
          0.947,
          0.947,
          0.949,
          0.949,
          0.951,
          0.951,
          0.952,
          0.955,
          0.957,
          0.959,
          0.959,
          0.965,
          0.966,
          0.967,
          0.969,
          0.969,
          0.969,
          0.97,
          0.971,
          0.972,
          0.972,
          0.972,
          0.974,
          0.974,
          0.974
         ],
         "yaxis": "y"
        },
        {
         "alignmentgroup": "True",
         "hovertemplate": "variable=f1_score<br>models=%{x}<br>value=%{y}<extra></extra>",
         "legendgroup": "f1_score",
         "marker": {
          "color": "#EF553B",
          "pattern": {
           "shape": ""
          }
         },
         "name": "f1_score",
         "offsetgroup": "f1_score",
         "orientation": "v",
         "showlegend": true,
         "textposition": "auto",
         "type": "bar",
         "x": [
          "Naive Bayes default TF-IDF",
          "Naive Bayes (1,2) TF-IDF",
          "Naive Bayes (1,3) TF-IDF",
          "KNN (1,3) TF-IDF",
          "KNN (1,2) TF-IDF",
          "KNN (1,3) BOW(CountVectorizer)",
          "KNN default TF-IDF",
          "Decision Tree (1,3) TF-IDF",
          "Decision Tree (1,2) TF-IDF",
          "Decision Tree default TF-IDF",
          "KNN (1,2) BOW(CountVectorizer)",
          "Naive Bayes default BOW(CountVectorizer)",
          "Decision Tree default BOW(CountVectorizer)",
          "KNN default BOW(CountVectorizer)",
          "Decision Tree (1,3) BOW(CountVectorizer)",
          "Decision Tree (1,2) BOW(CountVectorizer)",
          "Naive Bayes (1,2) BOW(CountVectorizer)",
          "Naive Bayes (1,3) BOW(CountVectorizer)",
          "Logistic Regression (1,3) TF-IDF",
          "SVM default BOW(CountVectorizer)",
          "Logistic Regression default TF-IDF",
          "Logistic Regression (1,2) TF-IDF",
          "SVM (1,3) TF-IDF",
          "SVM (1,2) BOW(CountVectorizer)",
          "SVM default TF-IDF",
          "SVM (1,3) BOW(CountVectorizer)",
          "SVM (1,2) TF-IDF",
          "Logistic Regression (1,2) BOW(CountVectorizer)",
          "Logistic Regression default BOW(CountVectorizer)",
          "Logistic Regression (1,3) BOW(CountVectorizer)"
         ],
         "xaxis": "x",
         "y": [
          0.8948098499958215,
          0.9196434680464236,
          0.9282210587457383,
          0.9337982688741304,
          0.9362088529225588,
          0.9419609067381974,
          0.9433370769933472,
          0.9503457666829924,
          0.950057253600578,
          0.950820885682828,
          0.9477412672412928,
          0.9512733902597944,
          0.9548335349711782,
          0.954881041105738,
          0.9593992055655912,
          0.9587055540724712,
          0.9640678077226974,
          0.9649728878839752,
          0.9661979677163124,
          0.9687874634283103,
          0.9678614463971704,
          0.9680088233697948,
          0.9695868418183844,
          0.970684109952691,
          0.9710068156973792,
          0.971575535613425,
          0.971779563912194,
          0.9735723463036562,
          0.9737059608797842,
          0.9738061378902992
         ],
         "yaxis": "y"
        },
        {
         "alignmentgroup": "True",
         "hovertemplate": "variable=recall_score<br>models=%{x}<br>value=%{y}<extra></extra>",
         "legendgroup": "recall_score",
         "marker": {
          "color": "#00cc96",
          "pattern": {
           "shape": ""
          }
         },
         "name": "recall_score",
         "offsetgroup": "recall_score",
         "orientation": "v",
         "showlegend": true,
         "textposition": "auto",
         "type": "bar",
         "x": [
          "Naive Bayes default TF-IDF",
          "Naive Bayes (1,2) TF-IDF",
          "Naive Bayes (1,3) TF-IDF",
          "KNN (1,3) TF-IDF",
          "KNN (1,2) TF-IDF",
          "KNN (1,3) BOW(CountVectorizer)",
          "KNN default TF-IDF",
          "Decision Tree (1,3) TF-IDF",
          "Decision Tree (1,2) TF-IDF",
          "Decision Tree default TF-IDF",
          "KNN (1,2) BOW(CountVectorizer)",
          "Naive Bayes default BOW(CountVectorizer)",
          "Decision Tree default BOW(CountVectorizer)",
          "KNN default BOW(CountVectorizer)",
          "Decision Tree (1,3) BOW(CountVectorizer)",
          "Decision Tree (1,2) BOW(CountVectorizer)",
          "Naive Bayes (1,2) BOW(CountVectorizer)",
          "Naive Bayes (1,3) BOW(CountVectorizer)",
          "Logistic Regression (1,3) TF-IDF",
          "SVM default BOW(CountVectorizer)",
          "Logistic Regression default TF-IDF",
          "Logistic Regression (1,2) TF-IDF",
          "SVM (1,3) TF-IDF",
          "SVM (1,2) BOW(CountVectorizer)",
          "SVM default TF-IDF",
          "SVM (1,3) BOW(CountVectorizer)",
          "SVM (1,2) TF-IDF",
          "Logistic Regression (1,2) BOW(CountVectorizer)",
          "Logistic Regression default BOW(CountVectorizer)",
          "Logistic Regression (1,3) BOW(CountVectorizer)"
         ],
         "xaxis": "x",
         "y": [
          0.914079822616408,
          0.9305709534368072,
          0.9368070953436808,
          0.9401330376940134,
          0.9419345898004434,
          0.9469235033259424,
          0.94720066518847,
          0.949279379157428,
          0.9494179600886918,
          0.9508037694013304,
          0.9514966740576496,
          0.9517738359201774,
          0.9548226164079824,
          0.9566241685144125,
          0.9593957871396896,
          0.9588414634146342,
          0.9650776053215078,
          0.9657705099778272,
          0.9670177383592018,
          0.9685421286031042,
          0.9689578713968958,
          0.9689578713968958,
          0.9695121951219512,
          0.970759423503326,
          0.9715909090909092,
          0.9717294900221728,
          0.9720066518847008,
          0.9739467849223948,
          0.9740853658536586,
          0.9742239467849224
         ],
         "yaxis": "y"
        },
        {
         "alignmentgroup": "True",
         "hovertemplate": "variable=precision_score<br>models=%{x}<br>value=%{y}<extra></extra>",
         "legendgroup": "precision_score",
         "marker": {
          "color": "#ab63fa",
          "pattern": {
           "shape": ""
          }
         },
         "name": "precision_score",
         "offsetgroup": "precision_score",
         "orientation": "v",
         "showlegend": true,
         "textposition": "auto",
         "type": "bar",
         "x": [
          "Naive Bayes default TF-IDF",
          "Naive Bayes (1,2) TF-IDF",
          "Naive Bayes (1,3) TF-IDF",
          "KNN (1,3) TF-IDF",
          "KNN (1,2) TF-IDF",
          "KNN (1,3) BOW(CountVectorizer)",
          "KNN default TF-IDF",
          "Decision Tree (1,3) TF-IDF",
          "Decision Tree (1,2) TF-IDF",
          "Decision Tree default TF-IDF",
          "KNN (1,2) BOW(CountVectorizer)",
          "Naive Bayes default BOW(CountVectorizer)",
          "Decision Tree default BOW(CountVectorizer)",
          "KNN default BOW(CountVectorizer)",
          "Decision Tree (1,3) BOW(CountVectorizer)",
          "Decision Tree (1,2) BOW(CountVectorizer)",
          "Naive Bayes (1,2) BOW(CountVectorizer)",
          "Naive Bayes (1,3) BOW(CountVectorizer)",
          "Logistic Regression (1,3) TF-IDF",
          "SVM default BOW(CountVectorizer)",
          "Logistic Regression default TF-IDF",
          "Logistic Regression (1,2) TF-IDF",
          "SVM (1,3) TF-IDF",
          "SVM (1,2) BOW(CountVectorizer)",
          "SVM default TF-IDF",
          "SVM (1,3) BOW(CountVectorizer)",
          "SVM (1,2) TF-IDF",
          "Logistic Regression (1,2) BOW(CountVectorizer)",
          "Logistic Regression default BOW(CountVectorizer)",
          "Logistic Regression (1,3) BOW(CountVectorizer)"
         ],
         "xaxis": "x",
         "y": [
          0.9162625487653904,
          0.9319676931913266,
          0.9379643224194254,
          0.9380278841210912,
          0.9396199131628776,
          0.9451658267907426,
          0.9444753645241064,
          0.9520789037914402,
          0.951033816067159,
          0.9508484175000238,
          0.9492935158092304,
          0.9534669898184014,
          0.9549209143777768,
          0.9545500025702278,
          0.9594635474651032,
          0.9586776930082757,
          0.9645759825218972,
          0.9651536865904092,
          0.9665606661131428,
          0.9691889969646726,
          0.9677693056382236,
          0.9681728229626864,
          0.9704317876370314,
          0.9707183658469296,
          0.970973225134656,
          0.971503933618418,
          0.972170160311936,
          0.9735039244252456,
          0.9737203712297772,
          0.973660565480443
         ],
         "yaxis": "y"
        }
       ],
       "layout": {
        "barmode": "relative",
        "height": 800,
        "legend": {
         "title": {
          "text": "variable"
         },
         "tracegroupgap": 0
        },
        "template": {
         "data": {
          "bar": [
           {
            "error_x": {
             "color": "#2a3f5f"
            },
            "error_y": {
             "color": "#2a3f5f"
            },
            "marker": {
             "line": {
              "color": "#E5ECF6",
              "width": 0.5
             },
             "pattern": {
              "fillmode": "overlay",
              "size": 10,
              "solidity": 0.2
             }
            },
            "type": "bar"
           }
          ],
          "barpolar": [
           {
            "marker": {
             "line": {
              "color": "#E5ECF6",
              "width": 0.5
             },
             "pattern": {
              "fillmode": "overlay",
              "size": 10,
              "solidity": 0.2
             }
            },
            "type": "barpolar"
           }
          ],
          "carpet": [
           {
            "aaxis": {
             "endlinecolor": "#2a3f5f",
             "gridcolor": "white",
             "linecolor": "white",
             "minorgridcolor": "white",
             "startlinecolor": "#2a3f5f"
            },
            "baxis": {
             "endlinecolor": "#2a3f5f",
             "gridcolor": "white",
             "linecolor": "white",
             "minorgridcolor": "white",
             "startlinecolor": "#2a3f5f"
            },
            "type": "carpet"
           }
          ],
          "choropleth": [
           {
            "colorbar": {
             "outlinewidth": 0,
             "ticks": ""
            },
            "type": "choropleth"
           }
          ],
          "contour": [
           {
            "colorbar": {
             "outlinewidth": 0,
             "ticks": ""
            },
            "colorscale": [
             [
              0,
              "#0d0887"
             ],
             [
              0.1111111111111111,
              "#46039f"
             ],
             [
              0.2222222222222222,
              "#7201a8"
             ],
             [
              0.3333333333333333,
              "#9c179e"
             ],
             [
              0.4444444444444444,
              "#bd3786"
             ],
             [
              0.5555555555555556,
              "#d8576b"
             ],
             [
              0.6666666666666666,
              "#ed7953"
             ],
             [
              0.7777777777777778,
              "#fb9f3a"
             ],
             [
              0.8888888888888888,
              "#fdca26"
             ],
             [
              1,
              "#f0f921"
             ]
            ],
            "type": "contour"
           }
          ],
          "contourcarpet": [
           {
            "colorbar": {
             "outlinewidth": 0,
             "ticks": ""
            },
            "type": "contourcarpet"
           }
          ],
          "heatmap": [
           {
            "colorbar": {
             "outlinewidth": 0,
             "ticks": ""
            },
            "colorscale": [
             [
              0,
              "#0d0887"
             ],
             [
              0.1111111111111111,
              "#46039f"
             ],
             [
              0.2222222222222222,
              "#7201a8"
             ],
             [
              0.3333333333333333,
              "#9c179e"
             ],
             [
              0.4444444444444444,
              "#bd3786"
             ],
             [
              0.5555555555555556,
              "#d8576b"
             ],
             [
              0.6666666666666666,
              "#ed7953"
             ],
             [
              0.7777777777777778,
              "#fb9f3a"
             ],
             [
              0.8888888888888888,
              "#fdca26"
             ],
             [
              1,
              "#f0f921"
             ]
            ],
            "type": "heatmap"
           }
          ],
          "heatmapgl": [
           {
            "colorbar": {
             "outlinewidth": 0,
             "ticks": ""
            },
            "colorscale": [
             [
              0,
              "#0d0887"
             ],
             [
              0.1111111111111111,
              "#46039f"
             ],
             [
              0.2222222222222222,
              "#7201a8"
             ],
             [
              0.3333333333333333,
              "#9c179e"
             ],
             [
              0.4444444444444444,
              "#bd3786"
             ],
             [
              0.5555555555555556,
              "#d8576b"
             ],
             [
              0.6666666666666666,
              "#ed7953"
             ],
             [
              0.7777777777777778,
              "#fb9f3a"
             ],
             [
              0.8888888888888888,
              "#fdca26"
             ],
             [
              1,
              "#f0f921"
             ]
            ],
            "type": "heatmapgl"
           }
          ],
          "histogram": [
           {
            "marker": {
             "pattern": {
              "fillmode": "overlay",
              "size": 10,
              "solidity": 0.2
             }
            },
            "type": "histogram"
           }
          ],
          "histogram2d": [
           {
            "colorbar": {
             "outlinewidth": 0,
             "ticks": ""
            },
            "colorscale": [
             [
              0,
              "#0d0887"
             ],
             [
              0.1111111111111111,
              "#46039f"
             ],
             [
              0.2222222222222222,
              "#7201a8"
             ],
             [
              0.3333333333333333,
              "#9c179e"
             ],
             [
              0.4444444444444444,
              "#bd3786"
             ],
             [
              0.5555555555555556,
              "#d8576b"
             ],
             [
              0.6666666666666666,
              "#ed7953"
             ],
             [
              0.7777777777777778,
              "#fb9f3a"
             ],
             [
              0.8888888888888888,
              "#fdca26"
             ],
             [
              1,
              "#f0f921"
             ]
            ],
            "type": "histogram2d"
           }
          ],
          "histogram2dcontour": [
           {
            "colorbar": {
             "outlinewidth": 0,
             "ticks": ""
            },
            "colorscale": [
             [
              0,
              "#0d0887"
             ],
             [
              0.1111111111111111,
              "#46039f"
             ],
             [
              0.2222222222222222,
              "#7201a8"
             ],
             [
              0.3333333333333333,
              "#9c179e"
             ],
             [
              0.4444444444444444,
              "#bd3786"
             ],
             [
              0.5555555555555556,
              "#d8576b"
             ],
             [
              0.6666666666666666,
              "#ed7953"
             ],
             [
              0.7777777777777778,
              "#fb9f3a"
             ],
             [
              0.8888888888888888,
              "#fdca26"
             ],
             [
              1,
              "#f0f921"
             ]
            ],
            "type": "histogram2dcontour"
           }
          ],
          "mesh3d": [
           {
            "colorbar": {
             "outlinewidth": 0,
             "ticks": ""
            },
            "type": "mesh3d"
           }
          ],
          "parcoords": [
           {
            "line": {
             "colorbar": {
              "outlinewidth": 0,
              "ticks": ""
             }
            },
            "type": "parcoords"
           }
          ],
          "pie": [
           {
            "automargin": true,
            "type": "pie"
           }
          ],
          "scatter": [
           {
            "fillpattern": {
             "fillmode": "overlay",
             "size": 10,
             "solidity": 0.2
            },
            "type": "scatter"
           }
          ],
          "scatter3d": [
           {
            "line": {
             "colorbar": {
              "outlinewidth": 0,
              "ticks": ""
             }
            },
            "marker": {
             "colorbar": {
              "outlinewidth": 0,
              "ticks": ""
             }
            },
            "type": "scatter3d"
           }
          ],
          "scattercarpet": [
           {
            "marker": {
             "colorbar": {
              "outlinewidth": 0,
              "ticks": ""
             }
            },
            "type": "scattercarpet"
           }
          ],
          "scattergeo": [
           {
            "marker": {
             "colorbar": {
              "outlinewidth": 0,
              "ticks": ""
             }
            },
            "type": "scattergeo"
           }
          ],
          "scattergl": [
           {
            "marker": {
             "colorbar": {
              "outlinewidth": 0,
              "ticks": ""
             }
            },
            "type": "scattergl"
           }
          ],
          "scattermapbox": [
           {
            "marker": {
             "colorbar": {
              "outlinewidth": 0,
              "ticks": ""
             }
            },
            "type": "scattermapbox"
           }
          ],
          "scatterpolar": [
           {
            "marker": {
             "colorbar": {
              "outlinewidth": 0,
              "ticks": ""
             }
            },
            "type": "scatterpolar"
           }
          ],
          "scatterpolargl": [
           {
            "marker": {
             "colorbar": {
              "outlinewidth": 0,
              "ticks": ""
             }
            },
            "type": "scatterpolargl"
           }
          ],
          "scatterternary": [
           {
            "marker": {
             "colorbar": {
              "outlinewidth": 0,
              "ticks": ""
             }
            },
            "type": "scatterternary"
           }
          ],
          "surface": [
           {
            "colorbar": {
             "outlinewidth": 0,
             "ticks": ""
            },
            "colorscale": [
             [
              0,
              "#0d0887"
             ],
             [
              0.1111111111111111,
              "#46039f"
             ],
             [
              0.2222222222222222,
              "#7201a8"
             ],
             [
              0.3333333333333333,
              "#9c179e"
             ],
             [
              0.4444444444444444,
              "#bd3786"
             ],
             [
              0.5555555555555556,
              "#d8576b"
             ],
             [
              0.6666666666666666,
              "#ed7953"
             ],
             [
              0.7777777777777778,
              "#fb9f3a"
             ],
             [
              0.8888888888888888,
              "#fdca26"
             ],
             [
              1,
              "#f0f921"
             ]
            ],
            "type": "surface"
           }
          ],
          "table": [
           {
            "cells": {
             "fill": {
              "color": "#EBF0F8"
             },
             "line": {
              "color": "white"
             }
            },
            "header": {
             "fill": {
              "color": "#C8D4E3"
             },
             "line": {
              "color": "white"
             }
            },
            "type": "table"
           }
          ]
         },
         "layout": {
          "annotationdefaults": {
           "arrowcolor": "#2a3f5f",
           "arrowhead": 0,
           "arrowwidth": 1
          },
          "autotypenumbers": "strict",
          "coloraxis": {
           "colorbar": {
            "outlinewidth": 0,
            "ticks": ""
           }
          },
          "colorscale": {
           "diverging": [
            [
             0,
             "#8e0152"
            ],
            [
             0.1,
             "#c51b7d"
            ],
            [
             0.2,
             "#de77ae"
            ],
            [
             0.3,
             "#f1b6da"
            ],
            [
             0.4,
             "#fde0ef"
            ],
            [
             0.5,
             "#f7f7f7"
            ],
            [
             0.6,
             "#e6f5d0"
            ],
            [
             0.7,
             "#b8e186"
            ],
            [
             0.8,
             "#7fbc41"
            ],
            [
             0.9,
             "#4d9221"
            ],
            [
             1,
             "#276419"
            ]
           ],
           "sequential": [
            [
             0,
             "#0d0887"
            ],
            [
             0.1111111111111111,
             "#46039f"
            ],
            [
             0.2222222222222222,
             "#7201a8"
            ],
            [
             0.3333333333333333,
             "#9c179e"
            ],
            [
             0.4444444444444444,
             "#bd3786"
            ],
            [
             0.5555555555555556,
             "#d8576b"
            ],
            [
             0.6666666666666666,
             "#ed7953"
            ],
            [
             0.7777777777777778,
             "#fb9f3a"
            ],
            [
             0.8888888888888888,
             "#fdca26"
            ],
            [
             1,
             "#f0f921"
            ]
           ],
           "sequentialminus": [
            [
             0,
             "#0d0887"
            ],
            [
             0.1111111111111111,
             "#46039f"
            ],
            [
             0.2222222222222222,
             "#7201a8"
            ],
            [
             0.3333333333333333,
             "#9c179e"
            ],
            [
             0.4444444444444444,
             "#bd3786"
            ],
            [
             0.5555555555555556,
             "#d8576b"
            ],
            [
             0.6666666666666666,
             "#ed7953"
            ],
            [
             0.7777777777777778,
             "#fb9f3a"
            ],
            [
             0.8888888888888888,
             "#fdca26"
            ],
            [
             1,
             "#f0f921"
            ]
           ]
          },
          "colorway": [
           "#636efa",
           "#EF553B",
           "#00cc96",
           "#ab63fa",
           "#FFA15A",
           "#19d3f3",
           "#FF6692",
           "#B6E880",
           "#FF97FF",
           "#FECB52"
          ],
          "font": {
           "color": "#2a3f5f"
          },
          "geo": {
           "bgcolor": "white",
           "lakecolor": "white",
           "landcolor": "#E5ECF6",
           "showlakes": true,
           "showland": true,
           "subunitcolor": "white"
          },
          "hoverlabel": {
           "align": "left"
          },
          "hovermode": "closest",
          "mapbox": {
           "style": "light"
          },
          "paper_bgcolor": "white",
          "plot_bgcolor": "#E5ECF6",
          "polar": {
           "angularaxis": {
            "gridcolor": "white",
            "linecolor": "white",
            "ticks": ""
           },
           "bgcolor": "#E5ECF6",
           "radialaxis": {
            "gridcolor": "white",
            "linecolor": "white",
            "ticks": ""
           }
          },
          "scene": {
           "xaxis": {
            "backgroundcolor": "#E5ECF6",
            "gridcolor": "white",
            "gridwidth": 2,
            "linecolor": "white",
            "showbackground": true,
            "ticks": "",
            "zerolinecolor": "white"
           },
           "yaxis": {
            "backgroundcolor": "#E5ECF6",
            "gridcolor": "white",
            "gridwidth": 2,
            "linecolor": "white",
            "showbackground": true,
            "ticks": "",
            "zerolinecolor": "white"
           },
           "zaxis": {
            "backgroundcolor": "#E5ECF6",
            "gridcolor": "white",
            "gridwidth": 2,
            "linecolor": "white",
            "showbackground": true,
            "ticks": "",
            "zerolinecolor": "white"
           }
          },
          "shapedefaults": {
           "line": {
            "color": "#2a3f5f"
           }
          },
          "ternary": {
           "aaxis": {
            "gridcolor": "white",
            "linecolor": "white",
            "ticks": ""
           },
           "baxis": {
            "gridcolor": "white",
            "linecolor": "white",
            "ticks": ""
           },
           "bgcolor": "#E5ECF6",
           "caxis": {
            "gridcolor": "white",
            "linecolor": "white",
            "ticks": ""
           }
          },
          "title": {
           "x": 0.05
          },
          "xaxis": {
           "automargin": true,
           "gridcolor": "white",
           "linecolor": "white",
           "ticks": "",
           "title": {
            "standoff": 15
           },
           "zerolinecolor": "white",
           "zerolinewidth": 2
          },
          "yaxis": {
           "automargin": true,
           "gridcolor": "white",
           "linecolor": "white",
           "ticks": "",
           "title": {
            "standoff": 15
           },
           "zerolinecolor": "white",
           "zerolinewidth": 2
          }
         }
        },
        "title": {
         "text": "Model performance metrice curves on testing"
        },
        "width": 1250,
        "xaxis": {
         "anchor": "y",
         "domain": [
          0,
          1
         ],
         "title": {
          "text": "models"
         }
        },
        "yaxis": {
         "anchor": "x",
         "domain": [
          0,
          1
         ],
         "title": {
          "text": "value"
         }
        }
       }
      }
     },
     "metadata": {},
     "output_type": "display_data"
    }
   ],
   "source": [
    "px.bar(result,x=x,y=['accuracy_score','f1_score','recall_score','precision_score'],labels={'x':'models','y':'value'},width=1250, height=800,title='Model performance metrice curves on testing')"
   ]
  },
  {
   "cell_type": "code",
   "execution_count": 18,
   "metadata": {},
   "outputs": [
    {
     "data": {
      "text/html": [
       "<div>\n",
       "<style scoped>\n",
       "    .dataframe tbody tr th:only-of-type {\n",
       "        vertical-align: middle;\n",
       "    }\n",
       "\n",
       "    .dataframe tbody tr th {\n",
       "        vertical-align: top;\n",
       "    }\n",
       "\n",
       "    .dataframe thead th {\n",
       "        text-align: right;\n",
       "    }\n",
       "</style>\n",
       "<table border=\"1\" class=\"dataframe\">\n",
       "  <thead>\n",
       "    <tr style=\"text-align: right;\">\n",
       "      <th></th>\n",
       "      <th>models</th>\n",
       "      <th>ngrams</th>\n",
       "      <th>Text_vectorization</th>\n",
       "      <th>accuracy_score</th>\n",
       "      <th>precision_score</th>\n",
       "      <th>f1_score</th>\n",
       "      <th>recall_score</th>\n",
       "    </tr>\n",
       "  </thead>\n",
       "  <tbody>\n",
       "    <tr>\n",
       "      <th>28</th>\n",
       "      <td>Naive Bayes</td>\n",
       "      <td>default</td>\n",
       "      <td>TF-IDF</td>\n",
       "      <td>0.914</td>\n",
       "      <td>0.916263</td>\n",
       "      <td>0.894810</td>\n",
       "      <td>0.914080</td>\n",
       "    </tr>\n",
       "    <tr>\n",
       "      <th>23</th>\n",
       "      <td>Naive Bayes</td>\n",
       "      <td>(1,2)</td>\n",
       "      <td>TF-IDF</td>\n",
       "      <td>0.931</td>\n",
       "      <td>0.931968</td>\n",
       "      <td>0.919643</td>\n",
       "      <td>0.930571</td>\n",
       "    </tr>\n",
       "    <tr>\n",
       "      <th>13</th>\n",
       "      <td>Naive Bayes</td>\n",
       "      <td>(1,3)</td>\n",
       "      <td>TF-IDF</td>\n",
       "      <td>0.937</td>\n",
       "      <td>0.937964</td>\n",
       "      <td>0.928221</td>\n",
       "      <td>0.936807</td>\n",
       "    </tr>\n",
       "    <tr>\n",
       "      <th>14</th>\n",
       "      <td>KNN</td>\n",
       "      <td>(1,3)</td>\n",
       "      <td>TF-IDF</td>\n",
       "      <td>0.940</td>\n",
       "      <td>0.938028</td>\n",
       "      <td>0.933798</td>\n",
       "      <td>0.940133</td>\n",
       "    </tr>\n",
       "    <tr>\n",
       "      <th>24</th>\n",
       "      <td>KNN</td>\n",
       "      <td>(1,2)</td>\n",
       "      <td>TF-IDF</td>\n",
       "      <td>0.942</td>\n",
       "      <td>0.939620</td>\n",
       "      <td>0.936209</td>\n",
       "      <td>0.941935</td>\n",
       "    </tr>\n",
       "  </tbody>\n",
       "</table>\n",
       "</div>"
      ],
      "text/plain": [
       "         models   ngrams Text_vectorization  accuracy_score  precision_score  \\\n",
       "28  Naive Bayes  default             TF-IDF           0.914         0.916263   \n",
       "23  Naive Bayes    (1,2)             TF-IDF           0.931         0.931968   \n",
       "13  Naive Bayes    (1,3)             TF-IDF           0.937         0.937964   \n",
       "14          KNN    (1,3)             TF-IDF           0.940         0.938028   \n",
       "24          KNN    (1,2)             TF-IDF           0.942         0.939620   \n",
       "\n",
       "    f1_score  recall_score  \n",
       "28  0.894810      0.914080  \n",
       "23  0.919643      0.930571  \n",
       "13  0.928221      0.936807  \n",
       "14  0.933798      0.940133  \n",
       "24  0.936209      0.941935  "
      ]
     },
     "execution_count": 18,
     "metadata": {},
     "output_type": "execute_result"
    }
   ],
   "source": [
    "result.head()"
   ]
  },
  {
   "cell_type": "code",
   "execution_count": 19,
   "metadata": {},
   "outputs": [],
   "source": [
    "df1 = result[result['ngrams']=='(1,2)']"
   ]
  },
  {
   "cell_type": "code",
   "execution_count": 20,
   "metadata": {},
   "outputs": [
    {
     "data": {
      "text/html": [
       "<div>\n",
       "<style scoped>\n",
       "    .dataframe tbody tr th:only-of-type {\n",
       "        vertical-align: middle;\n",
       "    }\n",
       "\n",
       "    .dataframe tbody tr th {\n",
       "        vertical-align: top;\n",
       "    }\n",
       "\n",
       "    .dataframe thead th {\n",
       "        text-align: right;\n",
       "    }\n",
       "</style>\n",
       "<table border=\"1\" class=\"dataframe\">\n",
       "  <thead>\n",
       "    <tr style=\"text-align: right;\">\n",
       "      <th></th>\n",
       "      <th>models</th>\n",
       "      <th>ngrams</th>\n",
       "      <th>Text_vectorization</th>\n",
       "      <th>accuracy_score</th>\n",
       "      <th>precision_score</th>\n",
       "      <th>f1_score</th>\n",
       "      <th>recall_score</th>\n",
       "    </tr>\n",
       "  </thead>\n",
       "  <tbody>\n",
       "    <tr>\n",
       "      <th>23</th>\n",
       "      <td>Naive Bayes</td>\n",
       "      <td>(1,2)</td>\n",
       "      <td>TF-IDF</td>\n",
       "      <td>0.931</td>\n",
       "      <td>0.931968</td>\n",
       "      <td>0.919643</td>\n",
       "      <td>0.930571</td>\n",
       "    </tr>\n",
       "    <tr>\n",
       "      <th>24</th>\n",
       "      <td>KNN</td>\n",
       "      <td>(1,2)</td>\n",
       "      <td>TF-IDF</td>\n",
       "      <td>0.942</td>\n",
       "      <td>0.939620</td>\n",
       "      <td>0.936209</td>\n",
       "      <td>0.941935</td>\n",
       "    </tr>\n",
       "    <tr>\n",
       "      <th>22</th>\n",
       "      <td>Decision Tree</td>\n",
       "      <td>(1,2)</td>\n",
       "      <td>TF-IDF</td>\n",
       "      <td>0.949</td>\n",
       "      <td>0.951034</td>\n",
       "      <td>0.950057</td>\n",
       "      <td>0.949418</td>\n",
       "    </tr>\n",
       "    <tr>\n",
       "      <th>9</th>\n",
       "      <td>KNN</td>\n",
       "      <td>(1,2)</td>\n",
       "      <td>BOW(CountVectorizer)</td>\n",
       "      <td>0.951</td>\n",
       "      <td>0.949294</td>\n",
       "      <td>0.947741</td>\n",
       "      <td>0.951497</td>\n",
       "    </tr>\n",
       "    <tr>\n",
       "      <th>7</th>\n",
       "      <td>Decision Tree</td>\n",
       "      <td>(1,2)</td>\n",
       "      <td>BOW(CountVectorizer)</td>\n",
       "      <td>0.959</td>\n",
       "      <td>0.959464</td>\n",
       "      <td>0.959399</td>\n",
       "      <td>0.959396</td>\n",
       "    </tr>\n",
       "    <tr>\n",
       "      <th>8</th>\n",
       "      <td>Naive Bayes</td>\n",
       "      <td>(1,2)</td>\n",
       "      <td>BOW(CountVectorizer)</td>\n",
       "      <td>0.965</td>\n",
       "      <td>0.964576</td>\n",
       "      <td>0.964068</td>\n",
       "      <td>0.965078</td>\n",
       "    </tr>\n",
       "    <tr>\n",
       "      <th>21</th>\n",
       "      <td>Logistic Regression</td>\n",
       "      <td>(1,2)</td>\n",
       "      <td>TF-IDF</td>\n",
       "      <td>0.969</td>\n",
       "      <td>0.968173</td>\n",
       "      <td>0.968009</td>\n",
       "      <td>0.968958</td>\n",
       "    </tr>\n",
       "    <tr>\n",
       "      <th>5</th>\n",
       "      <td>SVM</td>\n",
       "      <td>(1,2)</td>\n",
       "      <td>BOW(CountVectorizer)</td>\n",
       "      <td>0.971</td>\n",
       "      <td>0.970718</td>\n",
       "      <td>0.970684</td>\n",
       "      <td>0.970759</td>\n",
       "    </tr>\n",
       "    <tr>\n",
       "      <th>20</th>\n",
       "      <td>SVM</td>\n",
       "      <td>(1,2)</td>\n",
       "      <td>TF-IDF</td>\n",
       "      <td>0.972</td>\n",
       "      <td>0.972170</td>\n",
       "      <td>0.971780</td>\n",
       "      <td>0.972007</td>\n",
       "    </tr>\n",
       "    <tr>\n",
       "      <th>6</th>\n",
       "      <td>Logistic Regression</td>\n",
       "      <td>(1,2)</td>\n",
       "      <td>BOW(CountVectorizer)</td>\n",
       "      <td>0.974</td>\n",
       "      <td>0.973504</td>\n",
       "      <td>0.973572</td>\n",
       "      <td>0.973947</td>\n",
       "    </tr>\n",
       "  </tbody>\n",
       "</table>\n",
       "</div>"
      ],
      "text/plain": [
       "                 models ngrams    Text_vectorization  accuracy_score  \\\n",
       "23          Naive Bayes  (1,2)                TF-IDF           0.931   \n",
       "24                  KNN  (1,2)                TF-IDF           0.942   \n",
       "22        Decision Tree  (1,2)                TF-IDF           0.949   \n",
       "9                   KNN  (1,2)  BOW(CountVectorizer)           0.951   \n",
       "7         Decision Tree  (1,2)  BOW(CountVectorizer)           0.959   \n",
       "8           Naive Bayes  (1,2)  BOW(CountVectorizer)           0.965   \n",
       "21  Logistic Regression  (1,2)                TF-IDF           0.969   \n",
       "5                   SVM  (1,2)  BOW(CountVectorizer)           0.971   \n",
       "20                  SVM  (1,2)                TF-IDF           0.972   \n",
       "6   Logistic Regression  (1,2)  BOW(CountVectorizer)           0.974   \n",
       "\n",
       "    precision_score  f1_score  recall_score  \n",
       "23         0.931968  0.919643      0.930571  \n",
       "24         0.939620  0.936209      0.941935  \n",
       "22         0.951034  0.950057      0.949418  \n",
       "9          0.949294  0.947741      0.951497  \n",
       "7          0.959464  0.959399      0.959396  \n",
       "8          0.964576  0.964068      0.965078  \n",
       "21         0.968173  0.968009      0.968958  \n",
       "5          0.970718  0.970684      0.970759  \n",
       "20         0.972170  0.971780      0.972007  \n",
       "6          0.973504  0.973572      0.973947  "
      ]
     },
     "execution_count": 20,
     "metadata": {},
     "output_type": "execute_result"
    }
   ],
   "source": [
    "df1"
   ]
  },
  {
   "cell_type": "code",
   "execution_count": 43,
   "metadata": {},
   "outputs": [
    {
     "data": {
      "application/vnd.plotly.v1+json": {
       "config": {
        "plotlyServerURL": "https://plot.ly"
       },
       "data": [
        {
         "hovertemplate": "variable=accuracy_score<br>models=%{x}<br>value=%{y}<extra></extra>",
         "legendgroup": "accuracy_score",
         "line": {
          "color": "#636efa",
          "dash": "solid"
         },
         "marker": {
          "symbol": "circle"
         },
         "mode": "lines+markers",
         "name": "accuracy_score",
         "orientation": "v",
         "showlegend": true,
         "type": "scatter",
         "x": [
          "Naive Bayes (1,3) TF-IDF",
          "KNN (1,3) TF-IDF",
          "KNN (1,3) BOW(CountVectorizer)",
          "Decision Tree (1,3) TF-IDF",
          "Decision Tree (1,3) BOW(CountVectorizer)",
          "Naive Bayes (1,3) BOW(CountVectorizer)",
          "Logistic Regression (1,3) TF-IDF",
          "SVM (1,3) TF-IDF",
          "SVM (1,3) BOW(CountVectorizer)",
          "Logistic Regression (1,3) BOW(CountVectorizer)"
         ],
         "xaxis": "x",
         "y": [
          0.937,
          0.94,
          0.947,
          0.949,
          0.959,
          0.966,
          0.967,
          0.97,
          0.972,
          0.974
         ],
         "yaxis": "y"
        },
        {
         "hovertemplate": "variable=f1_score<br>models=%{x}<br>value=%{y}<extra></extra>",
         "legendgroup": "f1_score",
         "line": {
          "color": "#EF553B",
          "dash": "solid"
         },
         "marker": {
          "symbol": "circle"
         },
         "mode": "lines+markers",
         "name": "f1_score",
         "orientation": "v",
         "showlegend": true,
         "type": "scatter",
         "x": [
          "Naive Bayes (1,3) TF-IDF",
          "KNN (1,3) TF-IDF",
          "KNN (1,3) BOW(CountVectorizer)",
          "Decision Tree (1,3) TF-IDF",
          "Decision Tree (1,3) BOW(CountVectorizer)",
          "Naive Bayes (1,3) BOW(CountVectorizer)",
          "Logistic Regression (1,3) TF-IDF",
          "SVM (1,3) TF-IDF",
          "SVM (1,3) BOW(CountVectorizer)",
          "Logistic Regression (1,3) BOW(CountVectorizer)"
         ],
         "xaxis": "x",
         "y": [
          0.9282210587457383,
          0.9337982688741304,
          0.9419609067381974,
          0.9503457666829924,
          0.9587055540724712,
          0.9649728878839752,
          0.9661979677163124,
          0.9695868418183844,
          0.971575535613425,
          0.9738061378902992
         ],
         "yaxis": "y"
        },
        {
         "hovertemplate": "variable=recall_score<br>models=%{x}<br>value=%{y}<extra></extra>",
         "legendgroup": "recall_score",
         "line": {
          "color": "#00cc96",
          "dash": "solid"
         },
         "marker": {
          "symbol": "circle"
         },
         "mode": "lines+markers",
         "name": "recall_score",
         "orientation": "v",
         "showlegend": true,
         "type": "scatter",
         "x": [
          "Naive Bayes (1,3) TF-IDF",
          "KNN (1,3) TF-IDF",
          "KNN (1,3) BOW(CountVectorizer)",
          "Decision Tree (1,3) TF-IDF",
          "Decision Tree (1,3) BOW(CountVectorizer)",
          "Naive Bayes (1,3) BOW(CountVectorizer)",
          "Logistic Regression (1,3) TF-IDF",
          "SVM (1,3) TF-IDF",
          "SVM (1,3) BOW(CountVectorizer)",
          "Logistic Regression (1,3) BOW(CountVectorizer)"
         ],
         "xaxis": "x",
         "y": [
          0.9368070953436808,
          0.9401330376940134,
          0.9469235033259424,
          0.949279379157428,
          0.9588414634146342,
          0.9657705099778272,
          0.9670177383592018,
          0.9695121951219512,
          0.9717294900221728,
          0.9742239467849224
         ],
         "yaxis": "y"
        },
        {
         "hovertemplate": "variable=precision_score<br>models=%{x}<br>value=%{y}<extra></extra>",
         "legendgroup": "precision_score",
         "line": {
          "color": "#ab63fa",
          "dash": "solid"
         },
         "marker": {
          "symbol": "circle"
         },
         "mode": "lines+markers",
         "name": "precision_score",
         "orientation": "v",
         "showlegend": true,
         "type": "scatter",
         "x": [
          "Naive Bayes (1,3) TF-IDF",
          "KNN (1,3) TF-IDF",
          "KNN (1,3) BOW(CountVectorizer)",
          "Decision Tree (1,3) TF-IDF",
          "Decision Tree (1,3) BOW(CountVectorizer)",
          "Naive Bayes (1,3) BOW(CountVectorizer)",
          "Logistic Regression (1,3) TF-IDF",
          "SVM (1,3) TF-IDF",
          "SVM (1,3) BOW(CountVectorizer)",
          "Logistic Regression (1,3) BOW(CountVectorizer)"
         ],
         "xaxis": "x",
         "y": [
          0.9379643224194254,
          0.9380278841210912,
          0.9451658267907426,
          0.9520789037914402,
          0.9586776930082757,
          0.9651536865904092,
          0.9665606661131428,
          0.9704317876370314,
          0.971503933618418,
          0.973660565480443
         ],
         "yaxis": "y"
        }
       ],
       "layout": {
        "height": 800,
        "legend": {
         "title": {
          "text": "variable"
         },
         "tracegroupgap": 0
        },
        "template": {
         "data": {
          "bar": [
           {
            "error_x": {
             "color": "#2a3f5f"
            },
            "error_y": {
             "color": "#2a3f5f"
            },
            "marker": {
             "line": {
              "color": "#E5ECF6",
              "width": 0.5
             },
             "pattern": {
              "fillmode": "overlay",
              "size": 10,
              "solidity": 0.2
             }
            },
            "type": "bar"
           }
          ],
          "barpolar": [
           {
            "marker": {
             "line": {
              "color": "#E5ECF6",
              "width": 0.5
             },
             "pattern": {
              "fillmode": "overlay",
              "size": 10,
              "solidity": 0.2
             }
            },
            "type": "barpolar"
           }
          ],
          "carpet": [
           {
            "aaxis": {
             "endlinecolor": "#2a3f5f",
             "gridcolor": "white",
             "linecolor": "white",
             "minorgridcolor": "white",
             "startlinecolor": "#2a3f5f"
            },
            "baxis": {
             "endlinecolor": "#2a3f5f",
             "gridcolor": "white",
             "linecolor": "white",
             "minorgridcolor": "white",
             "startlinecolor": "#2a3f5f"
            },
            "type": "carpet"
           }
          ],
          "choropleth": [
           {
            "colorbar": {
             "outlinewidth": 0,
             "ticks": ""
            },
            "type": "choropleth"
           }
          ],
          "contour": [
           {
            "colorbar": {
             "outlinewidth": 0,
             "ticks": ""
            },
            "colorscale": [
             [
              0,
              "#0d0887"
             ],
             [
              0.1111111111111111,
              "#46039f"
             ],
             [
              0.2222222222222222,
              "#7201a8"
             ],
             [
              0.3333333333333333,
              "#9c179e"
             ],
             [
              0.4444444444444444,
              "#bd3786"
             ],
             [
              0.5555555555555556,
              "#d8576b"
             ],
             [
              0.6666666666666666,
              "#ed7953"
             ],
             [
              0.7777777777777778,
              "#fb9f3a"
             ],
             [
              0.8888888888888888,
              "#fdca26"
             ],
             [
              1,
              "#f0f921"
             ]
            ],
            "type": "contour"
           }
          ],
          "contourcarpet": [
           {
            "colorbar": {
             "outlinewidth": 0,
             "ticks": ""
            },
            "type": "contourcarpet"
           }
          ],
          "heatmap": [
           {
            "colorbar": {
             "outlinewidth": 0,
             "ticks": ""
            },
            "colorscale": [
             [
              0,
              "#0d0887"
             ],
             [
              0.1111111111111111,
              "#46039f"
             ],
             [
              0.2222222222222222,
              "#7201a8"
             ],
             [
              0.3333333333333333,
              "#9c179e"
             ],
             [
              0.4444444444444444,
              "#bd3786"
             ],
             [
              0.5555555555555556,
              "#d8576b"
             ],
             [
              0.6666666666666666,
              "#ed7953"
             ],
             [
              0.7777777777777778,
              "#fb9f3a"
             ],
             [
              0.8888888888888888,
              "#fdca26"
             ],
             [
              1,
              "#f0f921"
             ]
            ],
            "type": "heatmap"
           }
          ],
          "heatmapgl": [
           {
            "colorbar": {
             "outlinewidth": 0,
             "ticks": ""
            },
            "colorscale": [
             [
              0,
              "#0d0887"
             ],
             [
              0.1111111111111111,
              "#46039f"
             ],
             [
              0.2222222222222222,
              "#7201a8"
             ],
             [
              0.3333333333333333,
              "#9c179e"
             ],
             [
              0.4444444444444444,
              "#bd3786"
             ],
             [
              0.5555555555555556,
              "#d8576b"
             ],
             [
              0.6666666666666666,
              "#ed7953"
             ],
             [
              0.7777777777777778,
              "#fb9f3a"
             ],
             [
              0.8888888888888888,
              "#fdca26"
             ],
             [
              1,
              "#f0f921"
             ]
            ],
            "type": "heatmapgl"
           }
          ],
          "histogram": [
           {
            "marker": {
             "pattern": {
              "fillmode": "overlay",
              "size": 10,
              "solidity": 0.2
             }
            },
            "type": "histogram"
           }
          ],
          "histogram2d": [
           {
            "colorbar": {
             "outlinewidth": 0,
             "ticks": ""
            },
            "colorscale": [
             [
              0,
              "#0d0887"
             ],
             [
              0.1111111111111111,
              "#46039f"
             ],
             [
              0.2222222222222222,
              "#7201a8"
             ],
             [
              0.3333333333333333,
              "#9c179e"
             ],
             [
              0.4444444444444444,
              "#bd3786"
             ],
             [
              0.5555555555555556,
              "#d8576b"
             ],
             [
              0.6666666666666666,
              "#ed7953"
             ],
             [
              0.7777777777777778,
              "#fb9f3a"
             ],
             [
              0.8888888888888888,
              "#fdca26"
             ],
             [
              1,
              "#f0f921"
             ]
            ],
            "type": "histogram2d"
           }
          ],
          "histogram2dcontour": [
           {
            "colorbar": {
             "outlinewidth": 0,
             "ticks": ""
            },
            "colorscale": [
             [
              0,
              "#0d0887"
             ],
             [
              0.1111111111111111,
              "#46039f"
             ],
             [
              0.2222222222222222,
              "#7201a8"
             ],
             [
              0.3333333333333333,
              "#9c179e"
             ],
             [
              0.4444444444444444,
              "#bd3786"
             ],
             [
              0.5555555555555556,
              "#d8576b"
             ],
             [
              0.6666666666666666,
              "#ed7953"
             ],
             [
              0.7777777777777778,
              "#fb9f3a"
             ],
             [
              0.8888888888888888,
              "#fdca26"
             ],
             [
              1,
              "#f0f921"
             ]
            ],
            "type": "histogram2dcontour"
           }
          ],
          "mesh3d": [
           {
            "colorbar": {
             "outlinewidth": 0,
             "ticks": ""
            },
            "type": "mesh3d"
           }
          ],
          "parcoords": [
           {
            "line": {
             "colorbar": {
              "outlinewidth": 0,
              "ticks": ""
             }
            },
            "type": "parcoords"
           }
          ],
          "pie": [
           {
            "automargin": true,
            "type": "pie"
           }
          ],
          "scatter": [
           {
            "fillpattern": {
             "fillmode": "overlay",
             "size": 10,
             "solidity": 0.2
            },
            "type": "scatter"
           }
          ],
          "scatter3d": [
           {
            "line": {
             "colorbar": {
              "outlinewidth": 0,
              "ticks": ""
             }
            },
            "marker": {
             "colorbar": {
              "outlinewidth": 0,
              "ticks": ""
             }
            },
            "type": "scatter3d"
           }
          ],
          "scattercarpet": [
           {
            "marker": {
             "colorbar": {
              "outlinewidth": 0,
              "ticks": ""
             }
            },
            "type": "scattercarpet"
           }
          ],
          "scattergeo": [
           {
            "marker": {
             "colorbar": {
              "outlinewidth": 0,
              "ticks": ""
             }
            },
            "type": "scattergeo"
           }
          ],
          "scattergl": [
           {
            "marker": {
             "colorbar": {
              "outlinewidth": 0,
              "ticks": ""
             }
            },
            "type": "scattergl"
           }
          ],
          "scattermapbox": [
           {
            "marker": {
             "colorbar": {
              "outlinewidth": 0,
              "ticks": ""
             }
            },
            "type": "scattermapbox"
           }
          ],
          "scatterpolar": [
           {
            "marker": {
             "colorbar": {
              "outlinewidth": 0,
              "ticks": ""
             }
            },
            "type": "scatterpolar"
           }
          ],
          "scatterpolargl": [
           {
            "marker": {
             "colorbar": {
              "outlinewidth": 0,
              "ticks": ""
             }
            },
            "type": "scatterpolargl"
           }
          ],
          "scatterternary": [
           {
            "marker": {
             "colorbar": {
              "outlinewidth": 0,
              "ticks": ""
             }
            },
            "type": "scatterternary"
           }
          ],
          "surface": [
           {
            "colorbar": {
             "outlinewidth": 0,
             "ticks": ""
            },
            "colorscale": [
             [
              0,
              "#0d0887"
             ],
             [
              0.1111111111111111,
              "#46039f"
             ],
             [
              0.2222222222222222,
              "#7201a8"
             ],
             [
              0.3333333333333333,
              "#9c179e"
             ],
             [
              0.4444444444444444,
              "#bd3786"
             ],
             [
              0.5555555555555556,
              "#d8576b"
             ],
             [
              0.6666666666666666,
              "#ed7953"
             ],
             [
              0.7777777777777778,
              "#fb9f3a"
             ],
             [
              0.8888888888888888,
              "#fdca26"
             ],
             [
              1,
              "#f0f921"
             ]
            ],
            "type": "surface"
           }
          ],
          "table": [
           {
            "cells": {
             "fill": {
              "color": "#EBF0F8"
             },
             "line": {
              "color": "white"
             }
            },
            "header": {
             "fill": {
              "color": "#C8D4E3"
             },
             "line": {
              "color": "white"
             }
            },
            "type": "table"
           }
          ]
         },
         "layout": {
          "annotationdefaults": {
           "arrowcolor": "#2a3f5f",
           "arrowhead": 0,
           "arrowwidth": 1
          },
          "autotypenumbers": "strict",
          "coloraxis": {
           "colorbar": {
            "outlinewidth": 0,
            "ticks": ""
           }
          },
          "colorscale": {
           "diverging": [
            [
             0,
             "#8e0152"
            ],
            [
             0.1,
             "#c51b7d"
            ],
            [
             0.2,
             "#de77ae"
            ],
            [
             0.3,
             "#f1b6da"
            ],
            [
             0.4,
             "#fde0ef"
            ],
            [
             0.5,
             "#f7f7f7"
            ],
            [
             0.6,
             "#e6f5d0"
            ],
            [
             0.7,
             "#b8e186"
            ],
            [
             0.8,
             "#7fbc41"
            ],
            [
             0.9,
             "#4d9221"
            ],
            [
             1,
             "#276419"
            ]
           ],
           "sequential": [
            [
             0,
             "#0d0887"
            ],
            [
             0.1111111111111111,
             "#46039f"
            ],
            [
             0.2222222222222222,
             "#7201a8"
            ],
            [
             0.3333333333333333,
             "#9c179e"
            ],
            [
             0.4444444444444444,
             "#bd3786"
            ],
            [
             0.5555555555555556,
             "#d8576b"
            ],
            [
             0.6666666666666666,
             "#ed7953"
            ],
            [
             0.7777777777777778,
             "#fb9f3a"
            ],
            [
             0.8888888888888888,
             "#fdca26"
            ],
            [
             1,
             "#f0f921"
            ]
           ],
           "sequentialminus": [
            [
             0,
             "#0d0887"
            ],
            [
             0.1111111111111111,
             "#46039f"
            ],
            [
             0.2222222222222222,
             "#7201a8"
            ],
            [
             0.3333333333333333,
             "#9c179e"
            ],
            [
             0.4444444444444444,
             "#bd3786"
            ],
            [
             0.5555555555555556,
             "#d8576b"
            ],
            [
             0.6666666666666666,
             "#ed7953"
            ],
            [
             0.7777777777777778,
             "#fb9f3a"
            ],
            [
             0.8888888888888888,
             "#fdca26"
            ],
            [
             1,
             "#f0f921"
            ]
           ]
          },
          "colorway": [
           "#636efa",
           "#EF553B",
           "#00cc96",
           "#ab63fa",
           "#FFA15A",
           "#19d3f3",
           "#FF6692",
           "#B6E880",
           "#FF97FF",
           "#FECB52"
          ],
          "font": {
           "color": "#2a3f5f"
          },
          "geo": {
           "bgcolor": "white",
           "lakecolor": "white",
           "landcolor": "#E5ECF6",
           "showlakes": true,
           "showland": true,
           "subunitcolor": "white"
          },
          "hoverlabel": {
           "align": "left"
          },
          "hovermode": "closest",
          "mapbox": {
           "style": "light"
          },
          "paper_bgcolor": "white",
          "plot_bgcolor": "#E5ECF6",
          "polar": {
           "angularaxis": {
            "gridcolor": "white",
            "linecolor": "white",
            "ticks": ""
           },
           "bgcolor": "#E5ECF6",
           "radialaxis": {
            "gridcolor": "white",
            "linecolor": "white",
            "ticks": ""
           }
          },
          "scene": {
           "xaxis": {
            "backgroundcolor": "#E5ECF6",
            "gridcolor": "white",
            "gridwidth": 2,
            "linecolor": "white",
            "showbackground": true,
            "ticks": "",
            "zerolinecolor": "white"
           },
           "yaxis": {
            "backgroundcolor": "#E5ECF6",
            "gridcolor": "white",
            "gridwidth": 2,
            "linecolor": "white",
            "showbackground": true,
            "ticks": "",
            "zerolinecolor": "white"
           },
           "zaxis": {
            "backgroundcolor": "#E5ECF6",
            "gridcolor": "white",
            "gridwidth": 2,
            "linecolor": "white",
            "showbackground": true,
            "ticks": "",
            "zerolinecolor": "white"
           }
          },
          "shapedefaults": {
           "line": {
            "color": "#2a3f5f"
           }
          },
          "ternary": {
           "aaxis": {
            "gridcolor": "white",
            "linecolor": "white",
            "ticks": ""
           },
           "baxis": {
            "gridcolor": "white",
            "linecolor": "white",
            "ticks": ""
           },
           "bgcolor": "#E5ECF6",
           "caxis": {
            "gridcolor": "white",
            "linecolor": "white",
            "ticks": ""
           }
          },
          "title": {
           "x": 0.05
          },
          "xaxis": {
           "automargin": true,
           "gridcolor": "white",
           "linecolor": "white",
           "ticks": "",
           "title": {
            "standoff": 15
           },
           "zerolinecolor": "white",
           "zerolinewidth": 2
          },
          "yaxis": {
           "automargin": true,
           "gridcolor": "white",
           "linecolor": "white",
           "ticks": "",
           "title": {
            "standoff": 15
           },
           "zerolinecolor": "white",
           "zerolinewidth": 2
          }
         }
        },
        "title": {
         "text": "Model performance metrice curves on testing using (1,2) ngram technique"
        },
        "width": 1250,
        "xaxis": {
         "anchor": "y",
         "domain": [
          0,
          1
         ],
         "title": {
          "text": "models"
         }
        },
        "yaxis": {
         "anchor": "x",
         "domain": [
          0,
          1
         ],
         "title": {
          "text": "value"
         }
        }
       }
      }
     },
     "metadata": {},
     "output_type": "display_data"
    }
   ],
   "source": [
    "df1 = df1.sort_values(by='accuracy_score')\n",
    "x =  df1['models']+\" \"+df1['ngrams']+\" \"+df1['Text_vectorization']\n",
    "px.line(df1,x=x,y=['accuracy_score','f1_score','recall_score','precision_score'],markers='o',labels={'x':'models','y':'value'},width=1250, height=800,title='Model performance metrice curves on testing using (1,2) ngram technique')"
   ]
  },
  {
   "cell_type": "code",
   "execution_count": 42,
   "metadata": {},
   "outputs": [
    {
     "data": {
      "application/vnd.plotly.v1+json": {
       "config": {
        "plotlyServerURL": "https://plot.ly"
       },
       "data": [
        {
         "hovertemplate": "variable=accuracy_score<br>models=%{x}<br>value=%{y}<extra></extra>",
         "legendgroup": "accuracy_score",
         "line": {
          "color": "#636efa",
          "dash": "solid"
         },
         "marker": {
          "symbol": "circle"
         },
         "mode": "lines+markers",
         "name": "accuracy_score",
         "orientation": "v",
         "showlegend": true,
         "type": "scatter",
         "x": [
          "Naive Bayes (1,3) TF-IDF",
          "KNN (1,3) TF-IDF",
          "KNN (1,3) BOW(CountVectorizer)",
          "Decision Tree (1,3) TF-IDF",
          "Decision Tree (1,3) BOW(CountVectorizer)",
          "Naive Bayes (1,3) BOW(CountVectorizer)",
          "Logistic Regression (1,3) TF-IDF",
          "SVM (1,3) TF-IDF",
          "SVM (1,3) BOW(CountVectorizer)",
          "Logistic Regression (1,3) BOW(CountVectorizer)"
         ],
         "xaxis": "x",
         "y": [
          0.937,
          0.94,
          0.947,
          0.949,
          0.959,
          0.966,
          0.967,
          0.97,
          0.972,
          0.974
         ],
         "yaxis": "y"
        },
        {
         "hovertemplate": "variable=f1_score<br>models=%{x}<br>value=%{y}<extra></extra>",
         "legendgroup": "f1_score",
         "line": {
          "color": "#EF553B",
          "dash": "solid"
         },
         "marker": {
          "symbol": "circle"
         },
         "mode": "lines+markers",
         "name": "f1_score",
         "orientation": "v",
         "showlegend": true,
         "type": "scatter",
         "x": [
          "Naive Bayes (1,3) TF-IDF",
          "KNN (1,3) TF-IDF",
          "KNN (1,3) BOW(CountVectorizer)",
          "Decision Tree (1,3) TF-IDF",
          "Decision Tree (1,3) BOW(CountVectorizer)",
          "Naive Bayes (1,3) BOW(CountVectorizer)",
          "Logistic Regression (1,3) TF-IDF",
          "SVM (1,3) TF-IDF",
          "SVM (1,3) BOW(CountVectorizer)",
          "Logistic Regression (1,3) BOW(CountVectorizer)"
         ],
         "xaxis": "x",
         "y": [
          0.9282210587457383,
          0.9337982688741304,
          0.9419609067381974,
          0.9503457666829924,
          0.9587055540724712,
          0.9649728878839752,
          0.9661979677163124,
          0.9695868418183844,
          0.971575535613425,
          0.9738061378902992
         ],
         "yaxis": "y"
        },
        {
         "hovertemplate": "variable=recall_score<br>models=%{x}<br>value=%{y}<extra></extra>",
         "legendgroup": "recall_score",
         "line": {
          "color": "#00cc96",
          "dash": "solid"
         },
         "marker": {
          "symbol": "circle"
         },
         "mode": "lines+markers",
         "name": "recall_score",
         "orientation": "v",
         "showlegend": true,
         "type": "scatter",
         "x": [
          "Naive Bayes (1,3) TF-IDF",
          "KNN (1,3) TF-IDF",
          "KNN (1,3) BOW(CountVectorizer)",
          "Decision Tree (1,3) TF-IDF",
          "Decision Tree (1,3) BOW(CountVectorizer)",
          "Naive Bayes (1,3) BOW(CountVectorizer)",
          "Logistic Regression (1,3) TF-IDF",
          "SVM (1,3) TF-IDF",
          "SVM (1,3) BOW(CountVectorizer)",
          "Logistic Regression (1,3) BOW(CountVectorizer)"
         ],
         "xaxis": "x",
         "y": [
          0.9368070953436808,
          0.9401330376940134,
          0.9469235033259424,
          0.949279379157428,
          0.9588414634146342,
          0.9657705099778272,
          0.9670177383592018,
          0.9695121951219512,
          0.9717294900221728,
          0.9742239467849224
         ],
         "yaxis": "y"
        },
        {
         "hovertemplate": "variable=precision_score<br>models=%{x}<br>value=%{y}<extra></extra>",
         "legendgroup": "precision_score",
         "line": {
          "color": "#ab63fa",
          "dash": "solid"
         },
         "marker": {
          "symbol": "circle"
         },
         "mode": "lines+markers",
         "name": "precision_score",
         "orientation": "v",
         "showlegend": true,
         "type": "scatter",
         "x": [
          "Naive Bayes (1,3) TF-IDF",
          "KNN (1,3) TF-IDF",
          "KNN (1,3) BOW(CountVectorizer)",
          "Decision Tree (1,3) TF-IDF",
          "Decision Tree (1,3) BOW(CountVectorizer)",
          "Naive Bayes (1,3) BOW(CountVectorizer)",
          "Logistic Regression (1,3) TF-IDF",
          "SVM (1,3) TF-IDF",
          "SVM (1,3) BOW(CountVectorizer)",
          "Logistic Regression (1,3) BOW(CountVectorizer)"
         ],
         "xaxis": "x",
         "y": [
          0.9379643224194254,
          0.9380278841210912,
          0.9451658267907426,
          0.9520789037914402,
          0.9586776930082757,
          0.9651536865904092,
          0.9665606661131428,
          0.9704317876370314,
          0.971503933618418,
          0.973660565480443
         ],
         "yaxis": "y"
        }
       ],
       "layout": {
        "height": 800,
        "legend": {
         "title": {
          "text": "variable"
         },
         "tracegroupgap": 0
        },
        "template": {
         "data": {
          "bar": [
           {
            "error_x": {
             "color": "#2a3f5f"
            },
            "error_y": {
             "color": "#2a3f5f"
            },
            "marker": {
             "line": {
              "color": "#E5ECF6",
              "width": 0.5
             },
             "pattern": {
              "fillmode": "overlay",
              "size": 10,
              "solidity": 0.2
             }
            },
            "type": "bar"
           }
          ],
          "barpolar": [
           {
            "marker": {
             "line": {
              "color": "#E5ECF6",
              "width": 0.5
             },
             "pattern": {
              "fillmode": "overlay",
              "size": 10,
              "solidity": 0.2
             }
            },
            "type": "barpolar"
           }
          ],
          "carpet": [
           {
            "aaxis": {
             "endlinecolor": "#2a3f5f",
             "gridcolor": "white",
             "linecolor": "white",
             "minorgridcolor": "white",
             "startlinecolor": "#2a3f5f"
            },
            "baxis": {
             "endlinecolor": "#2a3f5f",
             "gridcolor": "white",
             "linecolor": "white",
             "minorgridcolor": "white",
             "startlinecolor": "#2a3f5f"
            },
            "type": "carpet"
           }
          ],
          "choropleth": [
           {
            "colorbar": {
             "outlinewidth": 0,
             "ticks": ""
            },
            "type": "choropleth"
           }
          ],
          "contour": [
           {
            "colorbar": {
             "outlinewidth": 0,
             "ticks": ""
            },
            "colorscale": [
             [
              0,
              "#0d0887"
             ],
             [
              0.1111111111111111,
              "#46039f"
             ],
             [
              0.2222222222222222,
              "#7201a8"
             ],
             [
              0.3333333333333333,
              "#9c179e"
             ],
             [
              0.4444444444444444,
              "#bd3786"
             ],
             [
              0.5555555555555556,
              "#d8576b"
             ],
             [
              0.6666666666666666,
              "#ed7953"
             ],
             [
              0.7777777777777778,
              "#fb9f3a"
             ],
             [
              0.8888888888888888,
              "#fdca26"
             ],
             [
              1,
              "#f0f921"
             ]
            ],
            "type": "contour"
           }
          ],
          "contourcarpet": [
           {
            "colorbar": {
             "outlinewidth": 0,
             "ticks": ""
            },
            "type": "contourcarpet"
           }
          ],
          "heatmap": [
           {
            "colorbar": {
             "outlinewidth": 0,
             "ticks": ""
            },
            "colorscale": [
             [
              0,
              "#0d0887"
             ],
             [
              0.1111111111111111,
              "#46039f"
             ],
             [
              0.2222222222222222,
              "#7201a8"
             ],
             [
              0.3333333333333333,
              "#9c179e"
             ],
             [
              0.4444444444444444,
              "#bd3786"
             ],
             [
              0.5555555555555556,
              "#d8576b"
             ],
             [
              0.6666666666666666,
              "#ed7953"
             ],
             [
              0.7777777777777778,
              "#fb9f3a"
             ],
             [
              0.8888888888888888,
              "#fdca26"
             ],
             [
              1,
              "#f0f921"
             ]
            ],
            "type": "heatmap"
           }
          ],
          "heatmapgl": [
           {
            "colorbar": {
             "outlinewidth": 0,
             "ticks": ""
            },
            "colorscale": [
             [
              0,
              "#0d0887"
             ],
             [
              0.1111111111111111,
              "#46039f"
             ],
             [
              0.2222222222222222,
              "#7201a8"
             ],
             [
              0.3333333333333333,
              "#9c179e"
             ],
             [
              0.4444444444444444,
              "#bd3786"
             ],
             [
              0.5555555555555556,
              "#d8576b"
             ],
             [
              0.6666666666666666,
              "#ed7953"
             ],
             [
              0.7777777777777778,
              "#fb9f3a"
             ],
             [
              0.8888888888888888,
              "#fdca26"
             ],
             [
              1,
              "#f0f921"
             ]
            ],
            "type": "heatmapgl"
           }
          ],
          "histogram": [
           {
            "marker": {
             "pattern": {
              "fillmode": "overlay",
              "size": 10,
              "solidity": 0.2
             }
            },
            "type": "histogram"
           }
          ],
          "histogram2d": [
           {
            "colorbar": {
             "outlinewidth": 0,
             "ticks": ""
            },
            "colorscale": [
             [
              0,
              "#0d0887"
             ],
             [
              0.1111111111111111,
              "#46039f"
             ],
             [
              0.2222222222222222,
              "#7201a8"
             ],
             [
              0.3333333333333333,
              "#9c179e"
             ],
             [
              0.4444444444444444,
              "#bd3786"
             ],
             [
              0.5555555555555556,
              "#d8576b"
             ],
             [
              0.6666666666666666,
              "#ed7953"
             ],
             [
              0.7777777777777778,
              "#fb9f3a"
             ],
             [
              0.8888888888888888,
              "#fdca26"
             ],
             [
              1,
              "#f0f921"
             ]
            ],
            "type": "histogram2d"
           }
          ],
          "histogram2dcontour": [
           {
            "colorbar": {
             "outlinewidth": 0,
             "ticks": ""
            },
            "colorscale": [
             [
              0,
              "#0d0887"
             ],
             [
              0.1111111111111111,
              "#46039f"
             ],
             [
              0.2222222222222222,
              "#7201a8"
             ],
             [
              0.3333333333333333,
              "#9c179e"
             ],
             [
              0.4444444444444444,
              "#bd3786"
             ],
             [
              0.5555555555555556,
              "#d8576b"
             ],
             [
              0.6666666666666666,
              "#ed7953"
             ],
             [
              0.7777777777777778,
              "#fb9f3a"
             ],
             [
              0.8888888888888888,
              "#fdca26"
             ],
             [
              1,
              "#f0f921"
             ]
            ],
            "type": "histogram2dcontour"
           }
          ],
          "mesh3d": [
           {
            "colorbar": {
             "outlinewidth": 0,
             "ticks": ""
            },
            "type": "mesh3d"
           }
          ],
          "parcoords": [
           {
            "line": {
             "colorbar": {
              "outlinewidth": 0,
              "ticks": ""
             }
            },
            "type": "parcoords"
           }
          ],
          "pie": [
           {
            "automargin": true,
            "type": "pie"
           }
          ],
          "scatter": [
           {
            "fillpattern": {
             "fillmode": "overlay",
             "size": 10,
             "solidity": 0.2
            },
            "type": "scatter"
           }
          ],
          "scatter3d": [
           {
            "line": {
             "colorbar": {
              "outlinewidth": 0,
              "ticks": ""
             }
            },
            "marker": {
             "colorbar": {
              "outlinewidth": 0,
              "ticks": ""
             }
            },
            "type": "scatter3d"
           }
          ],
          "scattercarpet": [
           {
            "marker": {
             "colorbar": {
              "outlinewidth": 0,
              "ticks": ""
             }
            },
            "type": "scattercarpet"
           }
          ],
          "scattergeo": [
           {
            "marker": {
             "colorbar": {
              "outlinewidth": 0,
              "ticks": ""
             }
            },
            "type": "scattergeo"
           }
          ],
          "scattergl": [
           {
            "marker": {
             "colorbar": {
              "outlinewidth": 0,
              "ticks": ""
             }
            },
            "type": "scattergl"
           }
          ],
          "scattermapbox": [
           {
            "marker": {
             "colorbar": {
              "outlinewidth": 0,
              "ticks": ""
             }
            },
            "type": "scattermapbox"
           }
          ],
          "scatterpolar": [
           {
            "marker": {
             "colorbar": {
              "outlinewidth": 0,
              "ticks": ""
             }
            },
            "type": "scatterpolar"
           }
          ],
          "scatterpolargl": [
           {
            "marker": {
             "colorbar": {
              "outlinewidth": 0,
              "ticks": ""
             }
            },
            "type": "scatterpolargl"
           }
          ],
          "scatterternary": [
           {
            "marker": {
             "colorbar": {
              "outlinewidth": 0,
              "ticks": ""
             }
            },
            "type": "scatterternary"
           }
          ],
          "surface": [
           {
            "colorbar": {
             "outlinewidth": 0,
             "ticks": ""
            },
            "colorscale": [
             [
              0,
              "#0d0887"
             ],
             [
              0.1111111111111111,
              "#46039f"
             ],
             [
              0.2222222222222222,
              "#7201a8"
             ],
             [
              0.3333333333333333,
              "#9c179e"
             ],
             [
              0.4444444444444444,
              "#bd3786"
             ],
             [
              0.5555555555555556,
              "#d8576b"
             ],
             [
              0.6666666666666666,
              "#ed7953"
             ],
             [
              0.7777777777777778,
              "#fb9f3a"
             ],
             [
              0.8888888888888888,
              "#fdca26"
             ],
             [
              1,
              "#f0f921"
             ]
            ],
            "type": "surface"
           }
          ],
          "table": [
           {
            "cells": {
             "fill": {
              "color": "#EBF0F8"
             },
             "line": {
              "color": "white"
             }
            },
            "header": {
             "fill": {
              "color": "#C8D4E3"
             },
             "line": {
              "color": "white"
             }
            },
            "type": "table"
           }
          ]
         },
         "layout": {
          "annotationdefaults": {
           "arrowcolor": "#2a3f5f",
           "arrowhead": 0,
           "arrowwidth": 1
          },
          "autotypenumbers": "strict",
          "coloraxis": {
           "colorbar": {
            "outlinewidth": 0,
            "ticks": ""
           }
          },
          "colorscale": {
           "diverging": [
            [
             0,
             "#8e0152"
            ],
            [
             0.1,
             "#c51b7d"
            ],
            [
             0.2,
             "#de77ae"
            ],
            [
             0.3,
             "#f1b6da"
            ],
            [
             0.4,
             "#fde0ef"
            ],
            [
             0.5,
             "#f7f7f7"
            ],
            [
             0.6,
             "#e6f5d0"
            ],
            [
             0.7,
             "#b8e186"
            ],
            [
             0.8,
             "#7fbc41"
            ],
            [
             0.9,
             "#4d9221"
            ],
            [
             1,
             "#276419"
            ]
           ],
           "sequential": [
            [
             0,
             "#0d0887"
            ],
            [
             0.1111111111111111,
             "#46039f"
            ],
            [
             0.2222222222222222,
             "#7201a8"
            ],
            [
             0.3333333333333333,
             "#9c179e"
            ],
            [
             0.4444444444444444,
             "#bd3786"
            ],
            [
             0.5555555555555556,
             "#d8576b"
            ],
            [
             0.6666666666666666,
             "#ed7953"
            ],
            [
             0.7777777777777778,
             "#fb9f3a"
            ],
            [
             0.8888888888888888,
             "#fdca26"
            ],
            [
             1,
             "#f0f921"
            ]
           ],
           "sequentialminus": [
            [
             0,
             "#0d0887"
            ],
            [
             0.1111111111111111,
             "#46039f"
            ],
            [
             0.2222222222222222,
             "#7201a8"
            ],
            [
             0.3333333333333333,
             "#9c179e"
            ],
            [
             0.4444444444444444,
             "#bd3786"
            ],
            [
             0.5555555555555556,
             "#d8576b"
            ],
            [
             0.6666666666666666,
             "#ed7953"
            ],
            [
             0.7777777777777778,
             "#fb9f3a"
            ],
            [
             0.8888888888888888,
             "#fdca26"
            ],
            [
             1,
             "#f0f921"
            ]
           ]
          },
          "colorway": [
           "#636efa",
           "#EF553B",
           "#00cc96",
           "#ab63fa",
           "#FFA15A",
           "#19d3f3",
           "#FF6692",
           "#B6E880",
           "#FF97FF",
           "#FECB52"
          ],
          "font": {
           "color": "#2a3f5f"
          },
          "geo": {
           "bgcolor": "white",
           "lakecolor": "white",
           "landcolor": "#E5ECF6",
           "showlakes": true,
           "showland": true,
           "subunitcolor": "white"
          },
          "hoverlabel": {
           "align": "left"
          },
          "hovermode": "closest",
          "mapbox": {
           "style": "light"
          },
          "paper_bgcolor": "white",
          "plot_bgcolor": "#E5ECF6",
          "polar": {
           "angularaxis": {
            "gridcolor": "white",
            "linecolor": "white",
            "ticks": ""
           },
           "bgcolor": "#E5ECF6",
           "radialaxis": {
            "gridcolor": "white",
            "linecolor": "white",
            "ticks": ""
           }
          },
          "scene": {
           "xaxis": {
            "backgroundcolor": "#E5ECF6",
            "gridcolor": "white",
            "gridwidth": 2,
            "linecolor": "white",
            "showbackground": true,
            "ticks": "",
            "zerolinecolor": "white"
           },
           "yaxis": {
            "backgroundcolor": "#E5ECF6",
            "gridcolor": "white",
            "gridwidth": 2,
            "linecolor": "white",
            "showbackground": true,
            "ticks": "",
            "zerolinecolor": "white"
           },
           "zaxis": {
            "backgroundcolor": "#E5ECF6",
            "gridcolor": "white",
            "gridwidth": 2,
            "linecolor": "white",
            "showbackground": true,
            "ticks": "",
            "zerolinecolor": "white"
           }
          },
          "shapedefaults": {
           "line": {
            "color": "#2a3f5f"
           }
          },
          "ternary": {
           "aaxis": {
            "gridcolor": "white",
            "linecolor": "white",
            "ticks": ""
           },
           "baxis": {
            "gridcolor": "white",
            "linecolor": "white",
            "ticks": ""
           },
           "bgcolor": "#E5ECF6",
           "caxis": {
            "gridcolor": "white",
            "linecolor": "white",
            "ticks": ""
           }
          },
          "title": {
           "x": 0.05
          },
          "xaxis": {
           "automargin": true,
           "gridcolor": "white",
           "linecolor": "white",
           "ticks": "",
           "title": {
            "standoff": 15
           },
           "zerolinecolor": "white",
           "zerolinewidth": 2
          },
          "yaxis": {
           "automargin": true,
           "gridcolor": "white",
           "linecolor": "white",
           "ticks": "",
           "title": {
            "standoff": 15
           },
           "zerolinecolor": "white",
           "zerolinewidth": 2
          }
         }
        },
        "title": {
         "text": "Model performance metrice curves on testing using (1,3) ngrams technique"
        },
        "width": 1250,
        "xaxis": {
         "anchor": "y",
         "domain": [
          0,
          1
         ],
         "title": {
          "text": "models"
         }
        },
        "yaxis": {
         "anchor": "x",
         "domain": [
          0,
          1
         ],
         "title": {
          "text": "value"
         }
        }
       }
      }
     },
     "metadata": {},
     "output_type": "display_data"
    }
   ],
   "source": [
    "df1 = result[result['ngrams']=='(1,3)']\n",
    "df1 = df1.sort_values(by='accuracy_score')\n",
    "x =  df1['models']+\" \"+df1['ngrams']+\" \"+df1['Text_vectorization']\n",
    "px.line(df1,x=x,y=['accuracy_score','f1_score','recall_score','precision_score'],markers='o',labels={'x':'models','y':'value'},width=1250, height=800,title='Model performance metrice curves on testing using (1,3) ngrams technique')"
   ]
  },
  {
   "cell_type": "code",
   "execution_count": 41,
   "metadata": {},
   "outputs": [
    {
     "data": {
      "application/vnd.plotly.v1+json": {
       "config": {
        "plotlyServerURL": "https://plot.ly"
       },
       "data": [
        {
         "hovertemplate": "variable=accuracy_score<br>models=%{x}<br>value=%{y}<extra></extra>",
         "legendgroup": "accuracy_score",
         "line": {
          "color": "#636efa",
          "dash": "solid"
         },
         "marker": {
          "symbol": "circle"
         },
         "mode": "lines+markers",
         "name": "accuracy_score",
         "orientation": "v",
         "showlegend": true,
         "type": "scatter",
         "x": [
          "Naive Bayes default TF-IDF",
          "KNN default TF-IDF",
          "Decision Tree default TF-IDF",
          "Naive Bayes default BOW(CountVectorizer)",
          "Decision Tree default BOW(CountVectorizer)",
          "KNN default BOW(CountVectorizer)",
          "SVM default BOW(CountVectorizer)",
          "Logistic Regression default TF-IDF",
          "SVM default TF-IDF",
          "Logistic Regression default BOW(CountVectorizer)"
         ],
         "xaxis": "x",
         "y": [
          0.914,
          0.947,
          0.951,
          0.952,
          0.955,
          0.957,
          0.969,
          0.969,
          0.972,
          0.974
         ],
         "yaxis": "y"
        },
        {
         "hovertemplate": "variable=f1_score<br>models=%{x}<br>value=%{y}<extra></extra>",
         "legendgroup": "f1_score",
         "line": {
          "color": "#EF553B",
          "dash": "solid"
         },
         "marker": {
          "symbol": "circle"
         },
         "mode": "lines+markers",
         "name": "f1_score",
         "orientation": "v",
         "showlegend": true,
         "type": "scatter",
         "x": [
          "Naive Bayes default TF-IDF",
          "KNN default TF-IDF",
          "Decision Tree default TF-IDF",
          "Naive Bayes default BOW(CountVectorizer)",
          "Decision Tree default BOW(CountVectorizer)",
          "KNN default BOW(CountVectorizer)",
          "SVM default BOW(CountVectorizer)",
          "Logistic Regression default TF-IDF",
          "SVM default TF-IDF",
          "Logistic Regression default BOW(CountVectorizer)"
         ],
         "xaxis": "x",
         "y": [
          0.8948098499958215,
          0.9433370769933472,
          0.950820885682828,
          0.9512733902597944,
          0.9548335349711782,
          0.954881041105738,
          0.9687874634283103,
          0.9678614463971704,
          0.9710068156973792,
          0.9737059608797842
         ],
         "yaxis": "y"
        },
        {
         "hovertemplate": "variable=recall_score<br>models=%{x}<br>value=%{y}<extra></extra>",
         "legendgroup": "recall_score",
         "line": {
          "color": "#00cc96",
          "dash": "solid"
         },
         "marker": {
          "symbol": "circle"
         },
         "mode": "lines+markers",
         "name": "recall_score",
         "orientation": "v",
         "showlegend": true,
         "type": "scatter",
         "x": [
          "Naive Bayes default TF-IDF",
          "KNN default TF-IDF",
          "Decision Tree default TF-IDF",
          "Naive Bayes default BOW(CountVectorizer)",
          "Decision Tree default BOW(CountVectorizer)",
          "KNN default BOW(CountVectorizer)",
          "SVM default BOW(CountVectorizer)",
          "Logistic Regression default TF-IDF",
          "SVM default TF-IDF",
          "Logistic Regression default BOW(CountVectorizer)"
         ],
         "xaxis": "x",
         "y": [
          0.914079822616408,
          0.94720066518847,
          0.9508037694013304,
          0.9517738359201774,
          0.9548226164079824,
          0.9566241685144125,
          0.9685421286031042,
          0.9689578713968958,
          0.9715909090909092,
          0.9740853658536586
         ],
         "yaxis": "y"
        },
        {
         "hovertemplate": "variable=precision_score<br>models=%{x}<br>value=%{y}<extra></extra>",
         "legendgroup": "precision_score",
         "line": {
          "color": "#ab63fa",
          "dash": "solid"
         },
         "marker": {
          "symbol": "circle"
         },
         "mode": "lines+markers",
         "name": "precision_score",
         "orientation": "v",
         "showlegend": true,
         "type": "scatter",
         "x": [
          "Naive Bayes default TF-IDF",
          "KNN default TF-IDF",
          "Decision Tree default TF-IDF",
          "Naive Bayes default BOW(CountVectorizer)",
          "Decision Tree default BOW(CountVectorizer)",
          "KNN default BOW(CountVectorizer)",
          "SVM default BOW(CountVectorizer)",
          "Logistic Regression default TF-IDF",
          "SVM default TF-IDF",
          "Logistic Regression default BOW(CountVectorizer)"
         ],
         "xaxis": "x",
         "y": [
          0.9162625487653904,
          0.9444753645241064,
          0.9508484175000238,
          0.9534669898184014,
          0.9549209143777768,
          0.9545500025702278,
          0.9691889969646726,
          0.9677693056382236,
          0.970973225134656,
          0.9737203712297772
         ],
         "yaxis": "y"
        }
       ],
       "layout": {
        "height": 800,
        "legend": {
         "title": {
          "text": "variable"
         },
         "tracegroupgap": 0
        },
        "template": {
         "data": {
          "bar": [
           {
            "error_x": {
             "color": "#2a3f5f"
            },
            "error_y": {
             "color": "#2a3f5f"
            },
            "marker": {
             "line": {
              "color": "#E5ECF6",
              "width": 0.5
             },
             "pattern": {
              "fillmode": "overlay",
              "size": 10,
              "solidity": 0.2
             }
            },
            "type": "bar"
           }
          ],
          "barpolar": [
           {
            "marker": {
             "line": {
              "color": "#E5ECF6",
              "width": 0.5
             },
             "pattern": {
              "fillmode": "overlay",
              "size": 10,
              "solidity": 0.2
             }
            },
            "type": "barpolar"
           }
          ],
          "carpet": [
           {
            "aaxis": {
             "endlinecolor": "#2a3f5f",
             "gridcolor": "white",
             "linecolor": "white",
             "minorgridcolor": "white",
             "startlinecolor": "#2a3f5f"
            },
            "baxis": {
             "endlinecolor": "#2a3f5f",
             "gridcolor": "white",
             "linecolor": "white",
             "minorgridcolor": "white",
             "startlinecolor": "#2a3f5f"
            },
            "type": "carpet"
           }
          ],
          "choropleth": [
           {
            "colorbar": {
             "outlinewidth": 0,
             "ticks": ""
            },
            "type": "choropleth"
           }
          ],
          "contour": [
           {
            "colorbar": {
             "outlinewidth": 0,
             "ticks": ""
            },
            "colorscale": [
             [
              0,
              "#0d0887"
             ],
             [
              0.1111111111111111,
              "#46039f"
             ],
             [
              0.2222222222222222,
              "#7201a8"
             ],
             [
              0.3333333333333333,
              "#9c179e"
             ],
             [
              0.4444444444444444,
              "#bd3786"
             ],
             [
              0.5555555555555556,
              "#d8576b"
             ],
             [
              0.6666666666666666,
              "#ed7953"
             ],
             [
              0.7777777777777778,
              "#fb9f3a"
             ],
             [
              0.8888888888888888,
              "#fdca26"
             ],
             [
              1,
              "#f0f921"
             ]
            ],
            "type": "contour"
           }
          ],
          "contourcarpet": [
           {
            "colorbar": {
             "outlinewidth": 0,
             "ticks": ""
            },
            "type": "contourcarpet"
           }
          ],
          "heatmap": [
           {
            "colorbar": {
             "outlinewidth": 0,
             "ticks": ""
            },
            "colorscale": [
             [
              0,
              "#0d0887"
             ],
             [
              0.1111111111111111,
              "#46039f"
             ],
             [
              0.2222222222222222,
              "#7201a8"
             ],
             [
              0.3333333333333333,
              "#9c179e"
             ],
             [
              0.4444444444444444,
              "#bd3786"
             ],
             [
              0.5555555555555556,
              "#d8576b"
             ],
             [
              0.6666666666666666,
              "#ed7953"
             ],
             [
              0.7777777777777778,
              "#fb9f3a"
             ],
             [
              0.8888888888888888,
              "#fdca26"
             ],
             [
              1,
              "#f0f921"
             ]
            ],
            "type": "heatmap"
           }
          ],
          "heatmapgl": [
           {
            "colorbar": {
             "outlinewidth": 0,
             "ticks": ""
            },
            "colorscale": [
             [
              0,
              "#0d0887"
             ],
             [
              0.1111111111111111,
              "#46039f"
             ],
             [
              0.2222222222222222,
              "#7201a8"
             ],
             [
              0.3333333333333333,
              "#9c179e"
             ],
             [
              0.4444444444444444,
              "#bd3786"
             ],
             [
              0.5555555555555556,
              "#d8576b"
             ],
             [
              0.6666666666666666,
              "#ed7953"
             ],
             [
              0.7777777777777778,
              "#fb9f3a"
             ],
             [
              0.8888888888888888,
              "#fdca26"
             ],
             [
              1,
              "#f0f921"
             ]
            ],
            "type": "heatmapgl"
           }
          ],
          "histogram": [
           {
            "marker": {
             "pattern": {
              "fillmode": "overlay",
              "size": 10,
              "solidity": 0.2
             }
            },
            "type": "histogram"
           }
          ],
          "histogram2d": [
           {
            "colorbar": {
             "outlinewidth": 0,
             "ticks": ""
            },
            "colorscale": [
             [
              0,
              "#0d0887"
             ],
             [
              0.1111111111111111,
              "#46039f"
             ],
             [
              0.2222222222222222,
              "#7201a8"
             ],
             [
              0.3333333333333333,
              "#9c179e"
             ],
             [
              0.4444444444444444,
              "#bd3786"
             ],
             [
              0.5555555555555556,
              "#d8576b"
             ],
             [
              0.6666666666666666,
              "#ed7953"
             ],
             [
              0.7777777777777778,
              "#fb9f3a"
             ],
             [
              0.8888888888888888,
              "#fdca26"
             ],
             [
              1,
              "#f0f921"
             ]
            ],
            "type": "histogram2d"
           }
          ],
          "histogram2dcontour": [
           {
            "colorbar": {
             "outlinewidth": 0,
             "ticks": ""
            },
            "colorscale": [
             [
              0,
              "#0d0887"
             ],
             [
              0.1111111111111111,
              "#46039f"
             ],
             [
              0.2222222222222222,
              "#7201a8"
             ],
             [
              0.3333333333333333,
              "#9c179e"
             ],
             [
              0.4444444444444444,
              "#bd3786"
             ],
             [
              0.5555555555555556,
              "#d8576b"
             ],
             [
              0.6666666666666666,
              "#ed7953"
             ],
             [
              0.7777777777777778,
              "#fb9f3a"
             ],
             [
              0.8888888888888888,
              "#fdca26"
             ],
             [
              1,
              "#f0f921"
             ]
            ],
            "type": "histogram2dcontour"
           }
          ],
          "mesh3d": [
           {
            "colorbar": {
             "outlinewidth": 0,
             "ticks": ""
            },
            "type": "mesh3d"
           }
          ],
          "parcoords": [
           {
            "line": {
             "colorbar": {
              "outlinewidth": 0,
              "ticks": ""
             }
            },
            "type": "parcoords"
           }
          ],
          "pie": [
           {
            "automargin": true,
            "type": "pie"
           }
          ],
          "scatter": [
           {
            "fillpattern": {
             "fillmode": "overlay",
             "size": 10,
             "solidity": 0.2
            },
            "type": "scatter"
           }
          ],
          "scatter3d": [
           {
            "line": {
             "colorbar": {
              "outlinewidth": 0,
              "ticks": ""
             }
            },
            "marker": {
             "colorbar": {
              "outlinewidth": 0,
              "ticks": ""
             }
            },
            "type": "scatter3d"
           }
          ],
          "scattercarpet": [
           {
            "marker": {
             "colorbar": {
              "outlinewidth": 0,
              "ticks": ""
             }
            },
            "type": "scattercarpet"
           }
          ],
          "scattergeo": [
           {
            "marker": {
             "colorbar": {
              "outlinewidth": 0,
              "ticks": ""
             }
            },
            "type": "scattergeo"
           }
          ],
          "scattergl": [
           {
            "marker": {
             "colorbar": {
              "outlinewidth": 0,
              "ticks": ""
             }
            },
            "type": "scattergl"
           }
          ],
          "scattermapbox": [
           {
            "marker": {
             "colorbar": {
              "outlinewidth": 0,
              "ticks": ""
             }
            },
            "type": "scattermapbox"
           }
          ],
          "scatterpolar": [
           {
            "marker": {
             "colorbar": {
              "outlinewidth": 0,
              "ticks": ""
             }
            },
            "type": "scatterpolar"
           }
          ],
          "scatterpolargl": [
           {
            "marker": {
             "colorbar": {
              "outlinewidth": 0,
              "ticks": ""
             }
            },
            "type": "scatterpolargl"
           }
          ],
          "scatterternary": [
           {
            "marker": {
             "colorbar": {
              "outlinewidth": 0,
              "ticks": ""
             }
            },
            "type": "scatterternary"
           }
          ],
          "surface": [
           {
            "colorbar": {
             "outlinewidth": 0,
             "ticks": ""
            },
            "colorscale": [
             [
              0,
              "#0d0887"
             ],
             [
              0.1111111111111111,
              "#46039f"
             ],
             [
              0.2222222222222222,
              "#7201a8"
             ],
             [
              0.3333333333333333,
              "#9c179e"
             ],
             [
              0.4444444444444444,
              "#bd3786"
             ],
             [
              0.5555555555555556,
              "#d8576b"
             ],
             [
              0.6666666666666666,
              "#ed7953"
             ],
             [
              0.7777777777777778,
              "#fb9f3a"
             ],
             [
              0.8888888888888888,
              "#fdca26"
             ],
             [
              1,
              "#f0f921"
             ]
            ],
            "type": "surface"
           }
          ],
          "table": [
           {
            "cells": {
             "fill": {
              "color": "#EBF0F8"
             },
             "line": {
              "color": "white"
             }
            },
            "header": {
             "fill": {
              "color": "#C8D4E3"
             },
             "line": {
              "color": "white"
             }
            },
            "type": "table"
           }
          ]
         },
         "layout": {
          "annotationdefaults": {
           "arrowcolor": "#2a3f5f",
           "arrowhead": 0,
           "arrowwidth": 1
          },
          "autotypenumbers": "strict",
          "coloraxis": {
           "colorbar": {
            "outlinewidth": 0,
            "ticks": ""
           }
          },
          "colorscale": {
           "diverging": [
            [
             0,
             "#8e0152"
            ],
            [
             0.1,
             "#c51b7d"
            ],
            [
             0.2,
             "#de77ae"
            ],
            [
             0.3,
             "#f1b6da"
            ],
            [
             0.4,
             "#fde0ef"
            ],
            [
             0.5,
             "#f7f7f7"
            ],
            [
             0.6,
             "#e6f5d0"
            ],
            [
             0.7,
             "#b8e186"
            ],
            [
             0.8,
             "#7fbc41"
            ],
            [
             0.9,
             "#4d9221"
            ],
            [
             1,
             "#276419"
            ]
           ],
           "sequential": [
            [
             0,
             "#0d0887"
            ],
            [
             0.1111111111111111,
             "#46039f"
            ],
            [
             0.2222222222222222,
             "#7201a8"
            ],
            [
             0.3333333333333333,
             "#9c179e"
            ],
            [
             0.4444444444444444,
             "#bd3786"
            ],
            [
             0.5555555555555556,
             "#d8576b"
            ],
            [
             0.6666666666666666,
             "#ed7953"
            ],
            [
             0.7777777777777778,
             "#fb9f3a"
            ],
            [
             0.8888888888888888,
             "#fdca26"
            ],
            [
             1,
             "#f0f921"
            ]
           ],
           "sequentialminus": [
            [
             0,
             "#0d0887"
            ],
            [
             0.1111111111111111,
             "#46039f"
            ],
            [
             0.2222222222222222,
             "#7201a8"
            ],
            [
             0.3333333333333333,
             "#9c179e"
            ],
            [
             0.4444444444444444,
             "#bd3786"
            ],
            [
             0.5555555555555556,
             "#d8576b"
            ],
            [
             0.6666666666666666,
             "#ed7953"
            ],
            [
             0.7777777777777778,
             "#fb9f3a"
            ],
            [
             0.8888888888888888,
             "#fdca26"
            ],
            [
             1,
             "#f0f921"
            ]
           ]
          },
          "colorway": [
           "#636efa",
           "#EF553B",
           "#00cc96",
           "#ab63fa",
           "#FFA15A",
           "#19d3f3",
           "#FF6692",
           "#B6E880",
           "#FF97FF",
           "#FECB52"
          ],
          "font": {
           "color": "#2a3f5f"
          },
          "geo": {
           "bgcolor": "white",
           "lakecolor": "white",
           "landcolor": "#E5ECF6",
           "showlakes": true,
           "showland": true,
           "subunitcolor": "white"
          },
          "hoverlabel": {
           "align": "left"
          },
          "hovermode": "closest",
          "mapbox": {
           "style": "light"
          },
          "paper_bgcolor": "white",
          "plot_bgcolor": "#E5ECF6",
          "polar": {
           "angularaxis": {
            "gridcolor": "white",
            "linecolor": "white",
            "ticks": ""
           },
           "bgcolor": "#E5ECF6",
           "radialaxis": {
            "gridcolor": "white",
            "linecolor": "white",
            "ticks": ""
           }
          },
          "scene": {
           "xaxis": {
            "backgroundcolor": "#E5ECF6",
            "gridcolor": "white",
            "gridwidth": 2,
            "linecolor": "white",
            "showbackground": true,
            "ticks": "",
            "zerolinecolor": "white"
           },
           "yaxis": {
            "backgroundcolor": "#E5ECF6",
            "gridcolor": "white",
            "gridwidth": 2,
            "linecolor": "white",
            "showbackground": true,
            "ticks": "",
            "zerolinecolor": "white"
           },
           "zaxis": {
            "backgroundcolor": "#E5ECF6",
            "gridcolor": "white",
            "gridwidth": 2,
            "linecolor": "white",
            "showbackground": true,
            "ticks": "",
            "zerolinecolor": "white"
           }
          },
          "shapedefaults": {
           "line": {
            "color": "#2a3f5f"
           }
          },
          "ternary": {
           "aaxis": {
            "gridcolor": "white",
            "linecolor": "white",
            "ticks": ""
           },
           "baxis": {
            "gridcolor": "white",
            "linecolor": "white",
            "ticks": ""
           },
           "bgcolor": "#E5ECF6",
           "caxis": {
            "gridcolor": "white",
            "linecolor": "white",
            "ticks": ""
           }
          },
          "title": {
           "x": 0.05
          },
          "xaxis": {
           "automargin": true,
           "gridcolor": "white",
           "linecolor": "white",
           "ticks": "",
           "title": {
            "standoff": 15
           },
           "zerolinecolor": "white",
           "zerolinewidth": 2
          },
          "yaxis": {
           "automargin": true,
           "gridcolor": "white",
           "linecolor": "white",
           "ticks": "",
           "title": {
            "standoff": 15
           },
           "zerolinecolor": "white",
           "zerolinewidth": 2
          }
         }
        },
        "title": {
         "text": "Model performance metrice curves on testing using default ngram technique"
        },
        "width": 1250,
        "xaxis": {
         "anchor": "y",
         "domain": [
          0,
          1
         ],
         "title": {
          "text": "models"
         }
        },
        "yaxis": {
         "anchor": "x",
         "domain": [
          0,
          1
         ],
         "title": {
          "text": "value"
         }
        }
       }
      }
     },
     "metadata": {},
     "output_type": "display_data"
    }
   ],
   "source": [
    "df1 = result[result['ngrams']=='default']\n",
    "df1 = df1.sort_values(by='accuracy_score')\n",
    "x =  df1['models']+\" \"+df1['ngrams']+\" \"+df1['Text_vectorization']\n",
    "px.line(df1,x=x,y=['accuracy_score','f1_score','recall_score','precision_score'],markers='o',labels={'x':'models','y':'value'},width=1250, height=800,title='Model performance metrice curves on testing using default ngram technique')"
   ]
  },
  {
   "cell_type": "code",
   "execution_count": 24,
   "metadata": {},
   "outputs": [
    {
     "data": {
      "text/plain": [
       "Index(['models', 'ngrams', 'Text_vectorization', 'accuracy_score',\n",
       "       'precision_score', 'f1_score', 'recall_score'],\n",
       "      dtype='object')"
      ]
     },
     "execution_count": 24,
     "metadata": {},
     "output_type": "execute_result"
    }
   ],
   "source": [
    "result.columns"
   ]
  },
  {
   "cell_type": "code",
   "execution_count": 40,
   "metadata": {},
   "outputs": [
    {
     "data": {
      "application/vnd.plotly.v1+json": {
       "config": {
        "plotlyServerURL": "https://plot.ly"
       },
       "data": [
        {
         "hovertemplate": "variable=accuracy_score<br>models=%{x}<br>value=%{y}<extra></extra>",
         "legendgroup": "accuracy_score",
         "line": {
          "color": "#636efa",
          "dash": "solid"
         },
         "marker": {
          "symbol": "circle"
         },
         "mode": "lines+markers",
         "name": "accuracy_score",
         "orientation": "v",
         "showlegend": true,
         "type": "scatter",
         "x": [
          "SVM default BOW(CountVectorizer)",
          "SVM (1,3) TF-IDF",
          "SVM (1,2) BOW(CountVectorizer)",
          "SVM default TF-IDF",
          "SVM (1,3) BOW(CountVectorizer)",
          "SVM (1,2) TF-IDF"
         ],
         "xaxis": "x",
         "y": [
          0.969,
          0.97,
          0.971,
          0.972,
          0.972,
          0.972
         ],
         "yaxis": "y"
        },
        {
         "hovertemplate": "variable=f1_score<br>models=%{x}<br>value=%{y}<extra></extra>",
         "legendgroup": "f1_score",
         "line": {
          "color": "#EF553B",
          "dash": "solid"
         },
         "marker": {
          "symbol": "circle"
         },
         "mode": "lines+markers",
         "name": "f1_score",
         "orientation": "v",
         "showlegend": true,
         "type": "scatter",
         "x": [
          "SVM default BOW(CountVectorizer)",
          "SVM (1,3) TF-IDF",
          "SVM (1,2) BOW(CountVectorizer)",
          "SVM default TF-IDF",
          "SVM (1,3) BOW(CountVectorizer)",
          "SVM (1,2) TF-IDF"
         ],
         "xaxis": "x",
         "y": [
          0.9687874634283103,
          0.9695868418183844,
          0.970684109952691,
          0.9710068156973792,
          0.971575535613425,
          0.971779563912194
         ],
         "yaxis": "y"
        },
        {
         "hovertemplate": "variable=recall_score<br>models=%{x}<br>value=%{y}<extra></extra>",
         "legendgroup": "recall_score",
         "line": {
          "color": "#00cc96",
          "dash": "solid"
         },
         "marker": {
          "symbol": "circle"
         },
         "mode": "lines+markers",
         "name": "recall_score",
         "orientation": "v",
         "showlegend": true,
         "type": "scatter",
         "x": [
          "SVM default BOW(CountVectorizer)",
          "SVM (1,3) TF-IDF",
          "SVM (1,2) BOW(CountVectorizer)",
          "SVM default TF-IDF",
          "SVM (1,3) BOW(CountVectorizer)",
          "SVM (1,2) TF-IDF"
         ],
         "xaxis": "x",
         "y": [
          0.9685421286031042,
          0.9695121951219512,
          0.970759423503326,
          0.9715909090909092,
          0.9717294900221728,
          0.9720066518847008
         ],
         "yaxis": "y"
        },
        {
         "hovertemplate": "variable=precision_score<br>models=%{x}<br>value=%{y}<extra></extra>",
         "legendgroup": "precision_score",
         "line": {
          "color": "#ab63fa",
          "dash": "solid"
         },
         "marker": {
          "symbol": "circle"
         },
         "mode": "lines+markers",
         "name": "precision_score",
         "orientation": "v",
         "showlegend": true,
         "type": "scatter",
         "x": [
          "SVM default BOW(CountVectorizer)",
          "SVM (1,3) TF-IDF",
          "SVM (1,2) BOW(CountVectorizer)",
          "SVM default TF-IDF",
          "SVM (1,3) BOW(CountVectorizer)",
          "SVM (1,2) TF-IDF"
         ],
         "xaxis": "x",
         "y": [
          0.9691889969646726,
          0.9704317876370314,
          0.9707183658469296,
          0.970973225134656,
          0.971503933618418,
          0.972170160311936
         ],
         "yaxis": "y"
        }
       ],
       "layout": {
        "height": 800,
        "legend": {
         "title": {
          "text": "variable"
         },
         "tracegroupgap": 0
        },
        "template": {
         "data": {
          "bar": [
           {
            "error_x": {
             "color": "#2a3f5f"
            },
            "error_y": {
             "color": "#2a3f5f"
            },
            "marker": {
             "line": {
              "color": "#E5ECF6",
              "width": 0.5
             },
             "pattern": {
              "fillmode": "overlay",
              "size": 10,
              "solidity": 0.2
             }
            },
            "type": "bar"
           }
          ],
          "barpolar": [
           {
            "marker": {
             "line": {
              "color": "#E5ECF6",
              "width": 0.5
             },
             "pattern": {
              "fillmode": "overlay",
              "size": 10,
              "solidity": 0.2
             }
            },
            "type": "barpolar"
           }
          ],
          "carpet": [
           {
            "aaxis": {
             "endlinecolor": "#2a3f5f",
             "gridcolor": "white",
             "linecolor": "white",
             "minorgridcolor": "white",
             "startlinecolor": "#2a3f5f"
            },
            "baxis": {
             "endlinecolor": "#2a3f5f",
             "gridcolor": "white",
             "linecolor": "white",
             "minorgridcolor": "white",
             "startlinecolor": "#2a3f5f"
            },
            "type": "carpet"
           }
          ],
          "choropleth": [
           {
            "colorbar": {
             "outlinewidth": 0,
             "ticks": ""
            },
            "type": "choropleth"
           }
          ],
          "contour": [
           {
            "colorbar": {
             "outlinewidth": 0,
             "ticks": ""
            },
            "colorscale": [
             [
              0,
              "#0d0887"
             ],
             [
              0.1111111111111111,
              "#46039f"
             ],
             [
              0.2222222222222222,
              "#7201a8"
             ],
             [
              0.3333333333333333,
              "#9c179e"
             ],
             [
              0.4444444444444444,
              "#bd3786"
             ],
             [
              0.5555555555555556,
              "#d8576b"
             ],
             [
              0.6666666666666666,
              "#ed7953"
             ],
             [
              0.7777777777777778,
              "#fb9f3a"
             ],
             [
              0.8888888888888888,
              "#fdca26"
             ],
             [
              1,
              "#f0f921"
             ]
            ],
            "type": "contour"
           }
          ],
          "contourcarpet": [
           {
            "colorbar": {
             "outlinewidth": 0,
             "ticks": ""
            },
            "type": "contourcarpet"
           }
          ],
          "heatmap": [
           {
            "colorbar": {
             "outlinewidth": 0,
             "ticks": ""
            },
            "colorscale": [
             [
              0,
              "#0d0887"
             ],
             [
              0.1111111111111111,
              "#46039f"
             ],
             [
              0.2222222222222222,
              "#7201a8"
             ],
             [
              0.3333333333333333,
              "#9c179e"
             ],
             [
              0.4444444444444444,
              "#bd3786"
             ],
             [
              0.5555555555555556,
              "#d8576b"
             ],
             [
              0.6666666666666666,
              "#ed7953"
             ],
             [
              0.7777777777777778,
              "#fb9f3a"
             ],
             [
              0.8888888888888888,
              "#fdca26"
             ],
             [
              1,
              "#f0f921"
             ]
            ],
            "type": "heatmap"
           }
          ],
          "heatmapgl": [
           {
            "colorbar": {
             "outlinewidth": 0,
             "ticks": ""
            },
            "colorscale": [
             [
              0,
              "#0d0887"
             ],
             [
              0.1111111111111111,
              "#46039f"
             ],
             [
              0.2222222222222222,
              "#7201a8"
             ],
             [
              0.3333333333333333,
              "#9c179e"
             ],
             [
              0.4444444444444444,
              "#bd3786"
             ],
             [
              0.5555555555555556,
              "#d8576b"
             ],
             [
              0.6666666666666666,
              "#ed7953"
             ],
             [
              0.7777777777777778,
              "#fb9f3a"
             ],
             [
              0.8888888888888888,
              "#fdca26"
             ],
             [
              1,
              "#f0f921"
             ]
            ],
            "type": "heatmapgl"
           }
          ],
          "histogram": [
           {
            "marker": {
             "pattern": {
              "fillmode": "overlay",
              "size": 10,
              "solidity": 0.2
             }
            },
            "type": "histogram"
           }
          ],
          "histogram2d": [
           {
            "colorbar": {
             "outlinewidth": 0,
             "ticks": ""
            },
            "colorscale": [
             [
              0,
              "#0d0887"
             ],
             [
              0.1111111111111111,
              "#46039f"
             ],
             [
              0.2222222222222222,
              "#7201a8"
             ],
             [
              0.3333333333333333,
              "#9c179e"
             ],
             [
              0.4444444444444444,
              "#bd3786"
             ],
             [
              0.5555555555555556,
              "#d8576b"
             ],
             [
              0.6666666666666666,
              "#ed7953"
             ],
             [
              0.7777777777777778,
              "#fb9f3a"
             ],
             [
              0.8888888888888888,
              "#fdca26"
             ],
             [
              1,
              "#f0f921"
             ]
            ],
            "type": "histogram2d"
           }
          ],
          "histogram2dcontour": [
           {
            "colorbar": {
             "outlinewidth": 0,
             "ticks": ""
            },
            "colorscale": [
             [
              0,
              "#0d0887"
             ],
             [
              0.1111111111111111,
              "#46039f"
             ],
             [
              0.2222222222222222,
              "#7201a8"
             ],
             [
              0.3333333333333333,
              "#9c179e"
             ],
             [
              0.4444444444444444,
              "#bd3786"
             ],
             [
              0.5555555555555556,
              "#d8576b"
             ],
             [
              0.6666666666666666,
              "#ed7953"
             ],
             [
              0.7777777777777778,
              "#fb9f3a"
             ],
             [
              0.8888888888888888,
              "#fdca26"
             ],
             [
              1,
              "#f0f921"
             ]
            ],
            "type": "histogram2dcontour"
           }
          ],
          "mesh3d": [
           {
            "colorbar": {
             "outlinewidth": 0,
             "ticks": ""
            },
            "type": "mesh3d"
           }
          ],
          "parcoords": [
           {
            "line": {
             "colorbar": {
              "outlinewidth": 0,
              "ticks": ""
             }
            },
            "type": "parcoords"
           }
          ],
          "pie": [
           {
            "automargin": true,
            "type": "pie"
           }
          ],
          "scatter": [
           {
            "fillpattern": {
             "fillmode": "overlay",
             "size": 10,
             "solidity": 0.2
            },
            "type": "scatter"
           }
          ],
          "scatter3d": [
           {
            "line": {
             "colorbar": {
              "outlinewidth": 0,
              "ticks": ""
             }
            },
            "marker": {
             "colorbar": {
              "outlinewidth": 0,
              "ticks": ""
             }
            },
            "type": "scatter3d"
           }
          ],
          "scattercarpet": [
           {
            "marker": {
             "colorbar": {
              "outlinewidth": 0,
              "ticks": ""
             }
            },
            "type": "scattercarpet"
           }
          ],
          "scattergeo": [
           {
            "marker": {
             "colorbar": {
              "outlinewidth": 0,
              "ticks": ""
             }
            },
            "type": "scattergeo"
           }
          ],
          "scattergl": [
           {
            "marker": {
             "colorbar": {
              "outlinewidth": 0,
              "ticks": ""
             }
            },
            "type": "scattergl"
           }
          ],
          "scattermapbox": [
           {
            "marker": {
             "colorbar": {
              "outlinewidth": 0,
              "ticks": ""
             }
            },
            "type": "scattermapbox"
           }
          ],
          "scatterpolar": [
           {
            "marker": {
             "colorbar": {
              "outlinewidth": 0,
              "ticks": ""
             }
            },
            "type": "scatterpolar"
           }
          ],
          "scatterpolargl": [
           {
            "marker": {
             "colorbar": {
              "outlinewidth": 0,
              "ticks": ""
             }
            },
            "type": "scatterpolargl"
           }
          ],
          "scatterternary": [
           {
            "marker": {
             "colorbar": {
              "outlinewidth": 0,
              "ticks": ""
             }
            },
            "type": "scatterternary"
           }
          ],
          "surface": [
           {
            "colorbar": {
             "outlinewidth": 0,
             "ticks": ""
            },
            "colorscale": [
             [
              0,
              "#0d0887"
             ],
             [
              0.1111111111111111,
              "#46039f"
             ],
             [
              0.2222222222222222,
              "#7201a8"
             ],
             [
              0.3333333333333333,
              "#9c179e"
             ],
             [
              0.4444444444444444,
              "#bd3786"
             ],
             [
              0.5555555555555556,
              "#d8576b"
             ],
             [
              0.6666666666666666,
              "#ed7953"
             ],
             [
              0.7777777777777778,
              "#fb9f3a"
             ],
             [
              0.8888888888888888,
              "#fdca26"
             ],
             [
              1,
              "#f0f921"
             ]
            ],
            "type": "surface"
           }
          ],
          "table": [
           {
            "cells": {
             "fill": {
              "color": "#EBF0F8"
             },
             "line": {
              "color": "white"
             }
            },
            "header": {
             "fill": {
              "color": "#C8D4E3"
             },
             "line": {
              "color": "white"
             }
            },
            "type": "table"
           }
          ]
         },
         "layout": {
          "annotationdefaults": {
           "arrowcolor": "#2a3f5f",
           "arrowhead": 0,
           "arrowwidth": 1
          },
          "autotypenumbers": "strict",
          "coloraxis": {
           "colorbar": {
            "outlinewidth": 0,
            "ticks": ""
           }
          },
          "colorscale": {
           "diverging": [
            [
             0,
             "#8e0152"
            ],
            [
             0.1,
             "#c51b7d"
            ],
            [
             0.2,
             "#de77ae"
            ],
            [
             0.3,
             "#f1b6da"
            ],
            [
             0.4,
             "#fde0ef"
            ],
            [
             0.5,
             "#f7f7f7"
            ],
            [
             0.6,
             "#e6f5d0"
            ],
            [
             0.7,
             "#b8e186"
            ],
            [
             0.8,
             "#7fbc41"
            ],
            [
             0.9,
             "#4d9221"
            ],
            [
             1,
             "#276419"
            ]
           ],
           "sequential": [
            [
             0,
             "#0d0887"
            ],
            [
             0.1111111111111111,
             "#46039f"
            ],
            [
             0.2222222222222222,
             "#7201a8"
            ],
            [
             0.3333333333333333,
             "#9c179e"
            ],
            [
             0.4444444444444444,
             "#bd3786"
            ],
            [
             0.5555555555555556,
             "#d8576b"
            ],
            [
             0.6666666666666666,
             "#ed7953"
            ],
            [
             0.7777777777777778,
             "#fb9f3a"
            ],
            [
             0.8888888888888888,
             "#fdca26"
            ],
            [
             1,
             "#f0f921"
            ]
           ],
           "sequentialminus": [
            [
             0,
             "#0d0887"
            ],
            [
             0.1111111111111111,
             "#46039f"
            ],
            [
             0.2222222222222222,
             "#7201a8"
            ],
            [
             0.3333333333333333,
             "#9c179e"
            ],
            [
             0.4444444444444444,
             "#bd3786"
            ],
            [
             0.5555555555555556,
             "#d8576b"
            ],
            [
             0.6666666666666666,
             "#ed7953"
            ],
            [
             0.7777777777777778,
             "#fb9f3a"
            ],
            [
             0.8888888888888888,
             "#fdca26"
            ],
            [
             1,
             "#f0f921"
            ]
           ]
          },
          "colorway": [
           "#636efa",
           "#EF553B",
           "#00cc96",
           "#ab63fa",
           "#FFA15A",
           "#19d3f3",
           "#FF6692",
           "#B6E880",
           "#FF97FF",
           "#FECB52"
          ],
          "font": {
           "color": "#2a3f5f"
          },
          "geo": {
           "bgcolor": "white",
           "lakecolor": "white",
           "landcolor": "#E5ECF6",
           "showlakes": true,
           "showland": true,
           "subunitcolor": "white"
          },
          "hoverlabel": {
           "align": "left"
          },
          "hovermode": "closest",
          "mapbox": {
           "style": "light"
          },
          "paper_bgcolor": "white",
          "plot_bgcolor": "#E5ECF6",
          "polar": {
           "angularaxis": {
            "gridcolor": "white",
            "linecolor": "white",
            "ticks": ""
           },
           "bgcolor": "#E5ECF6",
           "radialaxis": {
            "gridcolor": "white",
            "linecolor": "white",
            "ticks": ""
           }
          },
          "scene": {
           "xaxis": {
            "backgroundcolor": "#E5ECF6",
            "gridcolor": "white",
            "gridwidth": 2,
            "linecolor": "white",
            "showbackground": true,
            "ticks": "",
            "zerolinecolor": "white"
           },
           "yaxis": {
            "backgroundcolor": "#E5ECF6",
            "gridcolor": "white",
            "gridwidth": 2,
            "linecolor": "white",
            "showbackground": true,
            "ticks": "",
            "zerolinecolor": "white"
           },
           "zaxis": {
            "backgroundcolor": "#E5ECF6",
            "gridcolor": "white",
            "gridwidth": 2,
            "linecolor": "white",
            "showbackground": true,
            "ticks": "",
            "zerolinecolor": "white"
           }
          },
          "shapedefaults": {
           "line": {
            "color": "#2a3f5f"
           }
          },
          "ternary": {
           "aaxis": {
            "gridcolor": "white",
            "linecolor": "white",
            "ticks": ""
           },
           "baxis": {
            "gridcolor": "white",
            "linecolor": "white",
            "ticks": ""
           },
           "bgcolor": "#E5ECF6",
           "caxis": {
            "gridcolor": "white",
            "linecolor": "white",
            "ticks": ""
           }
          },
          "title": {
           "x": 0.05
          },
          "xaxis": {
           "automargin": true,
           "gridcolor": "white",
           "linecolor": "white",
           "ticks": "",
           "title": {
            "standoff": 15
           },
           "zerolinecolor": "white",
           "zerolinewidth": 2
          },
          "yaxis": {
           "automargin": true,
           "gridcolor": "white",
           "linecolor": "white",
           "ticks": "",
           "title": {
            "standoff": 15
           },
           "zerolinecolor": "white",
           "zerolinewidth": 2
          }
         }
        },
        "title": {
         "text": "SVM Model performance metrice curves on testing"
        },
        "width": 1250,
        "xaxis": {
         "anchor": "y",
         "domain": [
          0,
          1
         ],
         "title": {
          "text": "models"
         }
        },
        "yaxis": {
         "anchor": "x",
         "domain": [
          0,
          1
         ],
         "title": {
          "text": "value"
         }
        }
       }
      }
     },
     "metadata": {},
     "output_type": "display_data"
    }
   ],
   "source": [
    "df1 = result[result['models']=='SVM']\n",
    "df1 = df1.sort_values(by='accuracy_score')\n",
    "x =  df1['models']+\" \"+df1['ngrams']+\" \"+df1['Text_vectorization']\n",
    "px.line(df1,x=x,y=['accuracy_score','f1_score','recall_score','precision_score'],markers='o',labels={'x':'models','y':'value'},width=1250, height=800,title='SVM Model performance metrice curves on testing')"
   ]
  },
  {
   "cell_type": "code",
   "execution_count": 39,
   "metadata": {},
   "outputs": [
    {
     "data": {
      "application/vnd.plotly.v1+json": {
       "config": {
        "plotlyServerURL": "https://plot.ly"
       },
       "data": [
        {
         "hovertemplate": "variable=accuracy_score<br>models=%{x}<br>value=%{y}<extra></extra>",
         "legendgroup": "accuracy_score",
         "line": {
          "color": "#636efa",
          "dash": "solid"
         },
         "marker": {
          "symbol": "circle"
         },
         "mode": "lines+markers",
         "name": "accuracy_score",
         "orientation": "v",
         "showlegend": true,
         "type": "scatter",
         "x": [
          "KNN (1,3) TF-IDF",
          "KNN (1,2) TF-IDF",
          "KNN (1,3) BOW(CountVectorizer)",
          "KNN default TF-IDF",
          "KNN (1,2) BOW(CountVectorizer)",
          "KNN default BOW(CountVectorizer)"
         ],
         "xaxis": "x",
         "y": [
          0.94,
          0.942,
          0.947,
          0.947,
          0.951,
          0.957
         ],
         "yaxis": "y"
        },
        {
         "hovertemplate": "variable=f1_score<br>models=%{x}<br>value=%{y}<extra></extra>",
         "legendgroup": "f1_score",
         "line": {
          "color": "#EF553B",
          "dash": "solid"
         },
         "marker": {
          "symbol": "circle"
         },
         "mode": "lines+markers",
         "name": "f1_score",
         "orientation": "v",
         "showlegend": true,
         "type": "scatter",
         "x": [
          "KNN (1,3) TF-IDF",
          "KNN (1,2) TF-IDF",
          "KNN (1,3) BOW(CountVectorizer)",
          "KNN default TF-IDF",
          "KNN (1,2) BOW(CountVectorizer)",
          "KNN default BOW(CountVectorizer)"
         ],
         "xaxis": "x",
         "y": [
          0.9337982688741304,
          0.9362088529225588,
          0.9419609067381974,
          0.9433370769933472,
          0.9477412672412928,
          0.954881041105738
         ],
         "yaxis": "y"
        },
        {
         "hovertemplate": "variable=recall_score<br>models=%{x}<br>value=%{y}<extra></extra>",
         "legendgroup": "recall_score",
         "line": {
          "color": "#00cc96",
          "dash": "solid"
         },
         "marker": {
          "symbol": "circle"
         },
         "mode": "lines+markers",
         "name": "recall_score",
         "orientation": "v",
         "showlegend": true,
         "type": "scatter",
         "x": [
          "KNN (1,3) TF-IDF",
          "KNN (1,2) TF-IDF",
          "KNN (1,3) BOW(CountVectorizer)",
          "KNN default TF-IDF",
          "KNN (1,2) BOW(CountVectorizer)",
          "KNN default BOW(CountVectorizer)"
         ],
         "xaxis": "x",
         "y": [
          0.9401330376940134,
          0.9419345898004434,
          0.9469235033259424,
          0.94720066518847,
          0.9514966740576496,
          0.9566241685144125
         ],
         "yaxis": "y"
        },
        {
         "hovertemplate": "variable=precision_score<br>models=%{x}<br>value=%{y}<extra></extra>",
         "legendgroup": "precision_score",
         "line": {
          "color": "#ab63fa",
          "dash": "solid"
         },
         "marker": {
          "symbol": "circle"
         },
         "mode": "lines+markers",
         "name": "precision_score",
         "orientation": "v",
         "showlegend": true,
         "type": "scatter",
         "x": [
          "KNN (1,3) TF-IDF",
          "KNN (1,2) TF-IDF",
          "KNN (1,3) BOW(CountVectorizer)",
          "KNN default TF-IDF",
          "KNN (1,2) BOW(CountVectorizer)",
          "KNN default BOW(CountVectorizer)"
         ],
         "xaxis": "x",
         "y": [
          0.9380278841210912,
          0.9396199131628776,
          0.9451658267907426,
          0.9444753645241064,
          0.9492935158092304,
          0.9545500025702278
         ],
         "yaxis": "y"
        }
       ],
       "layout": {
        "height": 800,
        "legend": {
         "title": {
          "text": "variable"
         },
         "tracegroupgap": 0
        },
        "template": {
         "data": {
          "bar": [
           {
            "error_x": {
             "color": "#2a3f5f"
            },
            "error_y": {
             "color": "#2a3f5f"
            },
            "marker": {
             "line": {
              "color": "#E5ECF6",
              "width": 0.5
             },
             "pattern": {
              "fillmode": "overlay",
              "size": 10,
              "solidity": 0.2
             }
            },
            "type": "bar"
           }
          ],
          "barpolar": [
           {
            "marker": {
             "line": {
              "color": "#E5ECF6",
              "width": 0.5
             },
             "pattern": {
              "fillmode": "overlay",
              "size": 10,
              "solidity": 0.2
             }
            },
            "type": "barpolar"
           }
          ],
          "carpet": [
           {
            "aaxis": {
             "endlinecolor": "#2a3f5f",
             "gridcolor": "white",
             "linecolor": "white",
             "minorgridcolor": "white",
             "startlinecolor": "#2a3f5f"
            },
            "baxis": {
             "endlinecolor": "#2a3f5f",
             "gridcolor": "white",
             "linecolor": "white",
             "minorgridcolor": "white",
             "startlinecolor": "#2a3f5f"
            },
            "type": "carpet"
           }
          ],
          "choropleth": [
           {
            "colorbar": {
             "outlinewidth": 0,
             "ticks": ""
            },
            "type": "choropleth"
           }
          ],
          "contour": [
           {
            "colorbar": {
             "outlinewidth": 0,
             "ticks": ""
            },
            "colorscale": [
             [
              0,
              "#0d0887"
             ],
             [
              0.1111111111111111,
              "#46039f"
             ],
             [
              0.2222222222222222,
              "#7201a8"
             ],
             [
              0.3333333333333333,
              "#9c179e"
             ],
             [
              0.4444444444444444,
              "#bd3786"
             ],
             [
              0.5555555555555556,
              "#d8576b"
             ],
             [
              0.6666666666666666,
              "#ed7953"
             ],
             [
              0.7777777777777778,
              "#fb9f3a"
             ],
             [
              0.8888888888888888,
              "#fdca26"
             ],
             [
              1,
              "#f0f921"
             ]
            ],
            "type": "contour"
           }
          ],
          "contourcarpet": [
           {
            "colorbar": {
             "outlinewidth": 0,
             "ticks": ""
            },
            "type": "contourcarpet"
           }
          ],
          "heatmap": [
           {
            "colorbar": {
             "outlinewidth": 0,
             "ticks": ""
            },
            "colorscale": [
             [
              0,
              "#0d0887"
             ],
             [
              0.1111111111111111,
              "#46039f"
             ],
             [
              0.2222222222222222,
              "#7201a8"
             ],
             [
              0.3333333333333333,
              "#9c179e"
             ],
             [
              0.4444444444444444,
              "#bd3786"
             ],
             [
              0.5555555555555556,
              "#d8576b"
             ],
             [
              0.6666666666666666,
              "#ed7953"
             ],
             [
              0.7777777777777778,
              "#fb9f3a"
             ],
             [
              0.8888888888888888,
              "#fdca26"
             ],
             [
              1,
              "#f0f921"
             ]
            ],
            "type": "heatmap"
           }
          ],
          "heatmapgl": [
           {
            "colorbar": {
             "outlinewidth": 0,
             "ticks": ""
            },
            "colorscale": [
             [
              0,
              "#0d0887"
             ],
             [
              0.1111111111111111,
              "#46039f"
             ],
             [
              0.2222222222222222,
              "#7201a8"
             ],
             [
              0.3333333333333333,
              "#9c179e"
             ],
             [
              0.4444444444444444,
              "#bd3786"
             ],
             [
              0.5555555555555556,
              "#d8576b"
             ],
             [
              0.6666666666666666,
              "#ed7953"
             ],
             [
              0.7777777777777778,
              "#fb9f3a"
             ],
             [
              0.8888888888888888,
              "#fdca26"
             ],
             [
              1,
              "#f0f921"
             ]
            ],
            "type": "heatmapgl"
           }
          ],
          "histogram": [
           {
            "marker": {
             "pattern": {
              "fillmode": "overlay",
              "size": 10,
              "solidity": 0.2
             }
            },
            "type": "histogram"
           }
          ],
          "histogram2d": [
           {
            "colorbar": {
             "outlinewidth": 0,
             "ticks": ""
            },
            "colorscale": [
             [
              0,
              "#0d0887"
             ],
             [
              0.1111111111111111,
              "#46039f"
             ],
             [
              0.2222222222222222,
              "#7201a8"
             ],
             [
              0.3333333333333333,
              "#9c179e"
             ],
             [
              0.4444444444444444,
              "#bd3786"
             ],
             [
              0.5555555555555556,
              "#d8576b"
             ],
             [
              0.6666666666666666,
              "#ed7953"
             ],
             [
              0.7777777777777778,
              "#fb9f3a"
             ],
             [
              0.8888888888888888,
              "#fdca26"
             ],
             [
              1,
              "#f0f921"
             ]
            ],
            "type": "histogram2d"
           }
          ],
          "histogram2dcontour": [
           {
            "colorbar": {
             "outlinewidth": 0,
             "ticks": ""
            },
            "colorscale": [
             [
              0,
              "#0d0887"
             ],
             [
              0.1111111111111111,
              "#46039f"
             ],
             [
              0.2222222222222222,
              "#7201a8"
             ],
             [
              0.3333333333333333,
              "#9c179e"
             ],
             [
              0.4444444444444444,
              "#bd3786"
             ],
             [
              0.5555555555555556,
              "#d8576b"
             ],
             [
              0.6666666666666666,
              "#ed7953"
             ],
             [
              0.7777777777777778,
              "#fb9f3a"
             ],
             [
              0.8888888888888888,
              "#fdca26"
             ],
             [
              1,
              "#f0f921"
             ]
            ],
            "type": "histogram2dcontour"
           }
          ],
          "mesh3d": [
           {
            "colorbar": {
             "outlinewidth": 0,
             "ticks": ""
            },
            "type": "mesh3d"
           }
          ],
          "parcoords": [
           {
            "line": {
             "colorbar": {
              "outlinewidth": 0,
              "ticks": ""
             }
            },
            "type": "parcoords"
           }
          ],
          "pie": [
           {
            "automargin": true,
            "type": "pie"
           }
          ],
          "scatter": [
           {
            "fillpattern": {
             "fillmode": "overlay",
             "size": 10,
             "solidity": 0.2
            },
            "type": "scatter"
           }
          ],
          "scatter3d": [
           {
            "line": {
             "colorbar": {
              "outlinewidth": 0,
              "ticks": ""
             }
            },
            "marker": {
             "colorbar": {
              "outlinewidth": 0,
              "ticks": ""
             }
            },
            "type": "scatter3d"
           }
          ],
          "scattercarpet": [
           {
            "marker": {
             "colorbar": {
              "outlinewidth": 0,
              "ticks": ""
             }
            },
            "type": "scattercarpet"
           }
          ],
          "scattergeo": [
           {
            "marker": {
             "colorbar": {
              "outlinewidth": 0,
              "ticks": ""
             }
            },
            "type": "scattergeo"
           }
          ],
          "scattergl": [
           {
            "marker": {
             "colorbar": {
              "outlinewidth": 0,
              "ticks": ""
             }
            },
            "type": "scattergl"
           }
          ],
          "scattermapbox": [
           {
            "marker": {
             "colorbar": {
              "outlinewidth": 0,
              "ticks": ""
             }
            },
            "type": "scattermapbox"
           }
          ],
          "scatterpolar": [
           {
            "marker": {
             "colorbar": {
              "outlinewidth": 0,
              "ticks": ""
             }
            },
            "type": "scatterpolar"
           }
          ],
          "scatterpolargl": [
           {
            "marker": {
             "colorbar": {
              "outlinewidth": 0,
              "ticks": ""
             }
            },
            "type": "scatterpolargl"
           }
          ],
          "scatterternary": [
           {
            "marker": {
             "colorbar": {
              "outlinewidth": 0,
              "ticks": ""
             }
            },
            "type": "scatterternary"
           }
          ],
          "surface": [
           {
            "colorbar": {
             "outlinewidth": 0,
             "ticks": ""
            },
            "colorscale": [
             [
              0,
              "#0d0887"
             ],
             [
              0.1111111111111111,
              "#46039f"
             ],
             [
              0.2222222222222222,
              "#7201a8"
             ],
             [
              0.3333333333333333,
              "#9c179e"
             ],
             [
              0.4444444444444444,
              "#bd3786"
             ],
             [
              0.5555555555555556,
              "#d8576b"
             ],
             [
              0.6666666666666666,
              "#ed7953"
             ],
             [
              0.7777777777777778,
              "#fb9f3a"
             ],
             [
              0.8888888888888888,
              "#fdca26"
             ],
             [
              1,
              "#f0f921"
             ]
            ],
            "type": "surface"
           }
          ],
          "table": [
           {
            "cells": {
             "fill": {
              "color": "#EBF0F8"
             },
             "line": {
              "color": "white"
             }
            },
            "header": {
             "fill": {
              "color": "#C8D4E3"
             },
             "line": {
              "color": "white"
             }
            },
            "type": "table"
           }
          ]
         },
         "layout": {
          "annotationdefaults": {
           "arrowcolor": "#2a3f5f",
           "arrowhead": 0,
           "arrowwidth": 1
          },
          "autotypenumbers": "strict",
          "coloraxis": {
           "colorbar": {
            "outlinewidth": 0,
            "ticks": ""
           }
          },
          "colorscale": {
           "diverging": [
            [
             0,
             "#8e0152"
            ],
            [
             0.1,
             "#c51b7d"
            ],
            [
             0.2,
             "#de77ae"
            ],
            [
             0.3,
             "#f1b6da"
            ],
            [
             0.4,
             "#fde0ef"
            ],
            [
             0.5,
             "#f7f7f7"
            ],
            [
             0.6,
             "#e6f5d0"
            ],
            [
             0.7,
             "#b8e186"
            ],
            [
             0.8,
             "#7fbc41"
            ],
            [
             0.9,
             "#4d9221"
            ],
            [
             1,
             "#276419"
            ]
           ],
           "sequential": [
            [
             0,
             "#0d0887"
            ],
            [
             0.1111111111111111,
             "#46039f"
            ],
            [
             0.2222222222222222,
             "#7201a8"
            ],
            [
             0.3333333333333333,
             "#9c179e"
            ],
            [
             0.4444444444444444,
             "#bd3786"
            ],
            [
             0.5555555555555556,
             "#d8576b"
            ],
            [
             0.6666666666666666,
             "#ed7953"
            ],
            [
             0.7777777777777778,
             "#fb9f3a"
            ],
            [
             0.8888888888888888,
             "#fdca26"
            ],
            [
             1,
             "#f0f921"
            ]
           ],
           "sequentialminus": [
            [
             0,
             "#0d0887"
            ],
            [
             0.1111111111111111,
             "#46039f"
            ],
            [
             0.2222222222222222,
             "#7201a8"
            ],
            [
             0.3333333333333333,
             "#9c179e"
            ],
            [
             0.4444444444444444,
             "#bd3786"
            ],
            [
             0.5555555555555556,
             "#d8576b"
            ],
            [
             0.6666666666666666,
             "#ed7953"
            ],
            [
             0.7777777777777778,
             "#fb9f3a"
            ],
            [
             0.8888888888888888,
             "#fdca26"
            ],
            [
             1,
             "#f0f921"
            ]
           ]
          },
          "colorway": [
           "#636efa",
           "#EF553B",
           "#00cc96",
           "#ab63fa",
           "#FFA15A",
           "#19d3f3",
           "#FF6692",
           "#B6E880",
           "#FF97FF",
           "#FECB52"
          ],
          "font": {
           "color": "#2a3f5f"
          },
          "geo": {
           "bgcolor": "white",
           "lakecolor": "white",
           "landcolor": "#E5ECF6",
           "showlakes": true,
           "showland": true,
           "subunitcolor": "white"
          },
          "hoverlabel": {
           "align": "left"
          },
          "hovermode": "closest",
          "mapbox": {
           "style": "light"
          },
          "paper_bgcolor": "white",
          "plot_bgcolor": "#E5ECF6",
          "polar": {
           "angularaxis": {
            "gridcolor": "white",
            "linecolor": "white",
            "ticks": ""
           },
           "bgcolor": "#E5ECF6",
           "radialaxis": {
            "gridcolor": "white",
            "linecolor": "white",
            "ticks": ""
           }
          },
          "scene": {
           "xaxis": {
            "backgroundcolor": "#E5ECF6",
            "gridcolor": "white",
            "gridwidth": 2,
            "linecolor": "white",
            "showbackground": true,
            "ticks": "",
            "zerolinecolor": "white"
           },
           "yaxis": {
            "backgroundcolor": "#E5ECF6",
            "gridcolor": "white",
            "gridwidth": 2,
            "linecolor": "white",
            "showbackground": true,
            "ticks": "",
            "zerolinecolor": "white"
           },
           "zaxis": {
            "backgroundcolor": "#E5ECF6",
            "gridcolor": "white",
            "gridwidth": 2,
            "linecolor": "white",
            "showbackground": true,
            "ticks": "",
            "zerolinecolor": "white"
           }
          },
          "shapedefaults": {
           "line": {
            "color": "#2a3f5f"
           }
          },
          "ternary": {
           "aaxis": {
            "gridcolor": "white",
            "linecolor": "white",
            "ticks": ""
           },
           "baxis": {
            "gridcolor": "white",
            "linecolor": "white",
            "ticks": ""
           },
           "bgcolor": "#E5ECF6",
           "caxis": {
            "gridcolor": "white",
            "linecolor": "white",
            "ticks": ""
           }
          },
          "title": {
           "x": 0.05
          },
          "xaxis": {
           "automargin": true,
           "gridcolor": "white",
           "linecolor": "white",
           "ticks": "",
           "title": {
            "standoff": 15
           },
           "zerolinecolor": "white",
           "zerolinewidth": 2
          },
          "yaxis": {
           "automargin": true,
           "gridcolor": "white",
           "linecolor": "white",
           "ticks": "",
           "title": {
            "standoff": 15
           },
           "zerolinecolor": "white",
           "zerolinewidth": 2
          }
         }
        },
        "title": {
         "text": "KNN Model performance metrice curves on testing"
        },
        "width": 1250,
        "xaxis": {
         "anchor": "y",
         "domain": [
          0,
          1
         ],
         "title": {
          "text": "models"
         }
        },
        "yaxis": {
         "anchor": "x",
         "domain": [
          0,
          1
         ],
         "title": {
          "text": "value"
         }
        }
       }
      }
     },
     "metadata": {},
     "output_type": "display_data"
    }
   ],
   "source": [
    "df1 = result[result['models']=='KNN']\n",
    "df1 = df1.sort_values(by='accuracy_score')\n",
    "x =  df1['models']+\" \"+df1['ngrams']+\" \"+df1['Text_vectorization']\n",
    "px.line(df1,x=x,y=['accuracy_score','f1_score','recall_score','precision_score'],markers='o',labels={'x':'models','y':'value'},width=1250, height=800,title='KNN Model performance metrice curves on testing')"
   ]
  },
  {
   "cell_type": "code",
   "execution_count": 37,
   "metadata": {},
   "outputs": [
    {
     "data": {
      "application/vnd.plotly.v1+json": {
       "config": {
        "plotlyServerURL": "https://plot.ly"
       },
       "data": [
        {
         "hovertemplate": "variable=accuracy_score<br>models=%{x}<br>value=%{y}<extra></extra>",
         "legendgroup": "accuracy_score",
         "line": {
          "color": "#636efa",
          "dash": "solid"
         },
         "marker": {
          "symbol": "circle"
         },
         "mode": "lines+markers",
         "name": "accuracy_score",
         "orientation": "v",
         "showlegend": true,
         "type": "scatter",
         "x": [
          "Logistic Regression (1,3) TF-IDF",
          "Logistic Regression default TF-IDF",
          "Logistic Regression (1,2) TF-IDF",
          "Logistic Regression (1,2) BOW(CountVectorizer)",
          "Logistic Regression default BOW(CountVectorizer)",
          "Logistic Regression (1,3) BOW(CountVectorizer)"
         ],
         "xaxis": "x",
         "y": [
          0.967,
          0.969,
          0.969,
          0.974,
          0.974,
          0.974
         ],
         "yaxis": "y"
        },
        {
         "hovertemplate": "variable=f1_score<br>models=%{x}<br>value=%{y}<extra></extra>",
         "legendgroup": "f1_score",
         "line": {
          "color": "#EF553B",
          "dash": "solid"
         },
         "marker": {
          "symbol": "circle"
         },
         "mode": "lines+markers",
         "name": "f1_score",
         "orientation": "v",
         "showlegend": true,
         "type": "scatter",
         "x": [
          "Logistic Regression (1,3) TF-IDF",
          "Logistic Regression default TF-IDF",
          "Logistic Regression (1,2) TF-IDF",
          "Logistic Regression (1,2) BOW(CountVectorizer)",
          "Logistic Regression default BOW(CountVectorizer)",
          "Logistic Regression (1,3) BOW(CountVectorizer)"
         ],
         "xaxis": "x",
         "y": [
          0.9661979677163124,
          0.9678614463971704,
          0.9680088233697948,
          0.9735723463036562,
          0.9737059608797842,
          0.9738061378902992
         ],
         "yaxis": "y"
        },
        {
         "hovertemplate": "variable=recall_score<br>models=%{x}<br>value=%{y}<extra></extra>",
         "legendgroup": "recall_score",
         "line": {
          "color": "#00cc96",
          "dash": "solid"
         },
         "marker": {
          "symbol": "circle"
         },
         "mode": "lines+markers",
         "name": "recall_score",
         "orientation": "v",
         "showlegend": true,
         "type": "scatter",
         "x": [
          "Logistic Regression (1,3) TF-IDF",
          "Logistic Regression default TF-IDF",
          "Logistic Regression (1,2) TF-IDF",
          "Logistic Regression (1,2) BOW(CountVectorizer)",
          "Logistic Regression default BOW(CountVectorizer)",
          "Logistic Regression (1,3) BOW(CountVectorizer)"
         ],
         "xaxis": "x",
         "y": [
          0.9670177383592018,
          0.9689578713968958,
          0.9689578713968958,
          0.9739467849223948,
          0.9740853658536586,
          0.9742239467849224
         ],
         "yaxis": "y"
        },
        {
         "hovertemplate": "variable=precision_score<br>models=%{x}<br>value=%{y}<extra></extra>",
         "legendgroup": "precision_score",
         "line": {
          "color": "#ab63fa",
          "dash": "solid"
         },
         "marker": {
          "symbol": "circle"
         },
         "mode": "lines+markers",
         "name": "precision_score",
         "orientation": "v",
         "showlegend": true,
         "type": "scatter",
         "x": [
          "Logistic Regression (1,3) TF-IDF",
          "Logistic Regression default TF-IDF",
          "Logistic Regression (1,2) TF-IDF",
          "Logistic Regression (1,2) BOW(CountVectorizer)",
          "Logistic Regression default BOW(CountVectorizer)",
          "Logistic Regression (1,3) BOW(CountVectorizer)"
         ],
         "xaxis": "x",
         "y": [
          0.9665606661131428,
          0.9677693056382236,
          0.9681728229626864,
          0.9735039244252456,
          0.9737203712297772,
          0.973660565480443
         ],
         "yaxis": "y"
        }
       ],
       "layout": {
        "height": 800,
        "legend": {
         "title": {
          "text": "variable"
         },
         "tracegroupgap": 0
        },
        "template": {
         "data": {
          "bar": [
           {
            "error_x": {
             "color": "#2a3f5f"
            },
            "error_y": {
             "color": "#2a3f5f"
            },
            "marker": {
             "line": {
              "color": "#E5ECF6",
              "width": 0.5
             },
             "pattern": {
              "fillmode": "overlay",
              "size": 10,
              "solidity": 0.2
             }
            },
            "type": "bar"
           }
          ],
          "barpolar": [
           {
            "marker": {
             "line": {
              "color": "#E5ECF6",
              "width": 0.5
             },
             "pattern": {
              "fillmode": "overlay",
              "size": 10,
              "solidity": 0.2
             }
            },
            "type": "barpolar"
           }
          ],
          "carpet": [
           {
            "aaxis": {
             "endlinecolor": "#2a3f5f",
             "gridcolor": "white",
             "linecolor": "white",
             "minorgridcolor": "white",
             "startlinecolor": "#2a3f5f"
            },
            "baxis": {
             "endlinecolor": "#2a3f5f",
             "gridcolor": "white",
             "linecolor": "white",
             "minorgridcolor": "white",
             "startlinecolor": "#2a3f5f"
            },
            "type": "carpet"
           }
          ],
          "choropleth": [
           {
            "colorbar": {
             "outlinewidth": 0,
             "ticks": ""
            },
            "type": "choropleth"
           }
          ],
          "contour": [
           {
            "colorbar": {
             "outlinewidth": 0,
             "ticks": ""
            },
            "colorscale": [
             [
              0,
              "#0d0887"
             ],
             [
              0.1111111111111111,
              "#46039f"
             ],
             [
              0.2222222222222222,
              "#7201a8"
             ],
             [
              0.3333333333333333,
              "#9c179e"
             ],
             [
              0.4444444444444444,
              "#bd3786"
             ],
             [
              0.5555555555555556,
              "#d8576b"
             ],
             [
              0.6666666666666666,
              "#ed7953"
             ],
             [
              0.7777777777777778,
              "#fb9f3a"
             ],
             [
              0.8888888888888888,
              "#fdca26"
             ],
             [
              1,
              "#f0f921"
             ]
            ],
            "type": "contour"
           }
          ],
          "contourcarpet": [
           {
            "colorbar": {
             "outlinewidth": 0,
             "ticks": ""
            },
            "type": "contourcarpet"
           }
          ],
          "heatmap": [
           {
            "colorbar": {
             "outlinewidth": 0,
             "ticks": ""
            },
            "colorscale": [
             [
              0,
              "#0d0887"
             ],
             [
              0.1111111111111111,
              "#46039f"
             ],
             [
              0.2222222222222222,
              "#7201a8"
             ],
             [
              0.3333333333333333,
              "#9c179e"
             ],
             [
              0.4444444444444444,
              "#bd3786"
             ],
             [
              0.5555555555555556,
              "#d8576b"
             ],
             [
              0.6666666666666666,
              "#ed7953"
             ],
             [
              0.7777777777777778,
              "#fb9f3a"
             ],
             [
              0.8888888888888888,
              "#fdca26"
             ],
             [
              1,
              "#f0f921"
             ]
            ],
            "type": "heatmap"
           }
          ],
          "heatmapgl": [
           {
            "colorbar": {
             "outlinewidth": 0,
             "ticks": ""
            },
            "colorscale": [
             [
              0,
              "#0d0887"
             ],
             [
              0.1111111111111111,
              "#46039f"
             ],
             [
              0.2222222222222222,
              "#7201a8"
             ],
             [
              0.3333333333333333,
              "#9c179e"
             ],
             [
              0.4444444444444444,
              "#bd3786"
             ],
             [
              0.5555555555555556,
              "#d8576b"
             ],
             [
              0.6666666666666666,
              "#ed7953"
             ],
             [
              0.7777777777777778,
              "#fb9f3a"
             ],
             [
              0.8888888888888888,
              "#fdca26"
             ],
             [
              1,
              "#f0f921"
             ]
            ],
            "type": "heatmapgl"
           }
          ],
          "histogram": [
           {
            "marker": {
             "pattern": {
              "fillmode": "overlay",
              "size": 10,
              "solidity": 0.2
             }
            },
            "type": "histogram"
           }
          ],
          "histogram2d": [
           {
            "colorbar": {
             "outlinewidth": 0,
             "ticks": ""
            },
            "colorscale": [
             [
              0,
              "#0d0887"
             ],
             [
              0.1111111111111111,
              "#46039f"
             ],
             [
              0.2222222222222222,
              "#7201a8"
             ],
             [
              0.3333333333333333,
              "#9c179e"
             ],
             [
              0.4444444444444444,
              "#bd3786"
             ],
             [
              0.5555555555555556,
              "#d8576b"
             ],
             [
              0.6666666666666666,
              "#ed7953"
             ],
             [
              0.7777777777777778,
              "#fb9f3a"
             ],
             [
              0.8888888888888888,
              "#fdca26"
             ],
             [
              1,
              "#f0f921"
             ]
            ],
            "type": "histogram2d"
           }
          ],
          "histogram2dcontour": [
           {
            "colorbar": {
             "outlinewidth": 0,
             "ticks": ""
            },
            "colorscale": [
             [
              0,
              "#0d0887"
             ],
             [
              0.1111111111111111,
              "#46039f"
             ],
             [
              0.2222222222222222,
              "#7201a8"
             ],
             [
              0.3333333333333333,
              "#9c179e"
             ],
             [
              0.4444444444444444,
              "#bd3786"
             ],
             [
              0.5555555555555556,
              "#d8576b"
             ],
             [
              0.6666666666666666,
              "#ed7953"
             ],
             [
              0.7777777777777778,
              "#fb9f3a"
             ],
             [
              0.8888888888888888,
              "#fdca26"
             ],
             [
              1,
              "#f0f921"
             ]
            ],
            "type": "histogram2dcontour"
           }
          ],
          "mesh3d": [
           {
            "colorbar": {
             "outlinewidth": 0,
             "ticks": ""
            },
            "type": "mesh3d"
           }
          ],
          "parcoords": [
           {
            "line": {
             "colorbar": {
              "outlinewidth": 0,
              "ticks": ""
             }
            },
            "type": "parcoords"
           }
          ],
          "pie": [
           {
            "automargin": true,
            "type": "pie"
           }
          ],
          "scatter": [
           {
            "fillpattern": {
             "fillmode": "overlay",
             "size": 10,
             "solidity": 0.2
            },
            "type": "scatter"
           }
          ],
          "scatter3d": [
           {
            "line": {
             "colorbar": {
              "outlinewidth": 0,
              "ticks": ""
             }
            },
            "marker": {
             "colorbar": {
              "outlinewidth": 0,
              "ticks": ""
             }
            },
            "type": "scatter3d"
           }
          ],
          "scattercarpet": [
           {
            "marker": {
             "colorbar": {
              "outlinewidth": 0,
              "ticks": ""
             }
            },
            "type": "scattercarpet"
           }
          ],
          "scattergeo": [
           {
            "marker": {
             "colorbar": {
              "outlinewidth": 0,
              "ticks": ""
             }
            },
            "type": "scattergeo"
           }
          ],
          "scattergl": [
           {
            "marker": {
             "colorbar": {
              "outlinewidth": 0,
              "ticks": ""
             }
            },
            "type": "scattergl"
           }
          ],
          "scattermapbox": [
           {
            "marker": {
             "colorbar": {
              "outlinewidth": 0,
              "ticks": ""
             }
            },
            "type": "scattermapbox"
           }
          ],
          "scatterpolar": [
           {
            "marker": {
             "colorbar": {
              "outlinewidth": 0,
              "ticks": ""
             }
            },
            "type": "scatterpolar"
           }
          ],
          "scatterpolargl": [
           {
            "marker": {
             "colorbar": {
              "outlinewidth": 0,
              "ticks": ""
             }
            },
            "type": "scatterpolargl"
           }
          ],
          "scatterternary": [
           {
            "marker": {
             "colorbar": {
              "outlinewidth": 0,
              "ticks": ""
             }
            },
            "type": "scatterternary"
           }
          ],
          "surface": [
           {
            "colorbar": {
             "outlinewidth": 0,
             "ticks": ""
            },
            "colorscale": [
             [
              0,
              "#0d0887"
             ],
             [
              0.1111111111111111,
              "#46039f"
             ],
             [
              0.2222222222222222,
              "#7201a8"
             ],
             [
              0.3333333333333333,
              "#9c179e"
             ],
             [
              0.4444444444444444,
              "#bd3786"
             ],
             [
              0.5555555555555556,
              "#d8576b"
             ],
             [
              0.6666666666666666,
              "#ed7953"
             ],
             [
              0.7777777777777778,
              "#fb9f3a"
             ],
             [
              0.8888888888888888,
              "#fdca26"
             ],
             [
              1,
              "#f0f921"
             ]
            ],
            "type": "surface"
           }
          ],
          "table": [
           {
            "cells": {
             "fill": {
              "color": "#EBF0F8"
             },
             "line": {
              "color": "white"
             }
            },
            "header": {
             "fill": {
              "color": "#C8D4E3"
             },
             "line": {
              "color": "white"
             }
            },
            "type": "table"
           }
          ]
         },
         "layout": {
          "annotationdefaults": {
           "arrowcolor": "#2a3f5f",
           "arrowhead": 0,
           "arrowwidth": 1
          },
          "autotypenumbers": "strict",
          "coloraxis": {
           "colorbar": {
            "outlinewidth": 0,
            "ticks": ""
           }
          },
          "colorscale": {
           "diverging": [
            [
             0,
             "#8e0152"
            ],
            [
             0.1,
             "#c51b7d"
            ],
            [
             0.2,
             "#de77ae"
            ],
            [
             0.3,
             "#f1b6da"
            ],
            [
             0.4,
             "#fde0ef"
            ],
            [
             0.5,
             "#f7f7f7"
            ],
            [
             0.6,
             "#e6f5d0"
            ],
            [
             0.7,
             "#b8e186"
            ],
            [
             0.8,
             "#7fbc41"
            ],
            [
             0.9,
             "#4d9221"
            ],
            [
             1,
             "#276419"
            ]
           ],
           "sequential": [
            [
             0,
             "#0d0887"
            ],
            [
             0.1111111111111111,
             "#46039f"
            ],
            [
             0.2222222222222222,
             "#7201a8"
            ],
            [
             0.3333333333333333,
             "#9c179e"
            ],
            [
             0.4444444444444444,
             "#bd3786"
            ],
            [
             0.5555555555555556,
             "#d8576b"
            ],
            [
             0.6666666666666666,
             "#ed7953"
            ],
            [
             0.7777777777777778,
             "#fb9f3a"
            ],
            [
             0.8888888888888888,
             "#fdca26"
            ],
            [
             1,
             "#f0f921"
            ]
           ],
           "sequentialminus": [
            [
             0,
             "#0d0887"
            ],
            [
             0.1111111111111111,
             "#46039f"
            ],
            [
             0.2222222222222222,
             "#7201a8"
            ],
            [
             0.3333333333333333,
             "#9c179e"
            ],
            [
             0.4444444444444444,
             "#bd3786"
            ],
            [
             0.5555555555555556,
             "#d8576b"
            ],
            [
             0.6666666666666666,
             "#ed7953"
            ],
            [
             0.7777777777777778,
             "#fb9f3a"
            ],
            [
             0.8888888888888888,
             "#fdca26"
            ],
            [
             1,
             "#f0f921"
            ]
           ]
          },
          "colorway": [
           "#636efa",
           "#EF553B",
           "#00cc96",
           "#ab63fa",
           "#FFA15A",
           "#19d3f3",
           "#FF6692",
           "#B6E880",
           "#FF97FF",
           "#FECB52"
          ],
          "font": {
           "color": "#2a3f5f"
          },
          "geo": {
           "bgcolor": "white",
           "lakecolor": "white",
           "landcolor": "#E5ECF6",
           "showlakes": true,
           "showland": true,
           "subunitcolor": "white"
          },
          "hoverlabel": {
           "align": "left"
          },
          "hovermode": "closest",
          "mapbox": {
           "style": "light"
          },
          "paper_bgcolor": "white",
          "plot_bgcolor": "#E5ECF6",
          "polar": {
           "angularaxis": {
            "gridcolor": "white",
            "linecolor": "white",
            "ticks": ""
           },
           "bgcolor": "#E5ECF6",
           "radialaxis": {
            "gridcolor": "white",
            "linecolor": "white",
            "ticks": ""
           }
          },
          "scene": {
           "xaxis": {
            "backgroundcolor": "#E5ECF6",
            "gridcolor": "white",
            "gridwidth": 2,
            "linecolor": "white",
            "showbackground": true,
            "ticks": "",
            "zerolinecolor": "white"
           },
           "yaxis": {
            "backgroundcolor": "#E5ECF6",
            "gridcolor": "white",
            "gridwidth": 2,
            "linecolor": "white",
            "showbackground": true,
            "ticks": "",
            "zerolinecolor": "white"
           },
           "zaxis": {
            "backgroundcolor": "#E5ECF6",
            "gridcolor": "white",
            "gridwidth": 2,
            "linecolor": "white",
            "showbackground": true,
            "ticks": "",
            "zerolinecolor": "white"
           }
          },
          "shapedefaults": {
           "line": {
            "color": "#2a3f5f"
           }
          },
          "ternary": {
           "aaxis": {
            "gridcolor": "white",
            "linecolor": "white",
            "ticks": ""
           },
           "baxis": {
            "gridcolor": "white",
            "linecolor": "white",
            "ticks": ""
           },
           "bgcolor": "#E5ECF6",
           "caxis": {
            "gridcolor": "white",
            "linecolor": "white",
            "ticks": ""
           }
          },
          "title": {
           "x": 0.05
          },
          "xaxis": {
           "automargin": true,
           "gridcolor": "white",
           "linecolor": "white",
           "ticks": "",
           "title": {
            "standoff": 15
           },
           "zerolinecolor": "white",
           "zerolinewidth": 2
          },
          "yaxis": {
           "automargin": true,
           "gridcolor": "white",
           "linecolor": "white",
           "ticks": "",
           "title": {
            "standoff": 15
           },
           "zerolinecolor": "white",
           "zerolinewidth": 2
          }
         }
        },
        "title": {
         "text": "Logistic Regression Model performance metrice curves on testing"
        },
        "width": 1250,
        "xaxis": {
         "anchor": "y",
         "domain": [
          0,
          1
         ],
         "title": {
          "text": "models"
         }
        },
        "yaxis": {
         "anchor": "x",
         "domain": [
          0,
          1
         ],
         "title": {
          "text": "value"
         }
        }
       }
      }
     },
     "metadata": {},
     "output_type": "display_data"
    }
   ],
   "source": [
    "df1 = result[result['models']=='Logistic Regression']\n",
    "df1 = df1.sort_values(by='accuracy_score')\n",
    "x =  df1['models']+\" \"+df1['ngrams']+\" \"+df1['Text_vectorization']\n",
    "px.line(df1,x=x,y=['accuracy_score','f1_score','recall_score','precision_score'],markers='o',labels={'x':'models','y':'value'},width=1250, height=800,title='Logistic Regression Model performance metrice curves on testing')"
   ]
  },
  {
   "cell_type": "code",
   "execution_count": 38,
   "metadata": {},
   "outputs": [
    {
     "data": {
      "application/vnd.plotly.v1+json": {
       "config": {
        "plotlyServerURL": "https://plot.ly"
       },
       "data": [
        {
         "hovertemplate": "variable=accuracy_score<br>models=%{x}<br>value=%{y}<extra></extra>",
         "legendgroup": "accuracy_score",
         "line": {
          "color": "#636efa",
          "dash": "solid"
         },
         "marker": {
          "symbol": "circle"
         },
         "mode": "lines+markers",
         "name": "accuracy_score",
         "orientation": "v",
         "showlegend": true,
         "type": "scatter",
         "x": [
          "Decision Tree (1,3) TF-IDF",
          "Decision Tree (1,2) TF-IDF",
          "Decision Tree default TF-IDF",
          "Decision Tree default BOW(CountVectorizer)",
          "Decision Tree (1,2) BOW(CountVectorizer)",
          "Decision Tree (1,3) BOW(CountVectorizer)"
         ],
         "xaxis": "x",
         "y": [
          0.949,
          0.949,
          0.951,
          0.955,
          0.959,
          0.959
         ],
         "yaxis": "y"
        },
        {
         "hovertemplate": "variable=f1_score<br>models=%{x}<br>value=%{y}<extra></extra>",
         "legendgroup": "f1_score",
         "line": {
          "color": "#EF553B",
          "dash": "solid"
         },
         "marker": {
          "symbol": "circle"
         },
         "mode": "lines+markers",
         "name": "f1_score",
         "orientation": "v",
         "showlegend": true,
         "type": "scatter",
         "x": [
          "Decision Tree (1,3) TF-IDF",
          "Decision Tree (1,2) TF-IDF",
          "Decision Tree default TF-IDF",
          "Decision Tree default BOW(CountVectorizer)",
          "Decision Tree (1,2) BOW(CountVectorizer)",
          "Decision Tree (1,3) BOW(CountVectorizer)"
         ],
         "xaxis": "x",
         "y": [
          0.9503457666829924,
          0.950057253600578,
          0.950820885682828,
          0.9548335349711782,
          0.9593992055655912,
          0.9587055540724712
         ],
         "yaxis": "y"
        },
        {
         "hovertemplate": "variable=recall_score<br>models=%{x}<br>value=%{y}<extra></extra>",
         "legendgroup": "recall_score",
         "line": {
          "color": "#00cc96",
          "dash": "solid"
         },
         "marker": {
          "symbol": "circle"
         },
         "mode": "lines+markers",
         "name": "recall_score",
         "orientation": "v",
         "showlegend": true,
         "type": "scatter",
         "x": [
          "Decision Tree (1,3) TF-IDF",
          "Decision Tree (1,2) TF-IDF",
          "Decision Tree default TF-IDF",
          "Decision Tree default BOW(CountVectorizer)",
          "Decision Tree (1,2) BOW(CountVectorizer)",
          "Decision Tree (1,3) BOW(CountVectorizer)"
         ],
         "xaxis": "x",
         "y": [
          0.949279379157428,
          0.9494179600886918,
          0.9508037694013304,
          0.9548226164079824,
          0.9593957871396896,
          0.9588414634146342
         ],
         "yaxis": "y"
        },
        {
         "hovertemplate": "variable=precision_score<br>models=%{x}<br>value=%{y}<extra></extra>",
         "legendgroup": "precision_score",
         "line": {
          "color": "#ab63fa",
          "dash": "solid"
         },
         "marker": {
          "symbol": "circle"
         },
         "mode": "lines+markers",
         "name": "precision_score",
         "orientation": "v",
         "showlegend": true,
         "type": "scatter",
         "x": [
          "Decision Tree (1,3) TF-IDF",
          "Decision Tree (1,2) TF-IDF",
          "Decision Tree default TF-IDF",
          "Decision Tree default BOW(CountVectorizer)",
          "Decision Tree (1,2) BOW(CountVectorizer)",
          "Decision Tree (1,3) BOW(CountVectorizer)"
         ],
         "xaxis": "x",
         "y": [
          0.9520789037914402,
          0.951033816067159,
          0.9508484175000238,
          0.9549209143777768,
          0.9594635474651032,
          0.9586776930082757
         ],
         "yaxis": "y"
        }
       ],
       "layout": {
        "height": 800,
        "legend": {
         "title": {
          "text": "variable"
         },
         "tracegroupgap": 0
        },
        "template": {
         "data": {
          "bar": [
           {
            "error_x": {
             "color": "#2a3f5f"
            },
            "error_y": {
             "color": "#2a3f5f"
            },
            "marker": {
             "line": {
              "color": "#E5ECF6",
              "width": 0.5
             },
             "pattern": {
              "fillmode": "overlay",
              "size": 10,
              "solidity": 0.2
             }
            },
            "type": "bar"
           }
          ],
          "barpolar": [
           {
            "marker": {
             "line": {
              "color": "#E5ECF6",
              "width": 0.5
             },
             "pattern": {
              "fillmode": "overlay",
              "size": 10,
              "solidity": 0.2
             }
            },
            "type": "barpolar"
           }
          ],
          "carpet": [
           {
            "aaxis": {
             "endlinecolor": "#2a3f5f",
             "gridcolor": "white",
             "linecolor": "white",
             "minorgridcolor": "white",
             "startlinecolor": "#2a3f5f"
            },
            "baxis": {
             "endlinecolor": "#2a3f5f",
             "gridcolor": "white",
             "linecolor": "white",
             "minorgridcolor": "white",
             "startlinecolor": "#2a3f5f"
            },
            "type": "carpet"
           }
          ],
          "choropleth": [
           {
            "colorbar": {
             "outlinewidth": 0,
             "ticks": ""
            },
            "type": "choropleth"
           }
          ],
          "contour": [
           {
            "colorbar": {
             "outlinewidth": 0,
             "ticks": ""
            },
            "colorscale": [
             [
              0,
              "#0d0887"
             ],
             [
              0.1111111111111111,
              "#46039f"
             ],
             [
              0.2222222222222222,
              "#7201a8"
             ],
             [
              0.3333333333333333,
              "#9c179e"
             ],
             [
              0.4444444444444444,
              "#bd3786"
             ],
             [
              0.5555555555555556,
              "#d8576b"
             ],
             [
              0.6666666666666666,
              "#ed7953"
             ],
             [
              0.7777777777777778,
              "#fb9f3a"
             ],
             [
              0.8888888888888888,
              "#fdca26"
             ],
             [
              1,
              "#f0f921"
             ]
            ],
            "type": "contour"
           }
          ],
          "contourcarpet": [
           {
            "colorbar": {
             "outlinewidth": 0,
             "ticks": ""
            },
            "type": "contourcarpet"
           }
          ],
          "heatmap": [
           {
            "colorbar": {
             "outlinewidth": 0,
             "ticks": ""
            },
            "colorscale": [
             [
              0,
              "#0d0887"
             ],
             [
              0.1111111111111111,
              "#46039f"
             ],
             [
              0.2222222222222222,
              "#7201a8"
             ],
             [
              0.3333333333333333,
              "#9c179e"
             ],
             [
              0.4444444444444444,
              "#bd3786"
             ],
             [
              0.5555555555555556,
              "#d8576b"
             ],
             [
              0.6666666666666666,
              "#ed7953"
             ],
             [
              0.7777777777777778,
              "#fb9f3a"
             ],
             [
              0.8888888888888888,
              "#fdca26"
             ],
             [
              1,
              "#f0f921"
             ]
            ],
            "type": "heatmap"
           }
          ],
          "heatmapgl": [
           {
            "colorbar": {
             "outlinewidth": 0,
             "ticks": ""
            },
            "colorscale": [
             [
              0,
              "#0d0887"
             ],
             [
              0.1111111111111111,
              "#46039f"
             ],
             [
              0.2222222222222222,
              "#7201a8"
             ],
             [
              0.3333333333333333,
              "#9c179e"
             ],
             [
              0.4444444444444444,
              "#bd3786"
             ],
             [
              0.5555555555555556,
              "#d8576b"
             ],
             [
              0.6666666666666666,
              "#ed7953"
             ],
             [
              0.7777777777777778,
              "#fb9f3a"
             ],
             [
              0.8888888888888888,
              "#fdca26"
             ],
             [
              1,
              "#f0f921"
             ]
            ],
            "type": "heatmapgl"
           }
          ],
          "histogram": [
           {
            "marker": {
             "pattern": {
              "fillmode": "overlay",
              "size": 10,
              "solidity": 0.2
             }
            },
            "type": "histogram"
           }
          ],
          "histogram2d": [
           {
            "colorbar": {
             "outlinewidth": 0,
             "ticks": ""
            },
            "colorscale": [
             [
              0,
              "#0d0887"
             ],
             [
              0.1111111111111111,
              "#46039f"
             ],
             [
              0.2222222222222222,
              "#7201a8"
             ],
             [
              0.3333333333333333,
              "#9c179e"
             ],
             [
              0.4444444444444444,
              "#bd3786"
             ],
             [
              0.5555555555555556,
              "#d8576b"
             ],
             [
              0.6666666666666666,
              "#ed7953"
             ],
             [
              0.7777777777777778,
              "#fb9f3a"
             ],
             [
              0.8888888888888888,
              "#fdca26"
             ],
             [
              1,
              "#f0f921"
             ]
            ],
            "type": "histogram2d"
           }
          ],
          "histogram2dcontour": [
           {
            "colorbar": {
             "outlinewidth": 0,
             "ticks": ""
            },
            "colorscale": [
             [
              0,
              "#0d0887"
             ],
             [
              0.1111111111111111,
              "#46039f"
             ],
             [
              0.2222222222222222,
              "#7201a8"
             ],
             [
              0.3333333333333333,
              "#9c179e"
             ],
             [
              0.4444444444444444,
              "#bd3786"
             ],
             [
              0.5555555555555556,
              "#d8576b"
             ],
             [
              0.6666666666666666,
              "#ed7953"
             ],
             [
              0.7777777777777778,
              "#fb9f3a"
             ],
             [
              0.8888888888888888,
              "#fdca26"
             ],
             [
              1,
              "#f0f921"
             ]
            ],
            "type": "histogram2dcontour"
           }
          ],
          "mesh3d": [
           {
            "colorbar": {
             "outlinewidth": 0,
             "ticks": ""
            },
            "type": "mesh3d"
           }
          ],
          "parcoords": [
           {
            "line": {
             "colorbar": {
              "outlinewidth": 0,
              "ticks": ""
             }
            },
            "type": "parcoords"
           }
          ],
          "pie": [
           {
            "automargin": true,
            "type": "pie"
           }
          ],
          "scatter": [
           {
            "fillpattern": {
             "fillmode": "overlay",
             "size": 10,
             "solidity": 0.2
            },
            "type": "scatter"
           }
          ],
          "scatter3d": [
           {
            "line": {
             "colorbar": {
              "outlinewidth": 0,
              "ticks": ""
             }
            },
            "marker": {
             "colorbar": {
              "outlinewidth": 0,
              "ticks": ""
             }
            },
            "type": "scatter3d"
           }
          ],
          "scattercarpet": [
           {
            "marker": {
             "colorbar": {
              "outlinewidth": 0,
              "ticks": ""
             }
            },
            "type": "scattercarpet"
           }
          ],
          "scattergeo": [
           {
            "marker": {
             "colorbar": {
              "outlinewidth": 0,
              "ticks": ""
             }
            },
            "type": "scattergeo"
           }
          ],
          "scattergl": [
           {
            "marker": {
             "colorbar": {
              "outlinewidth": 0,
              "ticks": ""
             }
            },
            "type": "scattergl"
           }
          ],
          "scattermapbox": [
           {
            "marker": {
             "colorbar": {
              "outlinewidth": 0,
              "ticks": ""
             }
            },
            "type": "scattermapbox"
           }
          ],
          "scatterpolar": [
           {
            "marker": {
             "colorbar": {
              "outlinewidth": 0,
              "ticks": ""
             }
            },
            "type": "scatterpolar"
           }
          ],
          "scatterpolargl": [
           {
            "marker": {
             "colorbar": {
              "outlinewidth": 0,
              "ticks": ""
             }
            },
            "type": "scatterpolargl"
           }
          ],
          "scatterternary": [
           {
            "marker": {
             "colorbar": {
              "outlinewidth": 0,
              "ticks": ""
             }
            },
            "type": "scatterternary"
           }
          ],
          "surface": [
           {
            "colorbar": {
             "outlinewidth": 0,
             "ticks": ""
            },
            "colorscale": [
             [
              0,
              "#0d0887"
             ],
             [
              0.1111111111111111,
              "#46039f"
             ],
             [
              0.2222222222222222,
              "#7201a8"
             ],
             [
              0.3333333333333333,
              "#9c179e"
             ],
             [
              0.4444444444444444,
              "#bd3786"
             ],
             [
              0.5555555555555556,
              "#d8576b"
             ],
             [
              0.6666666666666666,
              "#ed7953"
             ],
             [
              0.7777777777777778,
              "#fb9f3a"
             ],
             [
              0.8888888888888888,
              "#fdca26"
             ],
             [
              1,
              "#f0f921"
             ]
            ],
            "type": "surface"
           }
          ],
          "table": [
           {
            "cells": {
             "fill": {
              "color": "#EBF0F8"
             },
             "line": {
              "color": "white"
             }
            },
            "header": {
             "fill": {
              "color": "#C8D4E3"
             },
             "line": {
              "color": "white"
             }
            },
            "type": "table"
           }
          ]
         },
         "layout": {
          "annotationdefaults": {
           "arrowcolor": "#2a3f5f",
           "arrowhead": 0,
           "arrowwidth": 1
          },
          "autotypenumbers": "strict",
          "coloraxis": {
           "colorbar": {
            "outlinewidth": 0,
            "ticks": ""
           }
          },
          "colorscale": {
           "diverging": [
            [
             0,
             "#8e0152"
            ],
            [
             0.1,
             "#c51b7d"
            ],
            [
             0.2,
             "#de77ae"
            ],
            [
             0.3,
             "#f1b6da"
            ],
            [
             0.4,
             "#fde0ef"
            ],
            [
             0.5,
             "#f7f7f7"
            ],
            [
             0.6,
             "#e6f5d0"
            ],
            [
             0.7,
             "#b8e186"
            ],
            [
             0.8,
             "#7fbc41"
            ],
            [
             0.9,
             "#4d9221"
            ],
            [
             1,
             "#276419"
            ]
           ],
           "sequential": [
            [
             0,
             "#0d0887"
            ],
            [
             0.1111111111111111,
             "#46039f"
            ],
            [
             0.2222222222222222,
             "#7201a8"
            ],
            [
             0.3333333333333333,
             "#9c179e"
            ],
            [
             0.4444444444444444,
             "#bd3786"
            ],
            [
             0.5555555555555556,
             "#d8576b"
            ],
            [
             0.6666666666666666,
             "#ed7953"
            ],
            [
             0.7777777777777778,
             "#fb9f3a"
            ],
            [
             0.8888888888888888,
             "#fdca26"
            ],
            [
             1,
             "#f0f921"
            ]
           ],
           "sequentialminus": [
            [
             0,
             "#0d0887"
            ],
            [
             0.1111111111111111,
             "#46039f"
            ],
            [
             0.2222222222222222,
             "#7201a8"
            ],
            [
             0.3333333333333333,
             "#9c179e"
            ],
            [
             0.4444444444444444,
             "#bd3786"
            ],
            [
             0.5555555555555556,
             "#d8576b"
            ],
            [
             0.6666666666666666,
             "#ed7953"
            ],
            [
             0.7777777777777778,
             "#fb9f3a"
            ],
            [
             0.8888888888888888,
             "#fdca26"
            ],
            [
             1,
             "#f0f921"
            ]
           ]
          },
          "colorway": [
           "#636efa",
           "#EF553B",
           "#00cc96",
           "#ab63fa",
           "#FFA15A",
           "#19d3f3",
           "#FF6692",
           "#B6E880",
           "#FF97FF",
           "#FECB52"
          ],
          "font": {
           "color": "#2a3f5f"
          },
          "geo": {
           "bgcolor": "white",
           "lakecolor": "white",
           "landcolor": "#E5ECF6",
           "showlakes": true,
           "showland": true,
           "subunitcolor": "white"
          },
          "hoverlabel": {
           "align": "left"
          },
          "hovermode": "closest",
          "mapbox": {
           "style": "light"
          },
          "paper_bgcolor": "white",
          "plot_bgcolor": "#E5ECF6",
          "polar": {
           "angularaxis": {
            "gridcolor": "white",
            "linecolor": "white",
            "ticks": ""
           },
           "bgcolor": "#E5ECF6",
           "radialaxis": {
            "gridcolor": "white",
            "linecolor": "white",
            "ticks": ""
           }
          },
          "scene": {
           "xaxis": {
            "backgroundcolor": "#E5ECF6",
            "gridcolor": "white",
            "gridwidth": 2,
            "linecolor": "white",
            "showbackground": true,
            "ticks": "",
            "zerolinecolor": "white"
           },
           "yaxis": {
            "backgroundcolor": "#E5ECF6",
            "gridcolor": "white",
            "gridwidth": 2,
            "linecolor": "white",
            "showbackground": true,
            "ticks": "",
            "zerolinecolor": "white"
           },
           "zaxis": {
            "backgroundcolor": "#E5ECF6",
            "gridcolor": "white",
            "gridwidth": 2,
            "linecolor": "white",
            "showbackground": true,
            "ticks": "",
            "zerolinecolor": "white"
           }
          },
          "shapedefaults": {
           "line": {
            "color": "#2a3f5f"
           }
          },
          "ternary": {
           "aaxis": {
            "gridcolor": "white",
            "linecolor": "white",
            "ticks": ""
           },
           "baxis": {
            "gridcolor": "white",
            "linecolor": "white",
            "ticks": ""
           },
           "bgcolor": "#E5ECF6",
           "caxis": {
            "gridcolor": "white",
            "linecolor": "white",
            "ticks": ""
           }
          },
          "title": {
           "x": 0.05
          },
          "xaxis": {
           "automargin": true,
           "gridcolor": "white",
           "linecolor": "white",
           "ticks": "",
           "title": {
            "standoff": 15
           },
           "zerolinecolor": "white",
           "zerolinewidth": 2
          },
          "yaxis": {
           "automargin": true,
           "gridcolor": "white",
           "linecolor": "white",
           "ticks": "",
           "title": {
            "standoff": 15
           },
           "zerolinecolor": "white",
           "zerolinewidth": 2
          }
         }
        },
        "title": {
         "text": "Decision Tree Model performance metrice curves on testing"
        },
        "width": 1250,
        "xaxis": {
         "anchor": "y",
         "domain": [
          0,
          1
         ],
         "title": {
          "text": "models"
         }
        },
        "yaxis": {
         "anchor": "x",
         "domain": [
          0,
          1
         ],
         "title": {
          "text": "value"
         }
        }
       }
      }
     },
     "metadata": {},
     "output_type": "display_data"
    }
   ],
   "source": [
    "df1 = result[result['models']=='Decision Tree']\n",
    "df1 = df1.sort_values(by='accuracy_score')\n",
    "x =  df1['models']+\" \"+df1['ngrams']+\" \"+df1['Text_vectorization']\n",
    "px.line(df1,x=x,y=['accuracy_score','f1_score','recall_score','precision_score'],markers='o',labels={'x':'models','y':'value'},width=1250, height=800,title='Decision Tree Model performance metrice curves on testing')"
   ]
  },
  {
   "cell_type": "code",
   "execution_count": 36,
   "metadata": {},
   "outputs": [
    {
     "data": {
      "application/vnd.plotly.v1+json": {
       "config": {
        "plotlyServerURL": "https://plot.ly"
       },
       "data": [
        {
         "hovertemplate": "variable=accuracy_score<br>models=%{x}<br>value=%{y}<extra></extra>",
         "legendgroup": "accuracy_score",
         "line": {
          "color": "#636efa",
          "dash": "solid"
         },
         "marker": {
          "symbol": "circle"
         },
         "mode": "lines+markers",
         "name": "accuracy_score",
         "orientation": "v",
         "showlegend": true,
         "type": "scatter",
         "x": [
          "Naive Bayes default TF-IDF",
          "Naive Bayes (1,2) TF-IDF",
          "Naive Bayes (1,3) TF-IDF",
          "Naive Bayes default BOW(CountVectorizer)",
          "Naive Bayes (1,2) BOW(CountVectorizer)",
          "Naive Bayes (1,3) BOW(CountVectorizer)"
         ],
         "xaxis": "x",
         "y": [
          0.914,
          0.931,
          0.937,
          0.952,
          0.965,
          0.966
         ],
         "yaxis": "y"
        },
        {
         "hovertemplate": "variable=f1_score<br>models=%{x}<br>value=%{y}<extra></extra>",
         "legendgroup": "f1_score",
         "line": {
          "color": "#EF553B",
          "dash": "solid"
         },
         "marker": {
          "symbol": "circle"
         },
         "mode": "lines+markers",
         "name": "f1_score",
         "orientation": "v",
         "showlegend": true,
         "type": "scatter",
         "x": [
          "Naive Bayes default TF-IDF",
          "Naive Bayes (1,2) TF-IDF",
          "Naive Bayes (1,3) TF-IDF",
          "Naive Bayes default BOW(CountVectorizer)",
          "Naive Bayes (1,2) BOW(CountVectorizer)",
          "Naive Bayes (1,3) BOW(CountVectorizer)"
         ],
         "xaxis": "x",
         "y": [
          0.8948098499958215,
          0.9196434680464236,
          0.9282210587457383,
          0.9512733902597944,
          0.9640678077226974,
          0.9649728878839752
         ],
         "yaxis": "y"
        },
        {
         "hovertemplate": "variable=recall_score<br>models=%{x}<br>value=%{y}<extra></extra>",
         "legendgroup": "recall_score",
         "line": {
          "color": "#00cc96",
          "dash": "solid"
         },
         "marker": {
          "symbol": "circle"
         },
         "mode": "lines+markers",
         "name": "recall_score",
         "orientation": "v",
         "showlegend": true,
         "type": "scatter",
         "x": [
          "Naive Bayes default TF-IDF",
          "Naive Bayes (1,2) TF-IDF",
          "Naive Bayes (1,3) TF-IDF",
          "Naive Bayes default BOW(CountVectorizer)",
          "Naive Bayes (1,2) BOW(CountVectorizer)",
          "Naive Bayes (1,3) BOW(CountVectorizer)"
         ],
         "xaxis": "x",
         "y": [
          0.914079822616408,
          0.9305709534368072,
          0.9368070953436808,
          0.9517738359201774,
          0.9650776053215078,
          0.9657705099778272
         ],
         "yaxis": "y"
        },
        {
         "hovertemplate": "variable=precision_score<br>models=%{x}<br>value=%{y}<extra></extra>",
         "legendgroup": "precision_score",
         "line": {
          "color": "#ab63fa",
          "dash": "solid"
         },
         "marker": {
          "symbol": "circle"
         },
         "mode": "lines+markers",
         "name": "precision_score",
         "orientation": "v",
         "showlegend": true,
         "type": "scatter",
         "x": [
          "Naive Bayes default TF-IDF",
          "Naive Bayes (1,2) TF-IDF",
          "Naive Bayes (1,3) TF-IDF",
          "Naive Bayes default BOW(CountVectorizer)",
          "Naive Bayes (1,2) BOW(CountVectorizer)",
          "Naive Bayes (1,3) BOW(CountVectorizer)"
         ],
         "xaxis": "x",
         "y": [
          0.9162625487653904,
          0.9319676931913266,
          0.9379643224194254,
          0.9534669898184014,
          0.9645759825218972,
          0.9651536865904092
         ],
         "yaxis": "y"
        }
       ],
       "layout": {
        "height": 800,
        "legend": {
         "title": {
          "text": "variable"
         },
         "tracegroupgap": 0
        },
        "template": {
         "data": {
          "bar": [
           {
            "error_x": {
             "color": "#2a3f5f"
            },
            "error_y": {
             "color": "#2a3f5f"
            },
            "marker": {
             "line": {
              "color": "#E5ECF6",
              "width": 0.5
             },
             "pattern": {
              "fillmode": "overlay",
              "size": 10,
              "solidity": 0.2
             }
            },
            "type": "bar"
           }
          ],
          "barpolar": [
           {
            "marker": {
             "line": {
              "color": "#E5ECF6",
              "width": 0.5
             },
             "pattern": {
              "fillmode": "overlay",
              "size": 10,
              "solidity": 0.2
             }
            },
            "type": "barpolar"
           }
          ],
          "carpet": [
           {
            "aaxis": {
             "endlinecolor": "#2a3f5f",
             "gridcolor": "white",
             "linecolor": "white",
             "minorgridcolor": "white",
             "startlinecolor": "#2a3f5f"
            },
            "baxis": {
             "endlinecolor": "#2a3f5f",
             "gridcolor": "white",
             "linecolor": "white",
             "minorgridcolor": "white",
             "startlinecolor": "#2a3f5f"
            },
            "type": "carpet"
           }
          ],
          "choropleth": [
           {
            "colorbar": {
             "outlinewidth": 0,
             "ticks": ""
            },
            "type": "choropleth"
           }
          ],
          "contour": [
           {
            "colorbar": {
             "outlinewidth": 0,
             "ticks": ""
            },
            "colorscale": [
             [
              0,
              "#0d0887"
             ],
             [
              0.1111111111111111,
              "#46039f"
             ],
             [
              0.2222222222222222,
              "#7201a8"
             ],
             [
              0.3333333333333333,
              "#9c179e"
             ],
             [
              0.4444444444444444,
              "#bd3786"
             ],
             [
              0.5555555555555556,
              "#d8576b"
             ],
             [
              0.6666666666666666,
              "#ed7953"
             ],
             [
              0.7777777777777778,
              "#fb9f3a"
             ],
             [
              0.8888888888888888,
              "#fdca26"
             ],
             [
              1,
              "#f0f921"
             ]
            ],
            "type": "contour"
           }
          ],
          "contourcarpet": [
           {
            "colorbar": {
             "outlinewidth": 0,
             "ticks": ""
            },
            "type": "contourcarpet"
           }
          ],
          "heatmap": [
           {
            "colorbar": {
             "outlinewidth": 0,
             "ticks": ""
            },
            "colorscale": [
             [
              0,
              "#0d0887"
             ],
             [
              0.1111111111111111,
              "#46039f"
             ],
             [
              0.2222222222222222,
              "#7201a8"
             ],
             [
              0.3333333333333333,
              "#9c179e"
             ],
             [
              0.4444444444444444,
              "#bd3786"
             ],
             [
              0.5555555555555556,
              "#d8576b"
             ],
             [
              0.6666666666666666,
              "#ed7953"
             ],
             [
              0.7777777777777778,
              "#fb9f3a"
             ],
             [
              0.8888888888888888,
              "#fdca26"
             ],
             [
              1,
              "#f0f921"
             ]
            ],
            "type": "heatmap"
           }
          ],
          "heatmapgl": [
           {
            "colorbar": {
             "outlinewidth": 0,
             "ticks": ""
            },
            "colorscale": [
             [
              0,
              "#0d0887"
             ],
             [
              0.1111111111111111,
              "#46039f"
             ],
             [
              0.2222222222222222,
              "#7201a8"
             ],
             [
              0.3333333333333333,
              "#9c179e"
             ],
             [
              0.4444444444444444,
              "#bd3786"
             ],
             [
              0.5555555555555556,
              "#d8576b"
             ],
             [
              0.6666666666666666,
              "#ed7953"
             ],
             [
              0.7777777777777778,
              "#fb9f3a"
             ],
             [
              0.8888888888888888,
              "#fdca26"
             ],
             [
              1,
              "#f0f921"
             ]
            ],
            "type": "heatmapgl"
           }
          ],
          "histogram": [
           {
            "marker": {
             "pattern": {
              "fillmode": "overlay",
              "size": 10,
              "solidity": 0.2
             }
            },
            "type": "histogram"
           }
          ],
          "histogram2d": [
           {
            "colorbar": {
             "outlinewidth": 0,
             "ticks": ""
            },
            "colorscale": [
             [
              0,
              "#0d0887"
             ],
             [
              0.1111111111111111,
              "#46039f"
             ],
             [
              0.2222222222222222,
              "#7201a8"
             ],
             [
              0.3333333333333333,
              "#9c179e"
             ],
             [
              0.4444444444444444,
              "#bd3786"
             ],
             [
              0.5555555555555556,
              "#d8576b"
             ],
             [
              0.6666666666666666,
              "#ed7953"
             ],
             [
              0.7777777777777778,
              "#fb9f3a"
             ],
             [
              0.8888888888888888,
              "#fdca26"
             ],
             [
              1,
              "#f0f921"
             ]
            ],
            "type": "histogram2d"
           }
          ],
          "histogram2dcontour": [
           {
            "colorbar": {
             "outlinewidth": 0,
             "ticks": ""
            },
            "colorscale": [
             [
              0,
              "#0d0887"
             ],
             [
              0.1111111111111111,
              "#46039f"
             ],
             [
              0.2222222222222222,
              "#7201a8"
             ],
             [
              0.3333333333333333,
              "#9c179e"
             ],
             [
              0.4444444444444444,
              "#bd3786"
             ],
             [
              0.5555555555555556,
              "#d8576b"
             ],
             [
              0.6666666666666666,
              "#ed7953"
             ],
             [
              0.7777777777777778,
              "#fb9f3a"
             ],
             [
              0.8888888888888888,
              "#fdca26"
             ],
             [
              1,
              "#f0f921"
             ]
            ],
            "type": "histogram2dcontour"
           }
          ],
          "mesh3d": [
           {
            "colorbar": {
             "outlinewidth": 0,
             "ticks": ""
            },
            "type": "mesh3d"
           }
          ],
          "parcoords": [
           {
            "line": {
             "colorbar": {
              "outlinewidth": 0,
              "ticks": ""
             }
            },
            "type": "parcoords"
           }
          ],
          "pie": [
           {
            "automargin": true,
            "type": "pie"
           }
          ],
          "scatter": [
           {
            "fillpattern": {
             "fillmode": "overlay",
             "size": 10,
             "solidity": 0.2
            },
            "type": "scatter"
           }
          ],
          "scatter3d": [
           {
            "line": {
             "colorbar": {
              "outlinewidth": 0,
              "ticks": ""
             }
            },
            "marker": {
             "colorbar": {
              "outlinewidth": 0,
              "ticks": ""
             }
            },
            "type": "scatter3d"
           }
          ],
          "scattercarpet": [
           {
            "marker": {
             "colorbar": {
              "outlinewidth": 0,
              "ticks": ""
             }
            },
            "type": "scattercarpet"
           }
          ],
          "scattergeo": [
           {
            "marker": {
             "colorbar": {
              "outlinewidth": 0,
              "ticks": ""
             }
            },
            "type": "scattergeo"
           }
          ],
          "scattergl": [
           {
            "marker": {
             "colorbar": {
              "outlinewidth": 0,
              "ticks": ""
             }
            },
            "type": "scattergl"
           }
          ],
          "scattermapbox": [
           {
            "marker": {
             "colorbar": {
              "outlinewidth": 0,
              "ticks": ""
             }
            },
            "type": "scattermapbox"
           }
          ],
          "scatterpolar": [
           {
            "marker": {
             "colorbar": {
              "outlinewidth": 0,
              "ticks": ""
             }
            },
            "type": "scatterpolar"
           }
          ],
          "scatterpolargl": [
           {
            "marker": {
             "colorbar": {
              "outlinewidth": 0,
              "ticks": ""
             }
            },
            "type": "scatterpolargl"
           }
          ],
          "scatterternary": [
           {
            "marker": {
             "colorbar": {
              "outlinewidth": 0,
              "ticks": ""
             }
            },
            "type": "scatterternary"
           }
          ],
          "surface": [
           {
            "colorbar": {
             "outlinewidth": 0,
             "ticks": ""
            },
            "colorscale": [
             [
              0,
              "#0d0887"
             ],
             [
              0.1111111111111111,
              "#46039f"
             ],
             [
              0.2222222222222222,
              "#7201a8"
             ],
             [
              0.3333333333333333,
              "#9c179e"
             ],
             [
              0.4444444444444444,
              "#bd3786"
             ],
             [
              0.5555555555555556,
              "#d8576b"
             ],
             [
              0.6666666666666666,
              "#ed7953"
             ],
             [
              0.7777777777777778,
              "#fb9f3a"
             ],
             [
              0.8888888888888888,
              "#fdca26"
             ],
             [
              1,
              "#f0f921"
             ]
            ],
            "type": "surface"
           }
          ],
          "table": [
           {
            "cells": {
             "fill": {
              "color": "#EBF0F8"
             },
             "line": {
              "color": "white"
             }
            },
            "header": {
             "fill": {
              "color": "#C8D4E3"
             },
             "line": {
              "color": "white"
             }
            },
            "type": "table"
           }
          ]
         },
         "layout": {
          "annotationdefaults": {
           "arrowcolor": "#2a3f5f",
           "arrowhead": 0,
           "arrowwidth": 1
          },
          "autotypenumbers": "strict",
          "coloraxis": {
           "colorbar": {
            "outlinewidth": 0,
            "ticks": ""
           }
          },
          "colorscale": {
           "diverging": [
            [
             0,
             "#8e0152"
            ],
            [
             0.1,
             "#c51b7d"
            ],
            [
             0.2,
             "#de77ae"
            ],
            [
             0.3,
             "#f1b6da"
            ],
            [
             0.4,
             "#fde0ef"
            ],
            [
             0.5,
             "#f7f7f7"
            ],
            [
             0.6,
             "#e6f5d0"
            ],
            [
             0.7,
             "#b8e186"
            ],
            [
             0.8,
             "#7fbc41"
            ],
            [
             0.9,
             "#4d9221"
            ],
            [
             1,
             "#276419"
            ]
           ],
           "sequential": [
            [
             0,
             "#0d0887"
            ],
            [
             0.1111111111111111,
             "#46039f"
            ],
            [
             0.2222222222222222,
             "#7201a8"
            ],
            [
             0.3333333333333333,
             "#9c179e"
            ],
            [
             0.4444444444444444,
             "#bd3786"
            ],
            [
             0.5555555555555556,
             "#d8576b"
            ],
            [
             0.6666666666666666,
             "#ed7953"
            ],
            [
             0.7777777777777778,
             "#fb9f3a"
            ],
            [
             0.8888888888888888,
             "#fdca26"
            ],
            [
             1,
             "#f0f921"
            ]
           ],
           "sequentialminus": [
            [
             0,
             "#0d0887"
            ],
            [
             0.1111111111111111,
             "#46039f"
            ],
            [
             0.2222222222222222,
             "#7201a8"
            ],
            [
             0.3333333333333333,
             "#9c179e"
            ],
            [
             0.4444444444444444,
             "#bd3786"
            ],
            [
             0.5555555555555556,
             "#d8576b"
            ],
            [
             0.6666666666666666,
             "#ed7953"
            ],
            [
             0.7777777777777778,
             "#fb9f3a"
            ],
            [
             0.8888888888888888,
             "#fdca26"
            ],
            [
             1,
             "#f0f921"
            ]
           ]
          },
          "colorway": [
           "#636efa",
           "#EF553B",
           "#00cc96",
           "#ab63fa",
           "#FFA15A",
           "#19d3f3",
           "#FF6692",
           "#B6E880",
           "#FF97FF",
           "#FECB52"
          ],
          "font": {
           "color": "#2a3f5f"
          },
          "geo": {
           "bgcolor": "white",
           "lakecolor": "white",
           "landcolor": "#E5ECF6",
           "showlakes": true,
           "showland": true,
           "subunitcolor": "white"
          },
          "hoverlabel": {
           "align": "left"
          },
          "hovermode": "closest",
          "mapbox": {
           "style": "light"
          },
          "paper_bgcolor": "white",
          "plot_bgcolor": "#E5ECF6",
          "polar": {
           "angularaxis": {
            "gridcolor": "white",
            "linecolor": "white",
            "ticks": ""
           },
           "bgcolor": "#E5ECF6",
           "radialaxis": {
            "gridcolor": "white",
            "linecolor": "white",
            "ticks": ""
           }
          },
          "scene": {
           "xaxis": {
            "backgroundcolor": "#E5ECF6",
            "gridcolor": "white",
            "gridwidth": 2,
            "linecolor": "white",
            "showbackground": true,
            "ticks": "",
            "zerolinecolor": "white"
           },
           "yaxis": {
            "backgroundcolor": "#E5ECF6",
            "gridcolor": "white",
            "gridwidth": 2,
            "linecolor": "white",
            "showbackground": true,
            "ticks": "",
            "zerolinecolor": "white"
           },
           "zaxis": {
            "backgroundcolor": "#E5ECF6",
            "gridcolor": "white",
            "gridwidth": 2,
            "linecolor": "white",
            "showbackground": true,
            "ticks": "",
            "zerolinecolor": "white"
           }
          },
          "shapedefaults": {
           "line": {
            "color": "#2a3f5f"
           }
          },
          "ternary": {
           "aaxis": {
            "gridcolor": "white",
            "linecolor": "white",
            "ticks": ""
           },
           "baxis": {
            "gridcolor": "white",
            "linecolor": "white",
            "ticks": ""
           },
           "bgcolor": "#E5ECF6",
           "caxis": {
            "gridcolor": "white",
            "linecolor": "white",
            "ticks": ""
           }
          },
          "title": {
           "x": 0.05
          },
          "xaxis": {
           "automargin": true,
           "gridcolor": "white",
           "linecolor": "white",
           "ticks": "",
           "title": {
            "standoff": 15
           },
           "zerolinecolor": "white",
           "zerolinewidth": 2
          },
          "yaxis": {
           "automargin": true,
           "gridcolor": "white",
           "linecolor": "white",
           "ticks": "",
           "title": {
            "standoff": 15
           },
           "zerolinecolor": "white",
           "zerolinewidth": 2
          }
         }
        },
        "title": {
         "text": "Model performance metrice curves on testing using Naive bayes model"
        },
        "width": 1250,
        "xaxis": {
         "anchor": "y",
         "domain": [
          0,
          1
         ],
         "title": {
          "text": "models"
         }
        },
        "yaxis": {
         "anchor": "x",
         "domain": [
          0,
          1
         ],
         "title": {
          "text": "value"
         }
        }
       }
      }
     },
     "metadata": {},
     "output_type": "display_data"
    }
   ],
   "source": [
    "df1 = result[result['models']=='Naive Bayes']\n",
    "df1 = df1.sort_values(by='accuracy_score')\n",
    "x =  df1['models']+\" \"+df1['ngrams']+\" \"+df1['Text_vectorization']\n",
    "px.line(df1,x=x,y=['accuracy_score','f1_score','recall_score','precision_score'],markers='o',labels={'x':'models','y':'value'},width=1250, height=800,title='Model performance metrice curves on testing using Naive bayes model')"
   ]
  },
  {
   "cell_type": "code",
   "execution_count": 30,
   "metadata": {},
   "outputs": [
    {
     "data": {
      "text/html": [
       "<div>\n",
       "<style scoped>\n",
       "    .dataframe tbody tr th:only-of-type {\n",
       "        vertical-align: middle;\n",
       "    }\n",
       "\n",
       "    .dataframe tbody tr th {\n",
       "        vertical-align: top;\n",
       "    }\n",
       "\n",
       "    .dataframe thead th {\n",
       "        text-align: right;\n",
       "    }\n",
       "</style>\n",
       "<table border=\"1\" class=\"dataframe\">\n",
       "  <thead>\n",
       "    <tr style=\"text-align: right;\">\n",
       "      <th></th>\n",
       "      <th>models</th>\n",
       "      <th>ngrams</th>\n",
       "      <th>Text_vectorization</th>\n",
       "      <th>accuracy_score</th>\n",
       "      <th>precision_score</th>\n",
       "      <th>f1_score</th>\n",
       "      <th>recall_score</th>\n",
       "    </tr>\n",
       "  </thead>\n",
       "  <tbody>\n",
       "    <tr>\n",
       "      <th>28</th>\n",
       "      <td>Naive Bayes</td>\n",
       "      <td>default</td>\n",
       "      <td>TF-IDF</td>\n",
       "      <td>0.914</td>\n",
       "      <td>0.916263</td>\n",
       "      <td>0.894810</td>\n",
       "      <td>0.914080</td>\n",
       "    </tr>\n",
       "    <tr>\n",
       "      <th>23</th>\n",
       "      <td>Naive Bayes</td>\n",
       "      <td>(1,2)</td>\n",
       "      <td>TF-IDF</td>\n",
       "      <td>0.931</td>\n",
       "      <td>0.931968</td>\n",
       "      <td>0.919643</td>\n",
       "      <td>0.930571</td>\n",
       "    </tr>\n",
       "    <tr>\n",
       "      <th>13</th>\n",
       "      <td>Naive Bayes</td>\n",
       "      <td>(1,3)</td>\n",
       "      <td>TF-IDF</td>\n",
       "      <td>0.937</td>\n",
       "      <td>0.937964</td>\n",
       "      <td>0.928221</td>\n",
       "      <td>0.936807</td>\n",
       "    </tr>\n",
       "    <tr>\n",
       "      <th>18</th>\n",
       "      <td>Naive Bayes</td>\n",
       "      <td>default</td>\n",
       "      <td>BOW(CountVectorizer)</td>\n",
       "      <td>0.952</td>\n",
       "      <td>0.953467</td>\n",
       "      <td>0.951273</td>\n",
       "      <td>0.951774</td>\n",
       "    </tr>\n",
       "    <tr>\n",
       "      <th>8</th>\n",
       "      <td>Naive Bayes</td>\n",
       "      <td>(1,2)</td>\n",
       "      <td>BOW(CountVectorizer)</td>\n",
       "      <td>0.965</td>\n",
       "      <td>0.964576</td>\n",
       "      <td>0.964068</td>\n",
       "      <td>0.965078</td>\n",
       "    </tr>\n",
       "    <tr>\n",
       "      <th>3</th>\n",
       "      <td>Naive Bayes</td>\n",
       "      <td>(1,3)</td>\n",
       "      <td>BOW(CountVectorizer)</td>\n",
       "      <td>0.966</td>\n",
       "      <td>0.965154</td>\n",
       "      <td>0.964973</td>\n",
       "      <td>0.965771</td>\n",
       "    </tr>\n",
       "  </tbody>\n",
       "</table>\n",
       "</div>"
      ],
      "text/plain": [
       "         models   ngrams    Text_vectorization  accuracy_score  \\\n",
       "28  Naive Bayes  default                TF-IDF           0.914   \n",
       "23  Naive Bayes    (1,2)                TF-IDF           0.931   \n",
       "13  Naive Bayes    (1,3)                TF-IDF           0.937   \n",
       "18  Naive Bayes  default  BOW(CountVectorizer)           0.952   \n",
       "8   Naive Bayes    (1,2)  BOW(CountVectorizer)           0.965   \n",
       "3   Naive Bayes    (1,3)  BOW(CountVectorizer)           0.966   \n",
       "\n",
       "    precision_score  f1_score  recall_score  \n",
       "28         0.916263  0.894810      0.914080  \n",
       "23         0.931968  0.919643      0.930571  \n",
       "13         0.937964  0.928221      0.936807  \n",
       "18         0.953467  0.951273      0.951774  \n",
       "8          0.964576  0.964068      0.965078  \n",
       "3          0.965154  0.964973      0.965771  "
      ]
     },
     "execution_count": 30,
     "metadata": {},
     "output_type": "execute_result"
    }
   ],
   "source": [
    "df1"
   ]
  },
  {
   "cell_type": "code",
   "execution_count": 34,
   "metadata": {},
   "outputs": [
    {
     "data": {
      "application/vnd.plotly.v1+json": {
       "config": {
        "plotlyServerURL": "https://plot.ly"
       },
       "data": [
        {
         "hovertemplate": "variable=accuracy_score<br>models=%{x}<br>value=%{y}<extra></extra>",
         "legendgroup": "accuracy_score",
         "line": {
          "color": "#636efa",
          "dash": "solid"
         },
         "marker": {
          "symbol": "circle"
         },
         "mode": "lines+markers",
         "name": "accuracy_score",
         "orientation": "v",
         "showlegend": true,
         "type": "scatter",
         "x": [
          "Naive Bayes default",
          "Naive Bayes (1,2)",
          "Naive Bayes (1,3)",
          "KNN (1,3)",
          "KNN (1,2)",
          "KNN default",
          "Decision Tree (1,3)",
          "Decision Tree (1,2)",
          "Decision Tree default",
          "Logistic Regression (1,3)",
          "Logistic Regression default",
          "Logistic Regression (1,2)",
          "SVM (1,3)",
          "SVM default",
          "SVM (1,2)"
         ],
         "xaxis": "x",
         "y": [
          0.914,
          0.931,
          0.937,
          0.94,
          0.942,
          0.947,
          0.949,
          0.949,
          0.951,
          0.967,
          0.969,
          0.969,
          0.97,
          0.972,
          0.972
         ],
         "yaxis": "y"
        },
        {
         "hovertemplate": "variable=f1_score<br>models=%{x}<br>value=%{y}<extra></extra>",
         "legendgroup": "f1_score",
         "line": {
          "color": "#EF553B",
          "dash": "solid"
         },
         "marker": {
          "symbol": "circle"
         },
         "mode": "lines+markers",
         "name": "f1_score",
         "orientation": "v",
         "showlegend": true,
         "type": "scatter",
         "x": [
          "Naive Bayes default",
          "Naive Bayes (1,2)",
          "Naive Bayes (1,3)",
          "KNN (1,3)",
          "KNN (1,2)",
          "KNN default",
          "Decision Tree (1,3)",
          "Decision Tree (1,2)",
          "Decision Tree default",
          "Logistic Regression (1,3)",
          "Logistic Regression default",
          "Logistic Regression (1,2)",
          "SVM (1,3)",
          "SVM default",
          "SVM (1,2)"
         ],
         "xaxis": "x",
         "y": [
          0.8948098499958215,
          0.9196434680464236,
          0.9282210587457383,
          0.9337982688741304,
          0.9362088529225588,
          0.9433370769933472,
          0.9503457666829924,
          0.950057253600578,
          0.950820885682828,
          0.9661979677163124,
          0.9678614463971704,
          0.9680088233697948,
          0.9695868418183844,
          0.9710068156973792,
          0.971779563912194
         ],
         "yaxis": "y"
        },
        {
         "hovertemplate": "variable=recall_score<br>models=%{x}<br>value=%{y}<extra></extra>",
         "legendgroup": "recall_score",
         "line": {
          "color": "#00cc96",
          "dash": "solid"
         },
         "marker": {
          "symbol": "circle"
         },
         "mode": "lines+markers",
         "name": "recall_score",
         "orientation": "v",
         "showlegend": true,
         "type": "scatter",
         "x": [
          "Naive Bayes default",
          "Naive Bayes (1,2)",
          "Naive Bayes (1,3)",
          "KNN (1,3)",
          "KNN (1,2)",
          "KNN default",
          "Decision Tree (1,3)",
          "Decision Tree (1,2)",
          "Decision Tree default",
          "Logistic Regression (1,3)",
          "Logistic Regression default",
          "Logistic Regression (1,2)",
          "SVM (1,3)",
          "SVM default",
          "SVM (1,2)"
         ],
         "xaxis": "x",
         "y": [
          0.914079822616408,
          0.9305709534368072,
          0.9368070953436808,
          0.9401330376940134,
          0.9419345898004434,
          0.94720066518847,
          0.949279379157428,
          0.9494179600886918,
          0.9508037694013304,
          0.9670177383592018,
          0.9689578713968958,
          0.9689578713968958,
          0.9695121951219512,
          0.9715909090909092,
          0.9720066518847008
         ],
         "yaxis": "y"
        },
        {
         "hovertemplate": "variable=precision_score<br>models=%{x}<br>value=%{y}<extra></extra>",
         "legendgroup": "precision_score",
         "line": {
          "color": "#ab63fa",
          "dash": "solid"
         },
         "marker": {
          "symbol": "circle"
         },
         "mode": "lines+markers",
         "name": "precision_score",
         "orientation": "v",
         "showlegend": true,
         "type": "scatter",
         "x": [
          "Naive Bayes default",
          "Naive Bayes (1,2)",
          "Naive Bayes (1,3)",
          "KNN (1,3)",
          "KNN (1,2)",
          "KNN default",
          "Decision Tree (1,3)",
          "Decision Tree (1,2)",
          "Decision Tree default",
          "Logistic Regression (1,3)",
          "Logistic Regression default",
          "Logistic Regression (1,2)",
          "SVM (1,3)",
          "SVM default",
          "SVM (1,2)"
         ],
         "xaxis": "x",
         "y": [
          0.9162625487653904,
          0.9319676931913266,
          0.9379643224194254,
          0.9380278841210912,
          0.9396199131628776,
          0.9444753645241064,
          0.9520789037914402,
          0.951033816067159,
          0.9508484175000238,
          0.9665606661131428,
          0.9677693056382236,
          0.9681728229626864,
          0.9704317876370314,
          0.970973225134656,
          0.972170160311936
         ],
         "yaxis": "y"
        }
       ],
       "layout": {
        "height": 800,
        "legend": {
         "title": {
          "text": "variable"
         },
         "tracegroupgap": 0
        },
        "template": {
         "data": {
          "bar": [
           {
            "error_x": {
             "color": "#2a3f5f"
            },
            "error_y": {
             "color": "#2a3f5f"
            },
            "marker": {
             "line": {
              "color": "#E5ECF6",
              "width": 0.5
             },
             "pattern": {
              "fillmode": "overlay",
              "size": 10,
              "solidity": 0.2
             }
            },
            "type": "bar"
           }
          ],
          "barpolar": [
           {
            "marker": {
             "line": {
              "color": "#E5ECF6",
              "width": 0.5
             },
             "pattern": {
              "fillmode": "overlay",
              "size": 10,
              "solidity": 0.2
             }
            },
            "type": "barpolar"
           }
          ],
          "carpet": [
           {
            "aaxis": {
             "endlinecolor": "#2a3f5f",
             "gridcolor": "white",
             "linecolor": "white",
             "minorgridcolor": "white",
             "startlinecolor": "#2a3f5f"
            },
            "baxis": {
             "endlinecolor": "#2a3f5f",
             "gridcolor": "white",
             "linecolor": "white",
             "minorgridcolor": "white",
             "startlinecolor": "#2a3f5f"
            },
            "type": "carpet"
           }
          ],
          "choropleth": [
           {
            "colorbar": {
             "outlinewidth": 0,
             "ticks": ""
            },
            "type": "choropleth"
           }
          ],
          "contour": [
           {
            "colorbar": {
             "outlinewidth": 0,
             "ticks": ""
            },
            "colorscale": [
             [
              0,
              "#0d0887"
             ],
             [
              0.1111111111111111,
              "#46039f"
             ],
             [
              0.2222222222222222,
              "#7201a8"
             ],
             [
              0.3333333333333333,
              "#9c179e"
             ],
             [
              0.4444444444444444,
              "#bd3786"
             ],
             [
              0.5555555555555556,
              "#d8576b"
             ],
             [
              0.6666666666666666,
              "#ed7953"
             ],
             [
              0.7777777777777778,
              "#fb9f3a"
             ],
             [
              0.8888888888888888,
              "#fdca26"
             ],
             [
              1,
              "#f0f921"
             ]
            ],
            "type": "contour"
           }
          ],
          "contourcarpet": [
           {
            "colorbar": {
             "outlinewidth": 0,
             "ticks": ""
            },
            "type": "contourcarpet"
           }
          ],
          "heatmap": [
           {
            "colorbar": {
             "outlinewidth": 0,
             "ticks": ""
            },
            "colorscale": [
             [
              0,
              "#0d0887"
             ],
             [
              0.1111111111111111,
              "#46039f"
             ],
             [
              0.2222222222222222,
              "#7201a8"
             ],
             [
              0.3333333333333333,
              "#9c179e"
             ],
             [
              0.4444444444444444,
              "#bd3786"
             ],
             [
              0.5555555555555556,
              "#d8576b"
             ],
             [
              0.6666666666666666,
              "#ed7953"
             ],
             [
              0.7777777777777778,
              "#fb9f3a"
             ],
             [
              0.8888888888888888,
              "#fdca26"
             ],
             [
              1,
              "#f0f921"
             ]
            ],
            "type": "heatmap"
           }
          ],
          "heatmapgl": [
           {
            "colorbar": {
             "outlinewidth": 0,
             "ticks": ""
            },
            "colorscale": [
             [
              0,
              "#0d0887"
             ],
             [
              0.1111111111111111,
              "#46039f"
             ],
             [
              0.2222222222222222,
              "#7201a8"
             ],
             [
              0.3333333333333333,
              "#9c179e"
             ],
             [
              0.4444444444444444,
              "#bd3786"
             ],
             [
              0.5555555555555556,
              "#d8576b"
             ],
             [
              0.6666666666666666,
              "#ed7953"
             ],
             [
              0.7777777777777778,
              "#fb9f3a"
             ],
             [
              0.8888888888888888,
              "#fdca26"
             ],
             [
              1,
              "#f0f921"
             ]
            ],
            "type": "heatmapgl"
           }
          ],
          "histogram": [
           {
            "marker": {
             "pattern": {
              "fillmode": "overlay",
              "size": 10,
              "solidity": 0.2
             }
            },
            "type": "histogram"
           }
          ],
          "histogram2d": [
           {
            "colorbar": {
             "outlinewidth": 0,
             "ticks": ""
            },
            "colorscale": [
             [
              0,
              "#0d0887"
             ],
             [
              0.1111111111111111,
              "#46039f"
             ],
             [
              0.2222222222222222,
              "#7201a8"
             ],
             [
              0.3333333333333333,
              "#9c179e"
             ],
             [
              0.4444444444444444,
              "#bd3786"
             ],
             [
              0.5555555555555556,
              "#d8576b"
             ],
             [
              0.6666666666666666,
              "#ed7953"
             ],
             [
              0.7777777777777778,
              "#fb9f3a"
             ],
             [
              0.8888888888888888,
              "#fdca26"
             ],
             [
              1,
              "#f0f921"
             ]
            ],
            "type": "histogram2d"
           }
          ],
          "histogram2dcontour": [
           {
            "colorbar": {
             "outlinewidth": 0,
             "ticks": ""
            },
            "colorscale": [
             [
              0,
              "#0d0887"
             ],
             [
              0.1111111111111111,
              "#46039f"
             ],
             [
              0.2222222222222222,
              "#7201a8"
             ],
             [
              0.3333333333333333,
              "#9c179e"
             ],
             [
              0.4444444444444444,
              "#bd3786"
             ],
             [
              0.5555555555555556,
              "#d8576b"
             ],
             [
              0.6666666666666666,
              "#ed7953"
             ],
             [
              0.7777777777777778,
              "#fb9f3a"
             ],
             [
              0.8888888888888888,
              "#fdca26"
             ],
             [
              1,
              "#f0f921"
             ]
            ],
            "type": "histogram2dcontour"
           }
          ],
          "mesh3d": [
           {
            "colorbar": {
             "outlinewidth": 0,
             "ticks": ""
            },
            "type": "mesh3d"
           }
          ],
          "parcoords": [
           {
            "line": {
             "colorbar": {
              "outlinewidth": 0,
              "ticks": ""
             }
            },
            "type": "parcoords"
           }
          ],
          "pie": [
           {
            "automargin": true,
            "type": "pie"
           }
          ],
          "scatter": [
           {
            "fillpattern": {
             "fillmode": "overlay",
             "size": 10,
             "solidity": 0.2
            },
            "type": "scatter"
           }
          ],
          "scatter3d": [
           {
            "line": {
             "colorbar": {
              "outlinewidth": 0,
              "ticks": ""
             }
            },
            "marker": {
             "colorbar": {
              "outlinewidth": 0,
              "ticks": ""
             }
            },
            "type": "scatter3d"
           }
          ],
          "scattercarpet": [
           {
            "marker": {
             "colorbar": {
              "outlinewidth": 0,
              "ticks": ""
             }
            },
            "type": "scattercarpet"
           }
          ],
          "scattergeo": [
           {
            "marker": {
             "colorbar": {
              "outlinewidth": 0,
              "ticks": ""
             }
            },
            "type": "scattergeo"
           }
          ],
          "scattergl": [
           {
            "marker": {
             "colorbar": {
              "outlinewidth": 0,
              "ticks": ""
             }
            },
            "type": "scattergl"
           }
          ],
          "scattermapbox": [
           {
            "marker": {
             "colorbar": {
              "outlinewidth": 0,
              "ticks": ""
             }
            },
            "type": "scattermapbox"
           }
          ],
          "scatterpolar": [
           {
            "marker": {
             "colorbar": {
              "outlinewidth": 0,
              "ticks": ""
             }
            },
            "type": "scatterpolar"
           }
          ],
          "scatterpolargl": [
           {
            "marker": {
             "colorbar": {
              "outlinewidth": 0,
              "ticks": ""
             }
            },
            "type": "scatterpolargl"
           }
          ],
          "scatterternary": [
           {
            "marker": {
             "colorbar": {
              "outlinewidth": 0,
              "ticks": ""
             }
            },
            "type": "scatterternary"
           }
          ],
          "surface": [
           {
            "colorbar": {
             "outlinewidth": 0,
             "ticks": ""
            },
            "colorscale": [
             [
              0,
              "#0d0887"
             ],
             [
              0.1111111111111111,
              "#46039f"
             ],
             [
              0.2222222222222222,
              "#7201a8"
             ],
             [
              0.3333333333333333,
              "#9c179e"
             ],
             [
              0.4444444444444444,
              "#bd3786"
             ],
             [
              0.5555555555555556,
              "#d8576b"
             ],
             [
              0.6666666666666666,
              "#ed7953"
             ],
             [
              0.7777777777777778,
              "#fb9f3a"
             ],
             [
              0.8888888888888888,
              "#fdca26"
             ],
             [
              1,
              "#f0f921"
             ]
            ],
            "type": "surface"
           }
          ],
          "table": [
           {
            "cells": {
             "fill": {
              "color": "#EBF0F8"
             },
             "line": {
              "color": "white"
             }
            },
            "header": {
             "fill": {
              "color": "#C8D4E3"
             },
             "line": {
              "color": "white"
             }
            },
            "type": "table"
           }
          ]
         },
         "layout": {
          "annotationdefaults": {
           "arrowcolor": "#2a3f5f",
           "arrowhead": 0,
           "arrowwidth": 1
          },
          "autotypenumbers": "strict",
          "coloraxis": {
           "colorbar": {
            "outlinewidth": 0,
            "ticks": ""
           }
          },
          "colorscale": {
           "diverging": [
            [
             0,
             "#8e0152"
            ],
            [
             0.1,
             "#c51b7d"
            ],
            [
             0.2,
             "#de77ae"
            ],
            [
             0.3,
             "#f1b6da"
            ],
            [
             0.4,
             "#fde0ef"
            ],
            [
             0.5,
             "#f7f7f7"
            ],
            [
             0.6,
             "#e6f5d0"
            ],
            [
             0.7,
             "#b8e186"
            ],
            [
             0.8,
             "#7fbc41"
            ],
            [
             0.9,
             "#4d9221"
            ],
            [
             1,
             "#276419"
            ]
           ],
           "sequential": [
            [
             0,
             "#0d0887"
            ],
            [
             0.1111111111111111,
             "#46039f"
            ],
            [
             0.2222222222222222,
             "#7201a8"
            ],
            [
             0.3333333333333333,
             "#9c179e"
            ],
            [
             0.4444444444444444,
             "#bd3786"
            ],
            [
             0.5555555555555556,
             "#d8576b"
            ],
            [
             0.6666666666666666,
             "#ed7953"
            ],
            [
             0.7777777777777778,
             "#fb9f3a"
            ],
            [
             0.8888888888888888,
             "#fdca26"
            ],
            [
             1,
             "#f0f921"
            ]
           ],
           "sequentialminus": [
            [
             0,
             "#0d0887"
            ],
            [
             0.1111111111111111,
             "#46039f"
            ],
            [
             0.2222222222222222,
             "#7201a8"
            ],
            [
             0.3333333333333333,
             "#9c179e"
            ],
            [
             0.4444444444444444,
             "#bd3786"
            ],
            [
             0.5555555555555556,
             "#d8576b"
            ],
            [
             0.6666666666666666,
             "#ed7953"
            ],
            [
             0.7777777777777778,
             "#fb9f3a"
            ],
            [
             0.8888888888888888,
             "#fdca26"
            ],
            [
             1,
             "#f0f921"
            ]
           ]
          },
          "colorway": [
           "#636efa",
           "#EF553B",
           "#00cc96",
           "#ab63fa",
           "#FFA15A",
           "#19d3f3",
           "#FF6692",
           "#B6E880",
           "#FF97FF",
           "#FECB52"
          ],
          "font": {
           "color": "#2a3f5f"
          },
          "geo": {
           "bgcolor": "white",
           "lakecolor": "white",
           "landcolor": "#E5ECF6",
           "showlakes": true,
           "showland": true,
           "subunitcolor": "white"
          },
          "hoverlabel": {
           "align": "left"
          },
          "hovermode": "closest",
          "mapbox": {
           "style": "light"
          },
          "paper_bgcolor": "white",
          "plot_bgcolor": "#E5ECF6",
          "polar": {
           "angularaxis": {
            "gridcolor": "white",
            "linecolor": "white",
            "ticks": ""
           },
           "bgcolor": "#E5ECF6",
           "radialaxis": {
            "gridcolor": "white",
            "linecolor": "white",
            "ticks": ""
           }
          },
          "scene": {
           "xaxis": {
            "backgroundcolor": "#E5ECF6",
            "gridcolor": "white",
            "gridwidth": 2,
            "linecolor": "white",
            "showbackground": true,
            "ticks": "",
            "zerolinecolor": "white"
           },
           "yaxis": {
            "backgroundcolor": "#E5ECF6",
            "gridcolor": "white",
            "gridwidth": 2,
            "linecolor": "white",
            "showbackground": true,
            "ticks": "",
            "zerolinecolor": "white"
           },
           "zaxis": {
            "backgroundcolor": "#E5ECF6",
            "gridcolor": "white",
            "gridwidth": 2,
            "linecolor": "white",
            "showbackground": true,
            "ticks": "",
            "zerolinecolor": "white"
           }
          },
          "shapedefaults": {
           "line": {
            "color": "#2a3f5f"
           }
          },
          "ternary": {
           "aaxis": {
            "gridcolor": "white",
            "linecolor": "white",
            "ticks": ""
           },
           "baxis": {
            "gridcolor": "white",
            "linecolor": "white",
            "ticks": ""
           },
           "bgcolor": "#E5ECF6",
           "caxis": {
            "gridcolor": "white",
            "linecolor": "white",
            "ticks": ""
           }
          },
          "title": {
           "x": 0.05
          },
          "xaxis": {
           "automargin": true,
           "gridcolor": "white",
           "linecolor": "white",
           "ticks": "",
           "title": {
            "standoff": 15
           },
           "zerolinecolor": "white",
           "zerolinewidth": 2
          },
          "yaxis": {
           "automargin": true,
           "gridcolor": "white",
           "linecolor": "white",
           "ticks": "",
           "title": {
            "standoff": 15
           },
           "zerolinecolor": "white",
           "zerolinewidth": 2
          }
         }
        },
        "title": {
         "text": "Model performance metrice curves on testing using tf-idf vectorizer"
        },
        "width": 1250,
        "xaxis": {
         "anchor": "y",
         "domain": [
          0,
          1
         ],
         "title": {
          "text": "models"
         }
        },
        "yaxis": {
         "anchor": "x",
         "domain": [
          0,
          1
         ],
         "title": {
          "text": "value"
         }
        }
       }
      }
     },
     "metadata": {},
     "output_type": "display_data"
    }
   ],
   "source": [
    "df1 = result[result['Text_vectorization']=='TF-IDF']\n",
    "df1 = df1.sort_values(by='accuracy_score')\n",
    "x =  df1['models']+\" \"+df1['ngrams']\n",
    "px.line(df1,x=x,y=['accuracy_score','f1_score','recall_score','precision_score'],markers='o',labels={'x':'models','y':'value'},width=1250, height=800,title='Model performance metrice curves on testing using tf-idf vectorizer')"
   ]
  },
  {
   "cell_type": "code",
   "execution_count": 35,
   "metadata": {},
   "outputs": [
    {
     "data": {
      "application/vnd.plotly.v1+json": {
       "config": {
        "plotlyServerURL": "https://plot.ly"
       },
       "data": [
        {
         "hovertemplate": "variable=accuracy_score<br>models=%{x}<br>value=%{y}<extra></extra>",
         "legendgroup": "accuracy_score",
         "line": {
          "color": "#636efa",
          "dash": "solid"
         },
         "marker": {
          "symbol": "circle"
         },
         "mode": "lines+markers",
         "name": "accuracy_score",
         "orientation": "v",
         "showlegend": true,
         "type": "scatter",
         "x": [
          "KNN (1,3)",
          "KNN (1,2)",
          "Naive Bayes default",
          "Decision Tree default",
          "KNN default",
          "Decision Tree (1,2)",
          "Decision Tree (1,3)",
          "Naive Bayes (1,2)",
          "Naive Bayes (1,3)",
          "SVM default",
          "SVM (1,2)",
          "SVM (1,3)",
          "Logistic Regression (1,2)",
          "Logistic Regression default",
          "Logistic Regression (1,3)"
         ],
         "xaxis": "x",
         "y": [
          0.947,
          0.951,
          0.952,
          0.955,
          0.957,
          0.959,
          0.959,
          0.965,
          0.966,
          0.969,
          0.971,
          0.972,
          0.974,
          0.974,
          0.974
         ],
         "yaxis": "y"
        },
        {
         "hovertemplate": "variable=f1_score<br>models=%{x}<br>value=%{y}<extra></extra>",
         "legendgroup": "f1_score",
         "line": {
          "color": "#EF553B",
          "dash": "solid"
         },
         "marker": {
          "symbol": "circle"
         },
         "mode": "lines+markers",
         "name": "f1_score",
         "orientation": "v",
         "showlegend": true,
         "type": "scatter",
         "x": [
          "KNN (1,3)",
          "KNN (1,2)",
          "Naive Bayes default",
          "Decision Tree default",
          "KNN default",
          "Decision Tree (1,2)",
          "Decision Tree (1,3)",
          "Naive Bayes (1,2)",
          "Naive Bayes (1,3)",
          "SVM default",
          "SVM (1,2)",
          "SVM (1,3)",
          "Logistic Regression (1,2)",
          "Logistic Regression default",
          "Logistic Regression (1,3)"
         ],
         "xaxis": "x",
         "y": [
          0.9419609067381974,
          0.9477412672412928,
          0.9512733902597944,
          0.9548335349711782,
          0.954881041105738,
          0.9593992055655912,
          0.9587055540724712,
          0.9640678077226974,
          0.9649728878839752,
          0.9687874634283103,
          0.970684109952691,
          0.971575535613425,
          0.9735723463036562,
          0.9737059608797842,
          0.9738061378902992
         ],
         "yaxis": "y"
        },
        {
         "hovertemplate": "variable=recall_score<br>models=%{x}<br>value=%{y}<extra></extra>",
         "legendgroup": "recall_score",
         "line": {
          "color": "#00cc96",
          "dash": "solid"
         },
         "marker": {
          "symbol": "circle"
         },
         "mode": "lines+markers",
         "name": "recall_score",
         "orientation": "v",
         "showlegend": true,
         "type": "scatter",
         "x": [
          "KNN (1,3)",
          "KNN (1,2)",
          "Naive Bayes default",
          "Decision Tree default",
          "KNN default",
          "Decision Tree (1,2)",
          "Decision Tree (1,3)",
          "Naive Bayes (1,2)",
          "Naive Bayes (1,3)",
          "SVM default",
          "SVM (1,2)",
          "SVM (1,3)",
          "Logistic Regression (1,2)",
          "Logistic Regression default",
          "Logistic Regression (1,3)"
         ],
         "xaxis": "x",
         "y": [
          0.9469235033259424,
          0.9514966740576496,
          0.9517738359201774,
          0.9548226164079824,
          0.9566241685144125,
          0.9593957871396896,
          0.9588414634146342,
          0.9650776053215078,
          0.9657705099778272,
          0.9685421286031042,
          0.970759423503326,
          0.9717294900221728,
          0.9739467849223948,
          0.9740853658536586,
          0.9742239467849224
         ],
         "yaxis": "y"
        },
        {
         "hovertemplate": "variable=precision_score<br>models=%{x}<br>value=%{y}<extra></extra>",
         "legendgroup": "precision_score",
         "line": {
          "color": "#ab63fa",
          "dash": "solid"
         },
         "marker": {
          "symbol": "circle"
         },
         "mode": "lines+markers",
         "name": "precision_score",
         "orientation": "v",
         "showlegend": true,
         "type": "scatter",
         "x": [
          "KNN (1,3)",
          "KNN (1,2)",
          "Naive Bayes default",
          "Decision Tree default",
          "KNN default",
          "Decision Tree (1,2)",
          "Decision Tree (1,3)",
          "Naive Bayes (1,2)",
          "Naive Bayes (1,3)",
          "SVM default",
          "SVM (1,2)",
          "SVM (1,3)",
          "Logistic Regression (1,2)",
          "Logistic Regression default",
          "Logistic Regression (1,3)"
         ],
         "xaxis": "x",
         "y": [
          0.9451658267907426,
          0.9492935158092304,
          0.9534669898184014,
          0.9549209143777768,
          0.9545500025702278,
          0.9594635474651032,
          0.9586776930082757,
          0.9645759825218972,
          0.9651536865904092,
          0.9691889969646726,
          0.9707183658469296,
          0.971503933618418,
          0.9735039244252456,
          0.9737203712297772,
          0.973660565480443
         ],
         "yaxis": "y"
        }
       ],
       "layout": {
        "height": 800,
        "legend": {
         "title": {
          "text": "variable"
         },
         "tracegroupgap": 0
        },
        "template": {
         "data": {
          "bar": [
           {
            "error_x": {
             "color": "#2a3f5f"
            },
            "error_y": {
             "color": "#2a3f5f"
            },
            "marker": {
             "line": {
              "color": "#E5ECF6",
              "width": 0.5
             },
             "pattern": {
              "fillmode": "overlay",
              "size": 10,
              "solidity": 0.2
             }
            },
            "type": "bar"
           }
          ],
          "barpolar": [
           {
            "marker": {
             "line": {
              "color": "#E5ECF6",
              "width": 0.5
             },
             "pattern": {
              "fillmode": "overlay",
              "size": 10,
              "solidity": 0.2
             }
            },
            "type": "barpolar"
           }
          ],
          "carpet": [
           {
            "aaxis": {
             "endlinecolor": "#2a3f5f",
             "gridcolor": "white",
             "linecolor": "white",
             "minorgridcolor": "white",
             "startlinecolor": "#2a3f5f"
            },
            "baxis": {
             "endlinecolor": "#2a3f5f",
             "gridcolor": "white",
             "linecolor": "white",
             "minorgridcolor": "white",
             "startlinecolor": "#2a3f5f"
            },
            "type": "carpet"
           }
          ],
          "choropleth": [
           {
            "colorbar": {
             "outlinewidth": 0,
             "ticks": ""
            },
            "type": "choropleth"
           }
          ],
          "contour": [
           {
            "colorbar": {
             "outlinewidth": 0,
             "ticks": ""
            },
            "colorscale": [
             [
              0,
              "#0d0887"
             ],
             [
              0.1111111111111111,
              "#46039f"
             ],
             [
              0.2222222222222222,
              "#7201a8"
             ],
             [
              0.3333333333333333,
              "#9c179e"
             ],
             [
              0.4444444444444444,
              "#bd3786"
             ],
             [
              0.5555555555555556,
              "#d8576b"
             ],
             [
              0.6666666666666666,
              "#ed7953"
             ],
             [
              0.7777777777777778,
              "#fb9f3a"
             ],
             [
              0.8888888888888888,
              "#fdca26"
             ],
             [
              1,
              "#f0f921"
             ]
            ],
            "type": "contour"
           }
          ],
          "contourcarpet": [
           {
            "colorbar": {
             "outlinewidth": 0,
             "ticks": ""
            },
            "type": "contourcarpet"
           }
          ],
          "heatmap": [
           {
            "colorbar": {
             "outlinewidth": 0,
             "ticks": ""
            },
            "colorscale": [
             [
              0,
              "#0d0887"
             ],
             [
              0.1111111111111111,
              "#46039f"
             ],
             [
              0.2222222222222222,
              "#7201a8"
             ],
             [
              0.3333333333333333,
              "#9c179e"
             ],
             [
              0.4444444444444444,
              "#bd3786"
             ],
             [
              0.5555555555555556,
              "#d8576b"
             ],
             [
              0.6666666666666666,
              "#ed7953"
             ],
             [
              0.7777777777777778,
              "#fb9f3a"
             ],
             [
              0.8888888888888888,
              "#fdca26"
             ],
             [
              1,
              "#f0f921"
             ]
            ],
            "type": "heatmap"
           }
          ],
          "heatmapgl": [
           {
            "colorbar": {
             "outlinewidth": 0,
             "ticks": ""
            },
            "colorscale": [
             [
              0,
              "#0d0887"
             ],
             [
              0.1111111111111111,
              "#46039f"
             ],
             [
              0.2222222222222222,
              "#7201a8"
             ],
             [
              0.3333333333333333,
              "#9c179e"
             ],
             [
              0.4444444444444444,
              "#bd3786"
             ],
             [
              0.5555555555555556,
              "#d8576b"
             ],
             [
              0.6666666666666666,
              "#ed7953"
             ],
             [
              0.7777777777777778,
              "#fb9f3a"
             ],
             [
              0.8888888888888888,
              "#fdca26"
             ],
             [
              1,
              "#f0f921"
             ]
            ],
            "type": "heatmapgl"
           }
          ],
          "histogram": [
           {
            "marker": {
             "pattern": {
              "fillmode": "overlay",
              "size": 10,
              "solidity": 0.2
             }
            },
            "type": "histogram"
           }
          ],
          "histogram2d": [
           {
            "colorbar": {
             "outlinewidth": 0,
             "ticks": ""
            },
            "colorscale": [
             [
              0,
              "#0d0887"
             ],
             [
              0.1111111111111111,
              "#46039f"
             ],
             [
              0.2222222222222222,
              "#7201a8"
             ],
             [
              0.3333333333333333,
              "#9c179e"
             ],
             [
              0.4444444444444444,
              "#bd3786"
             ],
             [
              0.5555555555555556,
              "#d8576b"
             ],
             [
              0.6666666666666666,
              "#ed7953"
             ],
             [
              0.7777777777777778,
              "#fb9f3a"
             ],
             [
              0.8888888888888888,
              "#fdca26"
             ],
             [
              1,
              "#f0f921"
             ]
            ],
            "type": "histogram2d"
           }
          ],
          "histogram2dcontour": [
           {
            "colorbar": {
             "outlinewidth": 0,
             "ticks": ""
            },
            "colorscale": [
             [
              0,
              "#0d0887"
             ],
             [
              0.1111111111111111,
              "#46039f"
             ],
             [
              0.2222222222222222,
              "#7201a8"
             ],
             [
              0.3333333333333333,
              "#9c179e"
             ],
             [
              0.4444444444444444,
              "#bd3786"
             ],
             [
              0.5555555555555556,
              "#d8576b"
             ],
             [
              0.6666666666666666,
              "#ed7953"
             ],
             [
              0.7777777777777778,
              "#fb9f3a"
             ],
             [
              0.8888888888888888,
              "#fdca26"
             ],
             [
              1,
              "#f0f921"
             ]
            ],
            "type": "histogram2dcontour"
           }
          ],
          "mesh3d": [
           {
            "colorbar": {
             "outlinewidth": 0,
             "ticks": ""
            },
            "type": "mesh3d"
           }
          ],
          "parcoords": [
           {
            "line": {
             "colorbar": {
              "outlinewidth": 0,
              "ticks": ""
             }
            },
            "type": "parcoords"
           }
          ],
          "pie": [
           {
            "automargin": true,
            "type": "pie"
           }
          ],
          "scatter": [
           {
            "fillpattern": {
             "fillmode": "overlay",
             "size": 10,
             "solidity": 0.2
            },
            "type": "scatter"
           }
          ],
          "scatter3d": [
           {
            "line": {
             "colorbar": {
              "outlinewidth": 0,
              "ticks": ""
             }
            },
            "marker": {
             "colorbar": {
              "outlinewidth": 0,
              "ticks": ""
             }
            },
            "type": "scatter3d"
           }
          ],
          "scattercarpet": [
           {
            "marker": {
             "colorbar": {
              "outlinewidth": 0,
              "ticks": ""
             }
            },
            "type": "scattercarpet"
           }
          ],
          "scattergeo": [
           {
            "marker": {
             "colorbar": {
              "outlinewidth": 0,
              "ticks": ""
             }
            },
            "type": "scattergeo"
           }
          ],
          "scattergl": [
           {
            "marker": {
             "colorbar": {
              "outlinewidth": 0,
              "ticks": ""
             }
            },
            "type": "scattergl"
           }
          ],
          "scattermapbox": [
           {
            "marker": {
             "colorbar": {
              "outlinewidth": 0,
              "ticks": ""
             }
            },
            "type": "scattermapbox"
           }
          ],
          "scatterpolar": [
           {
            "marker": {
             "colorbar": {
              "outlinewidth": 0,
              "ticks": ""
             }
            },
            "type": "scatterpolar"
           }
          ],
          "scatterpolargl": [
           {
            "marker": {
             "colorbar": {
              "outlinewidth": 0,
              "ticks": ""
             }
            },
            "type": "scatterpolargl"
           }
          ],
          "scatterternary": [
           {
            "marker": {
             "colorbar": {
              "outlinewidth": 0,
              "ticks": ""
             }
            },
            "type": "scatterternary"
           }
          ],
          "surface": [
           {
            "colorbar": {
             "outlinewidth": 0,
             "ticks": ""
            },
            "colorscale": [
             [
              0,
              "#0d0887"
             ],
             [
              0.1111111111111111,
              "#46039f"
             ],
             [
              0.2222222222222222,
              "#7201a8"
             ],
             [
              0.3333333333333333,
              "#9c179e"
             ],
             [
              0.4444444444444444,
              "#bd3786"
             ],
             [
              0.5555555555555556,
              "#d8576b"
             ],
             [
              0.6666666666666666,
              "#ed7953"
             ],
             [
              0.7777777777777778,
              "#fb9f3a"
             ],
             [
              0.8888888888888888,
              "#fdca26"
             ],
             [
              1,
              "#f0f921"
             ]
            ],
            "type": "surface"
           }
          ],
          "table": [
           {
            "cells": {
             "fill": {
              "color": "#EBF0F8"
             },
             "line": {
              "color": "white"
             }
            },
            "header": {
             "fill": {
              "color": "#C8D4E3"
             },
             "line": {
              "color": "white"
             }
            },
            "type": "table"
           }
          ]
         },
         "layout": {
          "annotationdefaults": {
           "arrowcolor": "#2a3f5f",
           "arrowhead": 0,
           "arrowwidth": 1
          },
          "autotypenumbers": "strict",
          "coloraxis": {
           "colorbar": {
            "outlinewidth": 0,
            "ticks": ""
           }
          },
          "colorscale": {
           "diverging": [
            [
             0,
             "#8e0152"
            ],
            [
             0.1,
             "#c51b7d"
            ],
            [
             0.2,
             "#de77ae"
            ],
            [
             0.3,
             "#f1b6da"
            ],
            [
             0.4,
             "#fde0ef"
            ],
            [
             0.5,
             "#f7f7f7"
            ],
            [
             0.6,
             "#e6f5d0"
            ],
            [
             0.7,
             "#b8e186"
            ],
            [
             0.8,
             "#7fbc41"
            ],
            [
             0.9,
             "#4d9221"
            ],
            [
             1,
             "#276419"
            ]
           ],
           "sequential": [
            [
             0,
             "#0d0887"
            ],
            [
             0.1111111111111111,
             "#46039f"
            ],
            [
             0.2222222222222222,
             "#7201a8"
            ],
            [
             0.3333333333333333,
             "#9c179e"
            ],
            [
             0.4444444444444444,
             "#bd3786"
            ],
            [
             0.5555555555555556,
             "#d8576b"
            ],
            [
             0.6666666666666666,
             "#ed7953"
            ],
            [
             0.7777777777777778,
             "#fb9f3a"
            ],
            [
             0.8888888888888888,
             "#fdca26"
            ],
            [
             1,
             "#f0f921"
            ]
           ],
           "sequentialminus": [
            [
             0,
             "#0d0887"
            ],
            [
             0.1111111111111111,
             "#46039f"
            ],
            [
             0.2222222222222222,
             "#7201a8"
            ],
            [
             0.3333333333333333,
             "#9c179e"
            ],
            [
             0.4444444444444444,
             "#bd3786"
            ],
            [
             0.5555555555555556,
             "#d8576b"
            ],
            [
             0.6666666666666666,
             "#ed7953"
            ],
            [
             0.7777777777777778,
             "#fb9f3a"
            ],
            [
             0.8888888888888888,
             "#fdca26"
            ],
            [
             1,
             "#f0f921"
            ]
           ]
          },
          "colorway": [
           "#636efa",
           "#EF553B",
           "#00cc96",
           "#ab63fa",
           "#FFA15A",
           "#19d3f3",
           "#FF6692",
           "#B6E880",
           "#FF97FF",
           "#FECB52"
          ],
          "font": {
           "color": "#2a3f5f"
          },
          "geo": {
           "bgcolor": "white",
           "lakecolor": "white",
           "landcolor": "#E5ECF6",
           "showlakes": true,
           "showland": true,
           "subunitcolor": "white"
          },
          "hoverlabel": {
           "align": "left"
          },
          "hovermode": "closest",
          "mapbox": {
           "style": "light"
          },
          "paper_bgcolor": "white",
          "plot_bgcolor": "#E5ECF6",
          "polar": {
           "angularaxis": {
            "gridcolor": "white",
            "linecolor": "white",
            "ticks": ""
           },
           "bgcolor": "#E5ECF6",
           "radialaxis": {
            "gridcolor": "white",
            "linecolor": "white",
            "ticks": ""
           }
          },
          "scene": {
           "xaxis": {
            "backgroundcolor": "#E5ECF6",
            "gridcolor": "white",
            "gridwidth": 2,
            "linecolor": "white",
            "showbackground": true,
            "ticks": "",
            "zerolinecolor": "white"
           },
           "yaxis": {
            "backgroundcolor": "#E5ECF6",
            "gridcolor": "white",
            "gridwidth": 2,
            "linecolor": "white",
            "showbackground": true,
            "ticks": "",
            "zerolinecolor": "white"
           },
           "zaxis": {
            "backgroundcolor": "#E5ECF6",
            "gridcolor": "white",
            "gridwidth": 2,
            "linecolor": "white",
            "showbackground": true,
            "ticks": "",
            "zerolinecolor": "white"
           }
          },
          "shapedefaults": {
           "line": {
            "color": "#2a3f5f"
           }
          },
          "ternary": {
           "aaxis": {
            "gridcolor": "white",
            "linecolor": "white",
            "ticks": ""
           },
           "baxis": {
            "gridcolor": "white",
            "linecolor": "white",
            "ticks": ""
           },
           "bgcolor": "#E5ECF6",
           "caxis": {
            "gridcolor": "white",
            "linecolor": "white",
            "ticks": ""
           }
          },
          "title": {
           "x": 0.05
          },
          "xaxis": {
           "automargin": true,
           "gridcolor": "white",
           "linecolor": "white",
           "ticks": "",
           "title": {
            "standoff": 15
           },
           "zerolinecolor": "white",
           "zerolinewidth": 2
          },
          "yaxis": {
           "automargin": true,
           "gridcolor": "white",
           "linecolor": "white",
           "ticks": "",
           "title": {
            "standoff": 15
           },
           "zerolinecolor": "white",
           "zerolinewidth": 2
          }
         }
        },
        "title": {
         "text": "Model performance metrice curves on testing using count vectorization"
        },
        "width": 1250,
        "xaxis": {
         "anchor": "y",
         "domain": [
          0,
          1
         ],
         "title": {
          "text": "models"
         }
        },
        "yaxis": {
         "anchor": "x",
         "domain": [
          0,
          1
         ],
         "title": {
          "text": "value"
         }
        }
       }
      }
     },
     "metadata": {},
     "output_type": "display_data"
    }
   ],
   "source": [
    "df1 = result[result['Text_vectorization']=='BOW(CountVectorizer)']\n",
    "df1 = df1.sort_values(by='accuracy_score')\n",
    "x =  df1['models']+\" \"+df1['ngrams']\n",
    "px.line(df1,x=x,y=['accuracy_score','f1_score','recall_score','precision_score'],markers='o',labels={'x':'models','y':'value'},width=1250, height=800,title='Model performance metrice curves on testing using count vectorization')"
   ]
  }
 ],
 "metadata": {
  "kernelspec": {
   "display_name": "Python 3 (ipykernel)",
   "language": "python",
   "name": "python3"
  },
  "language_info": {
   "codemirror_mode": {
    "name": "ipython",
    "version": 3
   },
   "file_extension": ".py",
   "mimetype": "text/x-python",
   "name": "python",
   "nbconvert_exporter": "python",
   "pygments_lexer": "ipython3",
   "version": "3.12.5"
  }
 },
 "nbformat": 4,
 "nbformat_minor": 4
}
