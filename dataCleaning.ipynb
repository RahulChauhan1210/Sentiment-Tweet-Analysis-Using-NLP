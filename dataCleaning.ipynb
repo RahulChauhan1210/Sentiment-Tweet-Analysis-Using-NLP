{
 "cells": [
  {
   "cell_type": "code",
   "execution_count": 1,
   "metadata": {},
   "outputs": [],
   "source": [
    "import pandas as pd \n",
    "import numpy as np\n",
    "import spacy\n",
    "import regex as re\n",
    "\n",
    "model_spacy = spacy.load('en_core_web_lg')"
   ]
  },
  {
   "cell_type": "code",
   "execution_count": 2,
   "metadata": {},
   "outputs": [],
   "source": [
    "df = pd.read_csv('dataset\\\\df_m.csv')"
   ]
  },
  {
   "cell_type": "code",
   "execution_count": 3,
   "metadata": {},
   "outputs": [
    {
     "data": {
      "text/html": [
       "<div>\n",
       "<style scoped>\n",
       "    .dataframe tbody tr th:only-of-type {\n",
       "        vertical-align: middle;\n",
       "    }\n",
       "\n",
       "    .dataframe tbody tr th {\n",
       "        vertical-align: top;\n",
       "    }\n",
       "\n",
       "    .dataframe thead th {\n",
       "        text-align: right;\n",
       "    }\n",
       "</style>\n",
       "<table border=\"1\" class=\"dataframe\">\n",
       "  <thead>\n",
       "    <tr style=\"text-align: right;\">\n",
       "      <th></th>\n",
       "      <th>text</th>\n",
       "      <th>anottator1</th>\n",
       "      <th>anottator2</th>\n",
       "      <th>anottator3</th>\n",
       "      <th>majority</th>\n",
       "    </tr>\n",
       "  </thead>\n",
       "  <tbody>\n",
       "    <tr>\n",
       "      <th>0</th>\n",
       "      <td>@Cloudflare reports #ransom #DDoS attacks have...</td>\n",
       "      <td>Not_News</td>\n",
       "      <td>Not_News</td>\n",
       "      <td>Not_News</td>\n",
       "      <td>Not_News</td>\n",
       "    </tr>\n",
       "    <tr>\n",
       "      <th>1</th>\n",
       "      <td>Here’s the one thing you mustn’t tell hackers ...</td>\n",
       "      <td>Not_News</td>\n",
       "      <td>Not_News</td>\n",
       "      <td>Not_News</td>\n",
       "      <td>Not_News</td>\n",
       "    </tr>\n",
       "    <tr>\n",
       "      <th>2</th>\n",
       "      <td>@TactiKoolSec There was the time where a not-s...</td>\n",
       "      <td>Not_News</td>\n",
       "      <td>Not_News</td>\n",
       "      <td>Not_News</td>\n",
       "      <td>Not_News</td>\n",
       "    </tr>\n",
       "    <tr>\n",
       "      <th>3</th>\n",
       "      <td>Ransomware is a fast-growing threat impacting ...</td>\n",
       "      <td>Not_News</td>\n",
       "      <td>Not_News</td>\n",
       "      <td>Not_News</td>\n",
       "      <td>Not_News</td>\n",
       "    </tr>\n",
       "    <tr>\n",
       "      <th>4</th>\n",
       "      <td>Five key cloud and innovation takeaways from I...</td>\n",
       "      <td>Not_News</td>\n",
       "      <td>Not_News</td>\n",
       "      <td>Not_News</td>\n",
       "      <td>Not_News</td>\n",
       "    </tr>\n",
       "  </tbody>\n",
       "</table>\n",
       "</div>"
      ],
      "text/plain": [
       "                                                text anottator1 anottator2  \\\n",
       "0  @Cloudflare reports #ransom #DDoS attacks have...   Not_News   Not_News   \n",
       "1  Here’s the one thing you mustn’t tell hackers ...   Not_News   Not_News   \n",
       "2  @TactiKoolSec There was the time where a not-s...   Not_News   Not_News   \n",
       "3  Ransomware is a fast-growing threat impacting ...   Not_News   Not_News   \n",
       "4  Five key cloud and innovation takeaways from I...   Not_News   Not_News   \n",
       "\n",
       "  anottator3  majority  \n",
       "0   Not_News  Not_News  \n",
       "1   Not_News  Not_News  \n",
       "2   Not_News  Not_News  \n",
       "3   Not_News  Not_News  \n",
       "4   Not_News  Not_News  "
      ]
     },
     "execution_count": 3,
     "metadata": {},
     "output_type": "execute_result"
    }
   ],
   "source": [
    "df.head()"
   ]
  },
  {
   "cell_type": "code",
   "execution_count": 4,
   "metadata": {},
   "outputs": [
    {
     "data": {
      "text/plain": [
       "majority\n",
       "Not_News          31231\n",
       "Normal_News        3948\n",
       "High_Risk_News      892\n",
       "Exluded               9\n",
       "Name: count, dtype: int64"
      ]
     },
     "execution_count": 4,
     "metadata": {},
     "output_type": "execute_result"
    }
   ],
   "source": [
    "df['majority'].value_counts()"
   ]
  },
  {
   "cell_type": "code",
   "execution_count": 5,
   "metadata": {},
   "outputs": [
    {
     "data": {
      "text/plain": [
       "0"
      ]
     },
     "execution_count": 5,
     "metadata": {},
     "output_type": "execute_result"
    }
   ],
   "source": [
    "df['text'].isna().sum()"
   ]
  },
  {
   "cell_type": "code",
   "execution_count": 6,
   "metadata": {},
   "outputs": [
    {
     "data": {
      "text/plain": [
       "'@Cloudflare reports #ransom #DDoS attacks have dropped drastically in 2022, with 17% of its DDoS-targeted clients reporting an #extortion in Jan, 6% in Feb, and 3% in Mar 2022. @dynamicCISO #Ransomware #100DaysOfCode #Malware #GirlsWhoCode #InfoSec #cyberattacks #cybersecurity https://t.co/bXe7xZ6UPO'"
      ]
     },
     "execution_count": 6,
     "metadata": {},
     "output_type": "execute_result"
    }
   ],
   "source": [
    "df['text'][0]"
   ]
  },
  {
   "cell_type": "code",
   "execution_count": 7,
   "metadata": {},
   "outputs": [
    {
     "data": {
      "text/plain": [
       "text          36080\n",
       "anottator1    36080\n",
       "anottator2    36080\n",
       "anottator3    36080\n",
       "majority      36080\n",
       "dtype: int64"
      ]
     },
     "execution_count": 7,
     "metadata": {},
     "output_type": "execute_result"
    }
   ],
   "source": [
    "df.count()"
   ]
  },
  {
   "cell_type": "code",
   "execution_count": 8,
   "metadata": {},
   "outputs": [],
   "source": [
    "def checkstartwithSymbol(text):\n",
    "    pattern = r'^[@!#$%^&*()_+={}\\[\\]:;\"\\'<>,.?/\\\\|`~]'\n",
    "    if re.match(pattern, text):\n",
    "        return True\n",
    "    else:\n",
    "        return False"
   ]
  },
  {
   "cell_type": "code",
   "execution_count": 9,
   "metadata": {},
   "outputs": [],
   "source": [
    "def preprocessText(text):\n",
    "    doc = model_spacy(text)\n",
    "    new_doc = []\n",
    "    for token in doc:\n",
    "        if token.is_punct:\n",
    "           continue \n",
    "        elif token.is_stop:\n",
    "            continue\n",
    "        elif checkstartwithSymbol(token.text):\n",
    "            new_doc.append(token.text[1:])\n",
    "        elif token.text.startswith('https://'):\n",
    "            continue    \n",
    "        elif '\\n\\n' == token.text or '\\n'== token.text or '&gt;&gt'==token.text or '  '== token.text or ' ' == token.text or '.'==token.text or \"'️'\"==token.text:\n",
    "            continue\n",
    "        else:  \n",
    "            new_doc.append(token.text.lower())\n",
    "    return (' '.join(new_doc)).rstrip()             "
   ]
  },
  {
   "cell_type": "code",
   "execution_count": 10,
   "metadata": {},
   "outputs": [],
   "source": [
    "def visualiseData():\n",
    "    num = np.random.randint(0,36080)\n",
    "    print(preprocessText(df['text'][num]))\n",
    "    print()\n",
    "    print(df['text'][num])"
   ]
  },
  {
   "cell_type": "code",
   "execution_count": 13,
   "metadata": {},
   "outputs": [
    {
     "name": "stdout",
     "output_type": "stream",
     "text": [
      "cybercriminals target metaverse investors phishing scams steal digital wallets CNBC\n",
      "\n",
      "\"Cybercriminals target metaverse investors with phishing scams that steal digital wallets @CNBC https://t.co/6lwMdNlAhr\"\n"
     ]
    }
   ],
   "source": [
    "visualiseData()"
   ]
  },
  {
   "cell_type": "code",
   "execution_count": null,
   "metadata": {},
   "outputs": [],
   "source": []
  }
 ],
 "metadata": {
  "kernelspec": {
   "display_name": "Python 3",
   "language": "python",
   "name": "python3"
  },
  "language_info": {
   "codemirror_mode": {
    "name": "ipython",
    "version": 3
   },
   "file_extension": ".py",
   "mimetype": "text/x-python",
   "name": "python",
   "nbconvert_exporter": "python",
   "pygments_lexer": "ipython3",
   "version": "3.12.5"
  }
 },
 "nbformat": 4,
 "nbformat_minor": 2
}
